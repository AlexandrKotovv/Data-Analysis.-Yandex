{
 "cells": [
  {
   "cell_type": "markdown",
   "metadata": {},
   "source": [
    "# **Принятие решений в бизнесе**"
   ]
  },
  {
   "cell_type": "markdown",
   "metadata": {},
   "source": [
    "**Заказчик**  \n",
    "\n",
    "Интернет-магазин"
   ]
  },
  {
   "cell_type": "markdown",
   "metadata": {},
   "source": [
    "**Цель проекта**  \n",
    "\n",
    "   - Необходимость приоритизировать гипотезы из списка гипотез, предоставленных отделом Маркетинга;\n",
    "\n",
    "   - Анализа результатов проведенного А/В-тестирования и аргументация решения по результатам теста.\n",
    "\n",
    "Варианты решений:\n",
    "1. Остановить тест, зафиксировать победу одной из групп.\n",
    "2. Остановить тест, зафиксировать отсутствие различий между группами.\n",
    "3. Продолжить тест."
   ]
  },
  {
   "cell_type": "markdown",
   "metadata": {},
   "source": [
    "**Описание данных**\n",
    "\n",
    "   - список гипотез (файл hypothesis.csv)\n",
    "\n",
    "Hypothesis — краткое описание гипотезы;  \n",
    "Reach — охват пользователей по 10-балльной шкале;  \n",
    "Impact — влияние на пользователей по 10-балльной шкале;  \n",
    "Confidence — уверенность в гипотезе по 10-балльной шкале;  \n",
    "Efforts — затраты ресурсов на проверку гипотезы по 10-балльной шкале.  \n",
    "\n",
    "   - информация о заказах пользователей в интернет-магазине (файл orders.csv.)  \n",
    "\n",
    "transactionId — идентификатор заказа;  \n",
    "visitorId — идентификатор пользователя, совершившего заказ;  \n",
    "date — дата, когда был совершён заказ;  \n",
    "revenue — выручка заказа;  \n",
    "group — группа A/B-теста, в которую попал заказ.  \n",
    "\n",
    "   - информация о посещениях пользователями интернет-магазина (файл visitors.csv)  \n",
    "\n",
    "date — дата;  \n",
    "group — группа A/B-теста;  \n",
    "visitors — количество пользователей в указанную дату в указанной группе A/B-теста.  "
   ]
  },
  {
   "cell_type": "markdown",
   "metadata": {},
   "source": [
    "**План работы:**  \n",
    "  \n",
    "  \n",
    "  - Обзор и предобработка данных;\n",
    "  - Приоритезация гипотез;\n",
    "  - Анализ А/В-теста;\n",
    "  - Вывод\n"
   ]
  },
  
  {
   "cell_type": "markdown",
   "metadata": {},
   "source": [
    "## Обзор и предобработка данных"
   ]
  },
  {
   "cell_type": "code",
   "execution_count": 1,
   "metadata": {},
   "outputs": [],
   "source": [
    "# импортируем библиотеки\n",
    "\n",
    "import pandas as pd\n",
    "import numpy as np\n",
    "import matplotlib.pyplot as plt\n",
    "import seaborn as sns\n",
    "import scipy.stats as stats\n",
    "import warnings\n",
    "\n",
    "from scipy import stats as st"
   ]
  },
  {
   "cell_type": "code",
   "execution_count": 2,
   "metadata": {},
   "outputs": [],
   "source": [
    "# снимаем ограничение на количество столбцов\n",
    "pd.set_option('display.max_columns', None)\n",
    "\n",
    "# снимаем ограничение на ширину столбцов\n",
    "pd.set_option('display.max_colwidth', None)\n",
    "\n",
    "# выставляем ограничение на количество знаков после запятой\n",
    "pd.options.display.float_format = '{:,.3f}'.format\n",
    "\n",
    "# игнорируем предупреждения\n",
    "warnings.filterwarnings(action='ignore')\n",
    "\n",
    "# задаем размер графика\n",
    "sns.set(rc={'figure.figsize':(10,5)})"
   ]
  },
  {
   "cell_type": "code",
   "execution_count": 3,
   "metadata": {},
   "outputs": [],
   "source": [
    "# прочтём исходные данные и сохраним их в датафреймы\n",
    "\n",
    "hypothesis, orders, visitors = (\n",
    "        pd.read_csv('/datasets/hypothesis.csv'),\n",
    "        pd.read_csv('/datasets/orders.csv'),\n",
    "        pd.read_csv('/datasets/visitors.csv')\n",
    "    )"
   ]
  },
  {
   "cell_type": "code",
   "execution_count": 4,
   "metadata": {},
   "outputs": [
    {
     "name": "stdout",
     "output_type": "stream",
     "text": [
      "<class 'pandas.core.frame.DataFrame'>\n",
      "RangeIndex: 9 entries, 0 to 8\n",
      "Data columns (total 5 columns):\n",
      " #   Column      Non-Null Count  Dtype \n",
      "---  ------      --------------  ----- \n",
      " 0   Hypothesis  9 non-null      object\n",
      " 1   Reach       9 non-null      int64 \n",
      " 2   Impact      9 non-null      int64 \n",
      " 3   Confidence  9 non-null      int64 \n",
      " 4   Efforts     9 non-null      int64 \n",
      "dtypes: int64(4), object(1)\n",
      "memory usage: 488.0+ bytes\n"
     ]
    },
    {
     "data": {
      "text/html": [
       "<div>\n",
       "<style scoped>\n",
       "    .dataframe tbody tr th:only-of-type {\n",
       "        vertical-align: middle;\n",
       "    }\n",
       "\n",
       "    .dataframe tbody tr th {\n",
       "        vertical-align: top;\n",
       "    }\n",
       "\n",
       "    .dataframe thead th {\n",
       "        text-align: right;\n",
       "    }\n",
       "</style>\n",
       "<table border=\"1\" class=\"dataframe\">\n",
       "  <thead>\n",
       "    <tr style=\"text-align: right;\">\n",
       "      <th></th>\n",
       "      <th>Hypothesis</th>\n",
       "      <th>Reach</th>\n",
       "      <th>Impact</th>\n",
       "      <th>Confidence</th>\n",
       "      <th>Efforts</th>\n",
       "    </tr>\n",
       "  </thead>\n",
       "  <tbody>\n",
       "    <tr>\n",
       "      <th>0</th>\n",
       "      <td>Добавить два новых канала привлечения трафика, что позволит привлекать на 30% больше пользователей</td>\n",
       "      <td>3</td>\n",
       "      <td>10</td>\n",
       "      <td>8</td>\n",
       "      <td>6</td>\n",
       "    </tr>\n",
       "    <tr>\n",
       "      <th>1</th>\n",
       "      <td>Запустить собственную службу доставки, что сократит срок доставки заказов</td>\n",
       "      <td>2</td>\n",
       "      <td>5</td>\n",
       "      <td>4</td>\n",
       "      <td>10</td>\n",
       "    </tr>\n",
       "    <tr>\n",
       "      <th>2</th>\n",
       "      <td>Добавить блоки рекомендаций товаров на сайт интернет магазина, чтобы повысить конверсию и средний чек заказа</td>\n",
       "      <td>8</td>\n",
       "      <td>3</td>\n",
       "      <td>7</td>\n",
       "      <td>3</td>\n",
       "    </tr>\n",
       "    <tr>\n",
       "      <th>3</th>\n",
       "      <td>Изменить структура категорий, что увеличит конверсию, т.к. пользователи быстрее найдут нужный товар</td>\n",
       "      <td>8</td>\n",
       "      <td>3</td>\n",
       "      <td>3</td>\n",
       "      <td>8</td>\n",
       "    </tr>\n",
       "    <tr>\n",
       "      <th>4</th>\n",
       "      <td>Изменить цвет фона главной страницы, чтобы увеличить вовлеченность пользователей</td>\n",
       "      <td>3</td>\n",
       "      <td>1</td>\n",
       "      <td>1</td>\n",
       "      <td>1</td>\n",
       "    </tr>\n",
       "    <tr>\n",
       "      <th>5</th>\n",
       "      <td>Добавить страницу отзывов клиентов о магазине, что позволит увеличить количество заказов</td>\n",
       "      <td>3</td>\n",
       "      <td>2</td>\n",
       "      <td>2</td>\n",
       "      <td>3</td>\n",
       "    </tr>\n",
       "    <tr>\n",
       "      <th>6</th>\n",
       "      <td>Показать на главной странице баннеры с актуальными акциями и распродажами, чтобы увеличить конверсию</td>\n",
       "      <td>5</td>\n",
       "      <td>3</td>\n",
       "      <td>8</td>\n",
       "      <td>3</td>\n",
       "    </tr>\n",
       "    <tr>\n",
       "      <th>7</th>\n",
       "      <td>Добавить форму подписки на все основные страницы, чтобы собрать базу клиентов для email-рассылок</td>\n",
       "      <td>10</td>\n",
       "      <td>7</td>\n",
       "      <td>8</td>\n",
       "      <td>5</td>\n",
       "    </tr>\n",
       "    <tr>\n",
       "      <th>8</th>\n",
       "      <td>Запустить акцию, дающую скидку на товар в день рождения</td>\n",
       "      <td>1</td>\n",
       "      <td>9</td>\n",
       "      <td>9</td>\n",
       "      <td>5</td>\n",
       "    </tr>\n",
       "  </tbody>\n",
       "</table>\n",
       "</div>"
      ],
      "text/plain": [
       "                                                                                                     Hypothesis  \\\n",
       "0            Добавить два новых канала привлечения трафика, что позволит привлекать на 30% больше пользователей   \n",
       "1                                     Запустить собственную службу доставки, что сократит срок доставки заказов   \n",
       "2  Добавить блоки рекомендаций товаров на сайт интернет магазина, чтобы повысить конверсию и средний чек заказа   \n",
       "3           Изменить структура категорий, что увеличит конверсию, т.к. пользователи быстрее найдут нужный товар   \n",
       "4                              Изменить цвет фона главной страницы, чтобы увеличить вовлеченность пользователей   \n",
       "5                      Добавить страницу отзывов клиентов о магазине, что позволит увеличить количество заказов   \n",
       "6          Показать на главной странице баннеры с актуальными акциями и распродажами, чтобы увеличить конверсию   \n",
       "7              Добавить форму подписки на все основные страницы, чтобы собрать базу клиентов для email-рассылок   \n",
       "8                                                       Запустить акцию, дающую скидку на товар в день рождения   \n",
       "\n",
       "   Reach  Impact  Confidence  Efforts  \n",
       "0      3      10           8        6  \n",
       "1      2       5           4       10  \n",
       "2      8       3           7        3  \n",
       "3      8       3           3        8  \n",
       "4      3       1           1        1  \n",
       "5      3       2           2        3  \n",
       "6      5       3           8        3  \n",
       "7     10       7           8        5  \n",
       "8      1       9           9        5  "
      ]
     },
     "execution_count": 4,
     "metadata": {},
     "output_type": "execute_result"
    }
   ],
   "source": [
    "# посмотрим на датафрейм hypothesis\n",
    "\n",
    "hypothesis.info()\n",
    "hypothesis"
   ]
  },
  {
   "cell_type": "code",
   "execution_count": 5,
   "metadata": {},
   "outputs": [
    {
     "name": "stdout",
     "output_type": "stream",
     "text": [
      "<class 'pandas.core.frame.DataFrame'>\n",
      "RangeIndex: 1197 entries, 0 to 1196\n",
      "Data columns (total 5 columns):\n",
      " #   Column         Non-Null Count  Dtype \n",
      "---  ------         --------------  ----- \n",
      " 0   transactionId  1197 non-null   int64 \n",
      " 1   visitorId      1197 non-null   int64 \n",
      " 2   date           1197 non-null   object\n",
      " 3   revenue        1197 non-null   int64 \n",
      " 4   group          1197 non-null   object\n",
      "dtypes: int64(3), object(2)\n",
      "memory usage: 46.9+ KB\n"
     ]
    },
    {
     "data": {
      "text/html": [
       "<div>\n",
       "<style scoped>\n",
       "    .dataframe tbody tr th:only-of-type {\n",
       "        vertical-align: middle;\n",
       "    }\n",
       "\n",
       "    .dataframe tbody tr th {\n",
       "        vertical-align: top;\n",
       "    }\n",
       "\n",
       "    .dataframe thead th {\n",
       "        text-align: right;\n",
       "    }\n",
       "</style>\n",
       "<table border=\"1\" class=\"dataframe\">\n",
       "  <thead>\n",
       "    <tr style=\"text-align: right;\">\n",
       "      <th></th>\n",
       "      <th>transactionId</th>\n",
       "      <th>visitorId</th>\n",
       "      <th>date</th>\n",
       "      <th>revenue</th>\n",
       "      <th>group</th>\n",
       "    </tr>\n",
       "  </thead>\n",
       "  <tbody>\n",
       "    <tr>\n",
       "      <th>0</th>\n",
       "      <td>3667963787</td>\n",
       "      <td>3312258926</td>\n",
       "      <td>2019-08-15</td>\n",
       "      <td>1650</td>\n",
       "      <td>B</td>\n",
       "    </tr>\n",
       "    <tr>\n",
       "      <th>1</th>\n",
       "      <td>2804400009</td>\n",
       "      <td>3642806036</td>\n",
       "      <td>2019-08-15</td>\n",
       "      <td>730</td>\n",
       "      <td>B</td>\n",
       "    </tr>\n",
       "    <tr>\n",
       "      <th>2</th>\n",
       "      <td>2961555356</td>\n",
       "      <td>4069496402</td>\n",
       "      <td>2019-08-15</td>\n",
       "      <td>400</td>\n",
       "      <td>A</td>\n",
       "    </tr>\n",
       "    <tr>\n",
       "      <th>3</th>\n",
       "      <td>3797467345</td>\n",
       "      <td>1196621759</td>\n",
       "      <td>2019-08-15</td>\n",
       "      <td>9759</td>\n",
       "      <td>B</td>\n",
       "    </tr>\n",
       "    <tr>\n",
       "      <th>4</th>\n",
       "      <td>2282983706</td>\n",
       "      <td>2322279887</td>\n",
       "      <td>2019-08-15</td>\n",
       "      <td>2308</td>\n",
       "      <td>B</td>\n",
       "    </tr>\n",
       "    <tr>\n",
       "      <th>...</th>\n",
       "      <td>...</td>\n",
       "      <td>...</td>\n",
       "      <td>...</td>\n",
       "      <td>...</td>\n",
       "      <td>...</td>\n",
       "    </tr>\n",
       "    <tr>\n",
       "      <th>1192</th>\n",
       "      <td>2662137336</td>\n",
       "      <td>3733762160</td>\n",
       "      <td>2019-08-14</td>\n",
       "      <td>6490</td>\n",
       "      <td>B</td>\n",
       "    </tr>\n",
       "    <tr>\n",
       "      <th>1193</th>\n",
       "      <td>2203539145</td>\n",
       "      <td>370388673</td>\n",
       "      <td>2019-08-14</td>\n",
       "      <td>3190</td>\n",
       "      <td>A</td>\n",
       "    </tr>\n",
       "    <tr>\n",
       "      <th>1194</th>\n",
       "      <td>1807773912</td>\n",
       "      <td>573423106</td>\n",
       "      <td>2019-08-14</td>\n",
       "      <td>10550</td>\n",
       "      <td>A</td>\n",
       "    </tr>\n",
       "    <tr>\n",
       "      <th>1195</th>\n",
       "      <td>1947021204</td>\n",
       "      <td>1614305549</td>\n",
       "      <td>2019-08-14</td>\n",
       "      <td>100</td>\n",
       "      <td>A</td>\n",
       "    </tr>\n",
       "    <tr>\n",
       "      <th>1196</th>\n",
       "      <td>3936777065</td>\n",
       "      <td>2108080724</td>\n",
       "      <td>2019-08-15</td>\n",
       "      <td>202740</td>\n",
       "      <td>B</td>\n",
       "    </tr>\n",
       "  </tbody>\n",
       "</table>\n",
       "<p>1197 rows × 5 columns</p>\n",
       "</div>"
      ],
      "text/plain": [
       "      transactionId   visitorId        date  revenue group\n",
       "0        3667963787  3312258926  2019-08-15     1650     B\n",
       "1        2804400009  3642806036  2019-08-15      730     B\n",
       "2        2961555356  4069496402  2019-08-15      400     A\n",
       "3        3797467345  1196621759  2019-08-15     9759     B\n",
       "4        2282983706  2322279887  2019-08-15     2308     B\n",
       "...             ...         ...         ...      ...   ...\n",
       "1192     2662137336  3733762160  2019-08-14     6490     B\n",
       "1193     2203539145   370388673  2019-08-14     3190     A\n",
       "1194     1807773912   573423106  2019-08-14    10550     A\n",
       "1195     1947021204  1614305549  2019-08-14      100     A\n",
       "1196     3936777065  2108080724  2019-08-15   202740     B\n",
       "\n",
       "[1197 rows x 5 columns]"
      ]
     },
     "execution_count": 5,
     "metadata": {},
     "output_type": "execute_result"
    }
   ],
   "source": [
    "# посмотрим на датафрейм orders\n",
    "\n",
    "orders.info()\n",
    "orders"
   ]
  },
  {
   "cell_type": "code",
   "execution_count": 6,
   "metadata": {},
   "outputs": [
    {
     "name": "stdout",
     "output_type": "stream",
     "text": [
      "<class 'pandas.core.frame.DataFrame'>\n",
      "RangeIndex: 62 entries, 0 to 61\n",
      "Data columns (total 3 columns):\n",
      " #   Column    Non-Null Count  Dtype \n",
      "---  ------    --------------  ----- \n",
      " 0   date      62 non-null     object\n",
      " 1   group     62 non-null     object\n",
      " 2   visitors  62 non-null     int64 \n",
      "dtypes: int64(1), object(2)\n",
      "memory usage: 1.6+ KB\n"
     ]
    },
    {
     "data": {
      "text/html": [
       "<div>\n",
       "<style scoped>\n",
       "    .dataframe tbody tr th:only-of-type {\n",
       "        vertical-align: middle;\n",
       "    }\n",
       "\n",
       "    .dataframe tbody tr th {\n",
       "        vertical-align: top;\n",
       "    }\n",
       "\n",
       "    .dataframe thead th {\n",
       "        text-align: right;\n",
       "    }\n",
       "</style>\n",
       "<table border=\"1\" class=\"dataframe\">\n",
       "  <thead>\n",
       "    <tr style=\"text-align: right;\">\n",
       "      <th></th>\n",
       "      <th>date</th>\n",
       "      <th>group</th>\n",
       "      <th>visitors</th>\n",
       "    </tr>\n",
       "  </thead>\n",
       "  <tbody>\n",
       "    <tr>\n",
       "      <th>0</th>\n",
       "      <td>2019-08-01</td>\n",
       "      <td>A</td>\n",
       "      <td>719</td>\n",
       "    </tr>\n",
       "    <tr>\n",
       "      <th>1</th>\n",
       "      <td>2019-08-02</td>\n",
       "      <td>A</td>\n",
       "      <td>619</td>\n",
       "    </tr>\n",
       "    <tr>\n",
       "      <th>2</th>\n",
       "      <td>2019-08-03</td>\n",
       "      <td>A</td>\n",
       "      <td>507</td>\n",
       "    </tr>\n",
       "    <tr>\n",
       "      <th>3</th>\n",
       "      <td>2019-08-04</td>\n",
       "      <td>A</td>\n",
       "      <td>717</td>\n",
       "    </tr>\n",
       "    <tr>\n",
       "      <th>4</th>\n",
       "      <td>2019-08-05</td>\n",
       "      <td>A</td>\n",
       "      <td>756</td>\n",
       "    </tr>\n",
       "    <tr>\n",
       "      <th>...</th>\n",
       "      <td>...</td>\n",
       "      <td>...</td>\n",
       "      <td>...</td>\n",
       "    </tr>\n",
       "    <tr>\n",
       "      <th>57</th>\n",
       "      <td>2019-08-27</td>\n",
       "      <td>B</td>\n",
       "      <td>720</td>\n",
       "    </tr>\n",
       "    <tr>\n",
       "      <th>58</th>\n",
       "      <td>2019-08-28</td>\n",
       "      <td>B</td>\n",
       "      <td>654</td>\n",
       "    </tr>\n",
       "    <tr>\n",
       "      <th>59</th>\n",
       "      <td>2019-08-29</td>\n",
       "      <td>B</td>\n",
       "      <td>531</td>\n",
       "    </tr>\n",
       "    <tr>\n",
       "      <th>60</th>\n",
       "      <td>2019-08-30</td>\n",
       "      <td>B</td>\n",
       "      <td>490</td>\n",
       "    </tr>\n",
       "    <tr>\n",
       "      <th>61</th>\n",
       "      <td>2019-08-31</td>\n",
       "      <td>B</td>\n",
       "      <td>718</td>\n",
       "    </tr>\n",
       "  </tbody>\n",
       "</table>\n",
       "<p>62 rows × 3 columns</p>\n",
       "</div>"
      ],
      "text/plain": [
       "          date group  visitors\n",
       "0   2019-08-01     A       719\n",
       "1   2019-08-02     A       619\n",
       "2   2019-08-03     A       507\n",
       "3   2019-08-04     A       717\n",
       "4   2019-08-05     A       756\n",
       "..         ...   ...       ...\n",
       "57  2019-08-27     B       720\n",
       "58  2019-08-28     B       654\n",
       "59  2019-08-29     B       531\n",
       "60  2019-08-30     B       490\n",
       "61  2019-08-31     B       718\n",
       "\n",
       "[62 rows x 3 columns]"
      ]
     },
     "execution_count": 6,
     "metadata": {},
     "output_type": "execute_result"
    }
   ],
   "source": [
    "# посмотрим на датафрейм visitors\n",
    "\n",
    "visitors.info()\n",
    "visitors"
   ]
  },
  {
   "cell_type": "code",
   "execution_count": 7,
   "metadata": {},
   "outputs": [
    {
     "data": {
      "text/plain": [
       "array(['B', 'A'], dtype=object)"
      ]
     },
     "metadata": {},
     "output_type": "display_data"
    },
    {
     "data": {
      "text/plain": [
       "array(['A', 'B'], dtype=object)"
      ]
     },
     "execution_count": 7,
     "metadata": {},
     "output_type": "execute_result"
    }
   ],
   "source": [
    "# Посмотрим сколько групп в АВ-тесте\n",
    "\n",
    "display(orders['group'].unique())\n",
    "visitors['group'].unique()"
   ]
  },
  {
   "cell_type": "code",
   "execution_count": 8,
   "metadata": {},
   "outputs": [
    {
     "name": "stdout",
     "output_type": "stream",
     "text": [
      "дата начала АВ-теста: 2019-08-01\n",
      "дата конца АВ-теста: 2019-08-31\n"
     ]
    }
   ],
   "source": [
    "# Посмотрим даты начала и конца АВ-теста\n",
    "\n",
    "print('дата начала АВ-теста:', orders['date'].min())\n",
    "print('дата конца АВ-теста:', orders['date'].max())"
   ]
  },
  {
   "cell_type": "code",
   "execution_count": 9,
   "metadata": {},
   "outputs": [
    {
     "data": {
      "text/plain": [
       "557"
      ]
     },
     "execution_count": 9,
     "metadata": {},
     "output_type": "execute_result"
    }
   ],
   "source": [
    "# Посмотрим количество пользователей в группе А\n",
    "\n",
    "orders[orders['group']=='A']['visitorId'].count()"
   ]
  },
  {
   "cell_type": "code",
   "execution_count": 10,
   "metadata": {},
   "outputs": [
    {
     "data": {
      "text/plain": [
       "640"
      ]
     },
     "execution_count": 10,
     "metadata": {},
     "output_type": "execute_result"
    }
   ],
   "source": [
    "# Посмотрим количество пользователей в группе В\n",
    "\n",
    "orders[orders['group']=='B']['visitorId'].count()"
   ]
  },
  {
   "cell_type": "code",
   "execution_count": 11,
   "metadata": {},
   "outputs": [
    {
     "data": {
      "text/html": [
       "<div>\n",
       "<style scoped>\n",
       "    .dataframe tbody tr th:only-of-type {\n",
       "        vertical-align: middle;\n",
       "    }\n",
       "\n",
       "    .dataframe tbody tr th {\n",
       "        vertical-align: top;\n",
       "    }\n",
       "\n",
       "    .dataframe thead th {\n",
       "        text-align: right;\n",
       "    }\n",
       "</style>\n",
       "<table border=\"1\" class=\"dataframe\">\n",
       "  <thead>\n",
       "    <tr style=\"text-align: right;\">\n",
       "      <th></th>\n",
       "      <th>transactionId_x</th>\n",
       "      <th>visitorId</th>\n",
       "      <th>date_x</th>\n",
       "      <th>revenue_x</th>\n",
       "      <th>group_x</th>\n",
       "      <th>transactionId_y</th>\n",
       "      <th>date_y</th>\n",
       "      <th>revenue_y</th>\n",
       "      <th>group_y</th>\n",
       "    </tr>\n",
       "  </thead>\n",
       "  <tbody>\n",
       "    <tr>\n",
       "      <th>0</th>\n",
       "      <td>2961555356</td>\n",
       "      <td>4069496402</td>\n",
       "      <td>2019-08-15</td>\n",
       "      <td>400</td>\n",
       "      <td>A</td>\n",
       "      <td>1473132782</td>\n",
       "      <td>2019-08-12</td>\n",
       "      <td>640</td>\n",
       "      <td>B</td>\n",
       "    </tr>\n",
       "    <tr>\n",
       "      <th>1</th>\n",
       "      <td>2223239646</td>\n",
       "      <td>199603092</td>\n",
       "      <td>2019-08-15</td>\n",
       "      <td>3488</td>\n",
       "      <td>A</td>\n",
       "      <td>437656952</td>\n",
       "      <td>2019-08-02</td>\n",
       "      <td>3488</td>\n",
       "      <td>B</td>\n",
       "    </tr>\n",
       "    <tr>\n",
       "      <th>2</th>\n",
       "      <td>62794304</td>\n",
       "      <td>199603092</td>\n",
       "      <td>2019-08-22</td>\n",
       "      <td>6976</td>\n",
       "      <td>A</td>\n",
       "      <td>437656952</td>\n",
       "      <td>2019-08-02</td>\n",
       "      <td>3488</td>\n",
       "      <td>B</td>\n",
       "    </tr>\n",
       "    <tr>\n",
       "      <th>3</th>\n",
       "      <td>2971973105</td>\n",
       "      <td>199603092</td>\n",
       "      <td>2019-08-27</td>\n",
       "      <td>2790</td>\n",
       "      <td>A</td>\n",
       "      <td>437656952</td>\n",
       "      <td>2019-08-02</td>\n",
       "      <td>3488</td>\n",
       "      <td>B</td>\n",
       "    </tr>\n",
       "    <tr>\n",
       "      <th>4</th>\n",
       "      <td>1941707234</td>\n",
       "      <td>199603092</td>\n",
       "      <td>2019-08-12</td>\n",
       "      <td>6438</td>\n",
       "      <td>A</td>\n",
       "      <td>437656952</td>\n",
       "      <td>2019-08-02</td>\n",
       "      <td>3488</td>\n",
       "      <td>B</td>\n",
       "    </tr>\n",
       "    <tr>\n",
       "      <th>...</th>\n",
       "      <td>...</td>\n",
       "      <td>...</td>\n",
       "      <td>...</td>\n",
       "      <td>...</td>\n",
       "      <td>...</td>\n",
       "      <td>...</td>\n",
       "      <td>...</td>\n",
       "      <td>...</td>\n",
       "      <td>...</td>\n",
       "    </tr>\n",
       "    <tr>\n",
       "      <th>178</th>\n",
       "      <td>3757656646</td>\n",
       "      <td>4186807279</td>\n",
       "      <td>2019-08-14</td>\n",
       "      <td>4990</td>\n",
       "      <td>A</td>\n",
       "      <td>1759418862</td>\n",
       "      <td>2019-08-21</td>\n",
       "      <td>18560</td>\n",
       "      <td>B</td>\n",
       "    </tr>\n",
       "    <tr>\n",
       "      <th>179</th>\n",
       "      <td>3757656646</td>\n",
       "      <td>4186807279</td>\n",
       "      <td>2019-08-14</td>\n",
       "      <td>4990</td>\n",
       "      <td>A</td>\n",
       "      <td>380064637</td>\n",
       "      <td>2019-08-27</td>\n",
       "      <td>13740</td>\n",
       "      <td>B</td>\n",
       "    </tr>\n",
       "    <tr>\n",
       "      <th>180</th>\n",
       "      <td>3612788481</td>\n",
       "      <td>2712142231</td>\n",
       "      <td>2019-08-14</td>\n",
       "      <td>2490</td>\n",
       "      <td>A</td>\n",
       "      <td>1251767592</td>\n",
       "      <td>2019-08-16</td>\n",
       "      <td>790</td>\n",
       "      <td>B</td>\n",
       "    </tr>\n",
       "    <tr>\n",
       "      <th>181</th>\n",
       "      <td>4052155355</td>\n",
       "      <td>2949041841</td>\n",
       "      <td>2019-08-14</td>\n",
       "      <td>190</td>\n",
       "      <td>A</td>\n",
       "      <td>1329499668</td>\n",
       "      <td>2019-08-14</td>\n",
       "      <td>10380</td>\n",
       "      <td>B</td>\n",
       "    </tr>\n",
       "    <tr>\n",
       "      <th>182</th>\n",
       "      <td>1458356232</td>\n",
       "      <td>963407295</td>\n",
       "      <td>2019-08-14</td>\n",
       "      <td>4940</td>\n",
       "      <td>A</td>\n",
       "      <td>2904772834</td>\n",
       "      <td>2019-08-15</td>\n",
       "      <td>300</td>\n",
       "      <td>B</td>\n",
       "    </tr>\n",
       "  </tbody>\n",
       "</table>\n",
       "<p>183 rows × 9 columns</p>\n",
       "</div>"
      ],
      "text/plain": [
       "     transactionId_x   visitorId      date_x  revenue_x group_x  \\\n",
       "0         2961555356  4069496402  2019-08-15        400       A   \n",
       "1         2223239646   199603092  2019-08-15       3488       A   \n",
       "2           62794304   199603092  2019-08-22       6976       A   \n",
       "3         2971973105   199603092  2019-08-27       2790       A   \n",
       "4         1941707234   199603092  2019-08-12       6438       A   \n",
       "..               ...         ...         ...        ...     ...   \n",
       "178       3757656646  4186807279  2019-08-14       4990       A   \n",
       "179       3757656646  4186807279  2019-08-14       4990       A   \n",
       "180       3612788481  2712142231  2019-08-14       2490       A   \n",
       "181       4052155355  2949041841  2019-08-14        190       A   \n",
       "182       1458356232   963407295  2019-08-14       4940       A   \n",
       "\n",
       "     transactionId_y      date_y  revenue_y group_y  \n",
       "0         1473132782  2019-08-12        640       B  \n",
       "1          437656952  2019-08-02       3488       B  \n",
       "2          437656952  2019-08-02       3488       B  \n",
       "3          437656952  2019-08-02       3488       B  \n",
       "4          437656952  2019-08-02       3488       B  \n",
       "..               ...         ...        ...     ...  \n",
       "178       1759418862  2019-08-21      18560       B  \n",
       "179        380064637  2019-08-27      13740       B  \n",
       "180       1251767592  2019-08-16        790       B  \n",
       "181       1329499668  2019-08-14      10380       B  \n",
       "182       2904772834  2019-08-15        300       B  \n",
       "\n",
       "[183 rows x 9 columns]"
      ]
     },
     "execution_count": 11,
     "metadata": {},
     "output_type": "execute_result"
    }
   ],
   "source": [
    "# Посмотрим есть ли пользователи, попадающие в обе группы теста\n",
    "\n",
    "orders[orders['group']=='A'].merge(orders[orders['group']=='B'], on='visitorId')"
   ]
  },
  {
   "cell_type": "markdown",
   "metadata": {},
   "source": [
    "Около 15% пользователей попало в обе группы."
   ]
  },
  {
   "cell_type": "markdown",
   "metadata": {},
   "source": [
    "**Вывод**\n",
    "\n",
    "Мы ознакомились с данными.  \n",
    "Пропусков нет, столбцы с датами имеют тип object и нужно привести их к типу date.  \n",
    "Так же нужно проверить данные на наличие дубликатов и привести наименования столбцов к единому стилю.  \n",
    "Имеем две группы в АВ-тесте с интервалом проведения теста с 2019-08-01 по 2019-08-31."
   ]
  },
  {
   "cell_type": "markdown",
   "metadata": {},
   "source": [
    "**Предобработка данных**"
   ]
  },
  {
   "cell_type": "code",
   "execution_count": 12,
   "metadata": {},
   "outputs": [
    {
     "data": {
      "text/plain": [
       "Index(['hypothesis', 'reach', 'impact', 'confidence', 'efforts'], dtype='object')"
      ]
     },
     "metadata": {},
     "output_type": "display_data"
    },
    {
     "data": {
      "text/plain": [
       "Index(['transaction_id', 'visitor_id', 'date', 'revenue', 'group'], dtype='object')"
      ]
     },
     "execution_count": 12,
     "metadata": {},
     "output_type": "execute_result"
    }
   ],
   "source": [
    "# приведём наименования столбцов к хорошему стилю\n",
    "\n",
    "hypothesis.columns = hypothesis.columns.str.lower()\n",
    "orders.columns = [name.replace('Id', '_id') for name in orders.columns]\n",
    "\n",
    "display(hypothesis.columns)\n",
    "orders.columns"
   ]
  },
  {
   "cell_type": "code",
   "execution_count": 13,
   "metadata": {},
   "outputs": [],
   "source": [
    "# изменим тип данных для столбцов с датами\n",
    "\n",
    "visitors['date'] = pd.to_datetime(visitors['date'])\n",
    "orders['date'] = pd.to_datetime(orders['date'])"
   ]
  },
  {
   "cell_type": "code",
   "execution_count": 14,
   "metadata": {},
   "outputs": [
    {
     "data": {
      "text/plain": [
       "0"
      ]
     },
     "metadata": {},
     "output_type": "display_data"
    },
    {
     "data": {
      "text/plain": [
       "0"
      ]
     },
     "execution_count": 14,
     "metadata": {},
     "output_type": "execute_result"
    }
   ],
   "source": [
    "# проверим таблицы на наличие дубликатов\n",
    "\n",
    "display(visitors.duplicated().sum())\n",
    "orders.duplicated().sum()"
   ]
  },
  {
   "cell_type": "markdown",
   "metadata": {},
   "source": [
    "<div class=\"alert alert-success\">\n",
    "<h2> Комментарий ревьюера 😊 <a class=\"tocSkip\"> </h2>\n",
    "\n",
    "Блок предобработки выполнен хорошо: типы и названия скорректированы, есть проверка на пропуски и дубликаты, молодец)\n",
    "</div>"
   ]
  },
  {
   "cell_type": "markdown",
   "metadata": {},
   "source": [
    "## Приоритезация гипотез"
   ]
  },
  {
   "cell_type": "markdown",
   "metadata": {},
   "source": [
    "Отдел маркетинга подготовил список из 9-ти гипотез, параметры которых оценены по шкале от 0 до 10.\n",
    "\n",
    "Применим один из самых популярных методов приоритезации гипотез - ICE (от. англ.: Impact -Влияние, Confidence-Уверенность, Effort-Усилия)."
   ]
  },
  {
   "cell_type": "code",
   "execution_count": 15,
   "metadata": {},
   "outputs": [
    {
     "data": {
      "text/html": [
       "<div>\n",
       "<style scoped>\n",
       "    .dataframe tbody tr th:only-of-type {\n",
       "        vertical-align: middle;\n",
       "    }\n",
       "\n",
       "    .dataframe tbody tr th {\n",
       "        vertical-align: top;\n",
       "    }\n",
       "\n",
       "    .dataframe thead th {\n",
       "        text-align: right;\n",
       "    }\n",
       "</style>\n",
       "<table border=\"1\" class=\"dataframe\">\n",
       "  <thead>\n",
       "    <tr style=\"text-align: right;\">\n",
       "      <th></th>\n",
       "      <th>hypothesis</th>\n",
       "      <th>ice</th>\n",
       "    </tr>\n",
       "  </thead>\n",
       "  <tbody>\n",
       "    <tr>\n",
       "      <th>8</th>\n",
       "      <td>Запустить акцию, дающую скидку на товар в день рождения</td>\n",
       "      <td>16.200</td>\n",
       "    </tr>\n",
       "    <tr>\n",
       "      <th>0</th>\n",
       "      <td>Добавить два новых канала привлечения трафика, что позволит привлекать на 30% больше пользователей</td>\n",
       "      <td>13.333</td>\n",
       "    </tr>\n",
       "    <tr>\n",
       "      <th>7</th>\n",
       "      <td>Добавить форму подписки на все основные страницы, чтобы собрать базу клиентов для email-рассылок</td>\n",
       "      <td>11.200</td>\n",
       "    </tr>\n",
       "    <tr>\n",
       "      <th>6</th>\n",
       "      <td>Показать на главной странице баннеры с актуальными акциями и распродажами, чтобы увеличить конверсию</td>\n",
       "      <td>8.000</td>\n",
       "    </tr>\n",
       "    <tr>\n",
       "      <th>2</th>\n",
       "      <td>Добавить блоки рекомендаций товаров на сайт интернет магазина, чтобы повысить конверсию и средний чек заказа</td>\n",
       "      <td>7.000</td>\n",
       "    </tr>\n",
       "    <tr>\n",
       "      <th>1</th>\n",
       "      <td>Запустить собственную службу доставки, что сократит срок доставки заказов</td>\n",
       "      <td>2.000</td>\n",
       "    </tr>\n",
       "    <tr>\n",
       "      <th>5</th>\n",
       "      <td>Добавить страницу отзывов клиентов о магазине, что позволит увеличить количество заказов</td>\n",
       "      <td>1.333</td>\n",
       "    </tr>\n",
       "    <tr>\n",
       "      <th>3</th>\n",
       "      <td>Изменить структура категорий, что увеличит конверсию, т.к. пользователи быстрее найдут нужный товар</td>\n",
       "      <td>1.125</td>\n",
       "    </tr>\n",
       "    <tr>\n",
       "      <th>4</th>\n",
       "      <td>Изменить цвет фона главной страницы, чтобы увеличить вовлеченность пользователей</td>\n",
       "      <td>1.000</td>\n",
       "    </tr>\n",
       "  </tbody>\n",
       "</table>\n",
       "</div>"
      ],
      "text/plain": [
       "                                                                                                     hypothesis  \\\n",
       "8                                                       Запустить акцию, дающую скидку на товар в день рождения   \n",
       "0            Добавить два новых канала привлечения трафика, что позволит привлекать на 30% больше пользователей   \n",
       "7              Добавить форму подписки на все основные страницы, чтобы собрать базу клиентов для email-рассылок   \n",
       "6          Показать на главной странице баннеры с актуальными акциями и распродажами, чтобы увеличить конверсию   \n",
       "2  Добавить блоки рекомендаций товаров на сайт интернет магазина, чтобы повысить конверсию и средний чек заказа   \n",
       "1                                     Запустить собственную службу доставки, что сократит срок доставки заказов   \n",
       "5                      Добавить страницу отзывов клиентов о магазине, что позволит увеличить количество заказов   \n",
       "3           Изменить структура категорий, что увеличит конверсию, т.к. пользователи быстрее найдут нужный товар   \n",
       "4                              Изменить цвет фона главной страницы, чтобы увеличить вовлеченность пользователей   \n",
       "\n",
       "     ice  \n",
       "8 16.200  \n",
       "0 13.333  \n",
       "7 11.200  \n",
       "6  8.000  \n",
       "2  7.000  \n",
       "1  2.000  \n",
       "5  1.333  \n",
       "3  1.125  \n",
       "4  1.000  "
      ]
     },
     "metadata": {},
     "output_type": "display_data"
    }
   ],
   "source": [
    "hypothesis['ice'] = hypothesis.impact * hypothesis.confidence / hypothesis.efforts\n",
    "\n",
    "display(hypothesis[['hypothesis','ice']].sort_values(by='ice', ascending=False))"
   ]
  },
  {
   "cell_type": "markdown",
   "metadata": {},
   "source": [
    "Этот метод показывает, что наиболее приоритетной для исследования являеся гипотеза под индексом 8 (Запустить акцию, дающую скидку на товар в день рождения), затем идут гипотезы под индексами 0 (Добавить два новых канала привлечения трафика, что позволит привлекать на 30% больше пользователей) и 7 (Добавить форму подписки на все основные страницы, чтобы собрать базу клиентов для email-рассылок)."
   ]
  },
  {
   "cell_type": "markdown",
   "metadata": {},
   "source": [
    "Добавим к расчету параметр Reach (англ.: Охват) и приоритезируем гипотезы по методу RICE."
   ]
  },
  {
   "cell_type": "code",
   "execution_count": 16,
   "metadata": {},
   "outputs": [
    {
     "data": {
      "text/html": [
       "<div>\n",
       "<style scoped>\n",
       "    .dataframe tbody tr th:only-of-type {\n",
       "        vertical-align: middle;\n",
       "    }\n",
       "\n",
       "    .dataframe tbody tr th {\n",
       "        vertical-align: top;\n",
       "    }\n",
       "\n",
       "    .dataframe thead th {\n",
       "        text-align: right;\n",
       "    }\n",
       "</style>\n",
       "<table border=\"1\" class=\"dataframe\">\n",
       "  <thead>\n",
       "    <tr style=\"text-align: right;\">\n",
       "      <th></th>\n",
       "      <th>hypothesis</th>\n",
       "      <th>rice</th>\n",
       "    </tr>\n",
       "  </thead>\n",
       "  <tbody>\n",
       "    <tr>\n",
       "      <th>7</th>\n",
       "      <td>Добавить форму подписки на все основные страницы, чтобы собрать базу клиентов для email-рассылок</td>\n",
       "      <td>112.000</td>\n",
       "    </tr>\n",
       "    <tr>\n",
       "      <th>2</th>\n",
       "      <td>Добавить блоки рекомендаций товаров на сайт интернет магазина, чтобы повысить конверсию и средний чек заказа</td>\n",
       "      <td>56.000</td>\n",
       "    </tr>\n",
       "    <tr>\n",
       "      <th>0</th>\n",
       "      <td>Добавить два новых канала привлечения трафика, что позволит привлекать на 30% больше пользователей</td>\n",
       "      <td>40.000</td>\n",
       "    </tr>\n",
       "    <tr>\n",
       "      <th>6</th>\n",
       "      <td>Показать на главной странице баннеры с актуальными акциями и распродажами, чтобы увеличить конверсию</td>\n",
       "      <td>40.000</td>\n",
       "    </tr>\n",
       "    <tr>\n",
       "      <th>8</th>\n",
       "      <td>Запустить акцию, дающую скидку на товар в день рождения</td>\n",
       "      <td>16.200</td>\n",
       "    </tr>\n",
       "    <tr>\n",
       "      <th>3</th>\n",
       "      <td>Изменить структура категорий, что увеличит конверсию, т.к. пользователи быстрее найдут нужный товар</td>\n",
       "      <td>9.000</td>\n",
       "    </tr>\n",
       "    <tr>\n",
       "      <th>1</th>\n",
       "      <td>Запустить собственную службу доставки, что сократит срок доставки заказов</td>\n",
       "      <td>4.000</td>\n",
       "    </tr>\n",
       "    <tr>\n",
       "      <th>5</th>\n",
       "      <td>Добавить страницу отзывов клиентов о магазине, что позволит увеличить количество заказов</td>\n",
       "      <td>4.000</td>\n",
       "    </tr>\n",
       "    <tr>\n",
       "      <th>4</th>\n",
       "      <td>Изменить цвет фона главной страницы, чтобы увеличить вовлеченность пользователей</td>\n",
       "      <td>3.000</td>\n",
       "    </tr>\n",
       "  </tbody>\n",
       "</table>\n",
       "</div>"
      ],
      "text/plain": [
       "                                                                                                     hypothesis  \\\n",
       "7              Добавить форму подписки на все основные страницы, чтобы собрать базу клиентов для email-рассылок   \n",
       "2  Добавить блоки рекомендаций товаров на сайт интернет магазина, чтобы повысить конверсию и средний чек заказа   \n",
       "0            Добавить два новых канала привлечения трафика, что позволит привлекать на 30% больше пользователей   \n",
       "6          Показать на главной странице баннеры с актуальными акциями и распродажами, чтобы увеличить конверсию   \n",
       "8                                                       Запустить акцию, дающую скидку на товар в день рождения   \n",
       "3           Изменить структура категорий, что увеличит конверсию, т.к. пользователи быстрее найдут нужный товар   \n",
       "1                                     Запустить собственную службу доставки, что сократит срок доставки заказов   \n",
       "5                      Добавить страницу отзывов клиентов о магазине, что позволит увеличить количество заказов   \n",
       "4                              Изменить цвет фона главной страницы, чтобы увеличить вовлеченность пользователей   \n",
       "\n",
       "     rice  \n",
       "7 112.000  \n",
       "2  56.000  \n",
       "0  40.000  \n",
       "6  40.000  \n",
       "8  16.200  \n",
       "3   9.000  \n",
       "1   4.000  \n",
       "5   4.000  \n",
       "4   3.000  "
      ]
     },
     "metadata": {},
     "output_type": "display_data"
    }
   ],
   "source": [
    "hypothesis['rice'] = hypothesis.reach * hypothesis.impact * hypothesis.confidence / hypothesis.efforts\n",
    "display(hypothesis[['hypothesis','rice']].sort_values(by='rice', ascending=False))"
   ]
  },
  {
   "cell_type": "markdown",
   "metadata": {},
   "source": [
    "Этот метод расставил приоритезацию иначе- первое место заняла гипотеза под индексом 7 (Добавить форму подписки на все основные страницы, чтобы собрать базу клиентов для email-рассылок), а гипотеза с индексом 8 (Запустить акцию, дающую скидку на товар в день рождения) с первого места ушла на пятое.  \n",
    "Данная приоритезация более точная, так как используется дополнительный важный критерий - охват пользователей."
   ]
  },
  {
   "cell_type": "markdown",
   "metadata": {},
   "source": [
    "<div class=\"alert alert-success\">\n",
    "<h2> Комментарий ревьюера 😊<a class=\"tocSkip\"> </h2>\n",
    "    \n",
    "Приоритизация гипотез проведена успешна! Молодец, что выводишь таблицу дважды, каждый раз с сортировкой по одному из фреймоврков и округляешь значения, так различия в их работе будут максимально наглядными. Согласна с твоими выводами по поводу их различия.\n",
    "</div>   "
   ]
  },
  {
   "cell_type": "markdown",
   "metadata": {},
   "source": [
    "## Анализ A/B-теста"
   ]
  },
  {
   "cell_type": "markdown",
   "metadata": {},
   "source": [
    "### **Кумулятивные метрики**"
   ]
  },
  {
   "cell_type": "markdown",
   "metadata": {},
   "source": [
    "Чтобы построить графики по кумулятивным (накапливаемым) данным, необходимо собрать агрегированный датафрейм, содержащий информацию о дате, группе (А или В), кумулятивных количестве заказов и пользователей их оформивших, среднем чеке и\n",
    "о кумулятивном количестве посетителей магазина."
   ]
  },
  {
   "cell_type": "code",
   "execution_count": 17,
   "metadata": {},
   "outputs": [
    {
     "data": {
      "text/html": [
       "<div>\n",
       "<style scoped>\n",
       "    .dataframe tbody tr th:only-of-type {\n",
       "        vertical-align: middle;\n",
       "    }\n",
       "\n",
       "    .dataframe tbody tr th {\n",
       "        vertical-align: top;\n",
       "    }\n",
       "\n",
       "    .dataframe thead th {\n",
       "        text-align: right;\n",
       "    }\n",
       "</style>\n",
       "<table border=\"1\" class=\"dataframe\">\n",
       "  <thead>\n",
       "    <tr style=\"text-align: right;\">\n",
       "      <th></th>\n",
       "      <th>date</th>\n",
       "      <th>group</th>\n",
       "      <th>transaction_id</th>\n",
       "      <th>visitor_id</th>\n",
       "      <th>revenue</th>\n",
       "    </tr>\n",
       "  </thead>\n",
       "  <tbody>\n",
       "    <tr>\n",
       "      <th>55</th>\n",
       "      <td>2019-08-01</td>\n",
       "      <td>A</td>\n",
       "      <td>24</td>\n",
       "      <td>20</td>\n",
       "      <td>148579</td>\n",
       "    </tr>\n",
       "    <tr>\n",
       "      <th>66</th>\n",
       "      <td>2019-08-01</td>\n",
       "      <td>B</td>\n",
       "      <td>21</td>\n",
       "      <td>20</td>\n",
       "      <td>101217</td>\n",
       "    </tr>\n",
       "    <tr>\n",
       "      <th>175</th>\n",
       "      <td>2019-08-02</td>\n",
       "      <td>A</td>\n",
       "      <td>44</td>\n",
       "      <td>38</td>\n",
       "      <td>242401</td>\n",
       "    </tr>\n",
       "    <tr>\n",
       "      <th>173</th>\n",
       "      <td>2019-08-02</td>\n",
       "      <td>B</td>\n",
       "      <td>45</td>\n",
       "      <td>43</td>\n",
       "      <td>266748</td>\n",
       "    </tr>\n",
       "    <tr>\n",
       "      <th>291</th>\n",
       "      <td>2019-08-03</td>\n",
       "      <td>A</td>\n",
       "      <td>68</td>\n",
       "      <td>62</td>\n",
       "      <td>354874</td>\n",
       "    </tr>\n",
       "    <tr>\n",
       "      <th>310</th>\n",
       "      <td>2019-08-03</td>\n",
       "      <td>B</td>\n",
       "      <td>61</td>\n",
       "      <td>59</td>\n",
       "      <td>380996</td>\n",
       "    </tr>\n",
       "  </tbody>\n",
       "</table>\n",
       "</div>"
      ],
      "text/plain": [
       "          date group  transaction_id  visitor_id  revenue\n",
       "55  2019-08-01     A              24          20   148579\n",
       "66  2019-08-01     B              21          20   101217\n",
       "175 2019-08-02     A              44          38   242401\n",
       "173 2019-08-02     B              45          43   266748\n",
       "291 2019-08-03     A              68          62   354874\n",
       "310 2019-08-03     B              61          59   380996"
      ]
     },
     "execution_count": 17,
     "metadata": {},
     "output_type": "execute_result"
    }
   ],
   "source": [
    "# создадим массив уникальных пар значений дат и групп теста\n",
    "dates_grouped = orders[['date', 'group']].drop_duplicates()\n",
    "\n",
    "# получим агрегированные кумулятивные по дням данные о заказах \n",
    "orders_grouped = dates_grouped.apply(\n",
    "    lambda x: orders[\n",
    "        np.logical_and(\n",
    "            orders['date'] <= x['date'], orders['group'] == x['group']\n",
    "        )\n",
    "    ].agg(\n",
    "        {\n",
    "            'date': 'max',\n",
    "            'group': 'max',\n",
    "            'transaction_id': 'nunique',\n",
    "            'visitor_id': 'nunique',\n",
    "            'revenue': 'sum',\n",
    "        }\n",
    "    ),\n",
    "    axis=1\n",
    ").sort_values(by=['date', 'group'])\n",
    "\n",
    "orders_grouped.head(6)"
   ]
  },
  {
   "cell_type": "code",
   "execution_count": 18,
   "metadata": {},
   "outputs": [
    {
     "data": {
      "text/html": [
       "<div>\n",
       "<style scoped>\n",
       "    .dataframe tbody tr th:only-of-type {\n",
       "        vertical-align: middle;\n",
       "    }\n",
       "\n",
       "    .dataframe tbody tr th {\n",
       "        vertical-align: top;\n",
       "    }\n",
       "\n",
       "    .dataframe thead th {\n",
       "        text-align: right;\n",
       "    }\n",
       "</style>\n",
       "<table border=\"1\" class=\"dataframe\">\n",
       "  <thead>\n",
       "    <tr style=\"text-align: right;\">\n",
       "      <th></th>\n",
       "      <th>date</th>\n",
       "      <th>group</th>\n",
       "      <th>visitors</th>\n",
       "    </tr>\n",
       "  </thead>\n",
       "  <tbody>\n",
       "    <tr>\n",
       "      <th>55</th>\n",
       "      <td>2019-08-01</td>\n",
       "      <td>A</td>\n",
       "      <td>719</td>\n",
       "    </tr>\n",
       "    <tr>\n",
       "      <th>66</th>\n",
       "      <td>2019-08-01</td>\n",
       "      <td>B</td>\n",
       "      <td>713</td>\n",
       "    </tr>\n",
       "    <tr>\n",
       "      <th>175</th>\n",
       "      <td>2019-08-02</td>\n",
       "      <td>A</td>\n",
       "      <td>1338</td>\n",
       "    </tr>\n",
       "    <tr>\n",
       "      <th>173</th>\n",
       "      <td>2019-08-02</td>\n",
       "      <td>B</td>\n",
       "      <td>1294</td>\n",
       "    </tr>\n",
       "    <tr>\n",
       "      <th>291</th>\n",
       "      <td>2019-08-03</td>\n",
       "      <td>A</td>\n",
       "      <td>1845</td>\n",
       "    </tr>\n",
       "    <tr>\n",
       "      <th>310</th>\n",
       "      <td>2019-08-03</td>\n",
       "      <td>B</td>\n",
       "      <td>1803</td>\n",
       "    </tr>\n",
       "  </tbody>\n",
       "</table>\n",
       "</div>"
      ],
      "text/plain": [
       "          date group  visitors\n",
       "55  2019-08-01     A       719\n",
       "66  2019-08-01     B       713\n",
       "175 2019-08-02     A      1338\n",
       "173 2019-08-02     B      1294\n",
       "291 2019-08-03     A      1845\n",
       "310 2019-08-03     B      1803"
      ]
     },
     "execution_count": 18,
     "metadata": {},
     "output_type": "execute_result"
    }
   ],
   "source": [
    "# получим агрегированные кумулятивные по дням данные о посетителях интернет-магазина \n",
    "\n",
    "visitors_grouped = dates_grouped.apply(\n",
    "    lambda x: visitors[\n",
    "        np.logical_and(\n",
    "            visitors['date'] <= x['date'], visitors['group'] == x['group']\n",
    "        )\n",
    "    ].agg(\n",
    "        {\n",
    "            'date': 'max', \n",
    "            'group': 'max', \n",
    "            'visitors': 'sum'\n",
    "        }\n",
    "    ),\n",
    "    axis=1,\n",
    ").sort_values(by=['date', 'group'])\n",
    "\n",
    "visitors_grouped.head(6)"
   ]
  },
  {
   "cell_type": "code",
   "execution_count": 19,
   "metadata": {},
   "outputs": [],
   "source": [
    "# объединим кумулятивные данные в одной таблице и присвоим ее столбцам понятные названия\n",
    "\n",
    "cumulative_data = orders_grouped.merge(\n",
    "    visitors_grouped, \n",
    "    left_on=['date', 'group'], \n",
    "    right_on=['date', 'group']\n",
    ")\n",
    "\n",
    "cumulative_data.columns = ['date', 'group', 'orders', 'buyers', 'revenue', 'visitors']"
   ]
  },
  {
   "cell_type": "code",
   "execution_count": 20,
   "metadata": {},
   "outputs": [
    {
     "name": "stdout",
     "output_type": "stream",
     "text": [
      "дата начала АВ-теста: 2019-08-01 00:00:00\n",
      "дата конца АВ-теста: 2019-08-31 00:00:00\n"
     ]
    }
   ],
   "source": [
    "# Посмотрим совпадают ли минимальная и максимальная даты в этом датафрейме с минимальной и максимальной датой в исходных данных\n",
    "\n",
    "print('дата начала АВ-теста:', cumulative_data['date'].min())\n",
    "print('дата конца АВ-теста:', cumulative_data['date'].max())"
   ]
  },
  {
   "cell_type": "markdown",
   "metadata": {},
   "source": [
    "Всё в порядке,- даты начала и конца теста в соданном датафрейме cumulative_data совпали с исходными датами."
   ]
  },
  {
   "cell_type": "markdown",
   "metadata": {},
   "source": [
    "<div class=\"alert alert-success\">\n",
    "<h2> Комментарий ревьюера 😊 v_2 <a class=\"tocSkip\"> </h2>\n",
    "\n",
    "Отлично)"
   ]
  },
  {
   "cell_type": "markdown",
   "metadata": {},
   "source": [
    "Построим **графики кумулятивной выручки** по дням и группам A/B-тестирования: "
   ]
  },
  {
   "cell_type": "code",
   "execution_count": 21,
   "metadata": {},
   "outputs": [
    {
     "data": {
      "image/png": "[encoded data removed]",
      "text/plain": [
       "<Figure size 720x360 with 1 Axes>"
      ]
     },
     "metadata": {},
     "output_type": "display_data"
    }
   ],
   "source": [
    "# датафрейм с кумулятивным количеством заказов и кумулятивной выручкой по дням в группе А\n",
    "cumulative_revenue_a = cumulative_data[cumulative_data['group']=='A'][['date','revenue', 'orders']]\n",
    "\n",
    "# датафрейм с кумулятивным количеством заказов и кумулятивной выручкой по дням в группе B\n",
    "cumulative_revenue_b = cumulative_data[cumulative_data['group']=='B'][['date','revenue', 'orders']]\n",
    "\n",
    "plt.plot(cumulative_revenue_a['date'], cumulative_revenue_a['revenue'], label='A')\n",
    "plt.plot(cumulative_revenue_b['date'], cumulative_revenue_b['revenue'], label='B')\n",
    "plt.title('График динамики кумулятивной выручки по группам А и В')\n",
    "plt.ylabel(\"Выручка, млн.\")\n",
    "plt.xticks(rotation=30)\n",
    "plt.legend();"
   ]
  },
  {
   "cell_type": "markdown",
   "metadata": {},
   "source": [
    "График показывает, что кумулятивная выручка группы В больше, чем у группы А.\n",
    "При этом в группе В видим резкий скачок в районе 18-го августа, что может говорить о всплесках числа заказов, либо о появлении очень дорогих заказов в выборке."
   ]
  },
  {
   "cell_type": "markdown",
   "metadata": {},
   "source": [
    "<div class=\"alert alert-success\">\n",
    "<h2> Комментарий ревьюера 😊<a class=\"tocSkip\"> </h2>\n",
    "\n",
    "Правильно)"
   ]
  },
  {
   "cell_type": "markdown",
   "metadata": {},
   "source": [
    "Построим **графики среднего чека по группам** — разделим кумулятивную выручку на кумулятивное число заказов:"
   ]
  },
  {
   "cell_type": "code",
   "execution_count": 22,
   "metadata": {},
   "outputs": [
    {
     "data": {
      "image/png": "[encoded data removed]",
      "text/plain": [
       "<Figure size 720x360 with 1 Axes>"
      ]
     },
     "metadata": {},
     "output_type": "display_data"
    }
   ],
   "source": [
    "plt.plot(cumulative_revenue_a['date'], \n",
    "         cumulative_revenue_a['revenue'] / cumulative_revenue_a['orders'],\n",
    "         label='A')\n",
    "\n",
    "plt.plot(cumulative_revenue_b['date'], \n",
    "         cumulative_revenue_b['revenue'] / cumulative_revenue_b['orders'], \n",
    "         label='B')\n",
    "\n",
    "plt.title('График динамики кумулятивного среднего чека по группам А и В')\n",
    "plt.ylabel(\"Выручка, млн.\")\n",
    "plt.xticks(rotation=30)\n",
    "plt.legend();"
   ]
  },
  {
   "cell_type": "markdown",
   "metadata": {},
   "source": [
    "Мы видим, что средний чек в группе А через какое-то время стабилизировался.  \n",
    "Средний чек группы В показал резкий рывок в районе 18 августа, что подтверждает ранее выдвинутое предположение о появлении очень дорогих заказов."
   ]
  },
  {
   "cell_type": "markdown",
   "metadata": {},
   "source": [
    "Построим **график относительного изменения кумулятивного среднего чека** группы B к группе A."
   ]
  },
  {
   "cell_type": "code",
   "execution_count": 23,
   "metadata": {},
   "outputs": [
    {
     "data": {
      "image/png": "[encoded data removed]",
      "text/plain": [
       "<Figure size 720x360 with 1 Axes>"
      ]
     },
     "metadata": {},
     "output_type": "display_data"
    }
   ],
   "source": [
    "# собираем данные в одном датафрейме\n",
    "cumulative_revenue_ab = cumulative_revenue_a.merge(\n",
    "    cumulative_revenue_b, \n",
    "    left_on='date', \n",
    "    right_on='date', \n",
    "    how='left', \n",
    "    suffixes=['_a', '_b']\n",
    ")\n",
    "\n",
    "# cтроим отношение средних чеков\n",
    "plt.plot(cumulative_revenue_ab['date'], \n",
    "         (\n",
    "             cumulative_revenue_ab['revenue_b']/cumulative_revenue_ab['orders_b']\n",
    "         )/\n",
    "         (\n",
    "             cumulative_revenue_ab['revenue_a']/cumulative_revenue_ab['orders_a']\n",
    "         )-1\n",
    "        )\n",
    "\n",
    "# добавляем ось X\n",
    "plt.axhline(y=0, color='black', linestyle='--')\n",
    "plt.title('График относительного изменения кумулятивного среднего чека группы B к группе A')\n",
    "plt.xticks(rotation=30);"
   ]
  },
  {
   "cell_type": "markdown",
   "metadata": {},
   "source": [
    "График скачет, видно имеют место быть крупные заказы.  \n",
    "В целом, кумулятивный средний чек группы В преобладает над группой А."
   ]
  },
  {
   "cell_type": "markdown",
   "metadata": {},
   "source": [
    "Построим **график кумулятивного среднего количества заказов на посетителя по группам**"
   ]
  },
  {
   "cell_type": "code",
   "execution_count": 24,
   "metadata": {},
   "outputs": [
    {
     "data": {
      "image/png": "[encoded data removed]",
      "text/plain": [
       "<Figure size 720x360 with 1 Axes>"
      ]
     },
     "metadata": {},
     "output_type": "display_data"
    }
   ],
   "source": [
    "# считаем кумулятивную конверсию посетителя в заказ\n",
    "cumulative_data['conversion'] = cumulative_data['orders']/cumulative_data['visitors']\n",
    "\n",
    "# отделим данные по группе A\n",
    "cumulative_data_a = cumulative_data[cumulative_data['group']=='A']\n",
    "\n",
    "# отделим данные по группе B\n",
    "cumulative_data_b = cumulative_data[cumulative_data['group']=='B']\n",
    "\n",
    "# строим графики\n",
    "plt.plot(cumulative_data_a['date'], cumulative_data_a['conversion'], label='A')\n",
    "plt.plot(cumulative_data_b['date'], cumulative_data_b['conversion'], label='B')\n",
    "plt.legend()\n",
    "plt.title('Кумулятивное среднее количество заказов на посетителя')\n",
    "plt.xticks(rotation=30);"
   ]
  },
  {
   "cell_type": "markdown",
   "metadata": {},
   "source": [
    "На графике видно, что уже с 6-го дня наблюдения конверсия посетителя в заказ выше у группы В, и в дальнейшем эта разница составляет примерно 13%."
   ]
  },
  {
   "cell_type": "markdown",
   "metadata": {},
   "source": [
    "Построим **график относительного изменения кумулятивного среднего количества заказов на посетителя группы B к группе A**"
   ]
  },
  {
   "cell_type": "code",
   "execution_count": 25,
   "metadata": {},
   "outputs": [
    {
     "data": {
      "image/png": "[encoded data removed]",
      "text/plain": [
       "<Figure size 720x360 with 1 Axes>"
      ]
     },
     "metadata": {},
     "output_type": "display_data"
    }
   ],
   "source": [
    "cumulative_conversions_ab = (\n",
    "    cumulative_data_a[['date','conversion']]\n",
    "    .merge(\n",
    "        cumulative_data_b[['date','conversion']], \n",
    "        left_on='date', \n",
    "        right_on='date', \n",
    "        how='left', \n",
    "        suffixes=['_a', '_b']\n",
    "    )\n",
    ")\n",
    "plt.plot(\n",
    "    cumulative_conversions_ab['date'], \n",
    "    cumulative_conversions_ab['conversion_b']/\n",
    "    cumulative_conversions_ab['conversion_a']-1\n",
    ")\n",
    "\n",
    "# добавляем ось X\n",
    "plt.axhline(y=0, color='black', linestyle='--')\n",
    "plt.axhline(y=0.15, color='grey', linestyle='--')\n",
    "plt.title('Относительный прирост кумулятивного среднего количества заказов на посетителя группы B к группе A')\n",
    "plt.xticks(rotation=30);"
   ]
  },
  {
   "cell_type": "markdown",
   "metadata": {},
   "source": [
    "На графике видно,что конверсия группы В уже через несколько дней обгоняет конверсию группы А, резко растёт с 5 по 10 августа и далее немного снижается вплоть до 29 августа.  \n",
    "Графики выше сигнализировали нам о наличии крупных заказов.\n",
    "Далее посмотрим на картину по очищенным от выбросов данным."
   ]
  },
  {
   "cell_type": "markdown",
   "metadata": {},
   "source": [
    "<div class=\"alert alert-success\">\n",
    "<h2> Комментарий ревьюера 😊<a class=\"tocSkip\"> </h2>\n",
    "\n",
    "Графики построены и интерпретированы верно, молодец)"
   ]
  },
  {
   "cell_type": "markdown",
   "metadata": {},
   "source": [
    "Построим **точечный график количества заказов по пользователям**."
   ]
  },
  {
   "cell_type": "code",
   "execution_count": 26,
   "metadata": {},
   "outputs": [
    {
     "data": {
      "text/html": [
       "<div>\n",
       "<style scoped>\n",
       "    .dataframe tbody tr th:only-of-type {\n",
       "        vertical-align: middle;\n",
       "    }\n",
       "\n",
       "    .dataframe tbody tr th {\n",
       "        vertical-align: top;\n",
       "    }\n",
       "\n",
       "    .dataframe thead th {\n",
       "        text-align: right;\n",
       "    }\n",
       "</style>\n",
       "<table border=\"1\" class=\"dataframe\">\n",
       "  <thead>\n",
       "    <tr style=\"text-align: right;\">\n",
       "      <th></th>\n",
       "      <th>visitor_id</th>\n",
       "      <th>orders</th>\n",
       "    </tr>\n",
       "  </thead>\n",
       "  <tbody>\n",
       "    <tr>\n",
       "      <th>1023</th>\n",
       "      <td>4256040402</td>\n",
       "      <td>11</td>\n",
       "    </tr>\n",
       "    <tr>\n",
       "      <th>591</th>\n",
       "      <td>2458001652</td>\n",
       "      <td>11</td>\n",
       "    </tr>\n",
       "    <tr>\n",
       "      <th>569</th>\n",
       "      <td>2378935119</td>\n",
       "      <td>9</td>\n",
       "    </tr>\n",
       "    <tr>\n",
       "      <th>487</th>\n",
       "      <td>2038680547</td>\n",
       "      <td>8</td>\n",
       "    </tr>\n",
       "    <tr>\n",
       "      <th>44</th>\n",
       "      <td>199603092</td>\n",
       "      <td>5</td>\n",
       "    </tr>\n",
       "    <tr>\n",
       "      <th>744</th>\n",
       "      <td>3062433592</td>\n",
       "      <td>5</td>\n",
       "    </tr>\n",
       "    <tr>\n",
       "      <th>55</th>\n",
       "      <td>237748145</td>\n",
       "      <td>5</td>\n",
       "    </tr>\n",
       "    <tr>\n",
       "      <th>917</th>\n",
       "      <td>3803269165</td>\n",
       "      <td>5</td>\n",
       "    </tr>\n",
       "    <tr>\n",
       "      <th>299</th>\n",
       "      <td>1230306981</td>\n",
       "      <td>5</td>\n",
       "    </tr>\n",
       "    <tr>\n",
       "      <th>897</th>\n",
       "      <td>3717692402</td>\n",
       "      <td>5</td>\n",
       "    </tr>\n",
       "  </tbody>\n",
       "</table>\n",
       "</div>"
      ],
      "text/plain": [
       "      visitor_id  orders\n",
       "1023  4256040402      11\n",
       "591   2458001652      11\n",
       "569   2378935119       9\n",
       "487   2038680547       8\n",
       "44     199603092       5\n",
       "744   3062433592       5\n",
       "55     237748145       5\n",
       "917   3803269165       5\n",
       "299   1230306981       5\n",
       "897   3717692402       5"
      ]
     },
     "metadata": {},
     "output_type": "display_data"
    }
   ],
   "source": [
    "orders_by_users = (\n",
    "    orders.groupby('visitor_id', as_index=False)\n",
    "    .agg({'transaction_id': 'nunique'})\n",
    ")\n",
    "orders_by_users.columns =  ['visitor_id', 'orders']\n",
    "\n",
    "display(orders_by_users.sort_values(by='orders', ascending=False).head(10))"
   ]
  },
  {
   "cell_type": "markdown",
   "metadata": {},
   "source": [
    "Есть пользователи, которые совершили 8, 9 и 11 заказов. Значительно больше, чем обычный пользователь за месяц."
   ]
  },
  {
   "cell_type": "code",
   "execution_count": 27,
   "metadata": {},
   "outputs": [
    {
     "data": {
      "image/png": "[encoded data removed]",
      "text/plain": [
       "<Figure size 720x360 with 1 Axes>"
      ]
     },
     "metadata": {},
     "output_type": "display_data"
    }
   ],
   "source": [
    "x_values = pd.Series(range(0,len(orders_by_users)))\n",
    "\n",
    "# строим точечный график\n",
    "plt.scatter(x_values, orders_by_users['orders'], alpha=0.5)\n",
    "plt.title('Распределение количества заказов по пользователям');"
   ]
  },
  {
   "cell_type": "markdown",
   "metadata": {},
   "source": [
    "Большинство пользователей оформляли заказ один раз, но есть и заметная доля пользователей с 2-3 заказами. Их точная доля не ясна, поэтому сложно понять, можно ли считать их выбросами или нет.  \n",
    "Посчитаем **95-й и 99-й перцентили количества заказов на пользователя** и выберем границу для определения аномальных пользователей."
   ]
  },
  {
   "cell_type": "code",
   "execution_count": 28,
   "metadata": {},
   "outputs": [
    {
     "data": {
      "text/plain": [
       "array([2., 4.])"
      ]
     },
     "execution_count": 28,
     "metadata": {},
     "output_type": "execute_result"
    }
   ],
   "source": [
    "np.percentile(orders_by_users['orders'], [95, 99])"
   ]
  },
  {
   "cell_type": "markdown",
   "metadata": {},
   "source": [
    "Не более 5% пользователей оформляли больше двух заказов. И 1% пользователей заказывали более четырёх раз. \n",
    "Разумно выбрать 4 заказа на одного пользователя за верхнюю границу числа заказов, и отсеять аномальных пользователей по ней. "
   ]
  },
  {
   "cell_type": "markdown",
   "metadata": {},
   "source": [
    "<div class=\"alert alert-success\">\n",
    "<h2> Комментарий ревьюера 😊<a class=\"tocSkip\"> </h2>\n",
    "\n",
    "Отлично)"
   ]
  },
  {
   "cell_type": "markdown",
   "metadata": {},
   "source": [
    "Построим **точечный график стоимостей заказов**. "
   ]
  },
  {
   "cell_type": "code",
   "execution_count": 29,
   "metadata": {},
   "outputs": [
    {
     "data": {
      "image/png": "[encoded data removed]",
      "text/plain": [
       "<Figure size 720x360 with 1 Axes>"
      ]
     },
     "metadata": {},
     "output_type": "display_data"
    }
   ],
   "source": [
    "x_values = pd.Series(range(0,len(orders['revenue'])))\n",
    "\n",
    "# строим точечный график\n",
    "plt.scatter(x_values, orders['revenue'], alpha=0.5)\n",
    "plt.title('Распределение стоимостей заказов');"
   ]
  },
  {
   "cell_type": "markdown",
   "metadata": {},
   "source": [
    "Мы видим два сильно выбивающихся по стоимости заказа (на уровне 200 тыс и 1,3 млн), которые вызвали всплеск на графиках кумулятивных метрик, а также другие весомые заказы, которые могут повлиять на результат исследований."
   ]
  },
  {
   "cell_type": "markdown",
   "metadata": {},
   "source": [
    "Построим аналогичный график без двух крупных выбросов."
   ]
  },
  {
   "cell_type": "code",
   "execution_count": 30,
   "metadata": {},
   "outputs": [
    {
     "data": {
      "image/png": "[encoded data removed]",
      "text/plain": [
       "<Figure size 720x360 with 1 Axes>"
      ]
     },
     "metadata": {},
     "output_type": "display_data"
    }
   ],
   "source": [
    "plt.ylim(0, 150000)\n",
    "plt.scatter(x_values, orders['revenue'], alpha=0.5)\n",
    "plt.title('Распределение стоимости заказов');"
   ]
  },
  {
   "cell_type": "markdown",
   "metadata": {},
   "source": [
    "Мы видим, что основная масса заказов не превышает 20000."
   ]
  },
  {
   "cell_type": "markdown",
   "metadata": {},
   "source": [
    "Посчитаем **95-й и 99-й перцентили стоимости заказов**:"
   ]
  },
  {
   "cell_type": "code",
   "execution_count": 31,
   "metadata": {},
   "outputs": [
    {
     "data": {
      "text/plain": [
       "array([28000. , 58233.2])"
      ]
     },
     "execution_count": 31,
     "metadata": {},
     "output_type": "execute_result"
    }
   ],
   "source": [
    "np.percentile(orders['revenue'], [95, 99])"
   ]
  },
  {
   "cell_type": "markdown",
   "metadata": {},
   "source": [
    "Установим границу для определения аномалий на величине 99-го перцентиля = 58233."
   ]
  },
  {
   "cell_type": "markdown",
   "metadata": {},
   "source": [
    "<div class=\"alert alert-success\">\n",
    "<h2> Комментарий ревьюера 😊<a class=\"tocSkip\"> </h2>\n",
    "\n",
    "Границы аномальных значений определены правильно) Здорово, что ты построил еще один график с основной суммой заказов)"
   ]
  },
  {
   "cell_type": "markdown",
   "metadata": {},
   "source": [
    "### **Анализ статистической значимости**"
   ]
  },
  {
   "cell_type": "markdown",
   "metadata": {},
   "source": [
    "**Статистическая значимость различий в среднем количестве заказов на посетителя между группами по «сырым» данным.**"
   ]
  },
  {
   "cell_type": "markdown",
   "metadata": {},
   "source": [
    "Сформулируем гипотезы.  \n",
    "Нулевая: различий в среднем количестве заказов между группами нет.  \n",
    "Альтернативная: различия в среднем между группами есть."
   ]
  },
  {
   "cell_type": "markdown",
   "metadata": {},
   "source": [
    "Начнём с подготовки данных."
   ]
  },
  {
   "cell_type": "markdown",
   "metadata": {},
   "source": [
    "Так как данные о продажах и средних чеках редко бывают нормально распределены (это классический пример переменных, подверженных выбросам), для проверки гипотез будем использовать непараметрический тест Уилкоксона-Манна-Уитни.  \n",
    "Для уровня значимости установим стандартный уровень статистической значимости, равный 0.05."
   ]
  },
  {
   "cell_type": "code",
   "execution_count": 32,
   "metadata": {},
   "outputs": [
    {
     "data": {
      "text/html": [
       "<div>\n",
       "<style scoped>\n",
       "    .dataframe tbody tr th:only-of-type {\n",
       "        vertical-align: middle;\n",
       "    }\n",
       "\n",
       "    .dataframe tbody tr th {\n",
       "        vertical-align: top;\n",
       "    }\n",
       "\n",
       "    .dataframe thead th {\n",
       "        text-align: right;\n",
       "    }\n",
       "</style>\n",
       "<table border=\"1\" class=\"dataframe\">\n",
       "  <thead>\n",
       "    <tr style=\"text-align: right;\">\n",
       "      <th></th>\n",
       "      <th>date</th>\n",
       "      <th>orders_daily_a</th>\n",
       "      <th>revenue_per_date_a</th>\n",
       "      <th>orders_daily_b</th>\n",
       "      <th>revenue_per_date_b</th>\n",
       "      <th>orders_cummulative_a</th>\n",
       "      <th>revenue_cummulative_a</th>\n",
       "      <th>orders_cummulative_b</th>\n",
       "      <th>revenue_cummulative_b</th>\n",
       "      <th>visitors_per_date_a</th>\n",
       "      <th>visitors_per_date_b</th>\n",
       "      <th>visitors_cummulative_a</th>\n",
       "      <th>visitors_cummulative_b</th>\n",
       "    </tr>\n",
       "  </thead>\n",
       "  <tbody>\n",
       "    <tr>\n",
       "      <th>0</th>\n",
       "      <td>2019-08-01</td>\n",
       "      <td>24</td>\n",
       "      <td>148579</td>\n",
       "      <td>21</td>\n",
       "      <td>101217</td>\n",
       "      <td>24</td>\n",
       "      <td>148579</td>\n",
       "      <td>21</td>\n",
       "      <td>101217</td>\n",
       "      <td>719</td>\n",
       "      <td>713</td>\n",
       "      <td>719</td>\n",
       "      <td>713</td>\n",
       "    </tr>\n",
       "    <tr>\n",
       "      <th>1</th>\n",
       "      <td>2019-08-02</td>\n",
       "      <td>20</td>\n",
       "      <td>93822</td>\n",
       "      <td>24</td>\n",
       "      <td>165531</td>\n",
       "      <td>44</td>\n",
       "      <td>242401</td>\n",
       "      <td>45</td>\n",
       "      <td>266748</td>\n",
       "      <td>619</td>\n",
       "      <td>581</td>\n",
       "      <td>1338</td>\n",
       "      <td>1294</td>\n",
       "    </tr>\n",
       "    <tr>\n",
       "      <th>2</th>\n",
       "      <td>2019-08-03</td>\n",
       "      <td>24</td>\n",
       "      <td>112473</td>\n",
       "      <td>16</td>\n",
       "      <td>114248</td>\n",
       "      <td>68</td>\n",
       "      <td>354874</td>\n",
       "      <td>61</td>\n",
       "      <td>380996</td>\n",
       "      <td>507</td>\n",
       "      <td>509</td>\n",
       "      <td>1845</td>\n",
       "      <td>1803</td>\n",
       "    </tr>\n",
       "    <tr>\n",
       "      <th>3</th>\n",
       "      <td>2019-08-04</td>\n",
       "      <td>16</td>\n",
       "      <td>70825</td>\n",
       "      <td>17</td>\n",
       "      <td>108571</td>\n",
       "      <td>84</td>\n",
       "      <td>425699</td>\n",
       "      <td>78</td>\n",
       "      <td>489567</td>\n",
       "      <td>717</td>\n",
       "      <td>770</td>\n",
       "      <td>2562</td>\n",
       "      <td>2573</td>\n",
       "    </tr>\n",
       "    <tr>\n",
       "      <th>4</th>\n",
       "      <td>2019-08-05</td>\n",
       "      <td>25</td>\n",
       "      <td>124218</td>\n",
       "      <td>23</td>\n",
       "      <td>92428</td>\n",
       "      <td>109</td>\n",
       "      <td>549917</td>\n",
       "      <td>101</td>\n",
       "      <td>581995</td>\n",
       "      <td>756</td>\n",
       "      <td>707</td>\n",
       "      <td>3318</td>\n",
       "      <td>3280</td>\n",
       "    </tr>\n",
       "    <tr>\n",
       "      <th>5</th>\n",
       "      <td>2019-08-06</td>\n",
       "      <td>18</td>\n",
       "      <td>48484</td>\n",
       "      <td>28</td>\n",
       "      <td>242342</td>\n",
       "      <td>127</td>\n",
       "      <td>598401</td>\n",
       "      <td>129</td>\n",
       "      <td>824337</td>\n",
       "      <td>667</td>\n",
       "      <td>655</td>\n",
       "      <td>3985</td>\n",
       "      <td>3935</td>\n",
       "    </tr>\n",
       "  </tbody>\n",
       "</table>\n",
       "</div>"
      ],
      "text/plain": [
       "        date  orders_daily_a  revenue_per_date_a  orders_daily_b  \\\n",
       "0 2019-08-01              24              148579              21   \n",
       "1 2019-08-02              20               93822              24   \n",
       "2 2019-08-03              24              112473              16   \n",
       "3 2019-08-04              16               70825              17   \n",
       "4 2019-08-05              25              124218              23   \n",
       "5 2019-08-06              18               48484              28   \n",
       "\n",
       "   revenue_per_date_b  orders_cummulative_a  revenue_cummulative_a  \\\n",
       "0              101217                    24                 148579   \n",
       "1              165531                    44                 242401   \n",
       "2              114248                    68                 354874   \n",
       "3              108571                    84                 425699   \n",
       "4               92428                   109                 549917   \n",
       "5              242342                   127                 598401   \n",
       "\n",
       "   orders_cummulative_b  revenue_cummulative_b  visitors_per_date_a  \\\n",
       "0                    21                 101217                  719   \n",
       "1                    45                 266748                  619   \n",
       "2                    61                 380996                  507   \n",
       "3                    78                 489567                  717   \n",
       "4                   101                 581995                  756   \n",
       "5                   129                 824337                  667   \n",
       "\n",
       "   visitors_per_date_b  visitors_cummulative_a  visitors_cummulative_b  \n",
       "0                  713                     719                     713  \n",
       "1                  581                    1338                    1294  \n",
       "2                  509                    1845                    1803  \n",
       "3                  770                    2562                    2573  \n",
       "4                  707                    3318                    3280  \n",
       "5                  655                    3985                    3935  "
      ]
     },
     "execution_count": 32,
     "metadata": {},
     "output_type": "execute_result"
    }
   ],
   "source": [
    "visitors_daily_a = visitors[visitors['group'] == 'A'][['date', 'visitors']]\n",
    "visitors_daily_a.columns = ['date', 'visitors_per_date_a']\n",
    "\n",
    "visitors_cummulative_a = visitors_daily_a.apply(\n",
    "    lambda x: visitors_daily_a[visitors_daily_a['date'] <= x['date']].agg(\n",
    "        {'date': 'max', 'visitors_per_date_a': 'sum'}\n",
    "    ),\n",
    "    axis=1,\n",
    ")\n",
    "visitors_cummulative_a.columns = ['date', 'visitors_cummulative_a']\n",
    "\n",
    "visitors_daily_b = visitors[visitors['group'] == 'B'][['date', 'visitors']]\n",
    "visitors_daily_b.columns = ['date', 'visitors_per_date_b']\n",
    "\n",
    "visitors_cummulative_b = visitors_daily_b.apply(\n",
    "    lambda x: visitors_daily_b[visitors_daily_b['date'] <= x['date']].agg(\n",
    "        {'date': 'max', 'visitors_per_date_b': 'sum'}\n",
    "    ),\n",
    "    axis=1,\n",
    ")\n",
    "visitors_cummulative_b.columns = ['date', 'visitors_cummulative_b']\n",
    "\n",
    "orders_daily_a = (\n",
    "    orders[orders['group'] == 'A'][['date', 'transaction_id', 'visitor_id', 'revenue']]\n",
    "    .groupby('date', as_index=False)\n",
    "    .agg({'transaction_id': pd.Series.nunique, 'revenue': 'sum'})\n",
    ")\n",
    "orders_daily_a.columns = ['date', 'orders_daily_a', 'revenue_per_date_a']\n",
    "\n",
    "orders_cummulative_a = orders_daily_a.apply(\n",
    "    lambda x: orders_daily_a[orders_daily_a['date'] <= x['date']].agg(\n",
    "        {'date': 'max', 'orders_daily_a': 'sum', 'revenue_per_date_a': 'sum'}\n",
    "    ),\n",
    "    axis=1,\n",
    ").sort_values(by=['date'])\n",
    "\n",
    "orders_cummulative_a.columns = ['date','orders_cummulative_a','revenue_cummulative_a']\n",
    "\n",
    "orders_daily_b = (\n",
    "    orders[orders['group'] == 'B'][['date', 'transaction_id', 'visitor_id', 'revenue']]\n",
    "    .groupby('date', as_index=False)\n",
    "    .agg({'transaction_id': pd.Series.nunique, 'revenue': 'sum'})\n",
    ")\n",
    "orders_daily_b.columns = ['date', 'orders_daily_b', 'revenue_per_date_b']\n",
    "\n",
    "orders_cummulative_b = orders_daily_b.apply(\n",
    "    lambda x: orders_daily_b[orders_daily_b['date'] <= x['date']].agg(\n",
    "        {'date': 'max', 'orders_daily_b': 'sum', 'revenue_per_date_b': 'sum'}\n",
    "    ),\n",
    "    axis=1,\n",
    ").sort_values(by=['date'])\n",
    "\n",
    "orders_cummulative_b.columns = ['date','orders_cummulative_b','revenue_cummulative_b']\n",
    "\n",
    "\n",
    "data = (\n",
    "    orders_daily_a.merge(\n",
    "        orders_daily_b, left_on='date', right_on='date', how='left'\n",
    "    )\n",
    "    .merge(orders_cummulative_a, left_on='date', right_on='date', how='left')\n",
    "    .merge(orders_cummulative_b, left_on='date', right_on='date', how='left')\n",
    "    .merge(visitors_daily_a, left_on='date', right_on='date', how='left')\n",
    "    .merge(visitors_daily_b, left_on='date', right_on='date', how='left')\n",
    "    .merge(visitors_cummulative_a, left_on='date', right_on='date', how='left')\n",
    "    .merge(visitors_cummulative_b, left_on='date', right_on='date', how='left')\n",
    ")\n",
    "\n",
    "data.head(6)"
   ]
  },
  {
   "cell_type": "markdown",
   "metadata": {},
   "source": [
    "У нас получилсь таблица с такими названиями столбцов:"
   ]
  },
  {
   "cell_type": "markdown",
   "metadata": {},
   "source": [
    "date — дата;  \n",
    "orders_daily_a — количество заказов в выбранную дату в группе A;  \n",
    "revenue_per_date_a — суммарная выручка в выбранную дату в группе A  \n",
    "orders_daily_b — количество заказов в выбранную дату в группе B;  \n",
    "revenue_per_date_b — суммарная выручка в выбранную дату в группе B;  \n",
    "orders_cummulative_a — суммарное число заказов до выбранной даты включительно в группе A;  \n",
    "revenue_cummulative_a — суммарная выручка до выбранной даты включительно в группе A;  \n",
    "orders_cummulative_b — суммарное количество заказов до выбранной даты включительно в группе B;  \n",
    "revenue_cummulative_b — суммарная выручка до выбранной даты включительно в группе B;  \n",
    "visitors_per_date_a — количество пользователей в выбранную дату в группе A;  \n",
    "visitors_per_date_b — количество пользователей в выбранную дату в группе B;  \n",
    "visitors_cummulative_a — количество пользователей до выбранной даты включительно в группе A;  \n",
    "visitors_cummulative_b — количество пользователей до выбранной даты включительно в группе B."
   ]
  },
  {
   "cell_type": "markdown",
   "metadata": {},
   "source": [
    "Создадим переменные orders_by_users_a и orders_by_users_b.  \n",
    "В них для пользователей, которые заказывали хотя бы 1 раз, укажем число совершённых заказов."
   ]
  },
  {
   "cell_type": "code",
   "execution_count": 33,
   "metadata": {},
   "outputs": [],
   "source": [
    "orders_by_users_a = (\n",
    "    orders[orders['group'] == 'A']\n",
    "    .groupby('visitor_id', as_index=False)\n",
    "    .agg({'transaction_id': pd.Series.nunique})\n",
    ")\n",
    "orders_by_users_a.columns = ['visitor_id', 'orders']\n",
    "\n",
    "orders_by_users_b = (\n",
    "    orders[orders['group'] == 'B']\n",
    "    .groupby('visitor_id', as_index=False)\n",
    "    .agg({'transaction_id': pd.Series.nunique})\n",
    ")\n",
    "orders_by_users_b.columns = ['visitor_id', 'orders']"
   ]
  },
  {
   "cell_type": "markdown",
   "metadata": {},
   "source": [
    "Объявим переменные sample_a и sample_b, в которых пользователям из разных групп будет соответствовать количество заказов.  \n",
    "Тем, кто ничего не заказал, будут соответствовать нули. Это нужно, чтобы подготовить выборки к проверке критерием Манна-Уитни."
   ]
  },
  {
   "cell_type": "code",
   "execution_count": 34,
   "metadata": {},
   "outputs": [],
   "source": [
    "sample_a = pd.concat([orders_by_users_a['orders'],\n",
    "                      pd.Series(0, index=np.arange(data['visitors_per_date_a'].sum() - \n",
    "                                          len(orders_by_users_a['orders'])), \n",
    "                          name='orders')],axis=0 )\n",
    "\n",
    "sample_b = pd.concat([orders_by_users_b['orders'],\n",
    "                      pd.Series(0, index=np.arange(data['visitors_per_date_b'].sum() - \n",
    "                                          len(orders_by_users_b['orders'])), \n",
    "                          name='orders')],axis=0 )"
   ]
  },
  {
   "cell_type": "markdown",
   "metadata": {},
   "source": [
    "Применим критерий и отформатируем p-value, округлив его до трёх знаков после запятой."
   ]
  },
  {
   "cell_type": "markdown",
   "metadata": {},
   "source": [
    "Напомним, что в sample_a сохранили выборку, где каждый элемент — число заказов определённого пользователя, в том числе ноль. Значит, число элементов sample_a — это количество пользователей, сумма всех элементов — количество заказов. Чтобы получить среднее число заказов на пользователя, поделим сумму заказов на число пользователей — найдём среднее в выборке sample_a методом mean(). Аналогично найдём среднее группы B: sample_b.mean()."
   ]
  },
  {
   "cell_type": "markdown",
   "metadata": {},
   "source": [
    "Выведем относительный прирост среднего числа заказов группы B: среднее число заказов группы B / среднее число заказов группы A - 1.  Округлим до трёх знаков после запятой."
   ]
  },
  {
   "cell_type": "code",
   "execution_count": 35,
   "metadata": {},
   "outputs": [
    {
     "name": "stdout",
     "output_type": "stream",
     "text": [
      "P-value: 0.017\n",
      "Отвергаем нулевую гипотезу: между группами есть разница\n",
      "Относительный прирост В к А: 13.81%\n"
     ]
    }
   ],
   "source": [
    "alpha = 0.05\n",
    "p_value = stats.mannwhitneyu(sample_a, sample_b)[1]\n",
    "print(\"P-value: {0:.3f}\".format(p_value))\n",
    "if (p_value < alpha):\n",
    "        print(\"Отвергаем нулевую гипотезу: между группами есть разница\")\n",
    "else:\n",
    "        print(\"Не получилось отвергнуть нулевую гипотезу, нет оснований считать группы разными\")\n",
    "print(\"Относительный прирост В к А: {0:.2%}\".format(sample_b.mean() / sample_a.mean() - 1))"
   ]
  },
  {
   "cell_type": "markdown",
   "metadata": {},
   "source": [
    "Таким образом, по \"сырым\" данным различия в среднем количестве заказов на посетителя между группами есть.  \n",
    "P-value = 0.017 меньше alpha = 0.05. Поэтому, нулевую гипотезу о том, что статистически значимых различий в среднем количестве заказов на посетителя между группами нет, отвергаем. \n",
    "Относительный выигрыш группы B равен 13.81%."
   ]
  },
  {
   "cell_type": "markdown",
   "metadata": {},
   "source": [
    "<div class=\"alert alert-success\">\n",
    "<h2> Комментарий ревьюера 😊<a class=\"tocSkip\"> </h2>\n",
    "    \n",
    "Гипотезы сформулированы верно и значение p-value интерпретировано правильно. Хорошая работа.\n",
    "</div>"
   ]
  },
  {
   "cell_type": "markdown",
   "metadata": {},
   "source": [
    "Посчитаем **статистическую значимость различий в среднем чеке заказа между группами по «сырым» данным**."
   ]
  },
  {
   "cell_type": "markdown",
   "metadata": {},
   "source": [
    "Нулевая гипотеза: различий в среднем чеке между группами нет.  \n",
    "Альтернативная гипотеза: различия в среднем чеке между группами есть. "
   ]
  },
  {
   "cell_type": "markdown",
   "metadata": {},
   "source": [
    "Уровень значимости оставим тот же: alpha = 0.05 "
   ]
  },
  {
   "cell_type": "markdown",
   "metadata": {},
   "source": [
    "Чтобы рассчитать статистическую значимость различий в среднем чеке, передадим критерию mannwhitneyu() данные о выручке с заказов.\n",
    "А ещё найдём относительные различия в среднем чеке между группами:"
   ]
  },
  {
   "cell_type": "code",
   "execution_count": 36,
   "metadata": {},
   "outputs": [
    {
     "name": "stdout",
     "output_type": "stream",
     "text": [
      "P-value: 0.729\n",
      "Относительные различия в среднем чеке между группами: 25.87%\n"
     ]
    }
   ],
   "source": [
    "print('P-value: {0:.3f}'.format(stats.mannwhitneyu(orders[orders['group']=='A']['revenue'], orders[orders['group']=='B']['revenue'])[1]))\n",
    "print('Относительные различия в среднем чеке между группами: {0:.2%}'.format(orders[orders['group']=='B']['revenue'].mean()/orders[orders['group']=='A']['revenue'].mean()-1)) "
   ]
  },
  {
   "cell_type": "markdown",
   "metadata": {},
   "source": [
    "P-value значительно больше 0.05. Значит, причин отвергать нулевую гипотезу и считать, что в среднем чеке есть различия, нет. Поскольку относительное различие среднего чека между сегментами составляет ~26%, наблюдаемые различия не являются значимыми при таком уровне значимости, а следовательно были получены случайно, например, из-за аномальных значений в \"сырых\" данных."
   ]
  },
  {
   "cell_type": "markdown",
   "metadata": {},
   "source": [
    "**Статистическая значимость различий в среднем количестве заказов на посетителя между группами по «очищенным» данным.**"
   ]
  },
  {
   "cell_type": "markdown",
   "metadata": {},
   "source": [
    "Примем за аномальных пользователей тех, кто совершил от 5 заказов или совершил заказ дороже 58233.  \n",
    "Так мы уберём 1% пользователей с наибольшим числом заказов и около 1% пользователей с дорогими заказами.  \n",
    "Сделаем срезы пользователей с числом заказов больше 4 — users_with_many_orders и пользователей, совершивших заказы дороже 58233 — users_with_expensive_orders.  \n",
    "Объединим их в таблице abnormal_users.  \n",
    "Узнаем, сколько всего аномальных пользователей методом shape()."
   ]
  },
  {
   "cell_type": "code",
   "execution_count": 37,
   "metadata": {},
   "outputs": [
    {
     "data": {
      "text/plain": [
       "1099     148427295\n",
       "949      887908475\n",
       "744      888512513\n",
       "1103    1164614297\n",
       "1136    1307669133\n",
       "Name: visitor_id, dtype: int64"
      ]
     },
     "metadata": {},
     "output_type": "display_data"
    },
    {
     "data": {
      "text/plain": [
       "15"
      ]
     },
     "execution_count": 37,
     "metadata": {},
     "output_type": "execute_result"
    }
   ],
   "source": [
    "many_orders = np.percentile(orders_by_users['orders'], 99)\n",
    "expensive_orders = np.percentile(orders['revenue'], 99)\n",
    "\n",
    "users_with_many_orders = pd.concat(\n",
    "    [\n",
    "        orders_by_users_a[orders_by_users_a['orders'] > many_orders]['visitor_id'],\n",
    "        orders_by_users_b[orders_by_users_b['orders'] > many_orders]['visitor_id'],\n",
    "    ],\n",
    "    axis=0,\n",
    ")\n",
    "\n",
    "\n",
    "users_with_expensive_orders = orders[orders['revenue'] > expensive_orders]['visitor_id']\n",
    "\n",
    "\n",
    "abnormal_users = (\n",
    "    pd.concat([users_with_many_orders, users_with_expensive_orders], axis=0)\n",
    "    .drop_duplicates()\n",
    "    .sort_values()\n",
    ")\n",
    "display(abnormal_users.head(5))\n",
    "abnormal_users.shape[0]"
   ]
  },
  {
   "cell_type": "markdown",
   "metadata": {},
   "source": [
    "<div class=\"alert alert-success\">\n",
    "<h2> Комментарий ревьюера 😊 v_2 <a class=\"tocSkip\"> </h2>\n",
    "\n",
    "Очень хорошо)"
   ]
  },
  {
   "cell_type": "markdown",
   "metadata": {},
   "source": [
    "Всего 15 аномальных пользователей.  \n",
    "Узнаем, как их действия повлияли на результаты теста. Посчитаем статистическую значимость различий в среднем количестве заказов между группами теста по очищенным данным.  \n",
    "Сначала подготовим выборки количества заказов по пользователям по группам теста:"
   ]
  },
  {
   "cell_type": "code",
   "execution_count": 38,
   "metadata": {},
   "outputs": [],
   "source": [
    "sample_a_filtered = pd.concat(\n",
    "    [\n",
    "        orders_by_users_a[\n",
    "            np.logical_not(orders_by_users_a['visitor_id'].isin(abnormal_users))\n",
    "        ]['orders'],\n",
    "        pd.Series(\n",
    "            0,\n",
    "            index=np.arange(\n",
    "                data['visitors_per_date_a'].sum() - len(orders_by_users_a['orders'])\n",
    "            ),\n",
    "            name='orders',\n",
    "        ),\n",
    "    ],\n",
    "    axis=0,\n",
    ")\n",
    "\n",
    "sample_b_filtered = pd.concat(\n",
    "    [\n",
    "        orders_by_users_b[\n",
    "            np.logical_not(orders_by_users_b['visitor_id'].isin(abnormal_users))\n",
    "        ]['orders'],\n",
    "        pd.Series(\n",
    "            0,\n",
    "            index=np.arange(\n",
    "                data['visitors_per_date_b'].sum() - len(orders_by_users_b['orders'])\n",
    "            ),\n",
    "            name='orders',\n",
    "        ),\n",
    "    ],\n",
    "    axis=0,\n",
    ")"
   ]
  },
  {
   "cell_type": "markdown",
   "metadata": {},
   "source": [
    "Применим статистический критерий Манна-Уитни к полученным выборкам:"
   ]
  },
  {
   "cell_type": "code",
   "execution_count": 39,
   "metadata": {},
   "outputs": [
    {
     "name": "stdout",
     "output_type": "stream",
     "text": [
      "P-value: 0.014\n",
      "Относительный прирост В к А: 15.33%\n"
     ]
    }
   ],
   "source": [
    "print('P-value: {0:.3f}'.format(stats.mannwhitneyu(sample_a_filtered, sample_b_filtered)[1]))\n",
    "print('Относительный прирост В к А: {0:.2%}'.format(sample_b_filtered.mean()/sample_a_filtered.mean()-1))"
   ]
  },
  {
   "cell_type": "markdown",
   "metadata": {},
   "source": [
    "P-value = 0.014 меньше alpha = 0.05. Поэтому, нулевую гипотезу о том, что статистически значимых различий в среднем количестве заказов на посетителя между группами нет, отвергаем. Относительный выигрыш группы B равен 15.33%.  \n",
    "Таким образом, и по \"очищенным\" данным различия в среднем количестве заказов на посетителя между группами есть."
   ]
  },
  {
   "cell_type": "markdown",
   "metadata": {},
   "source": [
    "<div class=\"alert alert-success\">\n",
    "<h2> Комментарий ревьюера 😊 <a class=\"tocSkip\"> </h2>\n",
    "\n",
    "Верно)"
   ]
  },
  {
   "cell_type": "markdown",
   "metadata": {},
   "source": [
    "**Статистическая значимость различий в среднем чеке заказа между группами по «очищенным» данным.**"
   ]
  },
  {
   "cell_type": "code",
   "execution_count": 40,
   "metadata": {},
   "outputs": [
    {
     "name": "stdout",
     "output_type": "stream",
     "text": [
      "P-value: 0.851\n",
      "Относительный прирост В к А: -0.57%\n"
     ]
    }
   ],
   "source": [
    "print(\n",
    "    'P-value: {0:.3f}'.format(\n",
    "        stats.mannwhitneyu(\n",
    "            orders[\n",
    "                np.logical_and(\n",
    "                    orders['group'] == 'A',\n",
    "                    np.logical_not(orders['visitor_id'].isin(abnormal_users)),\n",
    "                )\n",
    "            ]['revenue'],\n",
    "            orders[\n",
    "                np.logical_and(\n",
    "                    orders['group'] == 'B',\n",
    "                    np.logical_not(orders['visitor_id'].isin(abnormal_users)),\n",
    "                )\n",
    "            ]['revenue'],\n",
    "        )[1]\n",
    "    )\n",
    ")\n",
    "\n",
    "print(\n",
    "    \"Относительный прирост В к А: {0:.2%}\".format(\n",
    "        orders[\n",
    "            np.logical_and(\n",
    "                orders['group'] == 'B',\n",
    "                np.logical_not(orders['visitor_id'].isin(abnormal_users)),\n",
    "            )\n",
    "        ]['revenue'].mean()\n",
    "        / orders[\n",
    "            np.logical_and(\n",
    "                orders['group'] == 'A',\n",
    "                np.logical_not(orders['visitor_id'].isin(abnormal_users)),\n",
    "            )\n",
    "        ]['revenue'].mean()\n",
    "        - 1\n",
    "    )\n",
    ")"
   ]
  },
  {
   "cell_type": "markdown",
   "metadata": {},
   "source": [
    "P-value = 0.851 больше alpha = 0.05. Поэтому, нулевую гипотезу о том, что статистически значимых различий в среднем чеке заказа между группами нет, отвергнуть не можем. Относительного прироста практически нет.  \n",
    "Таким образом, и по \"очищенным\" данным различия в среднем чеке заказа между группами нет, но теперь это логично увязывается с отсутствием значимого прироста."
   ]
  },
  {
   "cell_type": "markdown",
   "metadata": {},
   "source": [
    "<div class=\"alert alert-success\">\n",
    "<h2> Комментарий ревьюера 😊 <a class=\"tocSkip\"> </h2>\n",
    "\n",
    "Статистический анализ проведен верно, молодец)"
   ]
  },
  {
   "cell_type": "markdown",
   "metadata": {},
   "source": [
    "## Вывод:"
   ]
  },
  {
   "cell_type": "markdown",
   "metadata": {},
   "source": [
    "1. Проведя приоритезацию гипотез из списка, предоставленного отделом Маркетинга, рекомендовано в первую очередь обратить внимание на гипотезы:  \n",
    " - Добавить форму подписки на все основные страницы, чтобы собрать базу клиентов для email-рассылок   \n",
    " - Добавить блоки рекомендаций товаров на сайт интернет магазина, чтобы повысить конверсию и средний чек заказа   \n",
    " - Добавить два новых канала привлечения трафика, что позволит привлекать на 30% больше пользователей"
   ]
  },
  {
   "cell_type": "markdown",
   "metadata": {},
   "source": [
    "2. По результатам анализа А/В теста:\n",
    "\n",
    " - Есть статистически значимое различие по среднему количеству заказов на посетителя между группами как по «сырым», так и по очищенным от аномалий данным. Относительный прирост группы B равен 15.33%;\n",
    "\n",
    " - Нет статистически значимого различия по среднему чеку между группами ни по «сырым», ни по данным после фильтрации аномалий. При этом средний чек группы В по \"сырым\" данным значительно выше среднего чека группы A (на 25,87%), а по очищенным данным различия между группами нет, что говорит о вредном влиянии аномальных значений и о пользе их фильтрации;\n",
    "\n",
    " - График относительного изменения кумулятивного среднего количества заказов на посетителя группы B к группе A показывает, что результаты группы В стабильно лучше группы А;  \n",
    "\n",
    "**Исходя из обнаруженных фактов, тест следует остановить и признать его успешным, зафиксировав победу группы B (её среднее количество заказов на посетителя выше чем у группы А).**"
   ]
  },
  {
   "cell_type": "markdown",
   "metadata": {},
   "source": [
    "<div class=\"alert alert-success\">\n",
    "<h2> Комментарий ревьюера 😊 <a class=\"tocSkip\"> </h2>\n",
    "\n",
    "Содержательный вывод по проделанной работе)"
   ]
  },
  {
   "cell_type": "markdown",
   "metadata": {},
   "source": [
    "<div style=\"border:solid Purple 2px; padding: 40px\">\n",
    "\n",
    "<h2> Общий комментарий ревьюера 😊 v_2<a class=\"tocSkip\"> </h2>\n",
    "    <br/>\n",
    "Александр, спасибо за проект! Успехов в дальнейшем обучении!)\n",
    "   "
   ]
  }
 ],
 "metadata": {
  "ExecuteTimeLog": [
   {
    "duration": 1297,
    "start_time": "2023-01-30T17:42:41.647Z"
   },
   {
    "duration": 5,
    "start_time": "2023-01-30T17:47:39.553Z"
   },
   {
    "duration": 243,
    "start_time": "2023-01-30T17:52:38.758Z"
   },
   {
    "duration": 26,
    "start_time": "2023-01-30T17:54:26.252Z"
   },
   {
    "duration": 23,
    "start_time": "2023-01-30T18:01:21.050Z"
   },
   {
    "duration": 17,
    "start_time": "2023-01-30T18:22:51.765Z"
   },
   {
    "duration": 8,
    "start_time": "2023-01-30T18:37:35.629Z"
   },
   {
    "duration": 7,
    "start_time": "2023-01-30T18:39:26.652Z"
   },
   {
    "duration": 8,
    "start_time": "2023-01-30T18:40:51.317Z"
   },
   {
    "duration": 54,
    "start_time": "2023-01-31T12:15:06.895Z"
   },
   {
    "duration": 1304,
    "start_time": "2023-01-31T12:16:07.804Z"
   },
   {
    "duration": 4,
    "start_time": "2023-01-31T12:16:09.110Z"
   },
   {
    "duration": 225,
    "start_time": "2023-01-31T12:16:09.115Z"
   },
   {
    "duration": 20,
    "start_time": "2023-01-31T12:16:09.342Z"
   },
   {
    "duration": 28,
    "start_time": "2023-01-31T12:16:09.364Z"
   },
   {
    "duration": 29,
    "start_time": "2023-01-31T12:16:09.394Z"
   },
   {
    "duration": 17,
    "start_time": "2023-01-31T12:16:09.425Z"
   },
   {
    "duration": 31,
    "start_time": "2023-01-31T12:16:09.444Z"
   },
   {
    "duration": 21,
    "start_time": "2023-01-31T12:16:09.476Z"
   },
   {
    "duration": 13,
    "start_time": "2023-01-31T12:16:09.499Z"
   },
   {
    "duration": 8,
    "start_time": "2023-01-31T12:24:23.740Z"
   },
   {
    "duration": 1132,
    "start_time": "2023-01-31T12:54:32.372Z"
   },
   {
    "duration": 4,
    "start_time": "2023-01-31T12:54:33.507Z"
   },
   {
    "duration": 95,
    "start_time": "2023-01-31T12:54:33.512Z"
   },
   {
    "duration": 18,
    "start_time": "2023-01-31T12:54:33.610Z"
   },
   {
    "duration": 18,
    "start_time": "2023-01-31T12:54:33.630Z"
   },
   {
    "duration": 55,
    "start_time": "2023-01-31T12:54:33.650Z"
   },
   {
    "duration": 22,
    "start_time": "2023-01-31T12:54:33.707Z"
   },
   {
    "duration": 43,
    "start_time": "2023-01-31T12:54:33.731Z"
   },
   {
    "duration": 44,
    "start_time": "2023-01-31T12:54:33.776Z"
   },
   {
    "duration": 19,
    "start_time": "2023-01-31T12:54:33.822Z"
   },
   {
    "duration": 35,
    "start_time": "2023-01-31T12:54:33.842Z"
   },
   {
    "duration": 82,
    "start_time": "2023-01-31T16:56:21.618Z"
   },
   {
    "duration": 44,
    "start_time": "2023-01-31T16:56:38.952Z"
   },
   {
    "duration": 1319,
    "start_time": "2023-01-31T16:56:46.840Z"
   },
   {
    "duration": 3,
    "start_time": "2023-01-31T16:56:48.161Z"
   },
   {
    "duration": 239,
    "start_time": "2023-01-31T16:56:48.166Z"
   },
   {
    "duration": 19,
    "start_time": "2023-01-31T16:56:48.407Z"
   },
   {
    "duration": 18,
    "start_time": "2023-01-31T16:56:48.428Z"
   },
   {
    "duration": 16,
    "start_time": "2023-01-31T16:56:48.447Z"
   },
   {
    "duration": 6,
    "start_time": "2023-01-31T16:56:48.464Z"
   },
   {
    "duration": 7,
    "start_time": "2023-01-31T16:56:48.472Z"
   },
   {
    "duration": 12,
    "start_time": "2023-01-31T16:56:48.480Z"
   },
   {
    "duration": 7,
    "start_time": "2023-01-31T16:56:48.494Z"
   },
   {
    "duration": 7,
    "start_time": "2023-01-31T16:56:48.503Z"
   },
   {
    "duration": 203,
    "start_time": "2023-01-31T16:56:48.512Z"
   },
   {
    "duration": 126,
    "start_time": "2023-01-31T17:03:48.986Z"
   },
   {
    "duration": 7,
    "start_time": "2023-01-31T17:06:31.515Z"
   },
   {
    "duration": 10,
    "start_time": "2023-01-31T17:10:37.967Z"
   },
   {
    "duration": 363,
    "start_time": "2023-01-31T17:40:35.466Z"
   },
   {
    "duration": 274,
    "start_time": "2023-01-31T17:41:14.743Z"
   },
   {
    "duration": 255,
    "start_time": "2023-01-31T19:10:03.027Z"
   },
   {
    "duration": 421,
    "start_time": "2023-01-31T19:21:49.352Z"
   },
   {
    "duration": 357,
    "start_time": "2023-01-31T19:22:18.516Z"
   },
   {
    "duration": 1257,
    "start_time": "2023-01-31T20:48:26.153Z"
   },
   {
    "duration": 246,
    "start_time": "2023-01-31T21:00:04.427Z"
   },
   {
    "duration": 281,
    "start_time": "2023-01-31T21:44:14.167Z"
   },
   {
    "duration": 346,
    "start_time": "2023-01-31T21:44:22.546Z"
   },
   {
    "duration": 274,
    "start_time": "2023-01-31T21:44:35.558Z"
   },
   {
    "duration": 268,
    "start_time": "2023-01-31T21:45:06.475Z"
   },
   {
    "duration": 264,
    "start_time": "2023-01-31T21:45:17.896Z"
   },
   {
    "duration": 379,
    "start_time": "2023-01-31T22:07:00.650Z"
   },
   {
    "duration": 372,
    "start_time": "2023-01-31T22:07:10.232Z"
   },
   {
    "duration": 344,
    "start_time": "2023-01-31T22:09:02.259Z"
   },
   {
    "duration": 347,
    "start_time": "2023-01-31T22:09:43.281Z"
   },
   {
    "duration": 324,
    "start_time": "2023-01-31T22:10:49.792Z"
   },
   {
    "duration": 55,
    "start_time": "2023-02-01T17:10:40.518Z"
   },
   {
    "duration": 7,
    "start_time": "2023-02-01T17:17:31.974Z"
   },
   {
    "duration": 1330,
    "start_time": "2023-02-01T17:17:41.224Z"
   },
   {
    "duration": 4,
    "start_time": "2023-02-01T17:17:42.556Z"
   },
   {
    "duration": 256,
    "start_time": "2023-02-01T17:17:42.561Z"
   },
   {
    "duration": 25,
    "start_time": "2023-02-01T17:17:42.822Z"
   },
   {
    "duration": 37,
    "start_time": "2023-02-01T17:17:42.850Z"
   },
   {
    "duration": 84,
    "start_time": "2023-02-01T17:17:42.889Z"
   },
   {
    "duration": 59,
    "start_time": "2023-02-01T17:17:42.975Z"
   },
   {
    "duration": 26,
    "start_time": "2023-02-01T17:17:43.036Z"
   },
   {
    "duration": 72,
    "start_time": "2023-02-01T17:17:43.063Z"
   },
   {
    "duration": 34,
    "start_time": "2023-02-01T17:17:43.137Z"
   },
   {
    "duration": 26,
    "start_time": "2023-02-01T17:17:43.173Z"
   },
   {
    "duration": 251,
    "start_time": "2023-02-01T17:17:43.201Z"
   },
   {
    "duration": 151,
    "start_time": "2023-02-01T17:17:43.454Z"
   },
   {
    "duration": 10,
    "start_time": "2023-02-01T17:17:43.609Z"
   },
   {
    "duration": 465,
    "start_time": "2023-02-01T17:17:43.623Z"
   },
   {
    "duration": 350,
    "start_time": "2023-02-01T17:17:44.095Z"
   },
   {
    "duration": 455,
    "start_time": "2023-02-01T17:17:44.455Z"
   },
   {
    "duration": 120,
    "start_time": "2023-02-01T17:17:44.911Z"
   },
   {
    "duration": 0,
    "start_time": "2023-02-01T17:17:45.033Z"
   },
   {
    "duration": 12,
    "start_time": "2023-02-01T17:19:30.220Z"
   },
   {
    "duration": 29,
    "start_time": "2023-02-01T17:22:36.794Z"
   },
   {
    "duration": 14,
    "start_time": "2023-02-01T17:23:54.921Z"
   },
   {
    "duration": 15,
    "start_time": "2023-02-01T17:24:14.834Z"
   },
   {
    "duration": 302,
    "start_time": "2023-02-01T17:28:37.006Z"
   },
   {
    "duration": 391,
    "start_time": "2023-02-01T17:30:44.491Z"
   },
   {
    "duration": 9,
    "start_time": "2023-02-01T18:31:19.964Z"
   },
   {
    "duration": 199,
    "start_time": "2023-02-01T18:36:24.200Z"
   },
   {
    "duration": 9,
    "start_time": "2023-02-01T18:37:03.082Z"
   },
   {
    "duration": 154,
    "start_time": "2023-02-01T18:52:30.943Z"
   },
   {
    "duration": 149,
    "start_time": "2023-02-01T18:52:45.527Z"
   },
   {
    "duration": 203,
    "start_time": "2023-02-01T18:53:03.416Z"
   },
   {
    "duration": 163,
    "start_time": "2023-02-01T18:53:21.269Z"
   },
   {
    "duration": 5,
    "start_time": "2023-02-01T20:10:47.608Z"
   },
   {
    "duration": 5,
    "start_time": "2023-02-01T20:11:34.181Z"
   },
   {
    "duration": 5,
    "start_time": "2023-02-01T20:14:32.526Z"
   },
   {
    "duration": 177,
    "start_time": "2023-02-01T20:25:51.420Z"
   },
   {
    "duration": 210,
    "start_time": "2023-02-01T20:35:04.575Z"
   },
   {
    "duration": 236,
    "start_time": "2023-02-01T20:35:13.877Z"
   },
   {
    "duration": 50,
    "start_time": "2023-02-01T21:33:53.244Z"
   },
   {
    "duration": 1366,
    "start_time": "2023-02-01T21:34:01.696Z"
   },
   {
    "duration": 4,
    "start_time": "2023-02-01T21:34:03.065Z"
   },
   {
    "duration": 267,
    "start_time": "2023-02-01T21:34:03.071Z"
   },
   {
    "duration": 22,
    "start_time": "2023-02-01T21:34:03.339Z"
   },
   {
    "duration": 22,
    "start_time": "2023-02-01T21:34:03.364Z"
   },
   {
    "duration": 24,
    "start_time": "2023-02-01T21:34:03.388Z"
   },
   {
    "duration": 13,
    "start_time": "2023-02-01T21:34:03.413Z"
   },
   {
    "duration": 6,
    "start_time": "2023-02-01T21:34:03.428Z"
   },
   {
    "duration": 10,
    "start_time": "2023-02-01T21:34:03.436Z"
   },
   {
    "duration": 8,
    "start_time": "2023-02-01T21:34:03.448Z"
   },
   {
    "duration": 8,
    "start_time": "2023-02-01T21:34:03.458Z"
   },
   {
    "duration": 204,
    "start_time": "2023-02-01T21:34:03.468Z"
   },
   {
    "duration": 139,
    "start_time": "2023-02-01T21:34:03.674Z"
   },
   {
    "duration": 6,
    "start_time": "2023-02-01T21:34:03.821Z"
   },
   {
    "duration": 370,
    "start_time": "2023-02-01T21:34:03.829Z"
   },
   {
    "duration": 328,
    "start_time": "2023-02-01T21:34:04.201Z"
   },
   {
    "duration": 426,
    "start_time": "2023-02-01T21:34:04.531Z"
   },
   {
    "duration": 352,
    "start_time": "2023-02-01T21:34:04.959Z"
   },
   {
    "duration": 414,
    "start_time": "2023-02-01T21:34:05.312Z"
   },
   {
    "duration": 11,
    "start_time": "2023-02-01T21:34:05.728Z"
   },
   {
    "duration": 178,
    "start_time": "2023-02-01T21:34:05.740Z"
   },
   {
    "duration": 5,
    "start_time": "2023-02-01T21:34:05.921Z"
   },
   {
    "duration": 193,
    "start_time": "2023-02-01T21:34:05.928Z"
   },
   {
    "duration": 275,
    "start_time": "2023-02-01T21:34:06.122Z"
   },
   {
    "duration": 5,
    "start_time": "2023-02-01T21:34:06.399Z"
   },
   {
    "duration": 75,
    "start_time": "2023-02-02T09:06:10.572Z"
   },
   {
    "duration": 1652,
    "start_time": "2023-02-02T09:06:22.715Z"
   },
   {
    "duration": 8,
    "start_time": "2023-02-02T09:06:24.370Z"
   },
   {
    "duration": 269,
    "start_time": "2023-02-02T09:06:24.380Z"
   },
   {
    "duration": 30,
    "start_time": "2023-02-02T09:06:24.651Z"
   },
   {
    "duration": 39,
    "start_time": "2023-02-02T09:06:24.684Z"
   },
   {
    "duration": 73,
    "start_time": "2023-02-02T09:06:24.725Z"
   },
   {
    "duration": 7,
    "start_time": "2023-02-02T09:06:24.801Z"
   },
   {
    "duration": 13,
    "start_time": "2023-02-02T09:06:24.809Z"
   },
   {
    "duration": 60,
    "start_time": "2023-02-02T09:06:24.824Z"
   },
   {
    "duration": 11,
    "start_time": "2023-02-02T09:06:24.887Z"
   },
   {
    "duration": 10,
    "start_time": "2023-02-02T09:06:24.900Z"
   },
   {
    "duration": 247,
    "start_time": "2023-02-02T09:06:24.912Z"
   },
   {
    "duration": 156,
    "start_time": "2023-02-02T09:06:25.161Z"
   },
   {
    "duration": 10,
    "start_time": "2023-02-02T09:06:25.318Z"
   },
   {
    "duration": 582,
    "start_time": "2023-02-02T09:06:25.330Z"
   },
   {
    "duration": 404,
    "start_time": "2023-02-02T09:06:25.914Z"
   },
   {
    "duration": 547,
    "start_time": "2023-02-02T09:06:26.319Z"
   },
   {
    "duration": 341,
    "start_time": "2023-02-02T09:06:26.867Z"
   },
   {
    "duration": 486,
    "start_time": "2023-02-02T09:06:27.210Z"
   },
   {
    "duration": 11,
    "start_time": "2023-02-02T09:06:27.698Z"
   },
   {
    "duration": 223,
    "start_time": "2023-02-02T09:06:27.711Z"
   },
   {
    "duration": 7,
    "start_time": "2023-02-02T09:06:27.937Z"
   },
   {
    "duration": 231,
    "start_time": "2023-02-02T09:06:27.946Z"
   },
   {
    "duration": 315,
    "start_time": "2023-02-02T09:06:28.179Z"
   },
   {
    "duration": 5,
    "start_time": "2023-02-02T09:06:28.496Z"
   },
   {
    "duration": 316,
    "start_time": "2023-02-02T09:06:28.503Z"
   },
   {
    "duration": 177,
    "start_time": "2023-02-02T09:18:44.608Z"
   },
   {
    "duration": 8,
    "start_time": "2023-02-02T09:26:47.070Z"
   },
   {
    "duration": 123,
    "start_time": "2023-02-02T09:43:09.311Z"
   },
   {
    "duration": 24,
    "start_time": "2023-02-02T09:43:39.761Z"
   },
   {
    "duration": 21,
    "start_time": "2023-02-02T09:45:06.657Z"
   },
   {
    "duration": 21,
    "start_time": "2023-02-02T09:45:11.154Z"
   },
   {
    "duration": 5,
    "start_time": "2023-02-02T09:46:42.738Z"
   },
   {
    "duration": 42,
    "start_time": "2023-02-02T09:47:04.316Z"
   },
   {
    "duration": 34,
    "start_time": "2023-02-02T09:47:38.811Z"
   },
   {
    "duration": 66,
    "start_time": "2023-02-02T09:50:04.308Z"
   },
   {
    "duration": 62,
    "start_time": "2023-02-02T09:50:28.901Z"
   },
   {
    "duration": 28,
    "start_time": "2023-02-02T09:50:53.724Z"
   },
   {
    "duration": 24,
    "start_time": "2023-02-02T09:51:55.245Z"
   },
   {
    "duration": 41,
    "start_time": "2023-02-02T09:52:11.762Z"
   },
   {
    "duration": 23,
    "start_time": "2023-02-02T09:53:27.163Z"
   },
   {
    "duration": 27,
    "start_time": "2023-02-02T09:54:44.406Z"
   },
   {
    "duration": 33,
    "start_time": "2023-02-02T09:55:02.148Z"
   },
   {
    "duration": 55,
    "start_time": "2023-02-02T15:57:38.462Z"
   },
   {
    "duration": 1418,
    "start_time": "2023-02-02T15:57:54.693Z"
   },
   {
    "duration": 6,
    "start_time": "2023-02-02T15:57:56.114Z"
   },
   {
    "duration": 254,
    "start_time": "2023-02-02T15:57:56.122Z"
   },
   {
    "duration": 21,
    "start_time": "2023-02-02T15:57:56.378Z"
   },
   {
    "duration": 23,
    "start_time": "2023-02-02T15:57:56.401Z"
   },
   {
    "duration": 32,
    "start_time": "2023-02-02T15:57:56.427Z"
   },
   {
    "duration": 12,
    "start_time": "2023-02-02T15:57:56.461Z"
   },
   {
    "duration": 38,
    "start_time": "2023-02-02T15:57:56.476Z"
   },
   {
    "duration": 14,
    "start_time": "2023-02-02T15:57:56.516Z"
   },
   {
    "duration": 9,
    "start_time": "2023-02-02T15:57:56.533Z"
   },
   {
    "duration": 12,
    "start_time": "2023-02-02T15:57:56.543Z"
   },
   {
    "duration": 196,
    "start_time": "2023-02-02T15:57:56.557Z"
   },
   {
    "duration": 149,
    "start_time": "2023-02-02T15:57:56.755Z"
   },
   {
    "duration": 8,
    "start_time": "2023-02-02T15:57:56.906Z"
   },
   {
    "duration": 394,
    "start_time": "2023-02-02T15:57:56.916Z"
   },
   {
    "duration": 313,
    "start_time": "2023-02-02T15:57:57.312Z"
   },
   {
    "duration": 475,
    "start_time": "2023-02-02T15:57:57.628Z"
   },
   {
    "duration": 306,
    "start_time": "2023-02-02T15:57:58.105Z"
   },
   {
    "duration": 380,
    "start_time": "2023-02-02T15:57:58.413Z"
   },
   {
    "duration": 10,
    "start_time": "2023-02-02T15:57:58.795Z"
   },
   {
    "duration": 182,
    "start_time": "2023-02-02T15:57:58.807Z"
   },
   {
    "duration": 6,
    "start_time": "2023-02-02T15:57:58.992Z"
   },
   {
    "duration": 190,
    "start_time": "2023-02-02T15:57:59.000Z"
   },
   {
    "duration": 293,
    "start_time": "2023-02-02T15:57:59.192Z"
   },
   {
    "duration": 6,
    "start_time": "2023-02-02T15:57:59.491Z"
   },
   {
    "duration": 254,
    "start_time": "2023-02-02T15:57:59.499Z"
   },
   {
    "duration": 154,
    "start_time": "2023-02-02T15:57:59.756Z"
   },
   {
    "duration": 6,
    "start_time": "2023-02-02T15:57:59.913Z"
   },
   {
    "duration": 24,
    "start_time": "2023-02-02T15:57:59.920Z"
   },
   {
    "duration": 44,
    "start_time": "2023-02-02T16:43:08.650Z"
   },
   {
    "duration": 1245,
    "start_time": "2023-02-02T16:43:15.888Z"
   },
   {
    "duration": 4,
    "start_time": "2023-02-02T16:43:17.136Z"
   },
   {
    "duration": 222,
    "start_time": "2023-02-02T16:43:17.142Z"
   },
   {
    "duration": 19,
    "start_time": "2023-02-02T16:43:17.367Z"
   },
   {
    "duration": 18,
    "start_time": "2023-02-02T16:43:17.388Z"
   },
   {
    "duration": 18,
    "start_time": "2023-02-02T16:43:17.407Z"
   },
   {
    "duration": 7,
    "start_time": "2023-02-02T16:43:17.426Z"
   },
   {
    "duration": 7,
    "start_time": "2023-02-02T16:43:17.437Z"
   },
   {
    "duration": 15,
    "start_time": "2023-02-02T16:43:17.446Z"
   },
   {
    "duration": 21,
    "start_time": "2023-02-02T16:43:17.463Z"
   },
   {
    "duration": 10,
    "start_time": "2023-02-02T16:43:17.485Z"
   },
   {
    "duration": 170,
    "start_time": "2023-02-02T16:43:17.497Z"
   },
   {
    "duration": 127,
    "start_time": "2023-02-02T16:43:17.669Z"
   },
   {
    "duration": 7,
    "start_time": "2023-02-02T16:43:17.797Z"
   },
   {
    "duration": 358,
    "start_time": "2023-02-02T16:43:17.806Z"
   },
   {
    "duration": 256,
    "start_time": "2023-02-02T16:43:18.166Z"
   },
   {
    "duration": 402,
    "start_time": "2023-02-02T16:43:18.423Z"
   },
   {
    "duration": 256,
    "start_time": "2023-02-02T16:43:18.826Z"
   },
   {
    "duration": 334,
    "start_time": "2023-02-02T16:43:19.084Z"
   },
   {
    "duration": 18,
    "start_time": "2023-02-02T16:43:19.420Z"
   },
   {
    "duration": 141,
    "start_time": "2023-02-02T16:43:19.439Z"
   },
   {
    "duration": 3,
    "start_time": "2023-02-02T16:43:19.582Z"
   },
   {
    "duration": 164,
    "start_time": "2023-02-02T16:43:19.587Z"
   },
   {
    "duration": 224,
    "start_time": "2023-02-02T16:43:19.753Z"
   },
   {
    "duration": 5,
    "start_time": "2023-02-02T16:43:19.979Z"
   },
   {
    "duration": 225,
    "start_time": "2023-02-02T16:43:19.985Z"
   },
   {
    "duration": 136,
    "start_time": "2023-02-02T16:43:20.211Z"
   },
   {
    "duration": 6,
    "start_time": "2023-02-02T16:43:20.350Z"
   },
   {
    "duration": 20,
    "start_time": "2023-02-02T16:43:20.358Z"
   },
   {
    "duration": 9,
    "start_time": "2023-02-02T16:43:20.380Z"
   },
   {
    "duration": 14,
    "start_time": "2023-02-02T16:58:39.241Z"
   },
   {
    "duration": 9,
    "start_time": "2023-02-02T16:59:50.635Z"
   },
   {
    "duration": 14,
    "start_time": "2023-02-02T17:20:18.741Z"
   },
   {
    "duration": 7,
    "start_time": "2023-02-02T17:24:05.215Z"
   },
   {
    "duration": 21,
    "start_time": "2023-02-02T17:26:58.421Z"
   },
   {
    "duration": 19,
    "start_time": "2023-02-02T17:28:17.332Z"
   },
   {
    "duration": 13,
    "start_time": "2023-02-02T17:38:13.078Z"
   },
   {
    "duration": 12,
    "start_time": "2023-02-02T17:38:47.865Z"
   },
   {
    "duration": 13,
    "start_time": "2023-02-02T17:39:00.984Z"
   },
   {
    "duration": 13,
    "start_time": "2023-02-02T17:43:23.246Z"
   },
   {
    "duration": 1129,
    "start_time": "2023-02-02T18:27:52.242Z"
   },
   {
    "duration": 4,
    "start_time": "2023-02-02T18:27:53.373Z"
   },
   {
    "duration": 68,
    "start_time": "2023-02-02T18:27:53.378Z"
   },
   {
    "duration": 18,
    "start_time": "2023-02-02T18:27:53.448Z"
   },
   {
    "duration": 18,
    "start_time": "2023-02-02T18:27:53.468Z"
   },
   {
    "duration": 15,
    "start_time": "2023-02-02T18:27:53.488Z"
   },
   {
    "duration": 8,
    "start_time": "2023-02-02T18:27:53.505Z"
   },
   {
    "duration": 27,
    "start_time": "2023-02-02T18:27:53.515Z"
   },
   {
    "duration": 11,
    "start_time": "2023-02-02T18:27:53.544Z"
   },
   {
    "duration": 8,
    "start_time": "2023-02-02T18:27:53.557Z"
   },
   {
    "duration": 7,
    "start_time": "2023-02-02T18:27:53.566Z"
   },
   {
    "duration": 186,
    "start_time": "2023-02-02T18:27:53.575Z"
   },
   {
    "duration": 130,
    "start_time": "2023-02-02T18:27:53.762Z"
   },
   {
    "duration": 7,
    "start_time": "2023-02-02T18:27:53.893Z"
   },
   {
    "duration": 343,
    "start_time": "2023-02-02T18:27:53.901Z"
   },
   {
    "duration": 261,
    "start_time": "2023-02-02T18:27:54.246Z"
   },
   {
    "duration": 374,
    "start_time": "2023-02-02T18:27:54.508Z"
   },
   {
    "duration": 285,
    "start_time": "2023-02-02T18:27:54.884Z"
   },
   {
    "duration": 352,
    "start_time": "2023-02-02T18:27:55.170Z"
   },
   {
    "duration": 20,
    "start_time": "2023-02-02T18:27:55.524Z"
   },
   {
    "duration": 174,
    "start_time": "2023-02-02T18:27:55.546Z"
   },
   {
    "duration": 15,
    "start_time": "2023-02-02T18:27:55.722Z"
   },
   {
    "duration": 167,
    "start_time": "2023-02-02T18:27:55.739Z"
   },
   {
    "duration": 274,
    "start_time": "2023-02-02T18:27:55.908Z"
   },
   {
    "duration": 5,
    "start_time": "2023-02-02T18:27:56.184Z"
   },
   {
    "duration": 230,
    "start_time": "2023-02-02T18:27:56.190Z"
   },
   {
    "duration": 127,
    "start_time": "2023-02-02T18:27:56.422Z"
   },
   {
    "duration": 6,
    "start_time": "2023-02-02T18:27:56.552Z"
   },
   {
    "duration": 22,
    "start_time": "2023-02-02T18:27:56.559Z"
   },
   {
    "duration": 11,
    "start_time": "2023-02-02T18:27:56.582Z"
   },
   {
    "duration": 11,
    "start_time": "2023-02-02T18:27:56.595Z"
   },
   {
    "duration": 8,
    "start_time": "2023-02-02T18:27:56.638Z"
   },
   {
    "duration": 26,
    "start_time": "2023-02-02T18:27:56.648Z"
   },
   {
    "duration": 16,
    "start_time": "2023-02-02T18:27:56.675Z"
   },
   {
    "duration": 1072,
    "start_time": "2023-02-03T09:10:39.834Z"
   },
   {
    "duration": 4,
    "start_time": "2023-02-03T09:10:40.908Z"
   },
   {
    "duration": 68,
    "start_time": "2023-02-03T09:10:40.913Z"
   },
   {
    "duration": 20,
    "start_time": "2023-02-03T09:10:40.983Z"
   },
   {
    "duration": 18,
    "start_time": "2023-02-03T09:10:41.004Z"
   },
   {
    "duration": 15,
    "start_time": "2023-02-03T09:10:41.024Z"
   },
   {
    "duration": 8,
    "start_time": "2023-02-03T09:10:41.041Z"
   },
   {
    "duration": 7,
    "start_time": "2023-02-03T09:10:41.051Z"
   },
   {
    "duration": 9,
    "start_time": "2023-02-03T09:10:41.059Z"
   },
   {
    "duration": 7,
    "start_time": "2023-02-03T09:10:41.071Z"
   },
   {
    "duration": 7,
    "start_time": "2023-02-03T09:10:41.080Z"
   },
   {
    "duration": 174,
    "start_time": "2023-02-03T09:10:41.089Z"
   },
   {
    "duration": 119,
    "start_time": "2023-02-03T09:10:41.265Z"
   },
   {
    "duration": 6,
    "start_time": "2023-02-03T09:10:41.386Z"
   },
   {
    "duration": 328,
    "start_time": "2023-02-03T09:10:41.393Z"
   },
   {
    "duration": 247,
    "start_time": "2023-02-03T09:10:41.722Z"
   },
   {
    "duration": 341,
    "start_time": "2023-02-03T09:10:41.970Z"
   },
   {
    "duration": 331,
    "start_time": "2023-02-03T09:10:42.312Z"
   },
   {
    "duration": 363,
    "start_time": "2023-02-03T09:10:42.645Z"
   },
   {
    "duration": 9,
    "start_time": "2023-02-03T09:10:43.009Z"
   },
   {
    "duration": 151,
    "start_time": "2023-02-03T09:10:43.019Z"
   },
   {
    "duration": 5,
    "start_time": "2023-02-03T09:10:43.171Z"
   },
   {
    "duration": 156,
    "start_time": "2023-02-03T09:10:43.177Z"
   },
   {
    "duration": 237,
    "start_time": "2023-02-03T09:10:43.337Z"
   },
   {
    "duration": 4,
    "start_time": "2023-02-03T09:10:43.575Z"
   },
   {
    "duration": 204,
    "start_time": "2023-02-03T09:10:43.581Z"
   },
   {
    "duration": 123,
    "start_time": "2023-02-03T09:10:43.786Z"
   },
   {
    "duration": 5,
    "start_time": "2023-02-03T09:10:43.912Z"
   },
   {
    "duration": 27,
    "start_time": "2023-02-03T09:10:43.918Z"
   },
   {
    "duration": 8,
    "start_time": "2023-02-03T09:10:43.947Z"
   },
   {
    "duration": 10,
    "start_time": "2023-02-03T09:10:43.957Z"
   },
   {
    "duration": 6,
    "start_time": "2023-02-03T09:10:43.968Z"
   },
   {
    "duration": 19,
    "start_time": "2023-02-03T09:10:43.976Z"
   },
   {
    "duration": 40,
    "start_time": "2023-02-03T09:10:43.997Z"
   },
   {
    "duration": 1085,
    "start_time": "2023-02-03T09:11:17.419Z"
   },
   {
    "duration": 3,
    "start_time": "2023-02-03T09:11:18.506Z"
   },
   {
    "duration": 75,
    "start_time": "2023-02-03T09:11:18.510Z"
   },
   {
    "duration": 18,
    "start_time": "2023-02-03T09:11:18.587Z"
   },
   {
    "duration": 26,
    "start_time": "2023-02-03T09:11:18.606Z"
   },
   {
    "duration": 15,
    "start_time": "2023-02-03T09:11:18.633Z"
   },
   {
    "duration": 9,
    "start_time": "2023-02-03T09:11:18.649Z"
   },
   {
    "duration": 5,
    "start_time": "2023-02-03T09:11:18.660Z"
   },
   {
    "duration": 10,
    "start_time": "2023-02-03T09:11:18.667Z"
   },
   {
    "duration": 7,
    "start_time": "2023-02-03T09:11:18.679Z"
   },
   {
    "duration": 7,
    "start_time": "2023-02-03T09:11:18.687Z"
   },
   {
    "duration": 182,
    "start_time": "2023-02-03T09:11:18.695Z"
   },
   {
    "duration": 122,
    "start_time": "2023-02-03T09:11:18.879Z"
   },
   {
    "duration": 6,
    "start_time": "2023-02-03T09:11:19.002Z"
   },
   {
    "duration": 323,
    "start_time": "2023-02-03T09:11:19.009Z"
   },
   {
    "duration": 253,
    "start_time": "2023-02-03T09:11:19.336Z"
   },
   {
    "duration": 315,
    "start_time": "2023-02-03T09:11:19.590Z"
   },
   {
    "duration": 264,
    "start_time": "2023-02-03T09:11:19.907Z"
   },
   {
    "duration": 327,
    "start_time": "2023-02-03T09:11:20.172Z"
   },
   {
    "duration": 8,
    "start_time": "2023-02-03T09:11:20.501Z"
   },
   {
    "duration": 152,
    "start_time": "2023-02-03T09:11:20.511Z"
   },
   {
    "duration": 5,
    "start_time": "2023-02-03T09:11:20.664Z"
   },
   {
    "duration": 162,
    "start_time": "2023-02-03T09:11:20.670Z"
   },
   {
    "duration": 219,
    "start_time": "2023-02-03T09:11:20.834Z"
   },
   {
    "duration": 4,
    "start_time": "2023-02-03T09:11:21.055Z"
   },
   {
    "duration": 207,
    "start_time": "2023-02-03T09:11:21.061Z"
   },
   {
    "duration": 133,
    "start_time": "2023-02-03T09:11:21.270Z"
   },
   {
    "duration": 5,
    "start_time": "2023-02-03T09:11:21.406Z"
   },
   {
    "duration": 32,
    "start_time": "2023-02-03T09:11:21.413Z"
   },
   {
    "duration": 10,
    "start_time": "2023-02-03T09:11:21.446Z"
   },
   {
    "duration": 10,
    "start_time": "2023-02-03T09:11:21.457Z"
   },
   {
    "duration": 10,
    "start_time": "2023-02-03T09:11:21.468Z"
   },
   {
    "duration": 21,
    "start_time": "2023-02-03T09:11:21.479Z"
   },
   {
    "duration": 37,
    "start_time": "2023-02-03T09:11:21.501Z"
   },
   {
    "duration": 50,
    "start_time": "2023-02-03T15:05:28.565Z"
   },
   {
    "duration": 1319,
    "start_time": "2023-02-03T15:05:44.192Z"
   },
   {
    "duration": 4,
    "start_time": "2023-02-03T15:05:45.513Z"
   },
   {
    "duration": 170,
    "start_time": "2023-02-03T15:05:45.518Z"
   },
   {
    "duration": 19,
    "start_time": "2023-02-03T15:05:45.690Z"
   },
   {
    "duration": 19,
    "start_time": "2023-02-03T15:05:45.711Z"
   },
   {
    "duration": 5,
    "start_time": "2023-02-03T15:05:45.731Z"
   },
   {
    "duration": 16,
    "start_time": "2023-02-03T15:05:45.738Z"
   },
   {
    "duration": 7,
    "start_time": "2023-02-03T15:05:45.756Z"
   },
   {
    "duration": 45,
    "start_time": "2023-02-03T15:05:45.765Z"
   },
   {
    "duration": 8,
    "start_time": "2023-02-03T15:05:45.813Z"
   },
   {
    "duration": 12,
    "start_time": "2023-02-03T15:05:45.822Z"
   },
   {
    "duration": 9,
    "start_time": "2023-02-03T15:05:45.835Z"
   },
   {
    "duration": 185,
    "start_time": "2023-02-03T15:05:45.845Z"
   },
   {
    "duration": 119,
    "start_time": "2023-02-03T15:05:46.032Z"
   },
   {
    "duration": 6,
    "start_time": "2023-02-03T15:05:46.152Z"
   },
   {
    "duration": 347,
    "start_time": "2023-02-03T15:05:46.160Z"
   },
   {
    "duration": 321,
    "start_time": "2023-02-03T15:05:46.509Z"
   },
   {
    "duration": 384,
    "start_time": "2023-02-03T15:05:46.832Z"
   },
   {
    "duration": 279,
    "start_time": "2023-02-03T15:05:47.218Z"
   },
   {
    "duration": 390,
    "start_time": "2023-02-03T15:05:47.499Z"
   },
   {
    "duration": 8,
    "start_time": "2023-02-03T15:05:47.891Z"
   },
   {
    "duration": 142,
    "start_time": "2023-02-03T15:05:47.909Z"
   },
   {
    "duration": 5,
    "start_time": "2023-02-03T15:05:48.052Z"
   },
   {
    "duration": 175,
    "start_time": "2023-02-03T15:05:48.058Z"
   },
   {
    "duration": 228,
    "start_time": "2023-02-03T15:05:48.234Z"
   },
   {
    "duration": 4,
    "start_time": "2023-02-03T15:05:48.464Z"
   },
   {
    "duration": 223,
    "start_time": "2023-02-03T15:05:48.469Z"
   },
   {
    "duration": 137,
    "start_time": "2023-02-03T15:05:48.694Z"
   },
   {
    "duration": 6,
    "start_time": "2023-02-03T15:05:48.832Z"
   },
   {
    "duration": 23,
    "start_time": "2023-02-03T15:05:48.839Z"
   },
   {
    "duration": 9,
    "start_time": "2023-02-03T15:05:48.864Z"
   },
   {
    "duration": 10,
    "start_time": "2023-02-03T15:05:48.874Z"
   },
   {
    "duration": 30,
    "start_time": "2023-02-03T15:05:48.886Z"
   },
   {
    "duration": 21,
    "start_time": "2023-02-03T15:05:48.918Z"
   },
   {
    "duration": 13,
    "start_time": "2023-02-03T15:05:48.941Z"
   },
   {
    "duration": 3,
    "start_time": "2023-02-03T15:08:50.164Z"
   },
   {
    "duration": 3,
    "start_time": "2023-02-03T15:08:59.020Z"
   },
   {
    "duration": 4,
    "start_time": "2023-02-03T15:09:02.998Z"
   },
   {
    "duration": 4,
    "start_time": "2023-02-03T15:09:38.572Z"
   },
   {
    "duration": 6,
    "start_time": "2023-02-03T15:10:01.695Z"
   },
   {
    "duration": 4,
    "start_time": "2023-02-03T15:14:47.172Z"
   },
   {
    "duration": 5,
    "start_time": "2023-02-03T15:15:26.877Z"
   },
   {
    "duration": 7,
    "start_time": "2023-02-03T15:16:18.192Z"
   },
   {
    "duration": 49,
    "start_time": "2023-02-03T15:16:38.900Z"
   },
   {
    "duration": 46,
    "start_time": "2023-02-03T15:16:50.905Z"
   },
   {
    "duration": 6,
    "start_time": "2023-02-03T15:17:13.346Z"
   },
   {
    "duration": 110,
    "start_time": "2023-02-03T15:18:21.318Z"
   },
   {
    "duration": 8,
    "start_time": "2023-02-03T15:19:00.634Z"
   },
   {
    "duration": 7,
    "start_time": "2023-02-03T15:19:45.756Z"
   },
   {
    "duration": 7,
    "start_time": "2023-02-03T15:19:55.005Z"
   },
   {
    "duration": 9,
    "start_time": "2023-02-03T15:20:14.477Z"
   },
   {
    "duration": 8,
    "start_time": "2023-02-03T15:20:27.636Z"
   },
   {
    "duration": 6,
    "start_time": "2023-02-03T15:20:54.597Z"
   },
   {
    "duration": 6,
    "start_time": "2023-02-03T15:21:08.120Z"
   },
   {
    "duration": 5,
    "start_time": "2023-02-03T15:21:23.701Z"
   },
   {
    "duration": 52,
    "start_time": "2023-02-03T15:29:34.844Z"
   },
   {
    "duration": 44,
    "start_time": "2023-02-03T15:29:43.764Z"
   },
   {
    "duration": 10,
    "start_time": "2023-02-03T15:29:50.411Z"
   },
   {
    "duration": 1083,
    "start_time": "2023-02-03T15:30:06.906Z"
   },
   {
    "duration": 4,
    "start_time": "2023-02-03T15:30:07.991Z"
   },
   {
    "duration": 68,
    "start_time": "2023-02-03T15:30:07.996Z"
   },
   {
    "duration": 19,
    "start_time": "2023-02-03T15:30:08.066Z"
   },
   {
    "duration": 20,
    "start_time": "2023-02-03T15:30:08.086Z"
   },
   {
    "duration": 16,
    "start_time": "2023-02-03T15:30:08.108Z"
   },
   {
    "duration": 8,
    "start_time": "2023-02-03T15:30:08.125Z"
   },
   {
    "duration": 9,
    "start_time": "2023-02-03T15:30:08.135Z"
   },
   {
    "duration": 117,
    "start_time": "2023-02-03T15:30:08.146Z"
   },
   {
    "duration": 0,
    "start_time": "2023-02-03T15:30:08.265Z"
   },
   {
    "duration": 0,
    "start_time": "2023-02-03T15:30:08.267Z"
   },
   {
    "duration": 0,
    "start_time": "2023-02-03T15:30:08.268Z"
   },
   {
    "duration": 0,
    "start_time": "2023-02-03T15:30:08.268Z"
   },
   {
    "duration": 0,
    "start_time": "2023-02-03T15:30:08.269Z"
   },
   {
    "duration": 0,
    "start_time": "2023-02-03T15:30:08.270Z"
   },
   {
    "duration": 0,
    "start_time": "2023-02-03T15:30:08.271Z"
   },
   {
    "duration": 0,
    "start_time": "2023-02-03T15:30:08.272Z"
   },
   {
    "duration": 0,
    "start_time": "2023-02-03T15:30:08.273Z"
   },
   {
    "duration": 0,
    "start_time": "2023-02-03T15:30:08.275Z"
   },
   {
    "duration": 0,
    "start_time": "2023-02-03T15:30:08.275Z"
   },
   {
    "duration": 0,
    "start_time": "2023-02-03T15:30:08.276Z"
   },
   {
    "duration": 0,
    "start_time": "2023-02-03T15:30:08.277Z"
   },
   {
    "duration": 0,
    "start_time": "2023-02-03T15:30:08.278Z"
   },
   {
    "duration": 0,
    "start_time": "2023-02-03T15:30:08.279Z"
   },
   {
    "duration": 0,
    "start_time": "2023-02-03T15:30:08.310Z"
   },
   {
    "duration": 0,
    "start_time": "2023-02-03T15:30:08.311Z"
   },
   {
    "duration": 0,
    "start_time": "2023-02-03T15:30:08.312Z"
   },
   {
    "duration": 0,
    "start_time": "2023-02-03T15:30:08.313Z"
   },
   {
    "duration": 0,
    "start_time": "2023-02-03T15:30:08.314Z"
   },
   {
    "duration": 0,
    "start_time": "2023-02-03T15:30:08.315Z"
   },
   {
    "duration": 0,
    "start_time": "2023-02-03T15:30:08.316Z"
   },
   {
    "duration": 0,
    "start_time": "2023-02-03T15:30:08.317Z"
   },
   {
    "duration": 0,
    "start_time": "2023-02-03T15:30:08.318Z"
   },
   {
    "duration": 0,
    "start_time": "2023-02-03T15:30:08.318Z"
   },
   {
    "duration": 0,
    "start_time": "2023-02-03T15:30:08.319Z"
   },
   {
    "duration": 0,
    "start_time": "2023-02-03T15:30:08.320Z"
   },
   {
    "duration": 0,
    "start_time": "2023-02-03T15:30:08.321Z"
   },
   {
    "duration": 1085,
    "start_time": "2023-02-03T15:30:52.059Z"
   },
   {
    "duration": 5,
    "start_time": "2023-02-03T15:30:53.146Z"
   },
   {
    "duration": 62,
    "start_time": "2023-02-03T15:30:53.152Z"
   },
   {
    "duration": 18,
    "start_time": "2023-02-03T15:30:53.216Z"
   },
   {
    "duration": 24,
    "start_time": "2023-02-03T15:30:53.236Z"
   },
   {
    "duration": 36,
    "start_time": "2023-02-03T15:30:53.262Z"
   },
   {
    "duration": 12,
    "start_time": "2023-02-03T15:30:53.299Z"
   },
   {
    "duration": 4,
    "start_time": "2023-02-03T15:30:53.313Z"
   },
   {
    "duration": 123,
    "start_time": "2023-02-03T15:30:53.318Z"
   },
   {
    "duration": 1,
    "start_time": "2023-02-03T15:30:53.443Z"
   },
   {
    "duration": 0,
    "start_time": "2023-02-03T15:30:53.445Z"
   },
   {
    "duration": 0,
    "start_time": "2023-02-03T15:30:53.445Z"
   },
   {
    "duration": 0,
    "start_time": "2023-02-03T15:30:53.446Z"
   },
   {
    "duration": 0,
    "start_time": "2023-02-03T15:30:53.447Z"
   },
   {
    "duration": 0,
    "start_time": "2023-02-03T15:30:53.448Z"
   },
   {
    "duration": 0,
    "start_time": "2023-02-03T15:30:53.449Z"
   },
   {
    "duration": 0,
    "start_time": "2023-02-03T15:30:53.450Z"
   },
   {
    "duration": 0,
    "start_time": "2023-02-03T15:30:53.451Z"
   },
   {
    "duration": 0,
    "start_time": "2023-02-03T15:30:53.452Z"
   },
   {
    "duration": 0,
    "start_time": "2023-02-03T15:30:53.452Z"
   },
   {
    "duration": 0,
    "start_time": "2023-02-03T15:30:53.453Z"
   },
   {
    "duration": 0,
    "start_time": "2023-02-03T15:30:53.454Z"
   },
   {
    "duration": 0,
    "start_time": "2023-02-03T15:30:53.455Z"
   },
   {
    "duration": 0,
    "start_time": "2023-02-03T15:30:53.456Z"
   },
   {
    "duration": 0,
    "start_time": "2023-02-03T15:30:53.456Z"
   },
   {
    "duration": 0,
    "start_time": "2023-02-03T15:30:53.457Z"
   },
   {
    "duration": 0,
    "start_time": "2023-02-03T15:30:53.458Z"
   },
   {
    "duration": 0,
    "start_time": "2023-02-03T15:30:53.459Z"
   },
   {
    "duration": 0,
    "start_time": "2023-02-03T15:30:53.460Z"
   },
   {
    "duration": 0,
    "start_time": "2023-02-03T15:30:53.461Z"
   },
   {
    "duration": 0,
    "start_time": "2023-02-03T15:30:53.462Z"
   },
   {
    "duration": 0,
    "start_time": "2023-02-03T15:30:53.462Z"
   },
   {
    "duration": 0,
    "start_time": "2023-02-03T15:30:53.463Z"
   },
   {
    "duration": 0,
    "start_time": "2023-02-03T15:30:53.464Z"
   },
   {
    "duration": 0,
    "start_time": "2023-02-03T15:30:53.465Z"
   },
   {
    "duration": 0,
    "start_time": "2023-02-03T15:30:53.466Z"
   },
   {
    "duration": 0,
    "start_time": "2023-02-03T15:30:53.510Z"
   },
   {
    "duration": 7,
    "start_time": "2023-02-03T15:32:05.665Z"
   },
   {
    "duration": 10,
    "start_time": "2023-02-03T15:32:27.084Z"
   },
   {
    "duration": 12,
    "start_time": "2023-02-03T15:32:48.136Z"
   },
   {
    "duration": 9,
    "start_time": "2023-02-03T15:34:12.894Z"
   },
   {
    "duration": 6,
    "start_time": "2023-02-03T15:34:37.390Z"
   },
   {
    "duration": 12,
    "start_time": "2023-02-03T15:35:40.543Z"
   },
   {
    "duration": 5,
    "start_time": "2023-02-03T15:36:03.259Z"
   },
   {
    "duration": 6,
    "start_time": "2023-02-03T15:36:38.298Z"
   },
   {
    "duration": 21,
    "start_time": "2023-02-03T15:50:42.154Z"
   },
   {
    "duration": 1116,
    "start_time": "2023-02-03T15:53:17.601Z"
   },
   {
    "duration": 4,
    "start_time": "2023-02-03T15:53:18.718Z"
   },
   {
    "duration": 62,
    "start_time": "2023-02-03T15:53:18.723Z"
   },
   {
    "duration": 20,
    "start_time": "2023-02-03T15:53:18.787Z"
   },
   {
    "duration": 19,
    "start_time": "2023-02-03T15:53:18.809Z"
   },
   {
    "duration": 19,
    "start_time": "2023-02-03T15:53:18.829Z"
   },
   {
    "duration": 5,
    "start_time": "2023-02-03T15:53:18.850Z"
   },
   {
    "duration": 8,
    "start_time": "2023-02-03T15:53:18.856Z"
   },
   {
    "duration": 8,
    "start_time": "2023-02-03T15:53:18.866Z"
   },
   {
    "duration": 36,
    "start_time": "2023-02-03T15:53:18.876Z"
   },
   {
    "duration": 21,
    "start_time": "2023-02-03T15:53:18.913Z"
   },
   {
    "duration": 6,
    "start_time": "2023-02-03T15:53:18.936Z"
   },
   {
    "duration": 7,
    "start_time": "2023-02-03T15:53:18.943Z"
   },
   {
    "duration": 10,
    "start_time": "2023-02-03T15:53:18.952Z"
   },
   {
    "duration": 8,
    "start_time": "2023-02-03T15:53:18.963Z"
   },
   {
    "duration": 8,
    "start_time": "2023-02-03T15:53:19.009Z"
   },
   {
    "duration": 182,
    "start_time": "2023-02-03T15:53:19.018Z"
   },
   {
    "duration": 131,
    "start_time": "2023-02-03T15:53:19.201Z"
   },
   {
    "duration": 7,
    "start_time": "2023-02-03T15:53:19.334Z"
   },
   {
    "duration": 367,
    "start_time": "2023-02-03T15:53:19.343Z"
   },
   {
    "duration": 282,
    "start_time": "2023-02-03T15:53:19.711Z"
   },
   {
    "duration": 393,
    "start_time": "2023-02-03T15:53:19.995Z"
   },
   {
    "duration": 301,
    "start_time": "2023-02-03T15:53:20.390Z"
   },
   {
    "duration": 396,
    "start_time": "2023-02-03T15:53:20.694Z"
   },
   {
    "duration": 19,
    "start_time": "2023-02-03T15:53:21.091Z"
   },
   {
    "duration": 159,
    "start_time": "2023-02-03T15:53:21.112Z"
   },
   {
    "duration": 5,
    "start_time": "2023-02-03T15:53:21.272Z"
   },
   {
    "duration": 183,
    "start_time": "2023-02-03T15:53:21.279Z"
   },
   {
    "duration": 240,
    "start_time": "2023-02-03T15:53:21.463Z"
   },
   {
    "duration": 7,
    "start_time": "2023-02-03T15:53:21.705Z"
   },
   {
    "duration": 230,
    "start_time": "2023-02-03T15:53:21.714Z"
   },
   {
    "duration": 166,
    "start_time": "2023-02-03T15:53:21.946Z"
   },
   {
    "duration": 6,
    "start_time": "2023-02-03T15:53:22.114Z"
   },
   {
    "duration": 40,
    "start_time": "2023-02-03T15:53:22.122Z"
   },
   {
    "duration": 13,
    "start_time": "2023-02-03T15:53:22.164Z"
   },
   {
    "duration": 42,
    "start_time": "2023-02-03T15:53:22.179Z"
   },
   {
    "duration": 10,
    "start_time": "2023-02-03T15:53:22.223Z"
   },
   {
    "duration": 37,
    "start_time": "2023-02-03T15:53:22.235Z"
   },
   {
    "duration": 37,
    "start_time": "2023-02-03T15:53:22.274Z"
   },
   {
    "duration": 1098,
    "start_time": "2023-02-03T16:00:54.237Z"
   },
   {
    "duration": 5,
    "start_time": "2023-02-03T16:00:55.338Z"
   },
   {
    "duration": 70,
    "start_time": "2023-02-03T16:00:55.346Z"
   },
   {
    "duration": 21,
    "start_time": "2023-02-03T16:00:55.418Z"
   },
   {
    "duration": 23,
    "start_time": "2023-02-03T16:00:55.441Z"
   },
   {
    "duration": 19,
    "start_time": "2023-02-03T16:00:55.466Z"
   },
   {
    "duration": 31,
    "start_time": "2023-02-03T16:00:55.487Z"
   },
   {
    "duration": 15,
    "start_time": "2023-02-03T16:00:55.519Z"
   },
   {
    "duration": 10,
    "start_time": "2023-02-03T16:00:55.537Z"
   },
   {
    "duration": 6,
    "start_time": "2023-02-03T16:00:55.551Z"
   },
   {
    "duration": 33,
    "start_time": "2023-02-03T16:00:55.558Z"
   },
   {
    "duration": 20,
    "start_time": "2023-02-03T16:00:55.593Z"
   },
   {
    "duration": 13,
    "start_time": "2023-02-03T16:00:55.614Z"
   },
   {
    "duration": 29,
    "start_time": "2023-02-03T16:00:55.628Z"
   },
   {
    "duration": 14,
    "start_time": "2023-02-03T16:00:55.659Z"
   },
   {
    "duration": 11,
    "start_time": "2023-02-03T16:00:55.675Z"
   },
   {
    "duration": 166,
    "start_time": "2023-02-03T16:00:55.688Z"
   },
   {
    "duration": 132,
    "start_time": "2023-02-03T16:00:55.855Z"
   },
   {
    "duration": 8,
    "start_time": "2023-02-03T16:00:55.988Z"
   },
   {
    "duration": 408,
    "start_time": "2023-02-03T16:00:56.009Z"
   },
   {
    "duration": 311,
    "start_time": "2023-02-03T16:00:56.419Z"
   },
   {
    "duration": 372,
    "start_time": "2023-02-03T16:00:56.733Z"
   },
   {
    "duration": 285,
    "start_time": "2023-02-03T16:00:57.109Z"
   },
   {
    "duration": 408,
    "start_time": "2023-02-03T16:00:57.396Z"
   },
   {
    "duration": 12,
    "start_time": "2023-02-03T16:00:57.805Z"
   },
   {
    "duration": 153,
    "start_time": "2023-02-03T16:00:57.818Z"
   },
   {
    "duration": 5,
    "start_time": "2023-02-03T16:00:57.973Z"
   },
   {
    "duration": 183,
    "start_time": "2023-02-03T16:00:57.981Z"
   },
   {
    "duration": 249,
    "start_time": "2023-02-03T16:00:58.165Z"
   },
   {
    "duration": 5,
    "start_time": "2023-02-03T16:00:58.416Z"
   },
   {
    "duration": 235,
    "start_time": "2023-02-03T16:00:58.423Z"
   },
   {
    "duration": 163,
    "start_time": "2023-02-03T16:00:58.660Z"
   },
   {
    "duration": 5,
    "start_time": "2023-02-03T16:00:58.825Z"
   },
   {
    "duration": 23,
    "start_time": "2023-02-03T16:00:58.832Z"
   },
   {
    "duration": 9,
    "start_time": "2023-02-03T16:00:58.857Z"
   },
   {
    "duration": 11,
    "start_time": "2023-02-03T16:00:58.868Z"
   },
   {
    "duration": 9,
    "start_time": "2023-02-03T16:00:58.910Z"
   },
   {
    "duration": 33,
    "start_time": "2023-02-03T16:00:58.920Z"
   },
   {
    "duration": 13,
    "start_time": "2023-02-03T16:00:58.955Z"
   },
   {
    "duration": 1086,
    "start_time": "2023-02-03T16:33:11.810Z"
   },
   {
    "duration": 4,
    "start_time": "2023-02-03T16:33:12.898Z"
   },
   {
    "duration": 63,
    "start_time": "2023-02-03T16:33:12.903Z"
   },
   {
    "duration": 20,
    "start_time": "2023-02-03T16:33:12.969Z"
   },
   {
    "duration": 19,
    "start_time": "2023-02-03T16:33:12.992Z"
   },
   {
    "duration": 25,
    "start_time": "2023-02-03T16:33:13.013Z"
   },
   {
    "duration": 17,
    "start_time": "2023-02-03T16:33:13.040Z"
   },
   {
    "duration": 7,
    "start_time": "2023-02-03T16:33:13.058Z"
   },
   {
    "duration": 7,
    "start_time": "2023-02-03T16:33:13.066Z"
   },
   {
    "duration": 5,
    "start_time": "2023-02-03T16:33:13.077Z"
   },
   {
    "duration": 21,
    "start_time": "2023-02-03T16:33:13.109Z"
   },
   {
    "duration": 7,
    "start_time": "2023-02-03T16:33:13.131Z"
   },
   {
    "duration": 6,
    "start_time": "2023-02-03T16:33:13.139Z"
   },
   {
    "duration": 10,
    "start_time": "2023-02-03T16:33:13.146Z"
   },
   {
    "duration": 12,
    "start_time": "2023-02-03T16:33:13.157Z"
   },
   {
    "duration": 7,
    "start_time": "2023-02-03T16:33:13.170Z"
   },
   {
    "duration": 203,
    "start_time": "2023-02-03T16:33:13.179Z"
   },
   {
    "duration": 115,
    "start_time": "2023-02-03T16:33:13.383Z"
   },
   {
    "duration": 13,
    "start_time": "2023-02-03T16:33:13.500Z"
   },
   {
    "duration": 6,
    "start_time": "2023-02-03T16:33:13.515Z"
   },
   {
    "duration": 371,
    "start_time": "2023-02-03T16:33:13.522Z"
   },
   {
    "duration": 266,
    "start_time": "2023-02-03T16:33:13.894Z"
   },
   {
    "duration": 369,
    "start_time": "2023-02-03T16:33:14.161Z"
   },
   {
    "duration": 277,
    "start_time": "2023-02-03T16:33:14.531Z"
   },
   {
    "duration": 376,
    "start_time": "2023-02-03T16:33:14.810Z"
   },
   {
    "duration": 9,
    "start_time": "2023-02-03T16:33:15.188Z"
   },
   {
    "duration": 177,
    "start_time": "2023-02-03T16:33:15.199Z"
   },
   {
    "duration": 4,
    "start_time": "2023-02-03T16:33:15.380Z"
   },
   {
    "duration": 172,
    "start_time": "2023-02-03T16:33:15.386Z"
   },
   {
    "duration": 233,
    "start_time": "2023-02-03T16:33:15.560Z"
   },
   {
    "duration": 4,
    "start_time": "2023-02-03T16:33:15.795Z"
   },
   {
    "duration": 216,
    "start_time": "2023-02-03T16:33:15.809Z"
   },
   {
    "duration": 144,
    "start_time": "2023-02-03T16:33:16.027Z"
   },
   {
    "duration": 6,
    "start_time": "2023-02-03T16:33:16.172Z"
   },
   {
    "duration": 33,
    "start_time": "2023-02-03T16:33:16.179Z"
   },
   {
    "duration": 11,
    "start_time": "2023-02-03T16:33:16.213Z"
   },
   {
    "duration": 11,
    "start_time": "2023-02-03T16:33:16.225Z"
   },
   {
    "duration": 9,
    "start_time": "2023-02-03T16:33:16.238Z"
   },
   {
    "duration": 23,
    "start_time": "2023-02-03T16:33:16.249Z"
   },
   {
    "duration": 42,
    "start_time": "2023-02-03T16:33:16.274Z"
   },
   {
    "duration": 1210,
    "start_time": "2023-02-03T16:49:23.992Z"
   },
   {
    "duration": 6,
    "start_time": "2023-02-03T16:49:25.204Z"
   },
   {
    "duration": 61,
    "start_time": "2023-02-03T16:49:25.214Z"
   },
   {
    "duration": 21,
    "start_time": "2023-02-03T16:49:25.276Z"
   },
   {
    "duration": 19,
    "start_time": "2023-02-03T16:49:25.300Z"
   },
   {
    "duration": 16,
    "start_time": "2023-02-03T16:49:25.320Z"
   },
   {
    "duration": 5,
    "start_time": "2023-02-03T16:49:25.338Z"
   },
   {
    "duration": 5,
    "start_time": "2023-02-03T16:49:25.344Z"
   },
   {
    "duration": 6,
    "start_time": "2023-02-03T16:49:25.351Z"
   },
   {
    "duration": 5,
    "start_time": "2023-02-03T16:49:25.358Z"
   },
   {
    "duration": 63,
    "start_time": "2023-02-03T16:49:25.365Z"
   },
   {
    "duration": 6,
    "start_time": "2023-02-03T16:49:25.430Z"
   },
   {
    "duration": 5,
    "start_time": "2023-02-03T16:49:25.438Z"
   },
   {
    "duration": 9,
    "start_time": "2023-02-03T16:49:25.444Z"
   },
   {
    "duration": 10,
    "start_time": "2023-02-03T16:49:25.454Z"
   },
   {
    "duration": 51,
    "start_time": "2023-02-03T16:49:25.465Z"
   },
   {
    "duration": 178,
    "start_time": "2023-02-03T16:49:25.517Z"
   },
   {
    "duration": 124,
    "start_time": "2023-02-03T16:49:25.696Z"
   },
   {
    "duration": 6,
    "start_time": "2023-02-03T16:49:25.821Z"
   },
   {
    "duration": 5,
    "start_time": "2023-02-03T16:49:25.829Z"
   },
   {
    "duration": 369,
    "start_time": "2023-02-03T16:49:25.836Z"
   },
   {
    "duration": 277,
    "start_time": "2023-02-03T16:49:26.207Z"
   },
   {
    "duration": 433,
    "start_time": "2023-02-03T16:49:26.485Z"
   },
   {
    "duration": 274,
    "start_time": "2023-02-03T16:49:26.920Z"
   },
   {
    "duration": 399,
    "start_time": "2023-02-03T16:49:27.195Z"
   },
   {
    "duration": 16,
    "start_time": "2023-02-03T16:49:27.595Z"
   },
   {
    "duration": 155,
    "start_time": "2023-02-03T16:49:27.614Z"
   },
   {
    "duration": 5,
    "start_time": "2023-02-03T16:49:27.771Z"
   },
   {
    "duration": 172,
    "start_time": "2023-02-03T16:49:27.777Z"
   },
   {
    "duration": 243,
    "start_time": "2023-02-03T16:49:27.951Z"
   },
   {
    "duration": 4,
    "start_time": "2023-02-03T16:49:28.196Z"
   },
   {
    "duration": 229,
    "start_time": "2023-02-03T16:49:28.202Z"
   },
   {
    "duration": 178,
    "start_time": "2023-02-03T16:49:28.432Z"
   },
   {
    "duration": 6,
    "start_time": "2023-02-03T16:49:28.612Z"
   },
   {
    "duration": 42,
    "start_time": "2023-02-03T16:49:28.620Z"
   },
   {
    "duration": 13,
    "start_time": "2023-02-03T16:49:28.663Z"
   },
   {
    "duration": 38,
    "start_time": "2023-02-03T16:49:28.678Z"
   },
   {
    "duration": 10,
    "start_time": "2023-02-03T16:49:28.718Z"
   },
   {
    "duration": 32,
    "start_time": "2023-02-03T16:49:28.729Z"
   },
   {
    "duration": 13,
    "start_time": "2023-02-03T16:49:28.762Z"
   },
   {
    "duration": 1163,
    "start_time": "2023-02-03T17:10:43.616Z"
   },
   {
    "duration": 4,
    "start_time": "2023-02-03T17:10:44.781Z"
   },
   {
    "duration": 66,
    "start_time": "2023-02-03T17:10:44.787Z"
   },
   {
    "duration": 20,
    "start_time": "2023-02-03T17:10:44.856Z"
   },
   {
    "duration": 20,
    "start_time": "2023-02-03T17:10:44.878Z"
   },
   {
    "duration": 26,
    "start_time": "2023-02-03T17:10:44.900Z"
   },
   {
    "duration": 8,
    "start_time": "2023-02-03T17:10:44.928Z"
   },
   {
    "duration": 5,
    "start_time": "2023-02-03T17:10:44.937Z"
   },
   {
    "duration": 6,
    "start_time": "2023-02-03T17:10:44.945Z"
   },
   {
    "duration": 7,
    "start_time": "2023-02-03T17:10:44.954Z"
   },
   {
    "duration": 62,
    "start_time": "2023-02-03T17:10:44.963Z"
   },
   {
    "duration": 9,
    "start_time": "2023-02-03T17:10:45.027Z"
   },
   {
    "duration": 13,
    "start_time": "2023-02-03T17:10:45.038Z"
   },
   {
    "duration": 22,
    "start_time": "2023-02-03T17:10:45.053Z"
   },
   {
    "duration": 34,
    "start_time": "2023-02-03T17:10:45.077Z"
   },
   {
    "duration": 20,
    "start_time": "2023-02-03T17:10:45.113Z"
   },
   {
    "duration": 190,
    "start_time": "2023-02-03T17:10:45.134Z"
   },
   {
    "duration": 141,
    "start_time": "2023-02-03T17:10:45.326Z"
   },
   {
    "duration": 7,
    "start_time": "2023-02-03T17:10:45.468Z"
   },
   {
    "duration": 15,
    "start_time": "2023-02-03T17:10:45.476Z"
   },
   {
    "duration": 370,
    "start_time": "2023-02-03T17:10:45.492Z"
   },
   {
    "duration": 273,
    "start_time": "2023-02-03T17:10:45.864Z"
   },
   {
    "duration": 358,
    "start_time": "2023-02-03T17:10:46.139Z"
   },
   {
    "duration": 377,
    "start_time": "2023-02-03T17:10:46.498Z"
   },
   {
    "duration": 425,
    "start_time": "2023-02-03T17:10:46.877Z"
   },
   {
    "duration": 11,
    "start_time": "2023-02-03T17:10:47.311Z"
   },
   {
    "duration": 171,
    "start_time": "2023-02-03T17:10:47.325Z"
   },
   {
    "duration": 11,
    "start_time": "2023-02-03T17:10:47.500Z"
   },
   {
    "duration": 179,
    "start_time": "2023-02-03T17:10:47.513Z"
   },
   {
    "duration": 256,
    "start_time": "2023-02-03T17:10:47.693Z"
   },
   {
    "duration": 5,
    "start_time": "2023-02-03T17:10:47.950Z"
   },
   {
    "duration": 242,
    "start_time": "2023-02-03T17:10:47.957Z"
   },
   {
    "duration": 191,
    "start_time": "2023-02-03T17:10:48.201Z"
   },
   {
    "duration": 17,
    "start_time": "2023-02-03T17:10:48.393Z"
   },
   {
    "duration": 22,
    "start_time": "2023-02-03T17:10:48.412Z"
   },
   {
    "duration": 11,
    "start_time": "2023-02-03T17:10:48.437Z"
   },
   {
    "duration": 14,
    "start_time": "2023-02-03T17:10:48.450Z"
   },
   {
    "duration": 44,
    "start_time": "2023-02-03T17:10:48.466Z"
   },
   {
    "duration": 23,
    "start_time": "2023-02-03T17:10:48.512Z"
   },
   {
    "duration": 15,
    "start_time": "2023-02-03T17:10:48.537Z"
   },
   {
    "duration": 1173,
    "start_time": "2023-02-03T17:13:34.234Z"
   },
   {
    "duration": 4,
    "start_time": "2023-02-03T17:13:35.409Z"
   },
   {
    "duration": 69,
    "start_time": "2023-02-03T17:13:35.415Z"
   },
   {
    "duration": 20,
    "start_time": "2023-02-03T17:13:35.486Z"
   },
   {
    "duration": 19,
    "start_time": "2023-02-03T17:13:35.508Z"
   },
   {
    "duration": 16,
    "start_time": "2023-02-03T17:13:35.529Z"
   },
   {
    "duration": 6,
    "start_time": "2023-02-03T17:13:35.547Z"
   },
   {
    "duration": 4,
    "start_time": "2023-02-03T17:13:35.554Z"
   },
   {
    "duration": 8,
    "start_time": "2023-02-03T17:13:35.560Z"
   },
   {
    "duration": 8,
    "start_time": "2023-02-03T17:13:35.570Z"
   },
   {
    "duration": 22,
    "start_time": "2023-02-03T17:13:35.610Z"
   },
   {
    "duration": 7,
    "start_time": "2023-02-03T17:13:35.634Z"
   },
   {
    "duration": 7,
    "start_time": "2023-02-03T17:13:35.642Z"
   },
   {
    "duration": 16,
    "start_time": "2023-02-03T17:13:35.650Z"
   },
   {
    "duration": 11,
    "start_time": "2023-02-03T17:13:35.668Z"
   },
   {
    "duration": 19,
    "start_time": "2023-02-03T17:13:35.709Z"
   },
   {
    "duration": 187,
    "start_time": "2023-02-03T17:13:35.730Z"
   },
   {
    "duration": 136,
    "start_time": "2023-02-03T17:13:35.918Z"
   },
   {
    "duration": 6,
    "start_time": "2023-02-03T17:13:36.056Z"
   },
   {
    "duration": 9,
    "start_time": "2023-02-03T17:13:36.064Z"
   },
   {
    "duration": 371,
    "start_time": "2023-02-03T17:13:36.075Z"
   },
   {
    "duration": 280,
    "start_time": "2023-02-03T17:13:36.448Z"
   },
   {
    "duration": 384,
    "start_time": "2023-02-03T17:13:36.730Z"
   },
   {
    "duration": 289,
    "start_time": "2023-02-03T17:13:37.115Z"
   },
   {
    "duration": 378,
    "start_time": "2023-02-03T17:13:37.406Z"
   },
   {
    "duration": 9,
    "start_time": "2023-02-03T17:13:37.785Z"
   },
   {
    "duration": 157,
    "start_time": "2023-02-03T17:13:37.809Z"
   },
   {
    "duration": 5,
    "start_time": "2023-02-03T17:13:37.969Z"
   },
   {
    "duration": 183,
    "start_time": "2023-02-03T17:13:37.976Z"
   },
   {
    "duration": 261,
    "start_time": "2023-02-03T17:13:38.160Z"
   },
   {
    "duration": 5,
    "start_time": "2023-02-03T17:13:38.422Z"
   },
   {
    "duration": 235,
    "start_time": "2023-02-03T17:13:38.428Z"
   },
   {
    "duration": 153,
    "start_time": "2023-02-03T17:13:38.665Z"
   },
   {
    "duration": 6,
    "start_time": "2023-02-03T17:13:38.820Z"
   },
   {
    "duration": 26,
    "start_time": "2023-02-03T17:13:38.827Z"
   },
   {
    "duration": 11,
    "start_time": "2023-02-03T17:13:38.855Z"
   },
   {
    "duration": 42,
    "start_time": "2023-02-03T17:13:38.868Z"
   },
   {
    "duration": 7,
    "start_time": "2023-02-03T17:13:38.912Z"
   },
   {
    "duration": 29,
    "start_time": "2023-02-03T17:13:38.921Z"
   },
   {
    "duration": 14,
    "start_time": "2023-02-03T17:13:38.951Z"
   },
   {
    "duration": 1165,
    "start_time": "2023-02-03T17:19:38.785Z"
   },
   {
    "duration": 6,
    "start_time": "2023-02-03T17:19:39.952Z"
   },
   {
    "duration": 63,
    "start_time": "2023-02-03T17:19:39.959Z"
   },
   {
    "duration": 20,
    "start_time": "2023-02-03T17:19:40.025Z"
   },
   {
    "duration": 18,
    "start_time": "2023-02-03T17:19:40.047Z"
   },
   {
    "duration": 16,
    "start_time": "2023-02-03T17:19:40.067Z"
   },
   {
    "duration": 28,
    "start_time": "2023-02-03T17:19:40.084Z"
   },
   {
    "duration": 5,
    "start_time": "2023-02-03T17:19:40.113Z"
   },
   {
    "duration": 11,
    "start_time": "2023-02-03T17:19:40.120Z"
   },
   {
    "duration": 8,
    "start_time": "2023-02-03T17:19:40.134Z"
   },
   {
    "duration": 34,
    "start_time": "2023-02-03T17:19:40.144Z"
   },
   {
    "duration": 31,
    "start_time": "2023-02-03T17:19:40.180Z"
   },
   {
    "duration": 6,
    "start_time": "2023-02-03T17:19:40.212Z"
   },
   {
    "duration": 13,
    "start_time": "2023-02-03T17:19:40.219Z"
   },
   {
    "duration": 10,
    "start_time": "2023-02-03T17:19:40.234Z"
   },
   {
    "duration": 9,
    "start_time": "2023-02-03T17:19:40.246Z"
   },
   {
    "duration": 187,
    "start_time": "2023-02-03T17:19:40.257Z"
   },
   {
    "duration": 123,
    "start_time": "2023-02-03T17:19:40.446Z"
   },
   {
    "duration": 8,
    "start_time": "2023-02-03T17:19:40.570Z"
   },
   {
    "duration": 6,
    "start_time": "2023-02-03T17:19:40.579Z"
   },
   {
    "duration": 367,
    "start_time": "2023-02-03T17:19:40.586Z"
   },
   {
    "duration": 270,
    "start_time": "2023-02-03T17:19:40.955Z"
   },
   {
    "duration": 362,
    "start_time": "2023-02-03T17:19:41.226Z"
   },
   {
    "duration": 276,
    "start_time": "2023-02-03T17:19:41.589Z"
   },
   {
    "duration": 370,
    "start_time": "2023-02-03T17:19:41.867Z"
   },
   {
    "duration": 12,
    "start_time": "2023-02-03T17:19:42.239Z"
   },
   {
    "duration": 172,
    "start_time": "2023-02-03T17:19:42.253Z"
   },
   {
    "duration": 6,
    "start_time": "2023-02-03T17:19:42.428Z"
   },
   {
    "duration": 176,
    "start_time": "2023-02-03T17:19:42.435Z"
   },
   {
    "duration": 229,
    "start_time": "2023-02-03T17:19:42.613Z"
   },
   {
    "duration": 5,
    "start_time": "2023-02-03T17:19:42.844Z"
   },
   {
    "duration": 256,
    "start_time": "2023-02-03T17:19:42.851Z"
   },
   {
    "duration": 146,
    "start_time": "2023-02-03T17:19:43.110Z"
   },
   {
    "duration": 6,
    "start_time": "2023-02-03T17:19:43.258Z"
   },
   {
    "duration": 32,
    "start_time": "2023-02-03T17:19:43.265Z"
   },
   {
    "duration": 11,
    "start_time": "2023-02-03T17:19:43.309Z"
   },
   {
    "duration": 14,
    "start_time": "2023-02-03T17:19:43.322Z"
   },
   {
    "duration": 10,
    "start_time": "2023-02-03T17:19:43.338Z"
   },
   {
    "duration": 68,
    "start_time": "2023-02-03T17:19:43.350Z"
   },
   {
    "duration": 18,
    "start_time": "2023-02-03T17:19:43.420Z"
   }
  ],
  "kernelspec": {
   "display_name": "Python 3 (ipykernel)",
   "language": "python",
   "name": "python3"
  },
  "language_info": {
   "codemirror_mode": {
    "name": "ipython",
    "version": 3
   },
   "file_extension": ".py",
   "mimetype": "text/x-python",
   "name": "python",
   "nbconvert_exporter": "python",
   "pygments_lexer": "ipython3",
   "version": "3.9.13"
  },
  "toc": {
   "base_numbering": 1,
   "nav_menu": {},
   "number_sections": true,
   "sideBar": true,
   "skip_h1_title": true,
   "title_cell": "Table of Contents",
   "title_sidebar": "Contents",
   "toc_cell": false,
   "toc_position": {},
   "toc_section_display": true,
   "toc_window_display": false
  }
 },
 "nbformat": 4,
 "nbformat_minor": 2
}
