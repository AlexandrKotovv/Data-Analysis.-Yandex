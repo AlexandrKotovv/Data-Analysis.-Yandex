{
 "cells": [
  {
   "cell_type": "markdown",
   "metadata": {
    "toc": true
   },
   "source": [
    "<h1>Table of Contents<span class=\"tocSkip\"></span></h1>\n",
    "<div class=\"toc\"><ul class=\"toc-item\"><li><span><a href=\"#Импортируем-библиотеки-и-откроем-файл-с-данными\" data-toc-modified-id=\"Импортируем-библиотеки-и-откроем-файл-с-данными-1\"><span class=\"toc-item-num\">1&nbsp;&nbsp;</span>Импортируем библиотеки и откроем файл с данными</a></span></li><li><span><a href=\"#Подготовка-данных\" data-toc-modified-id=\"Подготовка-данных-2\"><span class=\"toc-item-num\">2&nbsp;&nbsp;</span>Подготовка данных</a></span></li><li><span><a href=\"#Исследовательский-анализ-данных\" data-toc-modified-id=\"Исследовательский-анализ-данных-3\"><span class=\"toc-item-num\">3&nbsp;&nbsp;</span>Исследовательский анализ данных</a></span></li><li><span><a href=\"#Составим-портрет-пользователя-каждого-региона\" data-toc-modified-id=\"Составим-портрет-пользователя-каждого-региона-4\"><span class=\"toc-item-num\">4&nbsp;&nbsp;</span>Составим портрет пользователя каждого региона</a></span></li><li><span><a href=\"#Проверим-гипотезы\" data-toc-modified-id=\"Проверим-гипотезы-5\"><span class=\"toc-item-num\">5&nbsp;&nbsp;</span>Проверим гипотезы</a></span></li><li><span><a href=\"#Общий-вывод\" data-toc-modified-id=\"Общий-вывод-6\"><span class=\"toc-item-num\">6&nbsp;&nbsp;</span>Общий вывод</a></span></li></ul></div>"
   ]
  },
  {
   "cell_type": "markdown",
   "metadata": {},
   "source": [
    "#                                           Сборный проект."
   ]
  },
  {
   "cell_type": "markdown",
   "metadata": {},
   "source": [
    "**Заказчик:**   \n",
    "  \n",
    "интернет-магазин «Стримчик», который продаёт по всему миру компьютерные игры."
   ]
  },
  {
   "cell_type": "markdown",
   "metadata": {},
   "source": [
    "**Описание проекта:**"
   ]
  },
  {
   "cell_type": "markdown",
   "metadata": {},
   "source": [
    "Из открытых источников доступны исторические данные о продажах игр, оценки пользователей и экспертов, жанры и платформы (например, Xbox или PlayStation).   \n",
    "Перед нами данные до 2016 года. Представим, что сейчас декабрь 2016 г., и мы планируем кампанию на 2017-й. Нужно отработать принцип работы с данными. Неважно, прогнозируем ли мы продажи на 2017 год по данным 2016-го или же 2027-й — по данным 2026 года.  \n",
    "В наборе данных попадается аббревиатура ESRB (Entertainment Software Rating Board) — это ассоциация, определяющая возрастной рейтинг компьютерных игр. ESRB оценивает игровой контент и присваивает ему подходящую возрастную категорию, например, «Для взрослых», «Для детей младшего возраста» или «Для подростков».\n"
   ]
  },
  {
   "cell_type": "markdown",
   "metadata": {},
   "source": [
    "**Цель исследования:**  \n",
    "  \n",
    "выявить определяющие успешность игры закономерности. Это позволит сделать ставку на потенциально популярный продукт и спланировать рекламные кампании."
   ]
  },
  {
   "cell_type": "markdown",
   "metadata": {},
   "source": [
    "**План исследования:**  \n",
    "\n",
    "Шаг 1. Откроем файл с данными и изучим общую информацию (Путь к файлу: /datasets/games.csv.)  \n",
    "  \n",
    "Шаг 2. Подготовим данные  \n",
    "\n",
    "- Заменим названия столбцов (приведём к нижнему регистру);  \n",
    "- Преобразуем данные в нужные типы;  \n",
    "- Обработаем пропуски при необходимости;  \n",
    "- Посчитаем суммарные продажи во всех регионах и запишем их в отдельный столбец.  \n",
    "  \n",
    "Шаг 3. Проведём исследовательский анализ данных  \n",
    "  \n",
    "- Посмотрим, сколько игр выпускалось в разные годы. Важны ли данные за все периоды?  \n",
    "- Посмотрим, как менялись продажи по платформам. Выберем платформы с наибольшими суммарными продажами и построим распределение по годам. За какой характерный срок появляются новые и исчезают старые платформы?  \n",
    "- Возьмём данные за соответствующий актуальный период. Актуальный период определим в результате исследования предыдущих вопросов. Основной фактор — эти данные помогут построить прогноз на 2017 год.  \n",
    "  \n",
    "- определим какие платформы лидируют по продажам, растут или падают? Выберем несколько потенциально прибыльных платформ.  \n",
    "- Построим график «ящик с усами» по глобальным продажам игр в разбивке по платформам. Опишем результат.  \n",
    "- Посмотрим, как влияют на продажи внутри одной популярной платформы отзывы пользователей и критиков. Построим диаграмму рассеяния и посчитаем корреляцию между отзывами и продажами. Сформулируем выводы.  \n",
    "- Соотнесём выводы с продажами игр на других платформах.  \n",
    "- Посмотрим на общее распределение игр по жанрам. Что можно сказать о самых прибыльных жанрах? Выделяются ли жанры с высокими и низкими продажами?  \n",
    "\n",
    "Шаг 4. Составим портрет пользователя каждого региона  \n",
    "Определим для пользователя каждого региона (NA, EU, JP):  \n",
    "  \n",
    "- Самые популярные платформы (топ-5). Опишите различия в долях продаж.  \n",
    "- Самые популярные жанры (топ-5). Поясните разницу.  \n",
    "- Влияет ли рейтинг ESRB на продажи в отдельном регионе?  \n",
    "  \n",
    "Шаг 5. Проверим гипотезы  \n",
    "  \n",
    "- Средние пользовательские рейтинги платформ Xbox One и PC одинаковые;  \n",
    "- Средние пользовательские рейтинги жанров Action (англ. «действие», экшен-игры) и Sports (англ. «спортивные соревнования») разные.    \n",
    "  \n",
    "Шаг 6. Общий вывод  "
   ]
  },
  {
   "cell_type": "markdown",
   "metadata": {},
   "source": [
    "**Описание данных**  \n",
    "•\tName — название игры  \n",
    "•\tPlatform — платформа  \n",
    "•\tYear_of_Release — год выпуска  \n",
    "•\tGenre — жанр игры  \n",
    "•\tNA_sales — продажи в Северной Америке (миллионы проданных копий)  \n",
    "•\tEU_sales — продажи в Европе (миллионы проданных копий)  \n",
    "•\tJP_sales — продажи в Японии (миллионы проданных копий)  \n",
    "•\tOther_sales — продажи в других странах (миллионы проданных копий)  \n",
    "•\tCritic_Score — оценка критиков (максимум 100)  \n",
    "•\tUser_Score — оценка пользователей (максимум 10)  \n",
    "•\tRating — рейтинг от организации ESRB (англ. Entertainment Software Rating Board). Эта ассоциация определяет рейтинг компьютерных игр и присваивает им подходящую возрастную категорию.\n"
   ]
  },
  
  {
   "cell_type": "markdown",
   "metadata": {},
   "source": [
    "## Импортируем библиотеки и откроем файл с данными"
   ]
  },
  {
   "cell_type": "code",
   "execution_count": 1,
   "metadata": {},
   "outputs": [],
   "source": [
    "import pandas as pd\n",
    "import numpy as np\n",
    "import matplotlib.pyplot as plt\n",
    "import seaborn as sns\n",
    "\n",
    "from datetime import datetime\n",
    "from scipy import stats as st"
   ]
  },
  {
   "cell_type": "code",
   "execution_count": 2,
   "metadata": {},
   "outputs": [],
   "source": [
    "pd.set_option('display.max_columns', None)\n",
    "pd.options.display.float_format = '{:,.2f}'.format"
   ]
  },
  {
   "cell_type": "code",
   "execution_count": 3,
   "metadata": {},
   "outputs": [
    {
     "data": {
      "text/html": [
       "<div>\n",
       "<style scoped>\n",
       "    .dataframe tbody tr th:only-of-type {\n",
       "        vertical-align: middle;\n",
       "    }\n",
       "\n",
       "    .dataframe tbody tr th {\n",
       "        vertical-align: top;\n",
       "    }\n",
       "\n",
       "    .dataframe thead th {\n",
       "        text-align: right;\n",
       "    }\n",
       "</style>\n",
       "<table border=\"1\" class=\"dataframe\">\n",
       "  <thead>\n",
       "    <tr style=\"text-align: right;\">\n",
       "      <th></th>\n",
       "      <th>Name</th>\n",
       "      <th>Platform</th>\n",
       "      <th>Year_of_Release</th>\n",
       "      <th>Genre</th>\n",
       "      <th>NA_sales</th>\n",
       "      <th>EU_sales</th>\n",
       "      <th>JP_sales</th>\n",
       "      <th>Other_sales</th>\n",
       "      <th>Critic_Score</th>\n",
       "      <th>User_Score</th>\n",
       "      <th>Rating</th>\n",
       "    </tr>\n",
       "  </thead>\n",
       "  <tbody>\n",
       "    <tr>\n",
       "      <th>0</th>\n",
       "      <td>Wii Sports</td>\n",
       "      <td>Wii</td>\n",
       "      <td>2,006.00</td>\n",
       "      <td>Sports</td>\n",
       "      <td>41.36</td>\n",
       "      <td>28.96</td>\n",
       "      <td>3.77</td>\n",
       "      <td>8.45</td>\n",
       "      <td>76.00</td>\n",
       "      <td>8</td>\n",
       "      <td>E</td>\n",
       "    </tr>\n",
       "    <tr>\n",
       "      <th>1</th>\n",
       "      <td>Super Mario Bros.</td>\n",
       "      <td>NES</td>\n",
       "      <td>1,985.00</td>\n",
       "      <td>Platform</td>\n",
       "      <td>29.08</td>\n",
       "      <td>3.58</td>\n",
       "      <td>6.81</td>\n",
       "      <td>0.77</td>\n",
       "      <td>NaN</td>\n",
       "      <td>NaN</td>\n",
       "      <td>NaN</td>\n",
       "    </tr>\n",
       "    <tr>\n",
       "      <th>2</th>\n",
       "      <td>Mario Kart Wii</td>\n",
       "      <td>Wii</td>\n",
       "      <td>2,008.00</td>\n",
       "      <td>Racing</td>\n",
       "      <td>15.68</td>\n",
       "      <td>12.76</td>\n",
       "      <td>3.79</td>\n",
       "      <td>3.29</td>\n",
       "      <td>82.00</td>\n",
       "      <td>8.3</td>\n",
       "      <td>E</td>\n",
       "    </tr>\n",
       "    <tr>\n",
       "      <th>3</th>\n",
       "      <td>Wii Sports Resort</td>\n",
       "      <td>Wii</td>\n",
       "      <td>2,009.00</td>\n",
       "      <td>Sports</td>\n",
       "      <td>15.61</td>\n",
       "      <td>10.93</td>\n",
       "      <td>3.28</td>\n",
       "      <td>2.95</td>\n",
       "      <td>80.00</td>\n",
       "      <td>8</td>\n",
       "      <td>E</td>\n",
       "    </tr>\n",
       "    <tr>\n",
       "      <th>4</th>\n",
       "      <td>Pokemon Red/Pokemon Blue</td>\n",
       "      <td>GB</td>\n",
       "      <td>1,996.00</td>\n",
       "      <td>Role-Playing</td>\n",
       "      <td>11.27</td>\n",
       "      <td>8.89</td>\n",
       "      <td>10.22</td>\n",
       "      <td>1.00</td>\n",
       "      <td>NaN</td>\n",
       "      <td>NaN</td>\n",
       "      <td>NaN</td>\n",
       "    </tr>\n",
       "  </tbody>\n",
       "</table>\n",
       "</div>"
      ],
      "text/plain": [
       "                       Name Platform  Year_of_Release         Genre  NA_sales  \\\n",
       "0                Wii Sports      Wii         2,006.00        Sports     41.36   \n",
       "1         Super Mario Bros.      NES         1,985.00      Platform     29.08   \n",
       "2            Mario Kart Wii      Wii         2,008.00        Racing     15.68   \n",
       "3         Wii Sports Resort      Wii         2,009.00        Sports     15.61   \n",
       "4  Pokemon Red/Pokemon Blue       GB         1,996.00  Role-Playing     11.27   \n",
       "\n",
       "   EU_sales  JP_sales  Other_sales  Critic_Score User_Score Rating  \n",
       "0     28.96      3.77         8.45         76.00          8      E  \n",
       "1      3.58      6.81         0.77           NaN        NaN    NaN  \n",
       "2     12.76      3.79         3.29         82.00        8.3      E  \n",
       "3     10.93      3.28         2.95         80.00          8      E  \n",
       "4      8.89     10.22         1.00           NaN        NaN    NaN  "
      ]
     },
     "execution_count": 3,
     "metadata": {},
     "output_type": "execute_result"
    }
   ],
   "source": [
    "games = pd.read_csv('/datasets/games.csv')\n",
    "games.head()"
   ]
  },
  {
   "cell_type": "code",
   "execution_count": 4,
   "metadata": {},
   "outputs": [
    {
     "name": "stdout",
     "output_type": "stream",
     "text": [
      "<class 'pandas.core.frame.DataFrame'>\n",
      "RangeIndex: 16715 entries, 0 to 16714\n",
      "Data columns (total 11 columns):\n",
      " #   Column           Non-Null Count  Dtype  \n",
      "---  ------           --------------  -----  \n",
      " 0   Name             16713 non-null  object \n",
      " 1   Platform         16715 non-null  object \n",
      " 2   Year_of_Release  16446 non-null  float64\n",
      " 3   Genre            16713 non-null  object \n",
      " 4   NA_sales         16715 non-null  float64\n",
      " 5   EU_sales         16715 non-null  float64\n",
      " 6   JP_sales         16715 non-null  float64\n",
      " 7   Other_sales      16715 non-null  float64\n",
      " 8   Critic_Score     8137 non-null   float64\n",
      " 9   User_Score       10014 non-null  object \n",
      " 10  Rating           9949 non-null   object \n",
      "dtypes: float64(6), object(5)\n",
      "memory usage: 1.4+ MB\n"
     ]
    }
   ],
   "source": [
    "games.info()"
   ]
  },
  {
   "cell_type": "code",
   "execution_count": 5,
   "metadata": {},
   "outputs": [
    {
     "data": {
      "text/html": [
       "<div>\n",
       "<style scoped>\n",
       "    .dataframe tbody tr th:only-of-type {\n",
       "        vertical-align: middle;\n",
       "    }\n",
       "\n",
       "    .dataframe tbody tr th {\n",
       "        vertical-align: top;\n",
       "    }\n",
       "\n",
       "    .dataframe thead th {\n",
       "        text-align: right;\n",
       "    }\n",
       "</style>\n",
       "<table border=\"1\" class=\"dataframe\">\n",
       "  <thead>\n",
       "    <tr style=\"text-align: right;\">\n",
       "      <th></th>\n",
       "      <th>Year_of_Release</th>\n",
       "      <th>NA_sales</th>\n",
       "      <th>EU_sales</th>\n",
       "      <th>JP_sales</th>\n",
       "      <th>Other_sales</th>\n",
       "      <th>Critic_Score</th>\n",
       "    </tr>\n",
       "  </thead>\n",
       "  <tbody>\n",
       "    <tr>\n",
       "      <th>count</th>\n",
       "      <td>16,446.00</td>\n",
       "      <td>16,715.00</td>\n",
       "      <td>16,715.00</td>\n",
       "      <td>16,715.00</td>\n",
       "      <td>16,715.00</td>\n",
       "      <td>8,137.00</td>\n",
       "    </tr>\n",
       "    <tr>\n",
       "      <th>mean</th>\n",
       "      <td>2,006.48</td>\n",
       "      <td>0.26</td>\n",
       "      <td>0.15</td>\n",
       "      <td>0.08</td>\n",
       "      <td>0.05</td>\n",
       "      <td>68.97</td>\n",
       "    </tr>\n",
       "    <tr>\n",
       "      <th>std</th>\n",
       "      <td>5.88</td>\n",
       "      <td>0.81</td>\n",
       "      <td>0.50</td>\n",
       "      <td>0.31</td>\n",
       "      <td>0.19</td>\n",
       "      <td>13.94</td>\n",
       "    </tr>\n",
       "    <tr>\n",
       "      <th>min</th>\n",
       "      <td>1,980.00</td>\n",
       "      <td>0.00</td>\n",
       "      <td>0.00</td>\n",
       "      <td>0.00</td>\n",
       "      <td>0.00</td>\n",
       "      <td>13.00</td>\n",
       "    </tr>\n",
       "    <tr>\n",
       "      <th>25%</th>\n",
       "      <td>2,003.00</td>\n",
       "      <td>0.00</td>\n",
       "      <td>0.00</td>\n",
       "      <td>0.00</td>\n",
       "      <td>0.00</td>\n",
       "      <td>60.00</td>\n",
       "    </tr>\n",
       "    <tr>\n",
       "      <th>50%</th>\n",
       "      <td>2,007.00</td>\n",
       "      <td>0.08</td>\n",
       "      <td>0.02</td>\n",
       "      <td>0.00</td>\n",
       "      <td>0.01</td>\n",
       "      <td>71.00</td>\n",
       "    </tr>\n",
       "    <tr>\n",
       "      <th>75%</th>\n",
       "      <td>2,010.00</td>\n",
       "      <td>0.24</td>\n",
       "      <td>0.11</td>\n",
       "      <td>0.04</td>\n",
       "      <td>0.03</td>\n",
       "      <td>79.00</td>\n",
       "    </tr>\n",
       "    <tr>\n",
       "      <th>max</th>\n",
       "      <td>2,016.00</td>\n",
       "      <td>41.36</td>\n",
       "      <td>28.96</td>\n",
       "      <td>10.22</td>\n",
       "      <td>10.57</td>\n",
       "      <td>98.00</td>\n",
       "    </tr>\n",
       "  </tbody>\n",
       "</table>\n",
       "</div>"
      ],
      "text/plain": [
       "       Year_of_Release  NA_sales  EU_sales  JP_sales  Other_sales  \\\n",
       "count        16,446.00 16,715.00 16,715.00 16,715.00    16,715.00   \n",
       "mean          2,006.48      0.26      0.15      0.08         0.05   \n",
       "std               5.88      0.81      0.50      0.31         0.19   \n",
       "min           1,980.00      0.00      0.00      0.00         0.00   \n",
       "25%           2,003.00      0.00      0.00      0.00         0.00   \n",
       "50%           2,007.00      0.08      0.02      0.00         0.01   \n",
       "75%           2,010.00      0.24      0.11      0.04         0.03   \n",
       "max           2,016.00     41.36     28.96     10.22        10.57   \n",
       "\n",
       "       Critic_Score  \n",
       "count      8,137.00  \n",
       "mean          68.97  \n",
       "std           13.94  \n",
       "min           13.00  \n",
       "25%           60.00  \n",
       "50%           71.00  \n",
       "75%           79.00  \n",
       "max           98.00  "
      ]
     },
     "execution_count": 5,
     "metadata": {},
     "output_type": "execute_result"
    }
   ],
   "source": [
    "games.describe()"
   ]
  },
  {
   "cell_type": "markdown",
   "metadata": {},
   "source": [
    "На основе общей информации видим, что в 6 из 11 столбцов есть пропуски в данных. В некоторых столбцах это незначительный процент от общего числа строк, а где-то и около половины.  \n",
    "В датафрейме присутствует 2 типа данных и есть что преобразовывать (например, 'Year_of_Release' правильно будет перевести из вещественного типа в целочисленный, а 'User_Score' из объектного в вещественный).  \n",
    "В названии столбцов скачет регистр."
   ]
  },
  {
   "cell_type": "markdown",
   "metadata": {},
   "source": [
    "## Подготовка данных"
   ]
  },
  {
   "cell_type": "code",
   "execution_count": 6,
   "metadata": {},
   "outputs": [
    {
     "data": {
      "text/plain": [
       "['Name',\n",
       " 'Platform',\n",
       " 'Year_of_Release',\n",
       " 'Genre',\n",
       " 'NA_sales',\n",
       " 'EU_sales',\n",
       " 'JP_sales',\n",
       " 'Other_sales',\n",
       " 'Critic_Score',\n",
       " 'User_Score',\n",
       " 'Rating']"
      ]
     },
     "execution_count": 6,
     "metadata": {},
     "output_type": "execute_result"
    }
   ],
   "source": [
    "# посмотрим на названия столбцов\n",
    "games.columns.tolist()"
   ]
  },
  {
   "cell_type": "code",
   "execution_count": 7,
   "metadata": {},
   "outputs": [],
   "source": [
    "# приведём названия столбцов к нижнему регистру\n",
    "games.columns = games.columns.str.lower()"
   ]
  },
  {
   "cell_type": "code",
   "execution_count": 8,
   "metadata": {},
   "outputs": [
    {
     "data": {
      "text/html": [
       "<div>\n",
       "<style scoped>\n",
       "    .dataframe tbody tr th:only-of-type {\n",
       "        vertical-align: middle;\n",
       "    }\n",
       "\n",
       "    .dataframe tbody tr th {\n",
       "        vertical-align: top;\n",
       "    }\n",
       "\n",
       "    .dataframe thead th {\n",
       "        text-align: right;\n",
       "    }\n",
       "</style>\n",
       "<table border=\"1\" class=\"dataframe\">\n",
       "  <thead>\n",
       "    <tr style=\"text-align: right;\">\n",
       "      <th></th>\n",
       "      <th>name</th>\n",
       "      <th>platform</th>\n",
       "      <th>year_of_release</th>\n",
       "      <th>genre</th>\n",
       "      <th>na_sales</th>\n",
       "      <th>eu_sales</th>\n",
       "      <th>jp_sales</th>\n",
       "      <th>other_sales</th>\n",
       "      <th>critic_score</th>\n",
       "      <th>user_score</th>\n",
       "      <th>rating</th>\n",
       "    </tr>\n",
       "  </thead>\n",
       "  <tbody>\n",
       "    <tr>\n",
       "      <th>0</th>\n",
       "      <td>Wii Sports</td>\n",
       "      <td>Wii</td>\n",
       "      <td>2,006.00</td>\n",
       "      <td>Sports</td>\n",
       "      <td>41.36</td>\n",
       "      <td>28.96</td>\n",
       "      <td>3.77</td>\n",
       "      <td>8.45</td>\n",
       "      <td>76.00</td>\n",
       "      <td>8</td>\n",
       "      <td>E</td>\n",
       "    </tr>\n",
       "    <tr>\n",
       "      <th>1</th>\n",
       "      <td>Super Mario Bros.</td>\n",
       "      <td>NES</td>\n",
       "      <td>1,985.00</td>\n",
       "      <td>Platform</td>\n",
       "      <td>29.08</td>\n",
       "      <td>3.58</td>\n",
       "      <td>6.81</td>\n",
       "      <td>0.77</td>\n",
       "      <td>NaN</td>\n",
       "      <td>NaN</td>\n",
       "      <td>NaN</td>\n",
       "    </tr>\n",
       "    <tr>\n",
       "      <th>2</th>\n",
       "      <td>Mario Kart Wii</td>\n",
       "      <td>Wii</td>\n",
       "      <td>2,008.00</td>\n",
       "      <td>Racing</td>\n",
       "      <td>15.68</td>\n",
       "      <td>12.76</td>\n",
       "      <td>3.79</td>\n",
       "      <td>3.29</td>\n",
       "      <td>82.00</td>\n",
       "      <td>8.3</td>\n",
       "      <td>E</td>\n",
       "    </tr>\n",
       "    <tr>\n",
       "      <th>3</th>\n",
       "      <td>Wii Sports Resort</td>\n",
       "      <td>Wii</td>\n",
       "      <td>2,009.00</td>\n",
       "      <td>Sports</td>\n",
       "      <td>15.61</td>\n",
       "      <td>10.93</td>\n",
       "      <td>3.28</td>\n",
       "      <td>2.95</td>\n",
       "      <td>80.00</td>\n",
       "      <td>8</td>\n",
       "      <td>E</td>\n",
       "    </tr>\n",
       "    <tr>\n",
       "      <th>4</th>\n",
       "      <td>Pokemon Red/Pokemon Blue</td>\n",
       "      <td>GB</td>\n",
       "      <td>1,996.00</td>\n",
       "      <td>Role-Playing</td>\n",
       "      <td>11.27</td>\n",
       "      <td>8.89</td>\n",
       "      <td>10.22</td>\n",
       "      <td>1.00</td>\n",
       "      <td>NaN</td>\n",
       "      <td>NaN</td>\n",
       "      <td>NaN</td>\n",
       "    </tr>\n",
       "  </tbody>\n",
       "</table>\n",
       "</div>"
      ],
      "text/plain": [
       "                       name platform  year_of_release         genre  na_sales  \\\n",
       "0                Wii Sports      Wii         2,006.00        Sports     41.36   \n",
       "1         Super Mario Bros.      NES         1,985.00      Platform     29.08   \n",
       "2            Mario Kart Wii      Wii         2,008.00        Racing     15.68   \n",
       "3         Wii Sports Resort      Wii         2,009.00        Sports     15.61   \n",
       "4  Pokemon Red/Pokemon Blue       GB         1,996.00  Role-Playing     11.27   \n",
       "\n",
       "   eu_sales  jp_sales  other_sales  critic_score user_score rating  \n",
       "0     28.96      3.77         8.45         76.00          8      E  \n",
       "1      3.58      6.81         0.77           NaN        NaN    NaN  \n",
       "2     12.76      3.79         3.29         82.00        8.3      E  \n",
       "3     10.93      3.28         2.95         80.00          8      E  \n",
       "4      8.89     10.22         1.00           NaN        NaN    NaN  "
      ]
     },
     "execution_count": 8,
     "metadata": {},
     "output_type": "execute_result"
    }
   ],
   "source": [
    "games.head()"
   ]
  },
  {
   "cell_type": "code",
   "execution_count": 9,
   "metadata": {},
   "outputs": [],
   "source": [
    "# заполним пропуски в колонке 'year_of_release' каким-нибудь годом из будущего (таким образом маркируем)\n",
    "games.year_of_release = games.year_of_release.fillna(2030)"
   ]
  },
  
  {
   "cell_type": "code",
   "execution_count": 10,
   "metadata": {},
   "outputs": [],
   "source": [
    "# преобразуем колонку 'year_of_release' из вещественного в целочисленный тип данных, т.к. год релиза это целое число\n",
    "games.year_of_release = games.year_of_release.astype(int)"
   ]
  },
  {
   "cell_type": "code",
   "execution_count": 11,
   "metadata": {},
   "outputs": [
    {
     "data": {
      "text/html": [
       "<div>\n",
       "<style scoped>\n",
       "    .dataframe tbody tr th:only-of-type {\n",
       "        vertical-align: middle;\n",
       "    }\n",
       "\n",
       "    .dataframe tbody tr th {\n",
       "        vertical-align: top;\n",
       "    }\n",
       "\n",
       "    .dataframe thead th {\n",
       "        text-align: right;\n",
       "    }\n",
       "</style>\n",
       "<table border=\"1\" class=\"dataframe\">\n",
       "  <thead>\n",
       "    <tr style=\"text-align: right;\">\n",
       "      <th></th>\n",
       "      <th>name</th>\n",
       "      <th>platform</th>\n",
       "      <th>year_of_release</th>\n",
       "      <th>genre</th>\n",
       "      <th>na_sales</th>\n",
       "      <th>eu_sales</th>\n",
       "      <th>jp_sales</th>\n",
       "      <th>other_sales</th>\n",
       "      <th>critic_score</th>\n",
       "      <th>user_score</th>\n",
       "      <th>rating</th>\n",
       "    </tr>\n",
       "  </thead>\n",
       "  <tbody>\n",
       "    <tr>\n",
       "      <th>0</th>\n",
       "      <td>Wii Sports</td>\n",
       "      <td>Wii</td>\n",
       "      <td>2006</td>\n",
       "      <td>Sports</td>\n",
       "      <td>41.36</td>\n",
       "      <td>28.96</td>\n",
       "      <td>3.77</td>\n",
       "      <td>8.45</td>\n",
       "      <td>76.00</td>\n",
       "      <td>8</td>\n",
       "      <td>E</td>\n",
       "    </tr>\n",
       "    <tr>\n",
       "      <th>1</th>\n",
       "      <td>Super Mario Bros.</td>\n",
       "      <td>NES</td>\n",
       "      <td>1985</td>\n",
       "      <td>Platform</td>\n",
       "      <td>29.08</td>\n",
       "      <td>3.58</td>\n",
       "      <td>6.81</td>\n",
       "      <td>0.77</td>\n",
       "      <td>NaN</td>\n",
       "      <td>NaN</td>\n",
       "      <td>NaN</td>\n",
       "    </tr>\n",
       "    <tr>\n",
       "      <th>2</th>\n",
       "      <td>Mario Kart Wii</td>\n",
       "      <td>Wii</td>\n",
       "      <td>2008</td>\n",
       "      <td>Racing</td>\n",
       "      <td>15.68</td>\n",
       "      <td>12.76</td>\n",
       "      <td>3.79</td>\n",
       "      <td>3.29</td>\n",
       "      <td>82.00</td>\n",
       "      <td>8.3</td>\n",
       "      <td>E</td>\n",
       "    </tr>\n",
       "    <tr>\n",
       "      <th>3</th>\n",
       "      <td>Wii Sports Resort</td>\n",
       "      <td>Wii</td>\n",
       "      <td>2009</td>\n",
       "      <td>Sports</td>\n",
       "      <td>15.61</td>\n",
       "      <td>10.93</td>\n",
       "      <td>3.28</td>\n",
       "      <td>2.95</td>\n",
       "      <td>80.00</td>\n",
       "      <td>8</td>\n",
       "      <td>E</td>\n",
       "    </tr>\n",
       "    <tr>\n",
       "      <th>4</th>\n",
       "      <td>Pokemon Red/Pokemon Blue</td>\n",
       "      <td>GB</td>\n",
       "      <td>1996</td>\n",
       "      <td>Role-Playing</td>\n",
       "      <td>11.27</td>\n",
       "      <td>8.89</td>\n",
       "      <td>10.22</td>\n",
       "      <td>1.00</td>\n",
       "      <td>NaN</td>\n",
       "      <td>NaN</td>\n",
       "      <td>NaN</td>\n",
       "    </tr>\n",
       "  </tbody>\n",
       "</table>\n",
       "</div>"
      ],
      "text/plain": [
       "                       name platform  year_of_release         genre  na_sales  \\\n",
       "0                Wii Sports      Wii             2006        Sports     41.36   \n",
       "1         Super Mario Bros.      NES             1985      Platform     29.08   \n",
       "2            Mario Kart Wii      Wii             2008        Racing     15.68   \n",
       "3         Wii Sports Resort      Wii             2009        Sports     15.61   \n",
       "4  Pokemon Red/Pokemon Blue       GB             1996  Role-Playing     11.27   \n",
       "\n",
       "   eu_sales  jp_sales  other_sales  critic_score user_score rating  \n",
       "0     28.96      3.77         8.45         76.00          8      E  \n",
       "1      3.58      6.81         0.77           NaN        NaN    NaN  \n",
       "2     12.76      3.79         3.29         82.00        8.3      E  \n",
       "3     10.93      3.28         2.95         80.00          8      E  \n",
       "4      8.89     10.22         1.00           NaN        NaN    NaN  "
      ]
     },
     "execution_count": 11,
     "metadata": {},
     "output_type": "execute_result"
    }
   ],
   "source": [
    "games.head()"
   ]
  },
  {
   "cell_type": "code",
   "execution_count": 12,
   "metadata": {},
   "outputs": [
    {
     "data": {
      "text/plain": [
       "array(['8', nan, '8.3', '8.5', '6.6', '8.4', '8.6', '7.7', '6.3', '7.4',\n",
       "       '8.2', '9', '7.9', '8.1', '8.7', '7.1', '3.4', '5.3', '4.8', '3.2',\n",
       "       '8.9', '6.4', '7.8', '7.5', '2.6', '7.2', '9.2', '7', '7.3', '4.3',\n",
       "       '7.6', '5.7', '5', '9.1', '6.5', 'tbd', '8.8', '6.9', '9.4', '6.8',\n",
       "       '6.1', '6.7', '5.4', '4', '4.9', '4.5', '9.3', '6.2', '4.2', '6',\n",
       "       '3.7', '4.1', '5.8', '5.6', '5.5', '4.4', '4.6', '5.9', '3.9',\n",
       "       '3.1', '2.9', '5.2', '3.3', '4.7', '5.1', '3.5', '2.5', '1.9', '3',\n",
       "       '2.7', '2.2', '2', '9.5', '2.1', '3.6', '2.8', '1.8', '3.8', '0',\n",
       "       '1.6', '9.6', '2.4', '1.7', '1.1', '0.3', '1.5', '0.7', '1.2',\n",
       "       '2.3', '0.5', '1.3', '0.2', '0.6', '1.4', '0.9', '1', '9.7'],\n",
       "      dtype=object)"
      ]
     },
     "execution_count": 12,
     "metadata": {},
     "output_type": "execute_result"
    }
   ],
   "source": [
    "# посмотрим на уникальные значения столбца 'user_score'\n",
    "games['user_score'].unique()"
   ]
  },
  {
   "cell_type": "code",
   "execution_count": 13,
   "metadata": {},
   "outputs": [
    {
     "data": {
      "text/plain": [
       "2424"
      ]
     },
     "execution_count": 13,
     "metadata": {},
     "output_type": "execute_result"
    }
   ],
   "source": [
    "# среди значений есть некая аббревиатура tbd, посмотрим сколько всего таких значений\n",
    "len(games[games['user_score'] == 'tbd'])\n"
   ]
  },
  {
   "cell_type": "code",
   "execution_count": 14,
   "metadata": {},
   "outputs": [
    {
     "data": {
      "text/html": [
       "<div>\n",
       "<style scoped>\n",
       "    .dataframe tbody tr th:only-of-type {\n",
       "        vertical-align: middle;\n",
       "    }\n",
       "\n",
       "    .dataframe tbody tr th {\n",
       "        vertical-align: top;\n",
       "    }\n",
       "\n",
       "    .dataframe thead th {\n",
       "        text-align: right;\n",
       "    }\n",
       "</style>\n",
       "<table border=\"1\" class=\"dataframe\">\n",
       "  <thead>\n",
       "    <tr style=\"text-align: right;\">\n",
       "      <th></th>\n",
       "      <th>name</th>\n",
       "      <th>platform</th>\n",
       "      <th>year_of_release</th>\n",
       "      <th>genre</th>\n",
       "      <th>na_sales</th>\n",
       "      <th>eu_sales</th>\n",
       "      <th>jp_sales</th>\n",
       "      <th>other_sales</th>\n",
       "      <th>critic_score</th>\n",
       "      <th>user_score</th>\n",
       "      <th>rating</th>\n",
       "    </tr>\n",
       "  </thead>\n",
       "  <tbody>\n",
       "    <tr>\n",
       "      <th>119</th>\n",
       "      <td>Zumba Fitness</td>\n",
       "      <td>Wii</td>\n",
       "      <td>2010</td>\n",
       "      <td>Sports</td>\n",
       "      <td>3.45</td>\n",
       "      <td>2.59</td>\n",
       "      <td>0.00</td>\n",
       "      <td>0.66</td>\n",
       "      <td>NaN</td>\n",
       "      <td>tbd</td>\n",
       "      <td>E</td>\n",
       "    </tr>\n",
       "    <tr>\n",
       "      <th>301</th>\n",
       "      <td>Namco Museum: 50th Anniversary</td>\n",
       "      <td>PS2</td>\n",
       "      <td>2005</td>\n",
       "      <td>Misc</td>\n",
       "      <td>2.08</td>\n",
       "      <td>1.35</td>\n",
       "      <td>0.00</td>\n",
       "      <td>0.54</td>\n",
       "      <td>61.00</td>\n",
       "      <td>tbd</td>\n",
       "      <td>E10+</td>\n",
       "    </tr>\n",
       "    <tr>\n",
       "      <th>520</th>\n",
       "      <td>Zumba Fitness 2</td>\n",
       "      <td>Wii</td>\n",
       "      <td>2011</td>\n",
       "      <td>Sports</td>\n",
       "      <td>1.51</td>\n",
       "      <td>1.03</td>\n",
       "      <td>0.00</td>\n",
       "      <td>0.27</td>\n",
       "      <td>NaN</td>\n",
       "      <td>tbd</td>\n",
       "      <td>T</td>\n",
       "    </tr>\n",
       "    <tr>\n",
       "      <th>645</th>\n",
       "      <td>uDraw Studio</td>\n",
       "      <td>Wii</td>\n",
       "      <td>2010</td>\n",
       "      <td>Misc</td>\n",
       "      <td>1.65</td>\n",
       "      <td>0.57</td>\n",
       "      <td>0.00</td>\n",
       "      <td>0.20</td>\n",
       "      <td>71.00</td>\n",
       "      <td>tbd</td>\n",
       "      <td>E</td>\n",
       "    </tr>\n",
       "    <tr>\n",
       "      <th>657</th>\n",
       "      <td>Frogger's Adventures: Temple of the Frog</td>\n",
       "      <td>GBA</td>\n",
       "      <td>2030</td>\n",
       "      <td>Adventure</td>\n",
       "      <td>2.15</td>\n",
       "      <td>0.18</td>\n",
       "      <td>0.00</td>\n",
       "      <td>0.07</td>\n",
       "      <td>73.00</td>\n",
       "      <td>tbd</td>\n",
       "      <td>E</td>\n",
       "    </tr>\n",
       "    <tr>\n",
       "      <th>718</th>\n",
       "      <td>Just Dance Kids</td>\n",
       "      <td>Wii</td>\n",
       "      <td>2010</td>\n",
       "      <td>Misc</td>\n",
       "      <td>1.52</td>\n",
       "      <td>0.54</td>\n",
       "      <td>0.00</td>\n",
       "      <td>0.18</td>\n",
       "      <td>NaN</td>\n",
       "      <td>tbd</td>\n",
       "      <td>E</td>\n",
       "    </tr>\n",
       "    <tr>\n",
       "      <th>726</th>\n",
       "      <td>Dance Dance Revolution X2</td>\n",
       "      <td>PS2</td>\n",
       "      <td>2009</td>\n",
       "      <td>Simulation</td>\n",
       "      <td>1.09</td>\n",
       "      <td>0.85</td>\n",
       "      <td>0.00</td>\n",
       "      <td>0.28</td>\n",
       "      <td>NaN</td>\n",
       "      <td>tbd</td>\n",
       "      <td>E10+</td>\n",
       "    </tr>\n",
       "    <tr>\n",
       "      <th>821</th>\n",
       "      <td>The Incredibles</td>\n",
       "      <td>GBA</td>\n",
       "      <td>2004</td>\n",
       "      <td>Action</td>\n",
       "      <td>1.15</td>\n",
       "      <td>0.77</td>\n",
       "      <td>0.04</td>\n",
       "      <td>0.10</td>\n",
       "      <td>55.00</td>\n",
       "      <td>tbd</td>\n",
       "      <td>E</td>\n",
       "    </tr>\n",
       "    <tr>\n",
       "      <th>881</th>\n",
       "      <td>Who wants to be a millionaire</td>\n",
       "      <td>PC</td>\n",
       "      <td>1999</td>\n",
       "      <td>Misc</td>\n",
       "      <td>1.94</td>\n",
       "      <td>0.00</td>\n",
       "      <td>0.00</td>\n",
       "      <td>0.00</td>\n",
       "      <td>NaN</td>\n",
       "      <td>tbd</td>\n",
       "      <td>E</td>\n",
       "    </tr>\n",
       "    <tr>\n",
       "      <th>1047</th>\n",
       "      <td>Tetris Worlds</td>\n",
       "      <td>GBA</td>\n",
       "      <td>2001</td>\n",
       "      <td>Puzzle</td>\n",
       "      <td>1.25</td>\n",
       "      <td>0.39</td>\n",
       "      <td>0.00</td>\n",
       "      <td>0.06</td>\n",
       "      <td>65.00</td>\n",
       "      <td>tbd</td>\n",
       "      <td>E</td>\n",
       "    </tr>\n",
       "    <tr>\n",
       "      <th>1048</th>\n",
       "      <td>Imagine: Teacher</td>\n",
       "      <td>DS</td>\n",
       "      <td>2008</td>\n",
       "      <td>Simulation</td>\n",
       "      <td>0.70</td>\n",
       "      <td>0.82</td>\n",
       "      <td>0.00</td>\n",
       "      <td>0.19</td>\n",
       "      <td>NaN</td>\n",
       "      <td>tbd</td>\n",
       "      <td>E</td>\n",
       "    </tr>\n",
       "    <tr>\n",
       "      <th>1069</th>\n",
       "      <td>Personal Trainer: Math</td>\n",
       "      <td>DS</td>\n",
       "      <td>2007</td>\n",
       "      <td>Puzzle</td>\n",
       "      <td>0.48</td>\n",
       "      <td>1.12</td>\n",
       "      <td>0.00</td>\n",
       "      <td>0.08</td>\n",
       "      <td>63.00</td>\n",
       "      <td>tbd</td>\n",
       "      <td>E</td>\n",
       "    </tr>\n",
       "    <tr>\n",
       "      <th>1070</th>\n",
       "      <td>Game Party 3</td>\n",
       "      <td>Wii</td>\n",
       "      <td>2009</td>\n",
       "      <td>Puzzle</td>\n",
       "      <td>1.40</td>\n",
       "      <td>0.16</td>\n",
       "      <td>0.00</td>\n",
       "      <td>0.12</td>\n",
       "      <td>37.00</td>\n",
       "      <td>tbd</td>\n",
       "      <td>E</td>\n",
       "    </tr>\n",
       "    <tr>\n",
       "      <th>1089</th>\n",
       "      <td>Monsters, Inc.</td>\n",
       "      <td>GBA</td>\n",
       "      <td>2001</td>\n",
       "      <td>Adventure</td>\n",
       "      <td>0.59</td>\n",
       "      <td>0.95</td>\n",
       "      <td>0.03</td>\n",
       "      <td>0.10</td>\n",
       "      <td>NaN</td>\n",
       "      <td>tbd</td>\n",
       "      <td>E</td>\n",
       "    </tr>\n",
       "    <tr>\n",
       "      <th>1151</th>\n",
       "      <td>SpongeBob's Atlantis SquarePantis</td>\n",
       "      <td>DS</td>\n",
       "      <td>2007</td>\n",
       "      <td>Action</td>\n",
       "      <td>1.49</td>\n",
       "      <td>0.00</td>\n",
       "      <td>0.00</td>\n",
       "      <td>0.11</td>\n",
       "      <td>64.00</td>\n",
       "      <td>tbd</td>\n",
       "      <td>E</td>\n",
       "    </tr>\n",
       "  </tbody>\n",
       "</table>\n",
       "</div>"
      ],
      "text/plain": [
       "                                          name platform  year_of_release  \\\n",
       "119                              Zumba Fitness      Wii             2010   \n",
       "301             Namco Museum: 50th Anniversary      PS2             2005   \n",
       "520                            Zumba Fitness 2      Wii             2011   \n",
       "645                               uDraw Studio      Wii             2010   \n",
       "657   Frogger's Adventures: Temple of the Frog      GBA             2030   \n",
       "718                            Just Dance Kids      Wii             2010   \n",
       "726                  Dance Dance Revolution X2      PS2             2009   \n",
       "821                            The Incredibles      GBA             2004   \n",
       "881              Who wants to be a millionaire       PC             1999   \n",
       "1047                             Tetris Worlds      GBA             2001   \n",
       "1048                          Imagine: Teacher       DS             2008   \n",
       "1069                    Personal Trainer: Math       DS             2007   \n",
       "1070                              Game Party 3      Wii             2009   \n",
       "1089                            Monsters, Inc.      GBA             2001   \n",
       "1151         SpongeBob's Atlantis SquarePantis       DS             2007   \n",
       "\n",
       "           genre  na_sales  eu_sales  jp_sales  other_sales  critic_score  \\\n",
       "119       Sports      3.45      2.59      0.00         0.66           NaN   \n",
       "301         Misc      2.08      1.35      0.00         0.54         61.00   \n",
       "520       Sports      1.51      1.03      0.00         0.27           NaN   \n",
       "645         Misc      1.65      0.57      0.00         0.20         71.00   \n",
       "657    Adventure      2.15      0.18      0.00         0.07         73.00   \n",
       "718         Misc      1.52      0.54      0.00         0.18           NaN   \n",
       "726   Simulation      1.09      0.85      0.00         0.28           NaN   \n",
       "821       Action      1.15      0.77      0.04         0.10         55.00   \n",
       "881         Misc      1.94      0.00      0.00         0.00           NaN   \n",
       "1047      Puzzle      1.25      0.39      0.00         0.06         65.00   \n",
       "1048  Simulation      0.70      0.82      0.00         0.19           NaN   \n",
       "1069      Puzzle      0.48      1.12      0.00         0.08         63.00   \n",
       "1070      Puzzle      1.40      0.16      0.00         0.12         37.00   \n",
       "1089   Adventure      0.59      0.95      0.03         0.10           NaN   \n",
       "1151      Action      1.49      0.00      0.00         0.11         64.00   \n",
       "\n",
       "     user_score rating  \n",
       "119         tbd      E  \n",
       "301         tbd   E10+  \n",
       "520         tbd      T  \n",
       "645         tbd      E  \n",
       "657         tbd      E  \n",
       "718         tbd      E  \n",
       "726         tbd   E10+  \n",
       "821         tbd      E  \n",
       "881         tbd      E  \n",
       "1047        tbd      E  \n",
       "1048        tbd      E  \n",
       "1069        tbd      E  \n",
       "1070        tbd      E  \n",
       "1089        tbd      E  \n",
       "1151        tbd      E  "
      ]
     },
     "execution_count": 14,
     "metadata": {},
     "output_type": "execute_result"
    }
   ],
   "source": [
    "# посмотрим взаимосвязь с другими данными\n",
    "games[games['user_score'] == 'tbd'].head(15)"
   ]
  },
  {
   "cell_type": "code",
   "execution_count": 15,
   "metadata": {},
   "outputs": [
    {
     "data": {
      "text/plain": [
       "array([2010, 2005, 2011, 2030, 2009, 2004, 1999, 2001, 2008, 2007, 2003,\n",
       "       2000, 2006, 2002, 2015, 2014, 2012, 2013, 2016, 1997])"
      ]
     },
     "execution_count": 15,
     "metadata": {},
     "output_type": "execute_result"
    }
   ],
   "source": [
    "# посмотрим в каких годах было данное значение пользовательской оценки\n",
    "games[games['user_score'] == 'tbd'].year_of_release.unique()"
   ]
  },
  {
   "cell_type": "markdown",
   "metadata": {},
   "source": [
    "Взаимосвязь аббревиатуры tbd с другими данными не прослеживается и значение это было в разные годы.  \n",
    "Аббревиатура \"tbd\" означает \"to be defined\" - предстоит определить, то есть это пропуск в данных."
   ]
  },
  
  {
   "cell_type": "code",
   "execution_count": 16,
   "metadata": {},
   "outputs": [],
   "source": [
    "# так как значение tbd мешает приведению колонки к вещественному типу данных, то заменим его на \"nan\"\n",
    "games.loc[games['user_score'] == 'tbd','user_score'] = np.nan"
   ]
  },
  {
   "cell_type": "code",
   "execution_count": 17,
   "metadata": {},
   "outputs": [],
   "source": [
    "# т.к. значения пользовательской оценки представлены числами с плавающей точкой, то приведём их к соответсвующему типу float64\n",
    "games['user_score'] = games['user_score'].astype('float')"
   ]
  },
  {
   "cell_type": "code",
   "execution_count": 18,
   "metadata": {},
   "outputs": [
    {
     "name": "stdout",
     "output_type": "stream",
     "text": [
      "<class 'pandas.core.frame.DataFrame'>\n",
      "RangeIndex: 16715 entries, 0 to 16714\n",
      "Data columns (total 11 columns):\n",
      " #   Column           Non-Null Count  Dtype  \n",
      "---  ------           --------------  -----  \n",
      " 0   name             16713 non-null  object \n",
      " 1   platform         16715 non-null  object \n",
      " 2   year_of_release  16715 non-null  int64  \n",
      " 3   genre            16713 non-null  object \n",
      " 4   na_sales         16715 non-null  float64\n",
      " 5   eu_sales         16715 non-null  float64\n",
      " 6   jp_sales         16715 non-null  float64\n",
      " 7   other_sales      16715 non-null  float64\n",
      " 8   critic_score     8137 non-null   float64\n",
      " 9   user_score       7590 non-null   float64\n",
      " 10  rating           9949 non-null   object \n",
      "dtypes: float64(6), int64(1), object(4)\n",
      "memory usage: 1.4+ MB\n"
     ]
    }
   ],
   "source": [
    "games.info()"
   ]
  },
  {
   "cell_type": "code",
   "execution_count": 19,
   "metadata": {},
   "outputs": [
    {
     "data": {
      "text/plain": [
       "0"
      ]
     },
     "execution_count": 19,
     "metadata": {},
     "output_type": "execute_result"
    }
   ],
   "source": [
    "# посмотрим есть ли явные дубликаты\n",
    "games.duplicated().sum()"
   ]
  },
  {
   "cell_type": "code",
   "execution_count": 20,
   "metadata": {},
   "outputs": [
    {
     "data": {
      "text/plain": [
       "name                  2\n",
       "platform              0\n",
       "year_of_release       0\n",
       "genre                 2\n",
       "na_sales              0\n",
       "eu_sales              0\n",
       "jp_sales              0\n",
       "other_sales           0\n",
       "critic_score       8578\n",
       "user_score         9125\n",
       "rating             6766\n",
       "dtype: int64"
      ]
     },
     "execution_count": 20,
     "metadata": {},
     "output_type": "execute_result"
    }
   ],
   "source": [
    "# выведем на экран количество пропусков по каждому столбцу\n",
    "games.isna().sum()"
   ]
  },
  {
   "cell_type": "code",
   "execution_count": 21,
   "metadata": {},
   "outputs": [
    {
     "data": {
      "text/plain": [
       "name               0.01\n",
       "platform           0.00\n",
       "year_of_release    0.00\n",
       "genre              0.01\n",
       "na_sales           0.00\n",
       "eu_sales           0.00\n",
       "jp_sales           0.00\n",
       "other_sales        0.00\n",
       "critic_score      51.32\n",
       "user_score        54.59\n",
       "rating            40.48\n",
       "dtype: float64"
      ]
     },
     "execution_count": 21,
     "metadata": {},
     "output_type": "execute_result"
    }
   ],
   "source": [
    "# посмотрим теперь в процентах\n",
    "games.isna().sum()/games.shape[0]*100"
   ]
  },
  {
   "cell_type": "markdown",
   "metadata": {},
   "source": [
    "Пропуски оценок (критиков и пользователей)скорее всего связаны с тем, что не каждая игра оценивается критиками и есть игры,которые не были распространены в некоторых локациях.  \n",
    "И заполнить их существующими оценками этих же игр на других платформах было бы неправильно,т.к. если, например,на одной платформе игра понравилась пользователям, то не факт,что и на другой платформе она в той же мере понравится пользователям."
   ]
  },
  {
   "cell_type": "code",
   "execution_count": 22,
   "metadata": {},
   "outputs": [],
   "source": [
    "# поэтому маркируем их -1\n",
    "games['user_score'] = games['user_score'].fillna(-1)\n",
    "games['critic_score'] = games['critic_score'].fillna(-1)"
   ]
  },
  {
   "cell_type": "code",
   "execution_count": 23,
   "metadata": {},
   "outputs": [],
   "source": [
    "# у двух безымянных игр есть продажи и соответственно прибыли, поэтому их оставим и маркируем\n",
    "games['name'] = games['name'].fillna('no name')"
   ]
  },
  {
   "cell_type": "code",
   "execution_count": 24,
   "metadata": {},
   "outputs": [],
   "source": [
    "# Игры на разных платформах могут отличаться рейтингом, поэтому их просто маркируем\n",
    "games['rating'] = games['rating'].fillna('no rating')"
   ]
  },
  {
   "cell_type": "code",
   "execution_count": 25,
   "metadata": {},
   "outputs": [],
   "source": [
    "games['genre'] = games['genre'].fillna('no genre')"
   ]
  },
  {
   "cell_type": "code",
   "execution_count": 26,
   "metadata": {},
   "outputs": [],
   "source": [
    "# Посчитаем суммарные продажи во всех регионах и запишем их в отдельный столбец\n",
    "\n",
    "games['total_sales'] = games[['na_sales','eu_sales','jp_sales', 'other_sales']].sum(axis = 1)"
   ]
  },
  {
   "cell_type": "code",
   "execution_count": 27,
   "metadata": {},
   "outputs": [
    {
     "data": {
      "text/html": [
       "<div>\n",
       "<style scoped>\n",
       "    .dataframe tbody tr th:only-of-type {\n",
       "        vertical-align: middle;\n",
       "    }\n",
       "\n",
       "    .dataframe tbody tr th {\n",
       "        vertical-align: top;\n",
       "    }\n",
       "\n",
       "    .dataframe thead th {\n",
       "        text-align: right;\n",
       "    }\n",
       "</style>\n",
       "<table border=\"1\" class=\"dataframe\">\n",
       "  <thead>\n",
       "    <tr style=\"text-align: right;\">\n",
       "      <th></th>\n",
       "      <th>name</th>\n",
       "      <th>platform</th>\n",
       "      <th>year_of_release</th>\n",
       "      <th>genre</th>\n",
       "      <th>na_sales</th>\n",
       "      <th>eu_sales</th>\n",
       "      <th>jp_sales</th>\n",
       "      <th>other_sales</th>\n",
       "      <th>critic_score</th>\n",
       "      <th>user_score</th>\n",
       "      <th>rating</th>\n",
       "      <th>total_sales</th>\n",
       "    </tr>\n",
       "  </thead>\n",
       "  <tbody>\n",
       "    <tr>\n",
       "      <th>0</th>\n",
       "      <td>Wii Sports</td>\n",
       "      <td>Wii</td>\n",
       "      <td>2006</td>\n",
       "      <td>Sports</td>\n",
       "      <td>41.36</td>\n",
       "      <td>28.96</td>\n",
       "      <td>3.77</td>\n",
       "      <td>8.45</td>\n",
       "      <td>76.00</td>\n",
       "      <td>8.00</td>\n",
       "      <td>E</td>\n",
       "      <td>82.54</td>\n",
       "    </tr>\n",
       "    <tr>\n",
       "      <th>1</th>\n",
       "      <td>Super Mario Bros.</td>\n",
       "      <td>NES</td>\n",
       "      <td>1985</td>\n",
       "      <td>Platform</td>\n",
       "      <td>29.08</td>\n",
       "      <td>3.58</td>\n",
       "      <td>6.81</td>\n",
       "      <td>0.77</td>\n",
       "      <td>-1.00</td>\n",
       "      <td>-1.00</td>\n",
       "      <td>no rating</td>\n",
       "      <td>40.24</td>\n",
       "    </tr>\n",
       "    <tr>\n",
       "      <th>2</th>\n",
       "      <td>Mario Kart Wii</td>\n",
       "      <td>Wii</td>\n",
       "      <td>2008</td>\n",
       "      <td>Racing</td>\n",
       "      <td>15.68</td>\n",
       "      <td>12.76</td>\n",
       "      <td>3.79</td>\n",
       "      <td>3.29</td>\n",
       "      <td>82.00</td>\n",
       "      <td>8.30</td>\n",
       "      <td>E</td>\n",
       "      <td>35.52</td>\n",
       "    </tr>\n",
       "    <tr>\n",
       "      <th>3</th>\n",
       "      <td>Wii Sports Resort</td>\n",
       "      <td>Wii</td>\n",
       "      <td>2009</td>\n",
       "      <td>Sports</td>\n",
       "      <td>15.61</td>\n",
       "      <td>10.93</td>\n",
       "      <td>3.28</td>\n",
       "      <td>2.95</td>\n",
       "      <td>80.00</td>\n",
       "      <td>8.00</td>\n",
       "      <td>E</td>\n",
       "      <td>32.77</td>\n",
       "    </tr>\n",
       "    <tr>\n",
       "      <th>4</th>\n",
       "      <td>Pokemon Red/Pokemon Blue</td>\n",
       "      <td>GB</td>\n",
       "      <td>1996</td>\n",
       "      <td>Role-Playing</td>\n",
       "      <td>11.27</td>\n",
       "      <td>8.89</td>\n",
       "      <td>10.22</td>\n",
       "      <td>1.00</td>\n",
       "      <td>-1.00</td>\n",
       "      <td>-1.00</td>\n",
       "      <td>no rating</td>\n",
       "      <td>31.38</td>\n",
       "    </tr>\n",
       "  </tbody>\n",
       "</table>\n",
       "</div>"
      ],
      "text/plain": [
       "                       name platform  year_of_release         genre  na_sales  \\\n",
       "0                Wii Sports      Wii             2006        Sports     41.36   \n",
       "1         Super Mario Bros.      NES             1985      Platform     29.08   \n",
       "2            Mario Kart Wii      Wii             2008        Racing     15.68   \n",
       "3         Wii Sports Resort      Wii             2009        Sports     15.61   \n",
       "4  Pokemon Red/Pokemon Blue       GB             1996  Role-Playing     11.27   \n",
       "\n",
       "   eu_sales  jp_sales  other_sales  critic_score  user_score     rating  \\\n",
       "0     28.96      3.77         8.45         76.00        8.00          E   \n",
       "1      3.58      6.81         0.77         -1.00       -1.00  no rating   \n",
       "2     12.76      3.79         3.29         82.00        8.30          E   \n",
       "3     10.93      3.28         2.95         80.00        8.00          E   \n",
       "4      8.89     10.22         1.00         -1.00       -1.00  no rating   \n",
       "\n",
       "   total_sales  \n",
       "0        82.54  \n",
       "1        40.24  \n",
       "2        35.52  \n",
       "3        32.77  \n",
       "4        31.38  "
      ]
     },
     "execution_count": 27,
     "metadata": {},
     "output_type": "execute_result"
    }
   ],
   "source": [
    "games.head()"
   ]
  },
  {
   "cell_type": "markdown",
   "metadata": {},
   "source": [
    "## Исследовательский анализ данных"
   ]
  },
  {
   "cell_type": "code",
   "execution_count": 28,
   "metadata": {},
   "outputs": [
    {
     "data": {
      "text/plain": [
       "year_of_release\n",
       "1980       9\n",
       "1981      46\n",
       "1982      36\n",
       "1983      17\n",
       "1984      14\n",
       "1985      14\n",
       "1986      21\n",
       "1987      16\n",
       "1988      15\n",
       "1989      17\n",
       "1990      16\n",
       "1991      41\n",
       "1992      43\n",
       "1993      62\n",
       "1994     121\n",
       "1995     219\n",
       "1996     263\n",
       "1997     289\n",
       "1998     379\n",
       "1999     338\n",
       "2000     350\n",
       "2001     482\n",
       "2002     829\n",
       "2003     775\n",
       "2004     762\n",
       "2005     939\n",
       "2006    1006\n",
       "2007    1197\n",
       "2008    1427\n",
       "2009    1426\n",
       "2010    1255\n",
       "2011    1136\n",
       "2012     653\n",
       "2013     544\n",
       "2014     581\n",
       "2015     606\n",
       "2016     502\n",
       "2030     269\n",
       "Name: year_of_release, dtype: int64"
      ]
     },
     "execution_count": 28,
     "metadata": {},
     "output_type": "execute_result"
    }
   ],
   "source": [
    "# Посмотрим, сколько игр выпускалось в разные годы\n",
    "games.groupby('year_of_release')['year_of_release'].count()"
   ]
  },
  {
   "cell_type": "code",
   "execution_count": 29,
   "metadata": {},
   "outputs": [
    {
     "data": {
      "image/png": "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\n",
      "text/plain": [
       "<Figure size 576x360 with 1 Axes>"
      ]
     },
     "metadata": {
      "needs_background": "light"
     },
     "output_type": "display_data"
    }
   ],
   "source": [
    "(\n",
    "    games.query('year_of_release!= 2030')\n",
    "    .groupby('year_of_release')['year_of_release'].count()\n",
    "    .plot(grid=True,figsize=(8,5),title='Распределение по годам релиза')\n",
    ");"
   ]
  },
  {
   "cell_type": "markdown",
   "metadata": {},
   "source": [
    "Появились игры в 80-х и до середины 90-х не было сильного развития. Мощностей компьютеров явно не хватало, чтобы разгуляться гейм-мейкерам и ассортимент игр ограничивался простыми текстовыми квестами.  \n",
    "С 1994 года бурный рост мощностей компьютеров привёл к симметричному росту количества релизов.  \n",
    "После 2010 года видим спад количества релизов, скорее всего связано с насыщением рынка, переходом на мобильные платформы, ну и, видимо, уменьшилось количество инвесторов."
   ]
  },
  {
   "cell_type": "code",
   "execution_count": 30,
   "metadata": {},
   "outputs": [
    {
     "data": {
      "text/html": [
       "<div>\n",
       "<style scoped>\n",
       "    .dataframe tbody tr th:only-of-type {\n",
       "        vertical-align: middle;\n",
       "    }\n",
       "\n",
       "    .dataframe tbody tr th {\n",
       "        vertical-align: top;\n",
       "    }\n",
       "\n",
       "    .dataframe thead th {\n",
       "        text-align: right;\n",
       "    }\n",
       "</style>\n",
       "<table border=\"1\" class=\"dataframe\">\n",
       "  <thead>\n",
       "    <tr style=\"text-align: right;\">\n",
       "      <th></th>\n",
       "      <th>platform</th>\n",
       "      <th>total_sales</th>\n",
       "    </tr>\n",
       "  </thead>\n",
       "  <tbody>\n",
       "    <tr>\n",
       "      <th>16</th>\n",
       "      <td>PS2</td>\n",
       "      <td>1,255.77</td>\n",
       "    </tr>\n",
       "    <tr>\n",
       "      <th>28</th>\n",
       "      <td>X360</td>\n",
       "      <td>971.42</td>\n",
       "    </tr>\n",
       "    <tr>\n",
       "      <th>17</th>\n",
       "      <td>PS3</td>\n",
       "      <td>939.65</td>\n",
       "    </tr>\n",
       "    <tr>\n",
       "      <th>26</th>\n",
       "      <td>Wii</td>\n",
       "      <td>907.51</td>\n",
       "    </tr>\n",
       "    <tr>\n",
       "      <th>4</th>\n",
       "      <td>DS</td>\n",
       "      <td>806.12</td>\n",
       "    </tr>\n",
       "  </tbody>\n",
       "</table>\n",
       "</div>"
      ],
      "text/plain": [
       "   platform  total_sales\n",
       "16      PS2     1,255.77\n",
       "28     X360       971.42\n",
       "17      PS3       939.65\n",
       "26      Wii       907.51\n",
       "4        DS       806.12"
      ]
     },
     "execution_count": 30,
     "metadata": {},
     "output_type": "execute_result"
    }
   ],
   "source": [
    "# посмотрим суммарные продажами по платформам\n",
    "popular_platform = games.groupby('platform').agg({'total_sales':'sum'}).reset_index()\n",
    "popular_platform.sort_values(by='total_sales', ascending=False).head()"
   ]
  },
  {
   "cell_type": "markdown",
   "metadata": {},
   "source": [
    "Победителем по числу продаж является PS2"
   ]
  },
  {
   "cell_type": "code",
   "execution_count": 31,
   "metadata": {},
   "outputs": [
    {
     "data": {
      "text/plain": [
       "(1999.0, 2016.0, 0.0, 250.0)"
      ]
     },
     "execution_count": 31,
     "metadata": {},
     "output_type": "execute_result"
    },
    {
     "data": {
      "image/png": "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\n",
      "text/plain": [
       "<Figure size 1080x504 with 1 Axes>"
      ]
     },
     "metadata": {
      "needs_background": "light"
     },
     "output_type": "display_data"
    }
   ],
   "source": [
    "(\n",
    "games.query('platform == [\"PS2\",\"X360\",\"PS3\",\"Wii\",\"DS\"] and year_of_release !=2030')\n",
    "    .pivot_table(index='year_of_release',columns='platform',values='total_sales',aggfunc='sum')\n",
    "    .plot(grid=True,figsize=(15,7),title='Как менялись продажи по платформам')\n",
    ");\n",
    "plt.axis([1999,2016,0,250])"
   ]
  },
  {
   "cell_type": "markdown",
   "metadata": {},
   "source": [
    "Мы видим, что рост продаж игр для конкретных платформ происходит в первые 3-4 года жизни платформы и затем продажи сокращаются.  Срок жизни платформы составляет 8-10 лет.  \n",
    "Период появления новых платформ не более 4-х лет."
   ]
  },
  {
   "cell_type": "code",
   "execution_count": 32,
   "metadata": {},
   "outputs": [
    {
     "data": {
      "image/png": "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\n",
      "text/plain": [
       "<Figure size 1080x504 with 1 Axes>"
      ]
     },
     "metadata": {
      "needs_background": "light"
     },
     "output_type": "display_data"
    }
   ],
   "source": [
    "(\n",
    "games.query('year_of_release >=2012 and year_of_release !=2030')\n",
    "    .pivot_table(index='year_of_release',columns='platform',values='total_sales',aggfunc='sum')\n",
    "    .plot(grid=True,figsize=(15,7),ylabel='total_sales',title='Продажи по платформам за 2012-2016 гг')\n",
    ");"
   ]
  },
  {
   "cell_type": "markdown",
   "metadata": {},
   "source": [
    "Рассмотрев линии продаж по платформам за период 2012-2016 мы видим, что в 2017 году перестанут существовать сразу несколько платформ и учитывая, что появление новых платформ было крайний раз в 2013 году, и период появления новых составляет около 4-х лет, можно спрогнозировать, что в 2017 году появится одна или несколько новых платформ.  \n",
    "В 2014-2016 годах по продажам игр лидируют платформы PS4 и XOne. Их рост начинается с 2013 года и учитывая что цикл расцвета платформы около 4 лет и данные за 2016 год могут быть неполными, можем спрогнозировать,что и в 2017 году они будут занимать лидирующие позиции и будут интересны для создания под них игр.  \n",
    "С их появлением в 2013 году начали своё падение по продажам игр платформы PS3,3DS, усилилось падение X360. "
   ]
  },
  
  
  {
   "cell_type": "markdown",
   "metadata": {},
   "source": [
    "**Построим график «ящик с усами» по глобальным продажам игр в разбивке по платформам.**"
   ]
  },
  {
   "cell_type": "code",
   "execution_count": 33,
   "metadata": {},
   "outputs": [
    {
     "data": {
      "text/plain": [
       "count   16,715.00\n",
       "mean         0.53\n",
       "std          1.55\n",
       "min          0.00\n",
       "25%          0.06\n",
       "50%          0.17\n",
       "75%          0.47\n",
       "max         82.54\n",
       "Name: total_sales, dtype: float64"
      ]
     },
     "execution_count": 33,
     "metadata": {},
     "output_type": "execute_result"
    }
   ],
   "source": [
    "games.total_sales.describe()"
   ]
  },
  {
   "cell_type": "code",
   "execution_count": 34,
   "metadata": {},
   "outputs": [],
   "source": [
    "list_platform = popular_platform.sort_values(by='total_sales', ascending=False).head(10).platform.tolist()\n",
    "\n",
    "popular_platform = games.groupby(['platform','name']).agg({'total_sales':'sum'}).reset_index()\n",
    "popular_platform = popular_platform.query('platform in @list_platform')"
   ]
  },
  {
   "cell_type": "code",
   "execution_count": 35,
   "metadata": {},
   "outputs": [
    {
     "data": {
      "image/png": "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\n",
      "text/plain": [
       "<Figure size 432x288 with 1 Axes>"
      ]
     },
     "metadata": {
      "needs_background": "light"
     },
     "output_type": "display_data"
    }
   ],
   "source": [
    "# построим диаграммы размаха по ТОП-10 платформам\n",
    "sns.boxplot(data=popular_platform,x='platform',y='total_sales',showfliers=0);\n",
    "plt.title('Продажи игр в разбивке по платформам');"
   ]
  },
  
  {
   "cell_type": "markdown",
   "metadata": {},
   "source": [
    "Максимальные продажи наблюдаем у платформ линейки PS (1-4) и X360. Это видим по медианам.  \n",
    "У платформ PS3, PS4 и X360 третий квантиль выше,чем у остальных, что говорит о наличии выдающихся по продажам игр."
   ]
  },
  {
   "cell_type": "markdown",
   "metadata": {},
   "source": [
    "**Посмотрим, как влияют на продажи внутри одной популярной платформы отзывы пользователей и критиков**  \n",
    "Для примера выберем одну из популярных платформ - XBox 360"
   ]
  },
  {
   "cell_type": "code",
   "execution_count": 36,
   "metadata": {},
   "outputs": [
    {
     "name": "stdout",
     "output_type": "stream",
     "text": [
      "Корреляция между оценкой критиков и продажами: 0.31\n",
      "Корреляция между оценкой пользователей и продажами: 0.21\n"
     ]
    }
   ],
   "source": [
    "games2 = games.query('platform == \"X360\" and [critic_score,user_score] != -1')\n",
    "\n",
    "print(f'Корреляция между оценкой критиков и продажами: {games2.critic_score.corr(games2.total_sales):.2}')\n",
    "print(f'Корреляция между оценкой пользователей и продажами: {games2.user_score.corr(games2.total_sales):.2}')"
   ]
  },
  {
   "cell_type": "code",
   "execution_count": 37,
   "metadata": {},
   "outputs": [
    {
     "data": {
      "image/png": "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\n",
      "text/plain": [
       "<Figure size 720x360 with 1 Axes>"
      ]
     },
     "metadata": {
      "needs_background": "light"
     },
     "output_type": "display_data"
    }
   ],
   "source": [
    "# построим график рассеяния \n",
    "games2.plot.scatter('critic_score','total_sales',figsize=(10, 5), alpha=0.5, sharex=False)\n",
    "plt.xlabel('Рейтинг критиков')\n",
    "plt.ylabel('Продажи')\n",
    "plt.title('Влияние оценок критиков на уровень продаж')\n",
    "plt.show()"
   ]
  },
  {
   "cell_type": "code",
   "execution_count": 38,
   "metadata": {},
   "outputs": [
    {
     "data": {
      "image/png": "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\n",
      "text/plain": [
       "<Figure size 720x360 with 1 Axes>"
      ]
     },
     "metadata": {
      "needs_background": "light"
     },
     "output_type": "display_data"
    }
   ],
   "source": [
    "games2.plot.scatter('user_score','total_sales',figsize=(10, 5), alpha=0.5, sharex=False)\n",
    "plt.xlabel('Рейтинг пользователей')\n",
    "plt.ylabel('Продажи')\n",
    "plt.title('Влияние оценок пользователей на уровень продаж')\n",
    "plt.show()"
   ]
  },
  {
   "cell_type": "markdown",
   "metadata": {},
   "source": [
    "Мы видим,что корреляция между оценкой критиков и продажами игр небольшая, нелинейная.  \n",
    "Игры, по которым были хорошие продажи, чаще имели оценку более 80.  \n",
    "Корреляция между оценкой пользователей и продажами игр можно сказать отсутствует."
   ]
  },
  {
   "cell_type": "markdown",
   "metadata": {},
   "source": [
    "**Соотнесём выводы с продажами игр на других платформах.**  "
   ]
  },
  {
   "cell_type": "code",
   "execution_count": 39,
   "metadata": {},
   "outputs": [
    {
     "name": "stdout",
     "output_type": "stream",
     "text": [
      "Wii\n",
      "Корреляция между оценкой критиков и продажами: 0.19\n",
      "Корреляция между оценкой пользователей и продажами: 0.18\n",
      "------------------------------------------------------------\n",
      "PS2\n",
      "Корреляция между оценкой критиков и продажами: 0.3\n",
      "Корреляция между оценкой пользователей и продажами: 0.26\n",
      "------------------------------------------------------------\n",
      "PS3\n",
      "Корреляция между оценкой критиков и продажами: 0.35\n",
      "Корреляция между оценкой пользователей и продажами: 0.27\n",
      "------------------------------------------------------------\n",
      "PS4\n",
      "Корреляция между оценкой критиков и продажами: 0.23\n",
      "Корреляция между оценкой пользователей и продажами: 0.12\n",
      "------------------------------------------------------------\n"
     ]
    }
   ],
   "source": [
    "for p in [\"Wii\", \"PS2\", \"PS3\", \"PS4\"]:\n",
    "    print(p)\n",
    "    games2 = games.query('platform == @p and [critic_score,user_score] != -1')\n",
    "    print(f'Корреляция между оценкой критиков и продажами: {games2.critic_score.corr(games2.total_sales):.2}')\n",
    "    print(f'Корреляция между оценкой пользователей и продажами: {games2.user_score.corr(games2.total_sales):.2}')\n",
    "    print('--' * 30)"
   ]
  },
  {
   "cell_type": "markdown",
   "metadata": {},
   "source": [
    "Значения корреляций немного отличаются, но общий тренд тот же.  \n",
    "Корреляция оценок с продажами также очень слабая,особенно корреляция между оценкой пользователей и продажами.  \n",
    "Возможно, это связано и с тем, что далеко не все пользователи пишут отзывы и оставляют оценки."
   ]
  },
  {
   "cell_type": "markdown",
   "metadata": {},
   "source": [
    "**Посмотрим на общее распределение игр по жанрам**"
   ]
  },
  {
   "cell_type": "code",
   "execution_count": 40,
   "metadata": {},
   "outputs": [
    {
     "data": {
      "text/html": [
       "<div>\n",
       "<style scoped>\n",
       "    .dataframe tbody tr th:only-of-type {\n",
       "        vertical-align: middle;\n",
       "    }\n",
       "\n",
       "    .dataframe tbody tr th {\n",
       "        vertical-align: top;\n",
       "    }\n",
       "\n",
       "    .dataframe thead th {\n",
       "        text-align: right;\n",
       "    }\n",
       "</style>\n",
       "<table border=\"1\" class=\"dataframe\">\n",
       "  <thead>\n",
       "    <tr style=\"text-align: right;\">\n",
       "      <th></th>\n",
       "      <th>genre</th>\n",
       "      <th>name</th>\n",
       "    </tr>\n",
       "  </thead>\n",
       "  <tbody>\n",
       "    <tr>\n",
       "      <th>0</th>\n",
       "      <td>Action</td>\n",
       "      <td>3369</td>\n",
       "    </tr>\n",
       "    <tr>\n",
       "      <th>10</th>\n",
       "      <td>Sports</td>\n",
       "      <td>2348</td>\n",
       "    </tr>\n",
       "    <tr>\n",
       "      <th>3</th>\n",
       "      <td>Misc</td>\n",
       "      <td>1750</td>\n",
       "    </tr>\n",
       "    <tr>\n",
       "      <th>7</th>\n",
       "      <td>Role-Playing</td>\n",
       "      <td>1498</td>\n",
       "    </tr>\n",
       "    <tr>\n",
       "      <th>8</th>\n",
       "      <td>Shooter</td>\n",
       "      <td>1323</td>\n",
       "    </tr>\n",
       "    <tr>\n",
       "      <th>1</th>\n",
       "      <td>Adventure</td>\n",
       "      <td>1303</td>\n",
       "    </tr>\n",
       "    <tr>\n",
       "      <th>6</th>\n",
       "      <td>Racing</td>\n",
       "      <td>1249</td>\n",
       "    </tr>\n",
       "    <tr>\n",
       "      <th>4</th>\n",
       "      <td>Platform</td>\n",
       "      <td>888</td>\n",
       "    </tr>\n",
       "    <tr>\n",
       "      <th>9</th>\n",
       "      <td>Simulation</td>\n",
       "      <td>873</td>\n",
       "    </tr>\n",
       "    <tr>\n",
       "      <th>2</th>\n",
       "      <td>Fighting</td>\n",
       "      <td>849</td>\n",
       "    </tr>\n",
       "    <tr>\n",
       "      <th>11</th>\n",
       "      <td>Strategy</td>\n",
       "      <td>683</td>\n",
       "    </tr>\n",
       "    <tr>\n",
       "      <th>5</th>\n",
       "      <td>Puzzle</td>\n",
       "      <td>580</td>\n",
       "    </tr>\n",
       "  </tbody>\n",
       "</table>\n",
       "</div>"
      ],
      "text/plain": [
       "           genre  name\n",
       "0         Action  3369\n",
       "10        Sports  2348\n",
       "3           Misc  1750\n",
       "7   Role-Playing  1498\n",
       "8        Shooter  1323\n",
       "1      Adventure  1303\n",
       "6         Racing  1249\n",
       "4       Platform   888\n",
       "9     Simulation   873\n",
       "2       Fighting   849\n",
       "11      Strategy   683\n",
       "5         Puzzle   580"
      ]
     },
     "execution_count": 40,
     "metadata": {},
     "output_type": "execute_result"
    }
   ],
   "source": [
    "popular_genre = games.query('genre!=\"no genre\"').groupby('genre')['name'].agg('count').reset_index()\n",
    "popular_genre.sort_values(by='name', ascending=False)"
   ]
  },
  {
   "cell_type": "code",
   "execution_count": 41,
   "metadata": {},
   "outputs": [
    {
     "data": {
      "image/png": "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\n",
      "text/plain": [
       "<Figure size 864x432 with 1 Axes>"
      ]
     },
     "metadata": {
      "needs_background": "light"
     },
     "output_type": "display_data"
    }
   ],
   "source": [
    "(\n",
    "popular_genre.plot\n",
    "                  (kind = 'barh', x='genre',y='name', figsize = (12,6), rot = 0, legend = False, fontsize = 16)\n",
    "                  .set_title('Распределение игр по жанрам'+ \"\\n\",\n",
    "                  fontsize = 22, color = 'SteelBlue')\n",
    ");\n",
    "plt.xlabel('count')\n",
    "plt.ylabel('genre');"
   ]
  },
  {
   "cell_type": "markdown",
   "metadata": {},
   "source": [
    "Наибольшее количество игр было выпущено в жанре Action, затем следует жанр Sports.  \n",
    "Наименьшее количество - в жанре Puzzle.  \n",
    "Это и понятно,ведь жанр Puzzle был распространён при малых мощностях платформ,когда игры в других жанрах физически не могли существовать. А при развитии платформ до больших мощностей и улучшении графики стало возможно создание игр в динамических жанрах, которые более интересны пользователям."
   ]
  },
  {
   "cell_type": "code",
   "execution_count": 42,
   "metadata": {},
   "outputs": [
    {
     "data": {
      "text/html": [
       "<div>\n",
       "<style scoped>\n",
       "    .dataframe tbody tr th:only-of-type {\n",
       "        vertical-align: middle;\n",
       "    }\n",
       "\n",
       "    .dataframe tbody tr th {\n",
       "        vertical-align: top;\n",
       "    }\n",
       "\n",
       "    .dataframe thead th {\n",
       "        text-align: right;\n",
       "    }\n",
       "</style>\n",
       "<table border=\"1\" class=\"dataframe\">\n",
       "  <thead>\n",
       "    <tr style=\"text-align: right;\">\n",
       "      <th></th>\n",
       "      <th>genre</th>\n",
       "      <th>total_sales</th>\n",
       "    </tr>\n",
       "  </thead>\n",
       "  <tbody>\n",
       "    <tr>\n",
       "      <th>4</th>\n",
       "      <td>Platform</td>\n",
       "      <td>0.93</td>\n",
       "    </tr>\n",
       "    <tr>\n",
       "      <th>8</th>\n",
       "      <td>Shooter</td>\n",
       "      <td>0.80</td>\n",
       "    </tr>\n",
       "    <tr>\n",
       "      <th>7</th>\n",
       "      <td>Role-Playing</td>\n",
       "      <td>0.62</td>\n",
       "    </tr>\n",
       "    <tr>\n",
       "      <th>6</th>\n",
       "      <td>Racing</td>\n",
       "      <td>0.58</td>\n",
       "    </tr>\n",
       "    <tr>\n",
       "      <th>10</th>\n",
       "      <td>Sports</td>\n",
       "      <td>0.57</td>\n",
       "    </tr>\n",
       "    <tr>\n",
       "      <th>2</th>\n",
       "      <td>Fighting</td>\n",
       "      <td>0.53</td>\n",
       "    </tr>\n",
       "    <tr>\n",
       "      <th>0</th>\n",
       "      <td>Action</td>\n",
       "      <td>0.52</td>\n",
       "    </tr>\n",
       "    <tr>\n",
       "      <th>3</th>\n",
       "      <td>Misc</td>\n",
       "      <td>0.46</td>\n",
       "    </tr>\n",
       "    <tr>\n",
       "      <th>9</th>\n",
       "      <td>Simulation</td>\n",
       "      <td>0.45</td>\n",
       "    </tr>\n",
       "    <tr>\n",
       "      <th>5</th>\n",
       "      <td>Puzzle</td>\n",
       "      <td>0.42</td>\n",
       "    </tr>\n",
       "    <tr>\n",
       "      <th>11</th>\n",
       "      <td>Strategy</td>\n",
       "      <td>0.26</td>\n",
       "    </tr>\n",
       "    <tr>\n",
       "      <th>1</th>\n",
       "      <td>Adventure</td>\n",
       "      <td>0.18</td>\n",
       "    </tr>\n",
       "  </tbody>\n",
       "</table>\n",
       "</div>"
      ],
      "text/plain": [
       "           genre  total_sales\n",
       "4       Platform         0.93\n",
       "8        Shooter         0.80\n",
       "7   Role-Playing         0.62\n",
       "6         Racing         0.58\n",
       "10        Sports         0.57\n",
       "2       Fighting         0.53\n",
       "0         Action         0.52\n",
       "3           Misc         0.46\n",
       "9     Simulation         0.45\n",
       "5         Puzzle         0.42\n",
       "11      Strategy         0.26\n",
       "1      Adventure         0.18"
      ]
     },
     "execution_count": 42,
     "metadata": {},
     "output_type": "execute_result"
    }
   ],
   "source": [
    "sales_genre = games.query('genre!=\"no genre\"').groupby('genre')['total_sales'].mean().reset_index()\n",
    "sales_genre.sort_values(by='total_sales', ascending=False)"
   ]
  },
  {
   "cell_type": "code",
   "execution_count": 43,
   "metadata": {},
   "outputs": [
    {
     "data": {
      "text/plain": [
       "Text(0, 0.5, 'genre')"
      ]
     },
     "execution_count": 43,
     "metadata": {},
     "output_type": "execute_result"
    },
    {
     "data": {
      "image/png": "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\n",
      "text/plain": [
       "<Figure size 864x432 with 1 Axes>"
      ]
     },
     "metadata": {
      "needs_background": "light"
     },
     "output_type": "display_data"
    }
   ],
   "source": [
    "(\n",
    "sales_genre.plot\n",
    "                  (kind = 'barh', x='genre',y='total_sales', figsize = (12,6), legend = False, fontsize = 16)\n",
    "                  .set_title('Среднее количество продаж игр по жанрам'+ \"\\n\",\n",
    "                  fontsize = 22, color = 'SteelBlue')\n",
    ");\n",
    "plt.xlabel('total_sales')\n",
    "plt.ylabel('genre')"
   ]
  },
  {
   "cell_type": "markdown",
   "metadata": {},
   "source": [
    "По среднему количеству продаж лидирует жанр Platform, затем следует жанр Shooter. Хотя по количеству игр они были на 8-м и 5-м месте соответственно.  \n",
    "Но наименьшим по среднему количеству продаж стал жанр Adventure.  "
   ]
  },
  {
   "cell_type": "markdown",
   "metadata": {},
   "source": [
    "## Составим портрет пользователя каждого региона"
   ]
  },
  {
   "cell_type": "markdown",
   "metadata": {},
   "source": [
    "Определим для пользователя каждого региона (NA, EU, JP):  \n",
    "•\tСамые популярные платформы (топ-5)."
   ]
  },
  {
   "cell_type": "code",
   "execution_count": 44,
   "metadata": {},
   "outputs": [
    {
     "data": {
      "image/png": "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\n",
      "text/plain": [
       "<Figure size 432x288 with 1 Axes>"
      ]
     },
     "metadata": {},
     "output_type": "display_data"
    },
    {
     "data": {
      "image/png": "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\n",
      "text/plain": [
       "<Figure size 432x288 with 1 Axes>"
      ]
     },
     "metadata": {
      "needs_background": "light"
     },
     "output_type": "display_data"
    },
    {
     "data": {
      "image/png": "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\n",
      "text/plain": [
       "<Figure size 432x288 with 1 Axes>"
      ]
     },
     "metadata": {},
     "output_type": "display_data"
    },
    {
     "data": {
      "image/png": "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\n",
      "text/plain": [
       "<Figure size 432x288 with 1 Axes>"
      ]
     },
     "metadata": {
      "needs_background": "light"
     },
     "output_type": "display_data"
    },
    {
     "data": {
      "image/png": "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\n",
      "text/plain": [
       "<Figure size 432x288 with 1 Axes>"
      ]
     },
     "metadata": {},
     "output_type": "display_data"
    },
    {
     "data": {
      "image/png": "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\n",
      "text/plain": [
       "<Figure size 432x288 with 1 Axes>"
      ]
     },
     "metadata": {
      "needs_background": "light"
     },
     "output_type": "display_data"
    }
   ],
   "source": [
    "games.groupby(by='platform').agg({'eu_sales':'sum'}).sort_values(by='eu_sales', ascending=False).head(5).plot(kind='pie',y='eu_sales')\n",
    "games.groupby(by='platform').agg({'eu_sales':'sum'}).sort_values(by='eu_sales', ascending=False).head(5).plot(kind='bar',ylabel='sales')\n",
    "\n",
    "games.groupby(by='platform').agg({'na_sales':'sum'}).sort_values(by='na_sales', ascending=False).head(5).plot(kind='pie',y='na_sales')\n",
    "games.groupby(by='platform').agg({'na_sales':'sum'}).sort_values(by='na_sales', ascending=False).head(5).plot(kind='bar',ylabel='sales')\n",
    "\n",
    "games.groupby(by='platform').agg({'jp_sales':'sum'}).sort_values(by='jp_sales', ascending=False).head(5).plot(kind='pie',y='jp_sales')\n",
    "games.groupby(by='platform').agg({'jp_sales':'sum'}).sort_values(by='jp_sales', ascending=False).head(5).plot(kind='bar',ylabel='sales');"
   ]
  },
  {
   "cell_type": "markdown",
   "metadata": {},
   "source": [
    "В Европе по числу продаж за всё время лидируют японские платформы PS2 и PS3, будем их считать наиболее популярными среди европейских пользователей.  \n",
    "В Северной Америке по числу продаж за всё время лидирует платформа X360 американской компании Microsoft, и почти на равне с ней японская платформа PS2, будем их считать наиболее популярными среди американских пользователей.  \n",
    "В Японии по числу продаж за всё время лидирует платформа DS японской компании Nintendo, будем её считать наиболее популярной среди японских пользователей."
   ]
  },
  {
   "cell_type": "markdown",
   "metadata": {},
   "source": [
    "**Определим для пользователя каждого региона (NA, EU, JP):  \n",
    "•\tСамые популярные жанры (топ-5)**"
   ]
  },
  {
   "cell_type": "code",
   "execution_count": 45,
   "metadata": {},
   "outputs": [
    {
     "data": {
      "image/png": "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\n",
      "text/plain": [
       "<Figure size 432x288 with 1 Axes>"
      ]
     },
     "metadata": {
      "needs_background": "light"
     },
     "output_type": "display_data"
    },
    {
     "data": {
      "image/png": "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\n",
      "text/plain": [
       "<Figure size 432x288 with 1 Axes>"
      ]
     },
     "metadata": {
      "needs_background": "light"
     },
     "output_type": "display_data"
    },
    {
     "data": {
      "image/png": "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\n",
      "text/plain": [
       "<Figure size 432x288 with 1 Axes>"
      ]
     },
     "metadata": {
      "needs_background": "light"
     },
     "output_type": "display_data"
    }
   ],
   "source": [
    "games.groupby(by='genre').agg({'eu_sales':'sum'}).sort_values(by='eu_sales', ascending=False).head(5).plot(kind='bar',ylabel='sales')\n",
    "games.groupby(by='genre').agg({'na_sales':'sum'}).sort_values(by='na_sales', ascending=False).head(5).plot(kind='bar',ylabel='sales')\n",
    "games.groupby(by='genre').agg({'jp_sales':'sum'}).sort_values(by='jp_sales', ascending=False).head(5).plot(kind='bar',ylabel='sales');"
   ]
  },
  {
   "cell_type": "markdown",
   "metadata": {},
   "source": [
    "В Европе и Северной Америке наибольшее предпочтение пользователи отдают жанру Action, на втором месте Sports и далее Shooter.  \n",
    "В Японии с большим отрывом от других побеждает жанр Role-Playing.  \n",
    "Можно сделать вывод, что пользователи в Европе и Америке более азартны и воинственны, а японцам более свойственно спокойствие. Вероятно, это следствие культурных особенностей, причины которых скорее всего исторические."
   ]
  },
  
  {
   "cell_type": "markdown",
   "metadata": {},
   "source": [
    "**Посмотрим, как влияет рейтинг ESRB на продажи игр в различных регионах.**"
   ]
  },
  {
   "cell_type": "code",
   "execution_count": 46,
   "metadata": {},
   "outputs": [
    {
     "data": {
      "image/png": "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\n",
      "text/plain": [
       "<Figure size 1080x360 with 1 Axes>"
      ]
     },
     "metadata": {
      "needs_background": "light"
     },
     "output_type": "display_data"
    }
   ],
   "source": [
    "games3 = games.query('year_of_release >=2014 and rating != \"RP\"')\n",
    "(\n",
    "    games3.pivot_table(index='rating', values=['eu_sales','na_sales', 'jp_sales'], aggfunc='mean')\n",
    "    .sort_values(by='eu_sales')\n",
    "    .plot(kind='bar', figsize=(15, 5))\n",
    ")\n",
    "plt.xlabel('Рейтинг ESRB')\n",
    "plt.ylabel('Количество проданных копий, млн')\n",
    "plt.title('Продажи в зависимости от рейтинга в различных регионах')\n",
    "plt.show()"
   ]
  },
  {
   "cell_type": "markdown",
   "metadata": {},
   "source": [
    "Топ самых продаваемых категорий в Америке и Европе совпадает.  \n",
    "Больше всего продаются игры с рейтингом M (\"для взрослых (старше 16 лет)\"). Следом идут игры категории E (\"для всех\") - игры, которые имеют самую широкую аудиторию, затем игры категории E10+ («Для всех от 10 лет и старше») и T (подросткам).  \n",
    "Рейтинг ESRB предназначен для рецензирования игр на территории сев.Америки. Его влияние видим как раз в этом регионе и Европе. \n",
    "А в Японии велика доля игр и без рейтинга - похоже,что это игры, созданные в Японии и не получавшие американского рейтинга, но возможно имеющие рейтинг в японской или какой-нибудь азиатской системе рейтинга."
   ]
  },
  
  {
   "cell_type": "markdown",
   "metadata": {},
   "source": [
    "**Вывод:**"
   ]
  },
  {
   "cell_type": "markdown",
   "metadata": {},
   "source": [
    "Регион влияет на то, какие жанры популярны, и какие платформы. \n",
    "В Европе и Северной Америке лидеры отличаются незначительно: наиболее популярны были стационарные платформы - XBox 360, PlayStation 2 и PlayStation 3. В Японии же в топе была мобильная консоль - DS от Nintendo, но стационарные PlayStation и PlayStation 2 также были популярны.  \n",
    "В Европе и Северной Америке по количеству продаж лидируют экшены, спортивные игры и шутеры.  \n",
    "В Японии же с большим отрывом от других побеждает жанр Role-Playing.  \n",
    "По среднему количеству продаж за весь период лидирует жанр Platform, затем следует жанр Shooter."
   ]
  },
  {
   "cell_type": "markdown",
   "metadata": {},
   "source": [
    "## Проверим гипотезы  \n",
    "\n",
    "•\tСредние пользовательские рейтинги платформ Xbox One и PC одинаковые;\n"
   ]
  },
  {
   "cell_type": "markdown",
   "metadata": {},
   "source": [
    "Нулевая гипотеза (H0) - \"средние пользовательские рейтинги двух платформ одинаковые\".  \n",
    "Альтернативная гипотеза (H1) - \"средние пользовательские рейтинги двух платформ отличаются\".  \n",
    "Значение критического уровня вероятности (альфа) примем равным 5%."
   ]
  },
  {
   "cell_type": "markdown",
   "metadata": {},
   "source": [
    "Нам нужно проверить гипотезу о равенстве среднего двух генеральных совокупностей по взятым из них выборкам."
   ]
  },
  {
   "cell_type": "code",
   "execution_count": 47,
   "metadata": {},
   "outputs": [],
   "source": [
    "games4 = games.query('year_of_release >=2014 and user_score > 0')"
   ]
  },
  {
   "cell_type": "code",
   "execution_count": 48,
   "metadata": {},
   "outputs": [
    {
     "name": "stdout",
     "output_type": "stream",
     "text": [
      "p-значение: 0.18840329973299955\n",
      "Не получилось отвергнуть нулевую гипотезу\n"
     ]
    }
   ],
   "source": [
    "alpha = 0.05  # критический уровень статистической значимости\n",
    "results = st.ttest_ind(\n",
    "    games4[games4.platform == \"XOne\"]['user_score'], \n",
    "    games4[games4.platform == \"PC\"]['user_score']\n",
    ")\n",
    "\n",
    "print('p-значение:', results.pvalue)\n",
    "\n",
    "if results.pvalue < alpha:\n",
    "    print('Отвергаем нулевую гипотезу')\n",
    "else:\n",
    "    print('Не получилось отвергнуть нулевую гипотезу')"
   ]
  },
  {
   "cell_type": "code",
   "execution_count": 49,
   "metadata": {},
   "outputs": [
    {
     "data": {
      "text/html": [
       "<div>\n",
       "<style scoped>\n",
       "    .dataframe tbody tr th:only-of-type {\n",
       "        vertical-align: middle;\n",
       "    }\n",
       "\n",
       "    .dataframe tbody tr th {\n",
       "        vertical-align: top;\n",
       "    }\n",
       "\n",
       "    .dataframe thead tr th {\n",
       "        text-align: left;\n",
       "    }\n",
       "\n",
       "    .dataframe thead tr:last-of-type th {\n",
       "        text-align: right;\n",
       "    }\n",
       "</style>\n",
       "<table border=\"1\" class=\"dataframe\">\n",
       "  <thead>\n",
       "    <tr>\n",
       "      <th></th>\n",
       "      <th>count</th>\n",
       "      <th>mean</th>\n",
       "      <th>median</th>\n",
       "      <th>var</th>\n",
       "    </tr>\n",
       "    <tr>\n",
       "      <th></th>\n",
       "      <th>user_score</th>\n",
       "      <th>user_score</th>\n",
       "      <th>user_score</th>\n",
       "      <th>user_score</th>\n",
       "    </tr>\n",
       "    <tr>\n",
       "      <th>platform</th>\n",
       "      <th></th>\n",
       "      <th></th>\n",
       "      <th></th>\n",
       "      <th></th>\n",
       "    </tr>\n",
       "  </thead>\n",
       "  <tbody>\n",
       "    <tr>\n",
       "      <th>PC</th>\n",
       "      <td>137</td>\n",
       "      <td>6.36</td>\n",
       "      <td>6.80</td>\n",
       "      <td>2.82</td>\n",
       "    </tr>\n",
       "    <tr>\n",
       "      <th>XOne</th>\n",
       "      <td>165</td>\n",
       "      <td>6.59</td>\n",
       "      <td>6.80</td>\n",
       "      <td>1.89</td>\n",
       "    </tr>\n",
       "  </tbody>\n",
       "</table>\n",
       "</div>"
      ],
      "text/plain": [
       "              count       mean     median        var\n",
       "         user_score user_score user_score user_score\n",
       "platform                                            \n",
       "PC              137       6.36       6.80       2.82\n",
       "XOne            165       6.59       6.80       1.89"
      ]
     },
     "metadata": {},
     "output_type": "display_data"
    }
   ],
   "source": [
    "display(games4.query('platform in [\"XOne\", \"PC\"]')\n",
    "        .pivot_table(index='platform', values='user_score', aggfunc=['count', 'mean', 'median', 'var']))"
   ]
  },
  {
   "cell_type": "markdown",
   "metadata": {},
   "source": [
    "t-test показывает, что отвергнуть нулевую гипотезу не получилось.  \n",
    "И действительно, как мы видим из таблички, их средние очень близки.  "
   ]
  },
  {
   "cell_type": "markdown",
   "metadata": {},
   "source": [
    "**Проверим гипотезу**  \n",
    "\n",
    "•\tСредние пользовательские рейтинги жанров Action (англ. «действие», экшен-игры) и Sports (англ. «спортивные соревнования») разные"
   ]
  },
  {
   "cell_type": "markdown",
   "metadata": {},
   "source": [
    "Нулевая гипотеза (H0) - \"средние пользовательские рейтинги двух жанров равны\".  \n",
    "Альтернативная гипотеза (H1) - \"средние пользовательские рейтинги двух жанров разные\".  \n",
    "Значение критического уровня вероятности (альфа) примем равным 5%."
   ]
  },
  {
   "cell_type": "markdown",
   "metadata": {},
   "source": [
    "Нам нужно проверить гипотезу о равенстве среднего двух генеральных совокупностей по взятым из них выборкам."
   ]
  },
  {
   "cell_type": "code",
   "execution_count": 50,
   "metadata": {},
   "outputs": [
    {
     "name": "stdout",
     "output_type": "stream",
     "text": [
      "p-значение: 3.318410202419957e-14\n",
      "Отвергаем нулевую гипотезу\n"
     ]
    }
   ],
   "source": [
    "alpha = 0.05  # критический уровень статистической значимости\n",
    "results = st.ttest_ind(\n",
    "    games4[games4.genre == \"Action\"]['user_score'], \n",
    "    games4[games4.genre == \"Sports\"]['user_score']\n",
    ")\n",
    "\n",
    "print('p-значение:', results.pvalue)\n",
    "\n",
    "if results.pvalue < alpha:\n",
    "    print('Отвергаем нулевую гипотезу')\n",
    "else:\n",
    "    print('Не получилось отвергнуть нулевую гипотезу')"
   ]
  },
  {
   "cell_type": "code",
   "execution_count": 51,
   "metadata": {},
   "outputs": [
    {
     "data": {
      "text/html": [
       "<div>\n",
       "<style scoped>\n",
       "    .dataframe tbody tr th:only-of-type {\n",
       "        vertical-align: middle;\n",
       "    }\n",
       "\n",
       "    .dataframe tbody tr th {\n",
       "        vertical-align: top;\n",
       "    }\n",
       "\n",
       "    .dataframe thead tr th {\n",
       "        text-align: left;\n",
       "    }\n",
       "\n",
       "    .dataframe thead tr:last-of-type th {\n",
       "        text-align: right;\n",
       "    }\n",
       "</style>\n",
       "<table border=\"1\" class=\"dataframe\">\n",
       "  <thead>\n",
       "    <tr>\n",
       "      <th></th>\n",
       "      <th>count</th>\n",
       "      <th>mean</th>\n",
       "      <th>median</th>\n",
       "      <th>var</th>\n",
       "    </tr>\n",
       "    <tr>\n",
       "      <th></th>\n",
       "      <th>user_score</th>\n",
       "      <th>user_score</th>\n",
       "      <th>user_score</th>\n",
       "      <th>user_score</th>\n",
       "    </tr>\n",
       "    <tr>\n",
       "      <th>genre</th>\n",
       "      <th></th>\n",
       "      <th></th>\n",
       "      <th></th>\n",
       "      <th></th>\n",
       "    </tr>\n",
       "  </thead>\n",
       "  <tbody>\n",
       "    <tr>\n",
       "      <th>Action</th>\n",
       "      <td>331</td>\n",
       "      <td>6.77</td>\n",
       "      <td>7.10</td>\n",
       "      <td>1.93</td>\n",
       "    </tr>\n",
       "    <tr>\n",
       "      <th>Sports</th>\n",
       "      <td>149</td>\n",
       "      <td>5.55</td>\n",
       "      <td>5.90</td>\n",
       "      <td>3.71</td>\n",
       "    </tr>\n",
       "  </tbody>\n",
       "</table>\n",
       "</div>"
      ],
      "text/plain": [
       "            count       mean     median        var\n",
       "       user_score user_score user_score user_score\n",
       "genre                                             \n",
       "Action        331       6.77       7.10       1.93\n",
       "Sports        149       5.55       5.90       3.71"
      ]
     },
     "metadata": {},
     "output_type": "display_data"
    }
   ],
   "source": [
    "display(games4.query('genre in [\"Action\", \"Sports\"]')\n",
    "        .pivot_table(index='genre', values='user_score', aggfunc=['count', 'mean', 'median', 'var']))"
   ]
  },
  {
   "cell_type": "markdown",
   "metadata": {},
   "source": [
    "t-test показывает, что нулевую гипотезу отвергаем.  \n",
    "И действительно, как мы видим из таблички, их средние различаются."
   ]
  },
  {
   "cell_type": "markdown",
   "metadata": {},
   "source": [
    "**Вывод**  \n",
    "Оценки пользователей не зависят от платформ, но зависят от жанров игр. \n",
    "С учётом принятого нами значения критического уровня статистической значимости 5% мы выяснили, что первая гипотеза не может быть отвергнута, а вторая отвергнута."
   ]
  },
  
  {
   "cell_type": "markdown",
   "metadata": {},
   "source": [
    "## Общий вывод"
   ]
  },
  {
   "cell_type": "markdown",
   "metadata": {},
   "source": [
    "Мы изучили данные о видеоиграх с 1980 по 2016 год по трём регионам (Сев.Америка,Европа,Япония), выходивших на разных платформах и в разных жанрах.  \n",
    "Составили портрет пользователей разных регионов - определили,что для Европы и Сев.Америки популярны одни жанры (Action,Sports,Shooter),а в Японии с большим отрывом от других побеждает жанр Role-Playing.  \n",
    "\n",
    "Спрогнозировали,что в 2017 году платформы PS4 и XOne сохранят свои лидирующие позиции и под них можно выпускать игры, а  Nintendo 3DS, XBox 360 и PlayStation 3  прошли пик своего развития и идут на спад уже несколько лет.  \n",
    "\n",
    "По среднему количеству продаж за весь период лидирует жанр Platform, затем следует жанр Shooter.  \n",
    "\n",
    "В Европе по числу продаж игр за всё время лидируют японские платформы PS2 и PS3, в Северной Америке - платформа X360 американской компании Microsoft и японская платформа PS2, а в Японии - платформа DS японской компании Nintendo.  \n",
    "\n",
    "Рейтинг ESRB предназначен для рецензирования игр на территории Северной Америки, его влияние заметно в этом регионе и Европе. В Японии есть популярные игры и вовсе без этого рейтинга - похоже,что это игры, созданные в Японии и не получавшие американского рейтинга, но возможно имеющие рейтинг в другой системе.  \n",
    "\n",
    "Продажи игр слабо коррелируют с оценкой критиков, а с оценками пользователей связи почти нет."
   ]
  },
  
 
 ],
 "metadata": {
  "ExecuteTimeLog": [
   {
    "duration": 1252,
    "start_time": "2022-11-23T09:10:52.605Z"
   },
   {
    "duration": 3,
    "start_time": "2022-11-23T09:18:25.996Z"
   },
   {
    "duration": 107,
    "start_time": "2022-11-23T09:19:35.122Z"
   },
   {
    "duration": 34,
    "start_time": "2022-11-23T09:21:30.923Z"
   },
   {
    "duration": 14,
    "start_time": "2022-11-23T09:24:50.043Z"
   },
   {
    "duration": 44,
    "start_time": "2022-11-23T20:51:08.230Z"
   },
   {
    "duration": 1207,
    "start_time": "2022-11-23T20:51:22.043Z"
   },
   {
    "duration": 3,
    "start_time": "2022-11-23T20:51:23.252Z"
   },
   {
    "duration": 215,
    "start_time": "2022-11-23T20:51:23.256Z"
   },
   {
    "duration": 16,
    "start_time": "2022-11-23T20:51:23.473Z"
   },
   {
    "duration": 32,
    "start_time": "2022-11-23T20:51:23.490Z"
   },
   {
    "duration": 4,
    "start_time": "2022-11-23T20:51:23.523Z"
   },
   {
    "duration": 5,
    "start_time": "2022-11-23T20:59:03.568Z"
   },
   {
    "duration": 11,
    "start_time": "2022-11-23T21:00:24.890Z"
   },
   {
    "duration": 67,
    "start_time": "2022-11-23T21:02:08.970Z"
   },
   {
    "duration": 3,
    "start_time": "2022-11-23T21:02:31.155Z"
   },
   {
    "duration": 11,
    "start_time": "2022-11-23T21:02:33.290Z"
   },
   {
    "duration": 21,
    "start_time": "2022-11-23T21:20:12.053Z"
   },
   {
    "duration": 11,
    "start_time": "2022-11-23T21:20:25.702Z"
   },
   {
    "duration": 15,
    "start_time": "2022-11-23T21:21:32.040Z"
   },
   {
    "duration": 4,
    "start_time": "2022-11-23T21:30:41.262Z"
   },
   {
    "duration": 4,
    "start_time": "2022-11-23T21:31:23.627Z"
   },
   {
    "duration": 13,
    "start_time": "2022-11-23T21:31:26.077Z"
   },
   {
    "duration": 3,
    "start_time": "2022-11-23T21:31:35.093Z"
   },
   {
    "duration": 12,
    "start_time": "2022-11-23T21:31:35.098Z"
   },
   {
    "duration": 80,
    "start_time": "2022-11-23T21:31:35.111Z"
   },
   {
    "duration": 14,
    "start_time": "2022-11-23T21:31:35.193Z"
   },
   {
    "duration": 38,
    "start_time": "2022-11-23T21:31:35.209Z"
   },
   {
    "duration": 5,
    "start_time": "2022-11-23T21:31:35.249Z"
   },
   {
    "duration": 14,
    "start_time": "2022-11-23T21:31:35.255Z"
   },
   {
    "duration": 27,
    "start_time": "2022-11-23T21:31:35.270Z"
   },
   {
    "duration": 22,
    "start_time": "2022-11-23T21:31:35.298Z"
   },
   {
    "duration": 12,
    "start_time": "2022-11-23T21:31:35.322Z"
   },
   {
    "duration": 41,
    "start_time": "2022-11-23T21:31:35.336Z"
   },
   {
    "duration": 1121,
    "start_time": "2022-11-23T21:32:00.306Z"
   },
   {
    "duration": 3,
    "start_time": "2022-11-23T21:32:01.429Z"
   },
   {
    "duration": 71,
    "start_time": "2022-11-23T21:32:01.433Z"
   },
   {
    "duration": 14,
    "start_time": "2022-11-23T21:32:01.506Z"
   },
   {
    "duration": 149,
    "start_time": "2022-11-23T21:32:01.521Z"
   },
   {
    "duration": 4,
    "start_time": "2022-11-23T21:32:01.671Z"
   },
   {
    "duration": 15,
    "start_time": "2022-11-23T21:32:01.677Z"
   },
   {
    "duration": 30,
    "start_time": "2022-11-23T21:32:01.694Z"
   },
   {
    "duration": 31,
    "start_time": "2022-11-23T21:32:01.725Z"
   },
   {
    "duration": 14,
    "start_time": "2022-11-23T21:32:01.759Z"
   },
   {
    "duration": 31,
    "start_time": "2022-11-23T21:32:01.774Z"
   },
   {
    "duration": 5,
    "start_time": "2022-11-23T21:44:40.832Z"
   },
   {
    "duration": 7,
    "start_time": "2022-11-23T21:50:43.045Z"
   },
   {
    "duration": 16,
    "start_time": "2022-11-23T21:52:57.288Z"
   },
   {
    "duration": 20,
    "start_time": "2022-11-23T21:54:05.202Z"
   },
   {
    "duration": 17,
    "start_time": "2022-11-23T21:54:28.881Z"
   },
   {
    "duration": 19,
    "start_time": "2022-11-23T21:54:42.032Z"
   },
   {
    "duration": 8,
    "start_time": "2022-11-23T22:01:51.693Z"
   },
   {
    "duration": 94,
    "start_time": "2022-11-23T22:13:10.860Z"
   },
   {
    "duration": 7,
    "start_time": "2022-11-23T22:16:35.179Z"
   },
   {
    "duration": 6,
    "start_time": "2022-11-23T22:16:39.633Z"
   },
   {
    "duration": 6,
    "start_time": "2022-11-23T22:17:12.482Z"
   },
   {
    "duration": 4,
    "start_time": "2022-11-23T22:17:13.353Z"
   },
   {
    "duration": 6,
    "start_time": "2022-11-23T22:18:41.481Z"
   },
   {
    "duration": 9,
    "start_time": "2022-11-23T22:52:37.306Z"
   },
   {
    "duration": 13,
    "start_time": "2022-11-23T22:52:48.538Z"
   },
   {
    "duration": 10,
    "start_time": "2022-11-23T23:07:22.370Z"
   },
   {
    "duration": 6,
    "start_time": "2022-11-23T23:07:38.986Z"
   },
   {
    "duration": 5,
    "start_time": "2022-11-23T23:07:58.238Z"
   },
   {
    "duration": 5,
    "start_time": "2022-11-23T23:08:25.583Z"
   },
   {
    "duration": 4,
    "start_time": "2022-11-23T23:08:40.982Z"
   },
   {
    "duration": 23,
    "start_time": "2022-11-23T23:08:53.702Z"
   },
   {
    "duration": 6,
    "start_time": "2022-11-23T23:08:55.952Z"
   },
   {
    "duration": 5,
    "start_time": "2022-11-23T23:09:07.982Z"
   },
   {
    "duration": 6,
    "start_time": "2022-11-23T23:09:16.982Z"
   },
   {
    "duration": 5,
    "start_time": "2022-11-23T23:09:28.201Z"
   },
   {
    "duration": 1081,
    "start_time": "2022-11-23T23:10:03.849Z"
   },
   {
    "duration": 2,
    "start_time": "2022-11-23T23:10:04.932Z"
   },
   {
    "duration": 82,
    "start_time": "2022-11-23T23:10:04.936Z"
   },
   {
    "duration": 16,
    "start_time": "2022-11-23T23:10:05.021Z"
   },
   {
    "duration": 27,
    "start_time": "2022-11-23T23:10:05.039Z"
   },
   {
    "duration": 4,
    "start_time": "2022-11-23T23:10:05.078Z"
   },
   {
    "duration": 15,
    "start_time": "2022-11-23T23:10:05.083Z"
   },
   {
    "duration": 13,
    "start_time": "2022-11-23T23:10:05.100Z"
   },
   {
    "duration": 16,
    "start_time": "2022-11-23T23:10:05.115Z"
   },
   {
    "duration": 10,
    "start_time": "2022-11-23T23:10:05.133Z"
   },
   {
    "duration": 17,
    "start_time": "2022-11-23T23:10:05.144Z"
   },
   {
    "duration": 8,
    "start_time": "2022-11-23T23:10:05.163Z"
   },
   {
    "duration": 33,
    "start_time": "2022-11-23T23:10:05.173Z"
   },
   {
    "duration": 22,
    "start_time": "2022-11-23T23:10:05.208Z"
   },
   {
    "duration": 7,
    "start_time": "2022-11-23T23:10:05.231Z"
   },
   {
    "duration": 15,
    "start_time": "2022-11-23T23:10:05.239Z"
   },
   {
    "duration": 91,
    "start_time": "2022-11-23T23:10:05.256Z"
   },
   {
    "duration": 0,
    "start_time": "2022-11-23T23:10:05.349Z"
   },
   {
    "duration": 996,
    "start_time": "2022-11-23T23:12:50.632Z"
   },
   {
    "duration": 2,
    "start_time": "2022-11-23T23:12:51.630Z"
   },
   {
    "duration": 69,
    "start_time": "2022-11-23T23:12:51.634Z"
   },
   {
    "duration": 16,
    "start_time": "2022-11-23T23:12:51.705Z"
   },
   {
    "duration": 26,
    "start_time": "2022-11-23T23:12:51.723Z"
   },
   {
    "duration": 4,
    "start_time": "2022-11-23T23:12:51.750Z"
   },
   {
    "duration": 23,
    "start_time": "2022-11-23T23:12:51.755Z"
   },
   {
    "duration": 15,
    "start_time": "2022-11-23T23:12:51.779Z"
   },
   {
    "duration": 5,
    "start_time": "2022-11-23T23:12:51.796Z"
   },
   {
    "duration": 5,
    "start_time": "2022-11-23T23:12:51.803Z"
   },
   {
    "duration": 13,
    "start_time": "2022-11-23T23:12:51.810Z"
   },
   {
    "duration": 6,
    "start_time": "2022-11-23T23:12:51.825Z"
   },
   {
    "duration": 8,
    "start_time": "2022-11-23T23:12:51.833Z"
   },
   {
    "duration": 36,
    "start_time": "2022-11-23T23:12:51.843Z"
   },
   {
    "duration": 6,
    "start_time": "2022-11-23T23:12:51.880Z"
   },
   {
    "duration": 6,
    "start_time": "2022-11-23T23:12:51.888Z"
   },
   {
    "duration": 8,
    "start_time": "2022-11-23T23:12:51.896Z"
   },
   {
    "duration": 15,
    "start_time": "2022-11-23T23:12:51.906Z"
   },
   {
    "duration": 16,
    "start_time": "2022-11-23T23:14:54.964Z"
   },
   {
    "duration": 87,
    "start_time": "2022-11-23T23:18:47.678Z"
   },
   {
    "duration": 9,
    "start_time": "2022-11-23T23:18:55.549Z"
   },
   {
    "duration": 1099,
    "start_time": "2022-11-23T23:20:22.186Z"
   },
   {
    "duration": 2,
    "start_time": "2022-11-23T23:20:23.287Z"
   },
   {
    "duration": 68,
    "start_time": "2022-11-23T23:20:23.290Z"
   },
   {
    "duration": 14,
    "start_time": "2022-11-23T23:20:23.361Z"
   },
   {
    "duration": 24,
    "start_time": "2022-11-23T23:20:23.376Z"
   },
   {
    "duration": 3,
    "start_time": "2022-11-23T23:20:23.402Z"
   },
   {
    "duration": 6,
    "start_time": "2022-11-23T23:20:23.406Z"
   },
   {
    "duration": 12,
    "start_time": "2022-11-23T23:20:23.413Z"
   },
   {
    "duration": 4,
    "start_time": "2022-11-23T23:20:23.427Z"
   },
   {
    "duration": 111,
    "start_time": "2022-11-23T23:20:23.433Z"
   },
   {
    "duration": 0,
    "start_time": "2022-11-23T23:20:23.545Z"
   },
   {
    "duration": 0,
    "start_time": "2022-11-23T23:20:23.546Z"
   },
   {
    "duration": 0,
    "start_time": "2022-11-23T23:20:23.547Z"
   },
   {
    "duration": 0,
    "start_time": "2022-11-23T23:20:23.548Z"
   },
   {
    "duration": 0,
    "start_time": "2022-11-23T23:20:23.549Z"
   },
   {
    "duration": 0,
    "start_time": "2022-11-23T23:20:23.550Z"
   },
   {
    "duration": 0,
    "start_time": "2022-11-23T23:20:23.551Z"
   },
   {
    "duration": 0,
    "start_time": "2022-11-23T23:20:23.552Z"
   },
   {
    "duration": 0,
    "start_time": "2022-11-23T23:20:23.552Z"
   },
   {
    "duration": 0,
    "start_time": "2022-11-23T23:20:23.553Z"
   },
   {
    "duration": 1073,
    "start_time": "2022-11-23T23:21:02.333Z"
   },
   {
    "duration": 4,
    "start_time": "2022-11-23T23:21:03.407Z"
   },
   {
    "duration": 75,
    "start_time": "2022-11-23T23:21:03.412Z"
   },
   {
    "duration": 12,
    "start_time": "2022-11-23T23:21:03.489Z"
   },
   {
    "duration": 25,
    "start_time": "2022-11-23T23:21:03.504Z"
   },
   {
    "duration": 4,
    "start_time": "2022-11-23T23:21:03.530Z"
   },
   {
    "duration": 7,
    "start_time": "2022-11-23T23:21:03.535Z"
   },
   {
    "duration": 13,
    "start_time": "2022-11-23T23:21:03.543Z"
   },
   {
    "duration": 25,
    "start_time": "2022-11-23T23:21:03.557Z"
   },
   {
    "duration": 5,
    "start_time": "2022-11-23T23:21:03.584Z"
   },
   {
    "duration": 15,
    "start_time": "2022-11-23T23:21:03.591Z"
   },
   {
    "duration": 9,
    "start_time": "2022-11-23T23:21:03.608Z"
   },
   {
    "duration": 10,
    "start_time": "2022-11-23T23:21:03.618Z"
   },
   {
    "duration": 15,
    "start_time": "2022-11-23T23:21:03.629Z"
   },
   {
    "duration": 5,
    "start_time": "2022-11-23T23:21:03.646Z"
   },
   {
    "duration": 25,
    "start_time": "2022-11-23T23:21:03.653Z"
   },
   {
    "duration": 10,
    "start_time": "2022-11-23T23:21:03.680Z"
   },
   {
    "duration": 15,
    "start_time": "2022-11-23T23:21:03.691Z"
   },
   {
    "duration": 15,
    "start_time": "2022-11-23T23:21:03.707Z"
   },
   {
    "duration": 8,
    "start_time": "2022-11-23T23:21:03.724Z"
   },
   {
    "duration": 86,
    "start_time": "2022-11-23T23:21:48.727Z"
   },
   {
    "duration": 11,
    "start_time": "2022-11-23T23:22:00.072Z"
   },
   {
    "duration": 4,
    "start_time": "2022-11-23T23:48:30.635Z"
   },
   {
    "duration": 4,
    "start_time": "2022-11-23T23:48:35.448Z"
   },
   {
    "duration": 4,
    "start_time": "2022-11-23T23:48:36.432Z"
   },
   {
    "duration": 4,
    "start_time": "2022-11-23T23:52:46.044Z"
   },
   {
    "duration": 5,
    "start_time": "2022-11-23T23:55:38.589Z"
   },
   {
    "duration": 47,
    "start_time": "2022-11-24T11:36:51.147Z"
   },
   {
    "duration": 1296,
    "start_time": "2022-11-24T11:37:04.588Z"
   },
   {
    "duration": 3,
    "start_time": "2022-11-24T11:37:05.886Z"
   },
   {
    "duration": 127,
    "start_time": "2022-11-24T11:37:05.890Z"
   },
   {
    "duration": 14,
    "start_time": "2022-11-24T11:37:06.019Z"
   },
   {
    "duration": 29,
    "start_time": "2022-11-24T11:37:06.035Z"
   },
   {
    "duration": 5,
    "start_time": "2022-11-24T11:37:06.066Z"
   },
   {
    "duration": 5,
    "start_time": "2022-11-24T11:37:06.073Z"
   },
   {
    "duration": 39,
    "start_time": "2022-11-24T11:37:06.079Z"
   },
   {
    "duration": 6,
    "start_time": "2022-11-24T11:37:06.120Z"
   },
   {
    "duration": 19,
    "start_time": "2022-11-24T11:37:06.128Z"
   },
   {
    "duration": 12,
    "start_time": "2022-11-24T11:37:06.148Z"
   },
   {
    "duration": 8,
    "start_time": "2022-11-24T11:37:06.161Z"
   },
   {
    "duration": 14,
    "start_time": "2022-11-24T11:37:06.171Z"
   },
   {
    "duration": 18,
    "start_time": "2022-11-24T11:37:06.186Z"
   },
   {
    "duration": 12,
    "start_time": "2022-11-24T11:37:06.205Z"
   },
   {
    "duration": 11,
    "start_time": "2022-11-24T11:37:06.218Z"
   },
   {
    "duration": 21,
    "start_time": "2022-11-24T11:37:06.230Z"
   },
   {
    "duration": 26,
    "start_time": "2022-11-24T11:37:06.252Z"
   },
   {
    "duration": 20,
    "start_time": "2022-11-24T11:37:06.280Z"
   },
   {
    "duration": 24,
    "start_time": "2022-11-24T11:37:06.301Z"
   },
   {
    "duration": 24,
    "start_time": "2022-11-24T11:37:06.327Z"
   },
   {
    "duration": 11,
    "start_time": "2022-11-24T11:37:06.353Z"
   },
   {
    "duration": 11,
    "start_time": "2022-11-24T11:37:06.365Z"
   },
   {
    "duration": 18,
    "start_time": "2022-11-24T11:37:06.378Z"
   },
   {
    "duration": 12,
    "start_time": "2022-11-24T11:37:06.398Z"
   },
   {
    "duration": 21,
    "start_time": "2022-11-24T11:37:06.411Z"
   },
   {
    "duration": 11,
    "start_time": "2022-11-24T11:37:21.997Z"
   },
   {
    "duration": 98,
    "start_time": "2022-11-24T11:47:15.218Z"
   },
   {
    "duration": 5,
    "start_time": "2022-11-24T11:47:35.840Z"
   },
   {
    "duration": 12,
    "start_time": "2022-11-24T11:48:54.204Z"
   },
   {
    "duration": 6,
    "start_time": "2022-11-24T11:49:19.696Z"
   },
   {
    "duration": 147,
    "start_time": "2022-11-24T11:54:10.134Z"
   },
   {
    "duration": 635,
    "start_time": "2022-11-24T11:54:52.325Z"
   },
   {
    "duration": 5042,
    "start_time": "2022-11-24T11:55:22.614Z"
   },
   {
    "duration": 204,
    "start_time": "2022-11-24T11:57:42.607Z"
   },
   {
    "duration": 196,
    "start_time": "2022-11-24T11:59:17.743Z"
   },
   {
    "duration": 215,
    "start_time": "2022-11-24T11:59:42.152Z"
   },
   {
    "duration": 199,
    "start_time": "2022-11-24T12:00:25.440Z"
   },
   {
    "duration": 203,
    "start_time": "2022-11-24T12:02:11.779Z"
   },
   {
    "duration": 52,
    "start_time": "2022-11-24T12:03:16.256Z"
   },
   {
    "duration": 47,
    "start_time": "2022-11-24T12:03:23.437Z"
   },
   {
    "duration": 198,
    "start_time": "2022-11-24T12:03:28.084Z"
   },
   {
    "duration": 403,
    "start_time": "2022-11-24T12:04:20.367Z"
   },
   {
    "duration": 208,
    "start_time": "2022-11-24T12:04:30.959Z"
   },
   {
    "duration": 270,
    "start_time": "2022-11-24T12:04:56.576Z"
   },
   {
    "duration": 193,
    "start_time": "2022-11-24T12:05:09.433Z"
   },
   {
    "duration": 202,
    "start_time": "2022-11-24T12:05:15.383Z"
   },
   {
    "duration": 57,
    "start_time": "2022-11-24T12:06:44.018Z"
   },
   {
    "duration": 59,
    "start_time": "2022-11-24T12:06:51.732Z"
   },
   {
    "duration": 177,
    "start_time": "2022-11-24T12:06:57.672Z"
   },
   {
    "duration": 199,
    "start_time": "2022-11-24T12:07:09.144Z"
   },
   {
    "duration": 17,
    "start_time": "2022-11-24T12:34:32.700Z"
   },
   {
    "duration": 203,
    "start_time": "2022-11-24T12:37:25.058Z"
   },
   {
    "duration": 11,
    "start_time": "2022-11-24T12:37:44.625Z"
   },
   {
    "duration": 12,
    "start_time": "2022-11-24T12:54:08.504Z"
   },
   {
    "duration": 11,
    "start_time": "2022-11-24T12:56:02.672Z"
   },
   {
    "duration": 199,
    "start_time": "2022-11-24T12:58:02.702Z"
   },
   {
    "duration": 1109,
    "start_time": "2022-11-24T12:58:11.457Z"
   },
   {
    "duration": 3,
    "start_time": "2022-11-24T12:58:12.568Z"
   },
   {
    "duration": 98,
    "start_time": "2022-11-24T12:58:12.572Z"
   },
   {
    "duration": 16,
    "start_time": "2022-11-24T12:58:12.671Z"
   },
   {
    "duration": 52,
    "start_time": "2022-11-24T12:58:12.690Z"
   },
   {
    "duration": 4,
    "start_time": "2022-11-24T12:58:12.744Z"
   },
   {
    "duration": 29,
    "start_time": "2022-11-24T12:58:12.749Z"
   },
   {
    "duration": 59,
    "start_time": "2022-11-24T12:58:12.781Z"
   },
   {
    "duration": 18,
    "start_time": "2022-11-24T12:58:12.842Z"
   },
   {
    "duration": 36,
    "start_time": "2022-11-24T12:58:12.861Z"
   },
   {
    "duration": 20,
    "start_time": "2022-11-24T12:58:12.898Z"
   },
   {
    "duration": 48,
    "start_time": "2022-11-24T12:58:12.919Z"
   },
   {
    "duration": 29,
    "start_time": "2022-11-24T12:58:12.969Z"
   },
   {
    "duration": 34,
    "start_time": "2022-11-24T12:58:13.001Z"
   },
   {
    "duration": 10,
    "start_time": "2022-11-24T12:58:13.037Z"
   },
   {
    "duration": 35,
    "start_time": "2022-11-24T12:58:13.049Z"
   },
   {
    "duration": 12,
    "start_time": "2022-11-24T12:58:13.086Z"
   },
   {
    "duration": 41,
    "start_time": "2022-11-24T12:58:13.100Z"
   },
   {
    "duration": 29,
    "start_time": "2022-11-24T12:58:13.143Z"
   },
   {
    "duration": 10,
    "start_time": "2022-11-24T12:58:13.173Z"
   },
   {
    "duration": 38,
    "start_time": "2022-11-24T12:58:13.185Z"
   },
   {
    "duration": 19,
    "start_time": "2022-11-24T12:58:13.225Z"
   },
   {
    "duration": 19,
    "start_time": "2022-11-24T12:58:13.246Z"
   },
   {
    "duration": 43,
    "start_time": "2022-11-24T12:58:13.268Z"
   },
   {
    "duration": 26,
    "start_time": "2022-11-24T12:58:13.313Z"
   },
   {
    "duration": 21,
    "start_time": "2022-11-24T12:58:13.341Z"
   },
   {
    "duration": 28,
    "start_time": "2022-11-24T12:58:13.364Z"
   },
   {
    "duration": 37,
    "start_time": "2022-11-24T12:58:13.394Z"
   },
   {
    "duration": 260,
    "start_time": "2022-11-24T12:58:13.433Z"
   },
   {
    "duration": 12,
    "start_time": "2022-11-24T12:58:13.694Z"
   },
   {
    "duration": 123,
    "start_time": "2022-11-24T12:58:13.716Z"
   },
   {
    "duration": 11,
    "start_time": "2022-11-24T12:59:45.840Z"
   },
   {
    "duration": 19,
    "start_time": "2022-11-24T13:01:26.922Z"
   },
   {
    "duration": 84,
    "start_time": "2022-11-24T13:06:38.028Z"
   },
   {
    "duration": 21,
    "start_time": "2022-11-24T13:06:52.511Z"
   },
   {
    "duration": 20,
    "start_time": "2022-11-24T13:07:32.770Z"
   },
   {
    "duration": 18,
    "start_time": "2022-11-24T13:07:37.245Z"
   },
   {
    "duration": 16,
    "start_time": "2022-11-24T13:07:54.481Z"
   },
   {
    "duration": 42,
    "start_time": "2022-11-24T13:09:01.980Z"
   },
   {
    "duration": 14,
    "start_time": "2022-11-24T13:14:03.313Z"
   },
   {
    "duration": 71,
    "start_time": "2022-11-24T13:22:05.202Z"
   },
   {
    "duration": 52,
    "start_time": "2022-11-24T13:24:09.195Z"
   },
   {
    "duration": 88,
    "start_time": "2022-11-24T13:24:18.878Z"
   },
   {
    "duration": 44,
    "start_time": "2022-11-24T13:26:51.346Z"
   },
   {
    "duration": 57,
    "start_time": "2022-11-24T13:27:26.291Z"
   },
   {
    "duration": 51,
    "start_time": "2022-11-24T13:27:42.448Z"
   },
   {
    "duration": 52,
    "start_time": "2022-11-24T13:28:51.966Z"
   },
   {
    "duration": 17,
    "start_time": "2022-11-24T13:29:19.908Z"
   },
   {
    "duration": 28,
    "start_time": "2022-11-24T13:29:57.275Z"
   },
   {
    "duration": 24,
    "start_time": "2022-11-24T13:32:17.318Z"
   },
   {
    "duration": 42,
    "start_time": "2022-11-24T13:34:07.570Z"
   },
   {
    "duration": 27,
    "start_time": "2022-11-24T13:35:50.769Z"
   },
   {
    "duration": 26,
    "start_time": "2022-11-24T13:37:14.156Z"
   },
   {
    "duration": 37,
    "start_time": "2022-11-24T13:37:26.418Z"
   },
   {
    "duration": 26,
    "start_time": "2022-11-24T13:37:57.155Z"
   },
   {
    "duration": 26,
    "start_time": "2022-11-24T13:38:02.962Z"
   },
   {
    "duration": 25,
    "start_time": "2022-11-24T13:38:37.667Z"
   },
   {
    "duration": 1280,
    "start_time": "2022-11-24T13:39:59.789Z"
   },
   {
    "duration": 1881,
    "start_time": "2022-11-24T13:40:47.100Z"
   },
   {
    "duration": 468,
    "start_time": "2022-11-24T13:41:46.480Z"
   },
   {
    "duration": 358,
    "start_time": "2022-11-24T13:44:41.451Z"
   },
   {
    "duration": 235,
    "start_time": "2022-11-24T13:45:17.038Z"
   },
   {
    "duration": 236,
    "start_time": "2022-11-24T13:46:08.326Z"
   },
   {
    "duration": 176,
    "start_time": "2022-11-24T13:50:04.054Z"
   },
   {
    "duration": 532,
    "start_time": "2022-11-24T13:50:24.970Z"
   },
   {
    "duration": 230,
    "start_time": "2022-11-24T13:51:06.636Z"
   },
   {
    "duration": 211,
    "start_time": "2022-11-24T13:51:22.845Z"
   },
   {
    "duration": 49,
    "start_time": "2022-11-24T13:51:39.214Z"
   },
   {
    "duration": 217,
    "start_time": "2022-11-24T13:51:57.168Z"
   },
   {
    "duration": 226,
    "start_time": "2022-11-24T13:55:59.367Z"
   },
   {
    "duration": 214,
    "start_time": "2022-11-24T13:59:51.827Z"
   },
   {
    "duration": 510,
    "start_time": "2022-11-24T14:04:11.184Z"
   },
   {
    "duration": 375,
    "start_time": "2022-11-24T14:06:51.953Z"
   },
   {
    "duration": 290,
    "start_time": "2022-11-24T15:04:32.094Z"
   },
   {
    "duration": 318,
    "start_time": "2022-11-24T15:05:22.144Z"
   },
   {
    "duration": 320,
    "start_time": "2022-11-24T15:06:46.550Z"
   },
   {
    "duration": 481,
    "start_time": "2022-11-24T15:15:44.192Z"
   },
   {
    "duration": 303,
    "start_time": "2022-11-24T15:18:54.926Z"
   },
   {
    "duration": 289,
    "start_time": "2022-11-24T15:23:38.405Z"
   },
   {
    "duration": 16,
    "start_time": "2022-11-24T15:55:03.934Z"
   },
   {
    "duration": 1158,
    "start_time": "2022-11-24T15:55:51.960Z"
   },
   {
    "duration": 3,
    "start_time": "2022-11-24T15:55:53.120Z"
   },
   {
    "duration": 77,
    "start_time": "2022-11-24T15:55:53.124Z"
   },
   {
    "duration": 15,
    "start_time": "2022-11-24T15:55:53.202Z"
   },
   {
    "duration": 38,
    "start_time": "2022-11-24T15:55:53.219Z"
   },
   {
    "duration": 4,
    "start_time": "2022-11-24T15:55:53.258Z"
   },
   {
    "duration": 6,
    "start_time": "2022-11-24T15:55:53.264Z"
   },
   {
    "duration": 14,
    "start_time": "2022-11-24T15:55:53.272Z"
   },
   {
    "duration": 6,
    "start_time": "2022-11-24T15:55:53.287Z"
   },
   {
    "duration": 20,
    "start_time": "2022-11-24T15:55:53.295Z"
   },
   {
    "duration": 11,
    "start_time": "2022-11-24T15:55:53.317Z"
   },
   {
    "duration": 10,
    "start_time": "2022-11-24T15:55:53.330Z"
   },
   {
    "duration": 12,
    "start_time": "2022-11-24T15:55:53.342Z"
   },
   {
    "duration": 15,
    "start_time": "2022-11-24T15:55:53.357Z"
   },
   {
    "duration": 6,
    "start_time": "2022-11-24T15:55:53.374Z"
   },
   {
    "duration": 33,
    "start_time": "2022-11-24T15:55:53.382Z"
   },
   {
    "duration": 7,
    "start_time": "2022-11-24T15:55:53.417Z"
   },
   {
    "duration": 23,
    "start_time": "2022-11-24T15:55:53.426Z"
   },
   {
    "duration": 15,
    "start_time": "2022-11-24T15:55:53.450Z"
   },
   {
    "duration": 9,
    "start_time": "2022-11-24T15:55:53.466Z"
   },
   {
    "duration": 12,
    "start_time": "2022-11-24T15:55:53.476Z"
   },
   {
    "duration": 4,
    "start_time": "2022-11-24T15:55:53.516Z"
   },
   {
    "duration": 10,
    "start_time": "2022-11-24T15:55:53.521Z"
   },
   {
    "duration": 10,
    "start_time": "2022-11-24T15:55:53.532Z"
   },
   {
    "duration": 5,
    "start_time": "2022-11-24T15:55:53.545Z"
   },
   {
    "duration": 5,
    "start_time": "2022-11-24T15:55:53.552Z"
   },
   {
    "duration": 16,
    "start_time": "2022-11-24T15:55:53.559Z"
   },
   {
    "duration": 41,
    "start_time": "2022-11-24T15:55:53.577Z"
   },
   {
    "duration": 254,
    "start_time": "2022-11-24T15:55:53.620Z"
   },
   {
    "duration": 13,
    "start_time": "2022-11-24T15:55:53.876Z"
   },
   {
    "duration": 246,
    "start_time": "2022-11-24T15:55:53.890Z"
   },
   {
    "duration": 330,
    "start_time": "2022-11-24T15:55:54.138Z"
   },
   {
    "duration": 349,
    "start_time": "2022-11-24T15:55:54.469Z"
   },
   {
    "duration": 878,
    "start_time": "2022-11-24T15:58:55.126Z"
   },
   {
    "duration": 167,
    "start_time": "2022-11-24T15:59:19.823Z"
   },
   {
    "duration": 330,
    "start_time": "2022-11-24T15:59:32.651Z"
   },
   {
    "duration": 2,
    "start_time": "2022-11-24T16:00:17.102Z"
   },
   {
    "duration": 34,
    "start_time": "2022-11-24T19:24:50.745Z"
   },
   {
    "duration": 11,
    "start_time": "2022-11-24T19:35:49.431Z"
   },
   {
    "duration": 562,
    "start_time": "2022-11-24T19:44:27.118Z"
   },
   {
    "duration": 8,
    "start_time": "2022-11-24T19:53:15.272Z"
   },
   {
    "duration": 17,
    "start_time": "2022-11-24T19:55:53.907Z"
   },
   {
    "duration": 5,
    "start_time": "2022-11-24T20:00:21.357Z"
   },
   {
    "duration": 5,
    "start_time": "2022-11-24T20:00:34.452Z"
   },
   {
    "duration": 6,
    "start_time": "2022-11-24T20:01:07.254Z"
   },
   {
    "duration": 5,
    "start_time": "2022-11-24T20:01:39.804Z"
   },
   {
    "duration": 5,
    "start_time": "2022-11-24T20:01:57.204Z"
   },
   {
    "duration": 5,
    "start_time": "2022-11-24T20:02:38.633Z"
   },
   {
    "duration": 8,
    "start_time": "2022-11-24T20:07:08.585Z"
   },
   {
    "duration": 6,
    "start_time": "2022-11-24T20:14:33.031Z"
   },
   {
    "duration": 8,
    "start_time": "2022-11-24T20:14:43.195Z"
   },
   {
    "duration": 15,
    "start_time": "2022-11-24T20:16:16.561Z"
   },
   {
    "duration": 1177,
    "start_time": "2022-11-24T20:16:31.174Z"
   },
   {
    "duration": 3,
    "start_time": "2022-11-24T20:16:32.353Z"
   },
   {
    "duration": 80,
    "start_time": "2022-11-24T20:16:32.358Z"
   },
   {
    "duration": 16,
    "start_time": "2022-11-24T20:16:32.440Z"
   },
   {
    "duration": 31,
    "start_time": "2022-11-24T20:16:32.457Z"
   },
   {
    "duration": 4,
    "start_time": "2022-11-24T20:16:32.490Z"
   },
   {
    "duration": 21,
    "start_time": "2022-11-24T20:16:32.495Z"
   },
   {
    "duration": 18,
    "start_time": "2022-11-24T20:16:32.518Z"
   },
   {
    "duration": 19,
    "start_time": "2022-11-24T20:16:32.538Z"
   },
   {
    "duration": 11,
    "start_time": "2022-11-24T20:16:32.561Z"
   },
   {
    "duration": 15,
    "start_time": "2022-11-24T20:16:32.574Z"
   },
   {
    "duration": 18,
    "start_time": "2022-11-24T20:16:32.590Z"
   },
   {
    "duration": 9,
    "start_time": "2022-11-24T20:16:32.615Z"
   },
   {
    "duration": 17,
    "start_time": "2022-11-24T20:16:32.626Z"
   },
   {
    "duration": 12,
    "start_time": "2022-11-24T20:16:32.646Z"
   },
   {
    "duration": 7,
    "start_time": "2022-11-24T20:16:32.659Z"
   },
   {
    "duration": 9,
    "start_time": "2022-11-24T20:16:32.667Z"
   },
   {
    "duration": 39,
    "start_time": "2022-11-24T20:16:32.678Z"
   },
   {
    "duration": 16,
    "start_time": "2022-11-24T20:16:32.720Z"
   },
   {
    "duration": 9,
    "start_time": "2022-11-24T20:16:32.738Z"
   },
   {
    "duration": 16,
    "start_time": "2022-11-24T20:16:32.749Z"
   },
   {
    "duration": 5,
    "start_time": "2022-11-24T20:16:32.766Z"
   },
   {
    "duration": 14,
    "start_time": "2022-11-24T20:16:32.772Z"
   },
   {
    "duration": 32,
    "start_time": "2022-11-24T20:16:32.788Z"
   },
   {
    "duration": 8,
    "start_time": "2022-11-24T20:16:32.822Z"
   },
   {
    "duration": 7,
    "start_time": "2022-11-24T20:16:32.832Z"
   },
   {
    "duration": 14,
    "start_time": "2022-11-24T20:16:32.840Z"
   },
   {
    "duration": 9,
    "start_time": "2022-11-24T20:16:32.858Z"
   },
   {
    "duration": 236,
    "start_time": "2022-11-24T20:16:32.868Z"
   },
   {
    "duration": 19,
    "start_time": "2022-11-24T20:16:33.106Z"
   },
   {
    "duration": 238,
    "start_time": "2022-11-24T20:16:33.127Z"
   },
   {
    "duration": 352,
    "start_time": "2022-11-24T20:16:33.367Z"
   },
   {
    "duration": 2,
    "start_time": "2022-11-24T20:16:33.721Z"
   },
   {
    "duration": 26,
    "start_time": "2022-11-24T20:16:33.725Z"
   },
   {
    "duration": 10,
    "start_time": "2022-11-24T20:16:33.752Z"
   },
   {
    "duration": 490,
    "start_time": "2022-11-24T20:16:33.763Z"
   },
   {
    "duration": 102,
    "start_time": "2022-11-24T20:16:57.014Z"
   },
   {
    "duration": 11,
    "start_time": "2022-11-24T20:19:00.368Z"
   },
   {
    "duration": 19,
    "start_time": "2022-11-24T20:19:18.678Z"
   },
   {
    "duration": 18,
    "start_time": "2022-11-24T20:19:58.827Z"
   },
   {
    "duration": 12,
    "start_time": "2022-11-24T20:25:44.072Z"
   },
   {
    "duration": 20,
    "start_time": "2022-11-24T20:25:53.729Z"
   },
   {
    "duration": 20,
    "start_time": "2022-11-24T20:25:58.688Z"
   },
   {
    "duration": 17,
    "start_time": "2022-11-24T20:27:43.818Z"
   },
   {
    "duration": 12,
    "start_time": "2022-11-24T20:27:50.544Z"
   },
   {
    "duration": 18,
    "start_time": "2022-11-24T20:31:17.455Z"
   },
   {
    "duration": 18,
    "start_time": "2022-11-24T20:32:07.212Z"
   },
   {
    "duration": 1202,
    "start_time": "2022-11-24T20:32:15.537Z"
   },
   {
    "duration": 3,
    "start_time": "2022-11-24T20:32:16.741Z"
   },
   {
    "duration": 70,
    "start_time": "2022-11-24T20:32:16.746Z"
   },
   {
    "duration": 13,
    "start_time": "2022-11-24T20:32:16.818Z"
   },
   {
    "duration": 25,
    "start_time": "2022-11-24T20:32:16.833Z"
   },
   {
    "duration": 4,
    "start_time": "2022-11-24T20:32:16.860Z"
   },
   {
    "duration": 8,
    "start_time": "2022-11-24T20:32:16.865Z"
   },
   {
    "duration": 15,
    "start_time": "2022-11-24T20:32:16.875Z"
   },
   {
    "duration": 23,
    "start_time": "2022-11-24T20:32:16.892Z"
   },
   {
    "duration": 3,
    "start_time": "2022-11-24T20:32:16.918Z"
   },
   {
    "duration": 15,
    "start_time": "2022-11-24T20:32:16.923Z"
   },
   {
    "duration": 7,
    "start_time": "2022-11-24T20:32:16.939Z"
   },
   {
    "duration": 12,
    "start_time": "2022-11-24T20:32:16.947Z"
   },
   {
    "duration": 16,
    "start_time": "2022-11-24T20:32:16.960Z"
   },
   {
    "duration": 10,
    "start_time": "2022-11-24T20:32:16.978Z"
   },
   {
    "duration": 5,
    "start_time": "2022-11-24T20:32:17.015Z"
   },
   {
    "duration": 10,
    "start_time": "2022-11-24T20:32:17.021Z"
   },
   {
    "duration": 12,
    "start_time": "2022-11-24T20:32:17.033Z"
   },
   {
    "duration": 13,
    "start_time": "2022-11-24T20:32:17.047Z"
   },
   {
    "duration": 8,
    "start_time": "2022-11-24T20:32:17.062Z"
   },
   {
    "duration": 10,
    "start_time": "2022-11-24T20:32:17.071Z"
   },
   {
    "duration": 4,
    "start_time": "2022-11-24T20:32:17.116Z"
   },
   {
    "duration": 11,
    "start_time": "2022-11-24T20:32:17.122Z"
   },
   {
    "duration": 13,
    "start_time": "2022-11-24T20:32:17.134Z"
   },
   {
    "duration": 6,
    "start_time": "2022-11-24T20:32:17.148Z"
   },
   {
    "duration": 6,
    "start_time": "2022-11-24T20:32:17.155Z"
   },
   {
    "duration": 16,
    "start_time": "2022-11-24T20:32:17.162Z"
   },
   {
    "duration": 7,
    "start_time": "2022-11-24T20:32:17.181Z"
   },
   {
    "duration": 222,
    "start_time": "2022-11-24T20:32:17.189Z"
   },
   {
    "duration": 12,
    "start_time": "2022-11-24T20:32:17.415Z"
   },
   {
    "duration": 229,
    "start_time": "2022-11-24T20:32:17.428Z"
   },
   {
    "duration": 341,
    "start_time": "2022-11-24T20:32:17.659Z"
   },
   {
    "duration": 3,
    "start_time": "2022-11-24T20:32:18.001Z"
   },
   {
    "duration": 16,
    "start_time": "2022-11-24T20:32:18.005Z"
   },
   {
    "duration": 6,
    "start_time": "2022-11-24T20:32:18.023Z"
   },
   {
    "duration": 119,
    "start_time": "2022-11-24T20:32:18.030Z"
   },
   {
    "duration": 15,
    "start_time": "2022-11-24T20:46:31.624Z"
   },
   {
    "duration": 25,
    "start_time": "2022-11-24T20:48:47.078Z"
   },
   {
    "duration": 34,
    "start_time": "2022-11-24T20:49:58.962Z"
   },
   {
    "duration": 9,
    "start_time": "2022-11-24T20:50:44.770Z"
   },
   {
    "duration": 471,
    "start_time": "2022-11-24T20:50:54.761Z"
   },
   {
    "duration": 14,
    "start_time": "2022-11-24T20:54:19.636Z"
   },
   {
    "duration": 1125,
    "start_time": "2022-11-24T20:54:27.135Z"
   },
   {
    "duration": 2,
    "start_time": "2022-11-24T20:54:28.262Z"
   },
   {
    "duration": 69,
    "start_time": "2022-11-24T20:54:28.266Z"
   },
   {
    "duration": 16,
    "start_time": "2022-11-24T20:54:28.337Z"
   },
   {
    "duration": 31,
    "start_time": "2022-11-24T20:54:28.355Z"
   },
   {
    "duration": 4,
    "start_time": "2022-11-24T20:54:28.388Z"
   },
   {
    "duration": 22,
    "start_time": "2022-11-24T20:54:28.394Z"
   },
   {
    "duration": 12,
    "start_time": "2022-11-24T20:54:28.417Z"
   },
   {
    "duration": 9,
    "start_time": "2022-11-24T20:54:28.430Z"
   },
   {
    "duration": 8,
    "start_time": "2022-11-24T20:54:28.442Z"
   },
   {
    "duration": 13,
    "start_time": "2022-11-24T20:54:28.452Z"
   },
   {
    "duration": 6,
    "start_time": "2022-11-24T20:54:28.467Z"
   },
   {
    "duration": 7,
    "start_time": "2022-11-24T20:54:28.475Z"
   },
   {
    "duration": 42,
    "start_time": "2022-11-24T20:54:28.483Z"
   },
   {
    "duration": 7,
    "start_time": "2022-11-24T20:54:28.527Z"
   },
   {
    "duration": 5,
    "start_time": "2022-11-24T20:54:28.536Z"
   },
   {
    "duration": 7,
    "start_time": "2022-11-24T20:54:28.543Z"
   },
   {
    "duration": 15,
    "start_time": "2022-11-24T20:54:28.551Z"
   },
   {
    "duration": 15,
    "start_time": "2022-11-24T20:54:28.567Z"
   },
   {
    "duration": 38,
    "start_time": "2022-11-24T20:54:28.583Z"
   },
   {
    "duration": 11,
    "start_time": "2022-11-24T20:54:28.623Z"
   },
   {
    "duration": 4,
    "start_time": "2022-11-24T20:54:28.635Z"
   },
   {
    "duration": 5,
    "start_time": "2022-11-24T20:54:28.641Z"
   },
   {
    "duration": 7,
    "start_time": "2022-11-24T20:54:28.647Z"
   },
   {
    "duration": 6,
    "start_time": "2022-11-24T20:54:28.655Z"
   },
   {
    "duration": 6,
    "start_time": "2022-11-24T20:54:28.663Z"
   },
   {
    "duration": 18,
    "start_time": "2022-11-24T20:54:28.670Z"
   },
   {
    "duration": 6,
    "start_time": "2022-11-24T20:54:28.716Z"
   },
   {
    "duration": 227,
    "start_time": "2022-11-24T20:54:28.724Z"
   },
   {
    "duration": 12,
    "start_time": "2022-11-24T20:54:28.953Z"
   },
   {
    "duration": 231,
    "start_time": "2022-11-24T20:54:28.966Z"
   },
   {
    "duration": 354,
    "start_time": "2022-11-24T20:54:29.198Z"
   },
   {
    "duration": 3,
    "start_time": "2022-11-24T20:54:29.553Z"
   },
   {
    "duration": 11,
    "start_time": "2022-11-24T20:54:29.557Z"
   },
   {
    "duration": 31,
    "start_time": "2022-11-24T20:54:29.569Z"
   },
   {
    "duration": 100,
    "start_time": "2022-11-24T20:54:29.601Z"
   },
   {
    "duration": 15,
    "start_time": "2022-11-24T20:54:52.400Z"
   },
   {
    "duration": 13,
    "start_time": "2022-11-24T20:55:22.169Z"
   },
   {
    "duration": 18,
    "start_time": "2022-11-24T20:55:27.289Z"
   },
   {
    "duration": 522,
    "start_time": "2022-11-24T20:55:52.465Z"
   },
   {
    "duration": 23,
    "start_time": "2022-11-24T21:04:34.421Z"
   },
   {
    "duration": 16,
    "start_time": "2022-11-24T21:05:03.752Z"
   },
   {
    "duration": 1229,
    "start_time": "2022-11-24T21:05:38.592Z"
   },
   {
    "duration": 3,
    "start_time": "2022-11-24T21:05:39.823Z"
   },
   {
    "duration": 77,
    "start_time": "2022-11-24T21:05:39.828Z"
   },
   {
    "duration": 15,
    "start_time": "2022-11-24T21:05:39.908Z"
   },
   {
    "duration": 33,
    "start_time": "2022-11-24T21:05:39.925Z"
   },
   {
    "duration": 4,
    "start_time": "2022-11-24T21:05:39.960Z"
   },
   {
    "duration": 9,
    "start_time": "2022-11-24T21:05:39.966Z"
   },
   {
    "duration": 18,
    "start_time": "2022-11-24T21:05:39.976Z"
   },
   {
    "duration": 10,
    "start_time": "2022-11-24T21:05:39.996Z"
   },
   {
    "duration": 4,
    "start_time": "2022-11-24T21:05:40.018Z"
   },
   {
    "duration": 18,
    "start_time": "2022-11-24T21:05:40.023Z"
   },
   {
    "duration": 14,
    "start_time": "2022-11-24T21:05:40.044Z"
   },
   {
    "duration": 24,
    "start_time": "2022-11-24T21:05:40.060Z"
   },
   {
    "duration": 34,
    "start_time": "2022-11-24T21:05:40.087Z"
   },
   {
    "duration": 19,
    "start_time": "2022-11-24T21:05:40.123Z"
   },
   {
    "duration": 14,
    "start_time": "2022-11-24T21:05:40.144Z"
   },
   {
    "duration": 8,
    "start_time": "2022-11-24T21:05:40.159Z"
   },
   {
    "duration": 23,
    "start_time": "2022-11-24T21:05:40.169Z"
   },
   {
    "duration": 24,
    "start_time": "2022-11-24T21:05:40.195Z"
   },
   {
    "duration": 10,
    "start_time": "2022-11-24T21:05:40.221Z"
   },
   {
    "duration": 14,
    "start_time": "2022-11-24T21:05:40.233Z"
   },
   {
    "duration": 9,
    "start_time": "2022-11-24T21:05:40.249Z"
   },
   {
    "duration": 14,
    "start_time": "2022-11-24T21:05:40.260Z"
   },
   {
    "duration": 13,
    "start_time": "2022-11-24T21:05:40.276Z"
   },
   {
    "duration": 16,
    "start_time": "2022-11-24T21:05:40.291Z"
   },
   {
    "duration": 15,
    "start_time": "2022-11-24T21:05:40.309Z"
   },
   {
    "duration": 21,
    "start_time": "2022-11-24T21:05:40.325Z"
   },
   {
    "duration": 7,
    "start_time": "2022-11-24T21:05:40.350Z"
   },
   {
    "duration": 227,
    "start_time": "2022-11-24T21:05:40.359Z"
   },
   {
    "duration": 16,
    "start_time": "2022-11-24T21:05:40.591Z"
   },
   {
    "duration": 231,
    "start_time": "2022-11-24T21:05:40.616Z"
   },
   {
    "duration": 347,
    "start_time": "2022-11-24T21:05:40.849Z"
   },
   {
    "duration": 3,
    "start_time": "2022-11-24T21:05:41.198Z"
   },
   {
    "duration": 24,
    "start_time": "2022-11-24T21:05:41.205Z"
   },
   {
    "duration": 111,
    "start_time": "2022-11-24T21:05:41.231Z"
   },
   {
    "duration": 0,
    "start_time": "2022-11-24T21:05:41.344Z"
   },
   {
    "duration": 30,
    "start_time": "2022-11-24T21:07:51.465Z"
   },
   {
    "duration": 37,
    "start_time": "2022-11-24T21:08:02.303Z"
   },
   {
    "duration": 143,
    "start_time": "2022-11-24T21:08:39.978Z"
   },
   {
    "duration": 148,
    "start_time": "2022-11-24T21:10:31.239Z"
   },
   {
    "duration": 29,
    "start_time": "2022-11-24T21:12:34.794Z"
   },
   {
    "duration": 14,
    "start_time": "2022-11-24T21:14:18.002Z"
   },
   {
    "duration": 11,
    "start_time": "2022-11-24T21:15:11.123Z"
   },
   {
    "duration": 29,
    "start_time": "2022-11-24T21:15:42.295Z"
   },
   {
    "duration": 1152,
    "start_time": "2022-11-24T21:22:40.859Z"
   },
   {
    "duration": 3,
    "start_time": "2022-11-24T21:22:42.013Z"
   },
   {
    "duration": 83,
    "start_time": "2022-11-24T21:22:42.018Z"
   },
   {
    "duration": 15,
    "start_time": "2022-11-24T21:22:42.103Z"
   },
   {
    "duration": 45,
    "start_time": "2022-11-24T21:22:42.120Z"
   },
   {
    "duration": 5,
    "start_time": "2022-11-24T21:22:42.168Z"
   },
   {
    "duration": 17,
    "start_time": "2022-11-24T21:22:42.175Z"
   },
   {
    "duration": 24,
    "start_time": "2022-11-24T21:22:42.194Z"
   },
   {
    "duration": 15,
    "start_time": "2022-11-24T21:22:42.219Z"
   },
   {
    "duration": 32,
    "start_time": "2022-11-24T21:22:42.237Z"
   },
   {
    "duration": 27,
    "start_time": "2022-11-24T21:22:42.273Z"
   },
   {
    "duration": 26,
    "start_time": "2022-11-24T21:22:42.301Z"
   },
   {
    "duration": 24,
    "start_time": "2022-11-24T21:22:42.328Z"
   },
   {
    "duration": 34,
    "start_time": "2022-11-24T21:22:42.353Z"
   },
   {
    "duration": 13,
    "start_time": "2022-11-24T21:22:42.388Z"
   },
   {
    "duration": 38,
    "start_time": "2022-11-24T21:22:42.402Z"
   },
   {
    "duration": 27,
    "start_time": "2022-11-24T21:22:42.441Z"
   },
   {
    "duration": 33,
    "start_time": "2022-11-24T21:22:42.471Z"
   },
   {
    "duration": 27,
    "start_time": "2022-11-24T21:22:42.506Z"
   },
   {
    "duration": 27,
    "start_time": "2022-11-24T21:22:42.535Z"
   },
   {
    "duration": 25,
    "start_time": "2022-11-24T21:22:42.564Z"
   },
   {
    "duration": 29,
    "start_time": "2022-11-24T21:22:42.591Z"
   },
   {
    "duration": 28,
    "start_time": "2022-11-24T21:22:42.621Z"
   },
   {
    "duration": 39,
    "start_time": "2022-11-24T21:22:42.651Z"
   },
   {
    "duration": 26,
    "start_time": "2022-11-24T21:22:42.691Z"
   },
   {
    "duration": 33,
    "start_time": "2022-11-24T21:22:42.719Z"
   },
   {
    "duration": 24,
    "start_time": "2022-11-24T21:22:42.754Z"
   },
   {
    "duration": 20,
    "start_time": "2022-11-24T21:22:42.782Z"
   },
   {
    "duration": 232,
    "start_time": "2022-11-24T21:22:42.804Z"
   },
   {
    "duration": 14,
    "start_time": "2022-11-24T21:22:43.037Z"
   },
   {
    "duration": 240,
    "start_time": "2022-11-24T21:22:43.052Z"
   },
   {
    "duration": 338,
    "start_time": "2022-11-24T21:22:43.294Z"
   },
   {
    "duration": 3,
    "start_time": "2022-11-24T21:22:43.634Z"
   },
   {
    "duration": 31,
    "start_time": "2022-11-24T21:22:43.639Z"
   },
   {
    "duration": 44,
    "start_time": "2022-11-24T21:22:43.672Z"
   },
   {
    "duration": 217,
    "start_time": "2022-11-24T21:22:43.718Z"
   },
   {
    "duration": 1127,
    "start_time": "2022-11-24T21:24:49.856Z"
   },
   {
    "duration": 3,
    "start_time": "2022-11-24T21:24:50.984Z"
   },
   {
    "duration": 84,
    "start_time": "2022-11-24T21:24:50.988Z"
   },
   {
    "duration": 14,
    "start_time": "2022-11-24T21:24:51.074Z"
   },
   {
    "duration": 25,
    "start_time": "2022-11-24T21:24:51.090Z"
   },
   {
    "duration": 5,
    "start_time": "2022-11-24T21:24:51.117Z"
   },
   {
    "duration": 14,
    "start_time": "2022-11-24T21:24:51.124Z"
   },
   {
    "duration": 31,
    "start_time": "2022-11-24T21:24:51.139Z"
   },
   {
    "duration": 13,
    "start_time": "2022-11-24T21:24:51.171Z"
   },
   {
    "duration": 7,
    "start_time": "2022-11-24T21:24:51.186Z"
   },
   {
    "duration": 24,
    "start_time": "2022-11-24T21:24:51.194Z"
   },
   {
    "duration": 12,
    "start_time": "2022-11-24T21:24:51.220Z"
   },
   {
    "duration": 22,
    "start_time": "2022-11-24T21:24:51.234Z"
   },
   {
    "duration": 43,
    "start_time": "2022-11-24T21:24:51.257Z"
   },
   {
    "duration": 14,
    "start_time": "2022-11-24T21:24:51.302Z"
   },
   {
    "duration": 12,
    "start_time": "2022-11-24T21:24:51.318Z"
   },
   {
    "duration": 10,
    "start_time": "2022-11-24T21:24:51.331Z"
   },
   {
    "duration": 33,
    "start_time": "2022-11-24T21:24:51.343Z"
   },
   {
    "duration": 26,
    "start_time": "2022-11-24T21:24:51.377Z"
   },
   {
    "duration": 24,
    "start_time": "2022-11-24T21:24:51.405Z"
   },
   {
    "duration": 16,
    "start_time": "2022-11-24T21:24:51.431Z"
   },
   {
    "duration": 4,
    "start_time": "2022-11-24T21:24:51.449Z"
   },
   {
    "duration": 6,
    "start_time": "2022-11-24T21:24:51.455Z"
   },
   {
    "duration": 7,
    "start_time": "2022-11-24T21:24:51.463Z"
   },
   {
    "duration": 6,
    "start_time": "2022-11-24T21:24:51.472Z"
   },
   {
    "duration": 7,
    "start_time": "2022-11-24T21:24:51.480Z"
   },
   {
    "duration": 37,
    "start_time": "2022-11-24T21:24:51.489Z"
   },
   {
    "duration": 10,
    "start_time": "2022-11-24T21:24:51.529Z"
   },
   {
    "duration": 226,
    "start_time": "2022-11-24T21:24:51.540Z"
   },
   {
    "duration": 12,
    "start_time": "2022-11-24T21:24:51.767Z"
   },
   {
    "duration": 354,
    "start_time": "2022-11-24T21:24:51.780Z"
   },
   {
    "duration": 364,
    "start_time": "2022-11-24T21:24:52.136Z"
   },
   {
    "duration": 3,
    "start_time": "2022-11-24T21:24:52.501Z"
   },
   {
    "duration": 13,
    "start_time": "2022-11-24T21:24:52.506Z"
   },
   {
    "duration": 37,
    "start_time": "2022-11-24T21:24:52.520Z"
   },
   {
    "duration": 213,
    "start_time": "2022-11-24T21:24:52.558Z"
   },
   {
    "duration": 210,
    "start_time": "2022-11-24T21:34:06.032Z"
   },
   {
    "duration": 284,
    "start_time": "2022-11-24T21:39:42.672Z"
   },
   {
    "duration": 223,
    "start_time": "2022-11-24T21:41:02.959Z"
   },
   {
    "duration": 205,
    "start_time": "2022-11-24T21:54:45.089Z"
   },
   {
    "duration": 220,
    "start_time": "2022-11-24T21:55:47.135Z"
   },
   {
    "duration": 223,
    "start_time": "2022-11-24T21:56:04.223Z"
   },
   {
    "duration": 213,
    "start_time": "2022-11-24T21:56:15.510Z"
   },
   {
    "duration": 312,
    "start_time": "2022-11-24T21:56:24.214Z"
   },
   {
    "duration": 206,
    "start_time": "2022-11-24T21:56:30.334Z"
   },
   {
    "duration": 216,
    "start_time": "2022-11-24T21:56:39.717Z"
   },
   {
    "duration": 217,
    "start_time": "2022-11-24T21:56:44.197Z"
   },
   {
    "duration": 221,
    "start_time": "2022-11-24T21:56:55.015Z"
   },
   {
    "duration": 294,
    "start_time": "2022-11-24T22:06:25.690Z"
   },
   {
    "duration": 262,
    "start_time": "2022-11-24T22:06:36.255Z"
   },
   {
    "duration": 15,
    "start_time": "2022-11-24T22:17:38.077Z"
   },
   {
    "duration": 11,
    "start_time": "2022-11-24T22:17:54.078Z"
   },
   {
    "duration": 195,
    "start_time": "2022-11-24T22:26:10.373Z"
   },
   {
    "duration": 142,
    "start_time": "2022-11-24T22:27:22.063Z"
   },
   {
    "duration": 11,
    "start_time": "2022-11-24T22:32:08.935Z"
   },
   {
    "duration": 190,
    "start_time": "2022-11-24T22:32:17.416Z"
   },
   {
    "duration": 131,
    "start_time": "2022-11-24T22:32:40.736Z"
   },
   {
    "duration": 131,
    "start_time": "2022-11-24T22:33:21.728Z"
   },
   {
    "duration": 127,
    "start_time": "2022-11-24T22:33:36.824Z"
   },
   {
    "duration": 148,
    "start_time": "2022-11-24T22:33:52.032Z"
   },
   {
    "duration": 128,
    "start_time": "2022-11-24T22:36:44.858Z"
   },
   {
    "duration": 143,
    "start_time": "2022-11-24T22:36:56.277Z"
   },
   {
    "duration": 9,
    "start_time": "2022-11-24T22:37:35.083Z"
   },
   {
    "duration": 1304,
    "start_time": "2022-11-25T08:32:51.135Z"
   },
   {
    "duration": 3,
    "start_time": "2022-11-25T08:32:52.440Z"
   },
   {
    "duration": 194,
    "start_time": "2022-11-25T08:32:52.444Z"
   },
   {
    "duration": 14,
    "start_time": "2022-11-25T08:32:52.640Z"
   },
   {
    "duration": 28,
    "start_time": "2022-11-25T08:32:52.656Z"
   },
   {
    "duration": 3,
    "start_time": "2022-11-25T08:32:52.686Z"
   },
   {
    "duration": 5,
    "start_time": "2022-11-25T08:32:52.691Z"
   },
   {
    "duration": 35,
    "start_time": "2022-11-25T08:32:52.697Z"
   },
   {
    "duration": 5,
    "start_time": "2022-11-25T08:32:52.734Z"
   },
   {
    "duration": 5,
    "start_time": "2022-11-25T08:32:52.741Z"
   },
   {
    "duration": 12,
    "start_time": "2022-11-25T08:32:52.748Z"
   },
   {
    "duration": 8,
    "start_time": "2022-11-25T08:32:52.762Z"
   },
   {
    "duration": 7,
    "start_time": "2022-11-25T08:32:52.771Z"
   },
   {
    "duration": 15,
    "start_time": "2022-11-25T08:32:52.779Z"
   },
   {
    "duration": 7,
    "start_time": "2022-11-25T08:32:52.822Z"
   },
   {
    "duration": 10,
    "start_time": "2022-11-25T08:32:52.830Z"
   },
   {
    "duration": 12,
    "start_time": "2022-11-25T08:32:52.842Z"
   },
   {
    "duration": 28,
    "start_time": "2022-11-25T08:32:52.856Z"
   },
   {
    "duration": 16,
    "start_time": "2022-11-25T08:32:52.886Z"
   },
   {
    "duration": 9,
    "start_time": "2022-11-25T08:32:52.903Z"
   },
   {
    "duration": 19,
    "start_time": "2022-11-25T08:32:52.914Z"
   },
   {
    "duration": 10,
    "start_time": "2022-11-25T08:32:52.935Z"
   },
   {
    "duration": 4,
    "start_time": "2022-11-25T08:32:52.947Z"
   },
   {
    "duration": 6,
    "start_time": "2022-11-25T08:32:52.953Z"
   },
   {
    "duration": 21,
    "start_time": "2022-11-25T08:32:52.960Z"
   },
   {
    "duration": 6,
    "start_time": "2022-11-25T08:32:52.982Z"
   },
   {
    "duration": 14,
    "start_time": "2022-11-25T08:32:52.989Z"
   },
   {
    "duration": 16,
    "start_time": "2022-11-25T08:32:53.006Z"
   },
   {
    "duration": 231,
    "start_time": "2022-11-25T08:32:53.024Z"
   },
   {
    "duration": 13,
    "start_time": "2022-11-25T08:32:53.256Z"
   },
   {
    "duration": 240,
    "start_time": "2022-11-25T08:32:53.271Z"
   },
   {
    "duration": 374,
    "start_time": "2022-11-25T08:32:53.513Z"
   },
   {
    "duration": 3,
    "start_time": "2022-11-25T08:32:53.889Z"
   },
   {
    "duration": 27,
    "start_time": "2022-11-25T08:32:53.893Z"
   },
   {
    "duration": 46,
    "start_time": "2022-11-25T08:32:53.922Z"
   },
   {
    "duration": 282,
    "start_time": "2022-11-25T08:32:53.970Z"
   },
   {
    "duration": 13,
    "start_time": "2022-11-25T08:32:54.257Z"
   },
   {
    "duration": 156,
    "start_time": "2022-11-25T08:32:54.272Z"
   },
   {
    "duration": 145,
    "start_time": "2022-11-25T08:32:54.430Z"
   },
   {
    "duration": 77,
    "start_time": "2022-11-25T08:32:54.577Z"
   },
   {
    "duration": 26,
    "start_time": "2022-11-25T08:51:57.511Z"
   },
   {
    "duration": 15,
    "start_time": "2022-11-25T09:12:40.769Z"
   },
   {
    "duration": 87,
    "start_time": "2022-11-25T09:12:55.307Z"
   },
   {
    "duration": 35,
    "start_time": "2022-11-25T09:13:04.203Z"
   },
   {
    "duration": 13,
    "start_time": "2022-11-25T09:13:32.971Z"
   },
   {
    "duration": 14,
    "start_time": "2022-11-25T09:15:47.541Z"
   },
   {
    "duration": 13,
    "start_time": "2022-11-25T09:17:51.056Z"
   },
   {
    "duration": 17,
    "start_time": "2022-11-25T09:26:34.088Z"
   },
   {
    "duration": 16,
    "start_time": "2022-11-25T09:28:03.972Z"
   },
   {
    "duration": 254,
    "start_time": "2022-11-25T09:46:42.188Z"
   },
   {
    "duration": 167,
    "start_time": "2022-11-25T09:47:05.736Z"
   },
   {
    "duration": 237,
    "start_time": "2022-11-25T09:48:59.138Z"
   },
   {
    "duration": 115,
    "start_time": "2022-11-25T09:51:47.886Z"
   },
   {
    "duration": 19,
    "start_time": "2022-11-25T09:51:54.636Z"
   },
   {
    "duration": 11,
    "start_time": "2022-11-25T09:52:03.373Z"
   },
   {
    "duration": 272,
    "start_time": "2022-11-25T09:54:55.589Z"
   },
   {
    "duration": 13,
    "start_time": "2022-11-25T09:56:47.116Z"
   },
   {
    "duration": 12,
    "start_time": "2022-11-25T09:57:03.779Z"
   },
   {
    "duration": 219,
    "start_time": "2022-11-25T09:58:15.367Z"
   },
   {
    "duration": 15,
    "start_time": "2022-11-25T09:59:00.939Z"
   },
   {
    "duration": 14,
    "start_time": "2022-11-25T09:59:37.064Z"
   },
   {
    "duration": 1206,
    "start_time": "2022-11-25T09:59:50.223Z"
   },
   {
    "duration": 3,
    "start_time": "2022-11-25T09:59:51.431Z"
   },
   {
    "duration": 67,
    "start_time": "2022-11-25T09:59:51.436Z"
   },
   {
    "duration": 15,
    "start_time": "2022-11-25T09:59:51.506Z"
   },
   {
    "duration": 38,
    "start_time": "2022-11-25T09:59:51.523Z"
   },
   {
    "duration": 4,
    "start_time": "2022-11-25T09:59:51.563Z"
   },
   {
    "duration": 9,
    "start_time": "2022-11-25T09:59:51.569Z"
   },
   {
    "duration": 22,
    "start_time": "2022-11-25T09:59:51.580Z"
   },
   {
    "duration": 22,
    "start_time": "2022-11-25T09:59:51.604Z"
   },
   {
    "duration": 7,
    "start_time": "2022-11-25T09:59:51.628Z"
   },
   {
    "duration": 17,
    "start_time": "2022-11-25T09:59:51.637Z"
   },
   {
    "duration": 18,
    "start_time": "2022-11-25T09:59:51.655Z"
   },
   {
    "duration": 14,
    "start_time": "2022-11-25T09:59:51.675Z"
   },
   {
    "duration": 32,
    "start_time": "2022-11-25T09:59:51.691Z"
   },
   {
    "duration": 8,
    "start_time": "2022-11-25T09:59:51.726Z"
   },
   {
    "duration": 11,
    "start_time": "2022-11-25T09:59:51.735Z"
   },
   {
    "duration": 16,
    "start_time": "2022-11-25T09:59:51.748Z"
   },
   {
    "duration": 17,
    "start_time": "2022-11-25T09:59:51.765Z"
   },
   {
    "duration": 18,
    "start_time": "2022-11-25T09:59:51.783Z"
   },
   {
    "duration": 12,
    "start_time": "2022-11-25T09:59:51.823Z"
   },
   {
    "duration": 46,
    "start_time": "2022-11-25T09:59:51.837Z"
   },
   {
    "duration": 24,
    "start_time": "2022-11-25T09:59:51.885Z"
   },
   {
    "duration": 22,
    "start_time": "2022-11-25T09:59:51.911Z"
   },
   {
    "duration": 9,
    "start_time": "2022-11-25T09:59:51.935Z"
   },
   {
    "duration": 15,
    "start_time": "2022-11-25T09:59:51.946Z"
   },
   {
    "duration": 15,
    "start_time": "2022-11-25T09:59:51.963Z"
   },
   {
    "duration": 23,
    "start_time": "2022-11-25T09:59:51.980Z"
   },
   {
    "duration": 18,
    "start_time": "2022-11-25T09:59:52.008Z"
   },
   {
    "duration": 325,
    "start_time": "2022-11-25T09:59:52.029Z"
   },
   {
    "duration": 16,
    "start_time": "2022-11-25T09:59:52.356Z"
   },
   {
    "duration": 321,
    "start_time": "2022-11-25T09:59:52.374Z"
   },
   {
    "duration": 427,
    "start_time": "2022-11-25T09:59:52.697Z"
   },
   {
    "duration": 3,
    "start_time": "2022-11-25T09:59:53.126Z"
   },
   {
    "duration": 18,
    "start_time": "2022-11-25T09:59:53.131Z"
   },
   {
    "duration": 31,
    "start_time": "2022-11-25T09:59:53.151Z"
   },
   {
    "duration": 267,
    "start_time": "2022-11-25T09:59:53.185Z"
   },
   {
    "duration": 14,
    "start_time": "2022-11-25T09:59:53.455Z"
   },
   {
    "duration": 215,
    "start_time": "2022-11-25T09:59:53.471Z"
   },
   {
    "duration": 222,
    "start_time": "2022-11-25T09:59:53.689Z"
   },
   {
    "duration": 39,
    "start_time": "2022-11-25T09:59:53.913Z"
   },
   {
    "duration": 18,
    "start_time": "2022-11-25T09:59:53.954Z"
   },
   {
    "duration": 421,
    "start_time": "2022-11-25T09:59:53.975Z"
   },
   {
    "duration": 14,
    "start_time": "2022-11-25T09:59:54.399Z"
   },
   {
    "duration": 197,
    "start_time": "2022-11-25T10:00:45.335Z"
   },
   {
    "duration": 183,
    "start_time": "2022-11-25T10:00:54.333Z"
   },
   {
    "duration": 233,
    "start_time": "2022-11-25T10:01:59.757Z"
   },
   {
    "duration": 206,
    "start_time": "2022-11-25T10:03:33.329Z"
   },
   {
    "duration": 207,
    "start_time": "2022-11-25T10:03:53.345Z"
   },
   {
    "duration": 266,
    "start_time": "2022-11-25T10:04:27.817Z"
   },
   {
    "duration": 3,
    "start_time": "2022-11-25T10:04:57.030Z"
   },
   {
    "duration": 6,
    "start_time": "2022-11-25T10:04:57.035Z"
   },
   {
    "duration": 77,
    "start_time": "2022-11-25T10:04:57.043Z"
   },
   {
    "duration": 19,
    "start_time": "2022-11-25T10:04:57.122Z"
   },
   {
    "duration": 30,
    "start_time": "2022-11-25T10:04:57.144Z"
   },
   {
    "duration": 5,
    "start_time": "2022-11-25T10:04:57.175Z"
   },
   {
    "duration": 6,
    "start_time": "2022-11-25T10:04:57.181Z"
   },
   {
    "duration": 13,
    "start_time": "2022-11-25T10:04:57.222Z"
   },
   {
    "duration": 7,
    "start_time": "2022-11-25T10:04:57.237Z"
   },
   {
    "duration": 15,
    "start_time": "2022-11-25T10:04:57.247Z"
   },
   {
    "duration": 13,
    "start_time": "2022-11-25T10:04:57.264Z"
   },
   {
    "duration": 12,
    "start_time": "2022-11-25T10:04:57.279Z"
   },
   {
    "duration": 29,
    "start_time": "2022-11-25T10:04:57.293Z"
   },
   {
    "duration": 17,
    "start_time": "2022-11-25T10:04:57.324Z"
   },
   {
    "duration": 10,
    "start_time": "2022-11-25T10:04:57.343Z"
   },
   {
    "duration": 9,
    "start_time": "2022-11-25T10:04:57.355Z"
   },
   {
    "duration": 17,
    "start_time": "2022-11-25T10:04:57.365Z"
   },
   {
    "duration": 23,
    "start_time": "2022-11-25T10:04:57.384Z"
   },
   {
    "duration": 20,
    "start_time": "2022-11-25T10:04:57.422Z"
   },
   {
    "duration": 11,
    "start_time": "2022-11-25T10:04:57.444Z"
   },
   {
    "duration": 15,
    "start_time": "2022-11-25T10:04:57.457Z"
   },
   {
    "duration": 7,
    "start_time": "2022-11-25T10:04:57.475Z"
   },
   {
    "duration": 21,
    "start_time": "2022-11-25T10:04:57.484Z"
   },
   {
    "duration": 19,
    "start_time": "2022-11-25T10:04:57.507Z"
   },
   {
    "duration": 8,
    "start_time": "2022-11-25T10:04:57.529Z"
   },
   {
    "duration": 9,
    "start_time": "2022-11-25T10:04:57.539Z"
   },
   {
    "duration": 14,
    "start_time": "2022-11-25T10:04:57.550Z"
   },
   {
    "duration": 9,
    "start_time": "2022-11-25T10:04:57.566Z"
   },
   {
    "duration": 225,
    "start_time": "2022-11-25T10:04:57.577Z"
   },
   {
    "duration": 21,
    "start_time": "2022-11-25T10:04:57.804Z"
   },
   {
    "duration": 241,
    "start_time": "2022-11-25T10:04:57.827Z"
   },
   {
    "duration": 334,
    "start_time": "2022-11-25T10:04:58.069Z"
   },
   {
    "duration": 3,
    "start_time": "2022-11-25T10:04:58.405Z"
   },
   {
    "duration": 20,
    "start_time": "2022-11-25T10:04:58.409Z"
   },
   {
    "duration": 31,
    "start_time": "2022-11-25T10:04:58.431Z"
   },
   {
    "duration": 243,
    "start_time": "2022-11-25T10:04:58.464Z"
   },
   {
    "duration": 20,
    "start_time": "2022-11-25T10:04:58.709Z"
   },
   {
    "duration": 243,
    "start_time": "2022-11-25T10:04:58.731Z"
   },
   {
    "duration": 180,
    "start_time": "2022-11-25T10:04:58.976Z"
   },
   {
    "duration": 26,
    "start_time": "2022-11-25T10:04:59.158Z"
   },
   {
    "duration": 15,
    "start_time": "2022-11-25T10:04:59.186Z"
   },
   {
    "duration": 246,
    "start_time": "2022-11-25T10:04:59.203Z"
   },
   {
    "duration": 12,
    "start_time": "2022-11-25T10:04:59.451Z"
   },
   {
    "duration": 224,
    "start_time": "2022-11-25T10:07:48.201Z"
   },
   {
    "duration": 202,
    "start_time": "2022-11-25T10:08:57.001Z"
   },
   {
    "duration": 440,
    "start_time": "2022-11-25T10:41:33.676Z"
   },
   {
    "duration": 577,
    "start_time": "2022-11-25T10:42:13.542Z"
   },
   {
    "duration": 547,
    "start_time": "2022-11-25T10:50:19.107Z"
   },
   {
    "duration": 702,
    "start_time": "2022-11-25T10:50:46.747Z"
   },
   {
    "duration": 562,
    "start_time": "2022-11-25T10:51:12.953Z"
   },
   {
    "duration": 608,
    "start_time": "2022-11-25T11:04:26.641Z"
   },
   {
    "duration": 157,
    "start_time": "2022-11-25T12:00:48.524Z"
   },
   {
    "duration": 622,
    "start_time": "2022-11-25T12:05:37.331Z"
   },
   {
    "duration": 23,
    "start_time": "2022-11-25T12:06:46.313Z"
   },
   {
    "duration": 26,
    "start_time": "2022-11-25T12:07:56.051Z"
   },
   {
    "duration": 1325,
    "start_time": "2022-11-25T12:08:04.444Z"
   },
   {
    "duration": 640,
    "start_time": "2022-11-25T12:08:20.899Z"
   },
   {
    "duration": 988,
    "start_time": "2022-11-25T12:11:31.313Z"
   },
   {
    "duration": 1367,
    "start_time": "2022-11-25T12:14:01.230Z"
   },
   {
    "duration": 279,
    "start_time": "2022-11-25T12:31:30.284Z"
   },
   {
    "duration": 85,
    "start_time": "2022-11-25T12:37:19.041Z"
   },
   {
    "duration": 77,
    "start_time": "2022-11-25T12:41:32.708Z"
   },
   {
    "duration": 237,
    "start_time": "2022-11-25T12:42:16.827Z"
   },
   {
    "duration": 46,
    "start_time": "2022-11-25T12:45:14.248Z"
   },
   {
    "duration": 276,
    "start_time": "2022-11-25T12:46:05.537Z"
   },
   {
    "duration": 1495,
    "start_time": "2022-11-25T16:36:48.906Z"
   },
   {
    "duration": 4,
    "start_time": "2022-11-25T16:36:50.403Z"
   },
   {
    "duration": 151,
    "start_time": "2022-11-25T16:36:50.412Z"
   },
   {
    "duration": 22,
    "start_time": "2022-11-25T16:36:50.565Z"
   },
   {
    "duration": 58,
    "start_time": "2022-11-25T16:36:50.589Z"
   },
   {
    "duration": 7,
    "start_time": "2022-11-25T16:36:50.649Z"
   },
   {
    "duration": 25,
    "start_time": "2022-11-25T16:36:50.658Z"
   },
   {
    "duration": 48,
    "start_time": "2022-11-25T16:36:50.686Z"
   },
   {
    "duration": 17,
    "start_time": "2022-11-25T16:36:50.736Z"
   },
   {
    "duration": 29,
    "start_time": "2022-11-25T16:36:50.756Z"
   },
   {
    "duration": 48,
    "start_time": "2022-11-25T16:36:50.787Z"
   },
   {
    "duration": 36,
    "start_time": "2022-11-25T16:36:50.837Z"
   },
   {
    "duration": 19,
    "start_time": "2022-11-25T16:36:50.876Z"
   },
   {
    "duration": 31,
    "start_time": "2022-11-25T16:36:50.896Z"
   },
   {
    "duration": 22,
    "start_time": "2022-11-25T16:36:50.929Z"
   },
   {
    "duration": 41,
    "start_time": "2022-11-25T16:36:50.953Z"
   },
   {
    "duration": 14,
    "start_time": "2022-11-25T16:36:50.997Z"
   },
   {
    "duration": 41,
    "start_time": "2022-11-25T16:36:51.013Z"
   },
   {
    "duration": 23,
    "start_time": "2022-11-25T16:36:51.057Z"
   },
   {
    "duration": 13,
    "start_time": "2022-11-25T16:36:51.082Z"
   },
   {
    "duration": 30,
    "start_time": "2022-11-25T16:36:51.097Z"
   },
   {
    "duration": 9,
    "start_time": "2022-11-25T16:36:51.130Z"
   },
   {
    "duration": 15,
    "start_time": "2022-11-25T16:36:51.141Z"
   },
   {
    "duration": 15,
    "start_time": "2022-11-25T16:36:51.158Z"
   },
   {
    "duration": 11,
    "start_time": "2022-11-25T16:36:51.175Z"
   },
   {
    "duration": 38,
    "start_time": "2022-11-25T16:36:51.188Z"
   },
   {
    "duration": 24,
    "start_time": "2022-11-25T16:36:51.228Z"
   },
   {
    "duration": 64,
    "start_time": "2022-11-25T16:36:51.257Z"
   },
   {
    "duration": 322,
    "start_time": "2022-11-25T16:36:51.323Z"
   },
   {
    "duration": 19,
    "start_time": "2022-11-25T16:36:51.648Z"
   },
   {
    "duration": 324,
    "start_time": "2022-11-25T16:36:51.670Z"
   },
   {
    "duration": 412,
    "start_time": "2022-11-25T16:36:51.996Z"
   },
   {
    "duration": 4,
    "start_time": "2022-11-25T16:36:52.410Z"
   },
   {
    "duration": 30,
    "start_time": "2022-11-25T16:36:52.416Z"
   },
   {
    "duration": 38,
    "start_time": "2022-11-25T16:36:52.447Z"
   },
   {
    "duration": 251,
    "start_time": "2022-11-25T16:36:52.488Z"
   },
   {
    "duration": 17,
    "start_time": "2022-11-25T16:36:52.741Z"
   },
   {
    "duration": 184,
    "start_time": "2022-11-25T16:36:52.760Z"
   },
   {
    "duration": 166,
    "start_time": "2022-11-25T16:36:52.946Z"
   },
   {
    "duration": 32,
    "start_time": "2022-11-25T16:36:53.114Z"
   },
   {
    "duration": 17,
    "start_time": "2022-11-25T16:36:53.148Z"
   },
   {
    "duration": 345,
    "start_time": "2022-11-25T16:36:53.168Z"
   },
   {
    "duration": 15,
    "start_time": "2022-11-25T16:36:53.515Z"
   },
   {
    "duration": 260,
    "start_time": "2022-11-25T16:36:53.532Z"
   },
   {
    "duration": 974,
    "start_time": "2022-11-25T16:36:53.794Z"
   },
   {
    "duration": 461,
    "start_time": "2022-11-25T16:36:54.772Z"
   },
   {
    "duration": 233,
    "start_time": "2022-11-25T16:36:55.235Z"
   },
   {
    "duration": 14,
    "start_time": "2022-11-25T16:57:25.325Z"
   },
   {
    "duration": 31,
    "start_time": "2022-11-25T16:59:42.473Z"
   },
   {
    "duration": 8,
    "start_time": "2022-11-25T17:05:02.573Z"
   },
   {
    "duration": 9,
    "start_time": "2022-11-25T17:08:37.935Z"
   },
   {
    "duration": 1320,
    "start_time": "2022-11-25T17:09:37.931Z"
   },
   {
    "duration": 3,
    "start_time": "2022-11-25T17:09:39.253Z"
   },
   {
    "duration": 83,
    "start_time": "2022-11-25T17:09:39.257Z"
   },
   {
    "duration": 18,
    "start_time": "2022-11-25T17:09:39.341Z"
   },
   {
    "duration": 35,
    "start_time": "2022-11-25T17:09:39.362Z"
   },
   {
    "duration": 21,
    "start_time": "2022-11-25T17:09:39.399Z"
   },
   {
    "duration": 3,
    "start_time": "2022-11-25T17:09:39.422Z"
   },
   {
    "duration": 21,
    "start_time": "2022-11-25T17:09:39.428Z"
   },
   {
    "duration": 6,
    "start_time": "2022-11-25T17:09:39.451Z"
   },
   {
    "duration": 7,
    "start_time": "2022-11-25T17:09:39.459Z"
   },
   {
    "duration": 21,
    "start_time": "2022-11-25T17:09:39.468Z"
   },
   {
    "duration": 9,
    "start_time": "2022-11-25T17:09:39.492Z"
   },
   {
    "duration": 27,
    "start_time": "2022-11-25T17:09:39.512Z"
   },
   {
    "duration": 21,
    "start_time": "2022-11-25T17:09:39.543Z"
   },
   {
    "duration": 7,
    "start_time": "2022-11-25T17:09:39.566Z"
   },
   {
    "duration": 7,
    "start_time": "2022-11-25T17:09:39.575Z"
   },
   {
    "duration": 7,
    "start_time": "2022-11-25T17:09:39.584Z"
   },
   {
    "duration": 30,
    "start_time": "2022-11-25T17:09:39.592Z"
   },
   {
    "duration": 26,
    "start_time": "2022-11-25T17:09:39.623Z"
   },
   {
    "duration": 9,
    "start_time": "2022-11-25T17:09:39.651Z"
   },
   {
    "duration": 11,
    "start_time": "2022-11-25T17:09:39.662Z"
   },
   {
    "duration": 5,
    "start_time": "2022-11-25T17:09:39.675Z"
   },
   {
    "duration": 45,
    "start_time": "2022-11-25T17:09:39.681Z"
   },
   {
    "duration": 5,
    "start_time": "2022-11-25T17:09:39.731Z"
   },
   {
    "duration": 8,
    "start_time": "2022-11-25T17:09:39.738Z"
   },
   {
    "duration": 7,
    "start_time": "2022-11-25T17:09:39.747Z"
   },
   {
    "duration": 16,
    "start_time": "2022-11-25T17:09:39.756Z"
   },
   {
    "duration": 10,
    "start_time": "2022-11-25T17:09:39.774Z"
   },
   {
    "duration": 264,
    "start_time": "2022-11-25T17:09:39.785Z"
   },
   {
    "duration": 13,
    "start_time": "2022-11-25T17:09:40.052Z"
   },
   {
    "duration": 269,
    "start_time": "2022-11-25T17:09:40.067Z"
   },
   {
    "duration": 401,
    "start_time": "2022-11-25T17:09:40.338Z"
   },
   {
    "duration": 3,
    "start_time": "2022-11-25T17:09:40.741Z"
   },
   {
    "duration": 14,
    "start_time": "2022-11-25T17:09:40.746Z"
   },
   {
    "duration": 30,
    "start_time": "2022-11-25T17:09:40.761Z"
   },
   {
    "duration": 250,
    "start_time": "2022-11-25T17:09:40.792Z"
   },
   {
    "duration": 12,
    "start_time": "2022-11-25T17:09:41.044Z"
   },
   {
    "duration": 179,
    "start_time": "2022-11-25T17:09:41.058Z"
   },
   {
    "duration": 152,
    "start_time": "2022-11-25T17:09:41.239Z"
   },
   {
    "duration": 39,
    "start_time": "2022-11-25T17:09:41.393Z"
   },
   {
    "duration": 13,
    "start_time": "2022-11-25T17:09:41.436Z"
   },
   {
    "duration": 315,
    "start_time": "2022-11-25T17:09:41.451Z"
   },
   {
    "duration": 13,
    "start_time": "2022-11-25T17:09:41.767Z"
   },
   {
    "duration": 253,
    "start_time": "2022-11-25T17:09:41.781Z"
   },
   {
    "duration": 1007,
    "start_time": "2022-11-25T17:09:42.036Z"
   },
   {
    "duration": 446,
    "start_time": "2022-11-25T17:09:43.045Z"
   },
   {
    "duration": 226,
    "start_time": "2022-11-25T17:09:43.493Z"
   },
   {
    "duration": 16,
    "start_time": "2022-11-25T17:09:43.720Z"
   },
   {
    "duration": 39,
    "start_time": "2022-11-25T17:09:43.738Z"
   },
   {
    "duration": 7,
    "start_time": "2022-11-25T17:09:43.779Z"
   },
   {
    "duration": 8,
    "start_time": "2022-11-25T17:09:43.787Z"
   },
   {
    "duration": 1222,
    "start_time": "2022-11-25T17:10:28.483Z"
   },
   {
    "duration": 3,
    "start_time": "2022-11-25T17:10:29.706Z"
   },
   {
    "duration": 83,
    "start_time": "2022-11-25T17:10:29.712Z"
   },
   {
    "duration": 24,
    "start_time": "2022-11-25T17:10:29.797Z"
   },
   {
    "duration": 42,
    "start_time": "2022-11-25T17:10:29.823Z"
   },
   {
    "duration": 4,
    "start_time": "2022-11-25T17:10:29.866Z"
   },
   {
    "duration": 6,
    "start_time": "2022-11-25T17:10:29.872Z"
   },
   {
    "duration": 14,
    "start_time": "2022-11-25T17:10:29.880Z"
   },
   {
    "duration": 19,
    "start_time": "2022-11-25T17:10:29.896Z"
   },
   {
    "duration": 27,
    "start_time": "2022-11-25T17:10:29.918Z"
   },
   {
    "duration": 15,
    "start_time": "2022-11-25T17:10:29.947Z"
   },
   {
    "duration": 7,
    "start_time": "2022-11-25T17:10:29.964Z"
   },
   {
    "duration": 7,
    "start_time": "2022-11-25T17:10:29.973Z"
   },
   {
    "duration": 16,
    "start_time": "2022-11-25T17:10:29.981Z"
   },
   {
    "duration": 23,
    "start_time": "2022-11-25T17:10:29.998Z"
   },
   {
    "duration": 39,
    "start_time": "2022-11-25T17:10:30.022Z"
   },
   {
    "duration": 29,
    "start_time": "2022-11-25T17:10:30.064Z"
   },
   {
    "duration": 48,
    "start_time": "2022-11-25T17:10:30.095Z"
   },
   {
    "duration": 22,
    "start_time": "2022-11-25T17:10:30.145Z"
   },
   {
    "duration": 43,
    "start_time": "2022-11-25T17:10:30.168Z"
   },
   {
    "duration": 62,
    "start_time": "2022-11-25T17:10:30.213Z"
   },
   {
    "duration": 53,
    "start_time": "2022-11-25T17:10:30.278Z"
   },
   {
    "duration": 24,
    "start_time": "2022-11-25T17:10:30.333Z"
   },
   {
    "duration": 25,
    "start_time": "2022-11-25T17:10:30.359Z"
   },
   {
    "duration": 33,
    "start_time": "2022-11-25T17:10:30.385Z"
   },
   {
    "duration": 33,
    "start_time": "2022-11-25T17:10:30.425Z"
   },
   {
    "duration": 31,
    "start_time": "2022-11-25T17:10:30.460Z"
   },
   {
    "duration": 77,
    "start_time": "2022-11-25T17:10:30.495Z"
   },
   {
    "duration": 266,
    "start_time": "2022-11-25T17:10:30.573Z"
   },
   {
    "duration": 13,
    "start_time": "2022-11-25T17:10:30.842Z"
   },
   {
    "duration": 315,
    "start_time": "2022-11-25T17:10:30.856Z"
   },
   {
    "duration": 395,
    "start_time": "2022-11-25T17:10:31.173Z"
   },
   {
    "duration": 3,
    "start_time": "2022-11-25T17:10:31.570Z"
   },
   {
    "duration": 18,
    "start_time": "2022-11-25T17:10:31.575Z"
   },
   {
    "duration": 48,
    "start_time": "2022-11-25T17:10:31.595Z"
   },
   {
    "duration": 347,
    "start_time": "2022-11-25T17:10:31.645Z"
   },
   {
    "duration": 31,
    "start_time": "2022-11-25T17:10:31.994Z"
   },
   {
    "duration": 206,
    "start_time": "2022-11-25T17:10:32.030Z"
   },
   {
    "duration": 165,
    "start_time": "2022-11-25T17:10:32.243Z"
   },
   {
    "duration": 24,
    "start_time": "2022-11-25T17:10:32.410Z"
   },
   {
    "duration": 24,
    "start_time": "2022-11-25T17:10:32.438Z"
   },
   {
    "duration": 323,
    "start_time": "2022-11-25T17:10:32.464Z"
   },
   {
    "duration": 27,
    "start_time": "2022-11-25T17:10:32.789Z"
   },
   {
    "duration": 244,
    "start_time": "2022-11-25T17:10:32.818Z"
   },
   {
    "duration": 966,
    "start_time": "2022-11-25T17:10:33.064Z"
   },
   {
    "duration": 461,
    "start_time": "2022-11-25T17:10:34.032Z"
   },
   {
    "duration": 252,
    "start_time": "2022-11-25T17:10:34.495Z"
   },
   {
    "duration": 12,
    "start_time": "2022-11-25T17:10:34.749Z"
   },
   {
    "duration": 62,
    "start_time": "2022-11-25T17:10:34.763Z"
   },
   {
    "duration": 8,
    "start_time": "2022-11-25T17:10:34.831Z"
   },
   {
    "duration": 15,
    "start_time": "2022-11-25T17:10:34.841Z"
   },
   {
    "duration": 32,
    "start_time": "2022-11-25T17:11:35.152Z"
   },
   {
    "duration": 9,
    "start_time": "2022-11-25T17:39:08.646Z"
   },
   {
    "duration": 1347,
    "start_time": "2022-11-25T17:39:16.195Z"
   },
   {
    "duration": 2,
    "start_time": "2022-11-25T17:39:17.545Z"
   },
   {
    "duration": 71,
    "start_time": "2022-11-25T17:39:17.549Z"
   },
   {
    "duration": 19,
    "start_time": "2022-11-25T17:39:17.625Z"
   },
   {
    "duration": 35,
    "start_time": "2022-11-25T17:39:17.646Z"
   },
   {
    "duration": 5,
    "start_time": "2022-11-25T17:39:17.683Z"
   },
   {
    "duration": 40,
    "start_time": "2022-11-25T17:39:17.690Z"
   },
   {
    "duration": 20,
    "start_time": "2022-11-25T17:39:17.732Z"
   },
   {
    "duration": 4,
    "start_time": "2022-11-25T17:39:17.754Z"
   },
   {
    "duration": 5,
    "start_time": "2022-11-25T17:39:17.761Z"
   },
   {
    "duration": 19,
    "start_time": "2022-11-25T17:39:17.768Z"
   },
   {
    "duration": 8,
    "start_time": "2022-11-25T17:39:17.790Z"
   },
   {
    "duration": 18,
    "start_time": "2022-11-25T17:39:17.812Z"
   },
   {
    "duration": 25,
    "start_time": "2022-11-25T17:39:17.832Z"
   },
   {
    "duration": 7,
    "start_time": "2022-11-25T17:39:17.859Z"
   },
   {
    "duration": 6,
    "start_time": "2022-11-25T17:39:17.868Z"
   },
   {
    "duration": 8,
    "start_time": "2022-11-25T17:39:17.876Z"
   },
   {
    "duration": 33,
    "start_time": "2022-11-25T17:39:17.886Z"
   },
   {
    "duration": 18,
    "start_time": "2022-11-25T17:39:17.925Z"
   },
   {
    "duration": 10,
    "start_time": "2022-11-25T17:39:17.944Z"
   },
   {
    "duration": 15,
    "start_time": "2022-11-25T17:39:17.956Z"
   },
   {
    "duration": 4,
    "start_time": "2022-11-25T17:39:17.973Z"
   },
   {
    "duration": 8,
    "start_time": "2022-11-25T17:39:17.979Z"
   },
   {
    "duration": 37,
    "start_time": "2022-11-25T17:39:17.988Z"
   },
   {
    "duration": 9,
    "start_time": "2022-11-25T17:39:18.030Z"
   },
   {
    "duration": 8,
    "start_time": "2022-11-25T17:39:18.041Z"
   },
   {
    "duration": 21,
    "start_time": "2022-11-25T17:39:18.051Z"
   },
   {
    "duration": 9,
    "start_time": "2022-11-25T17:39:18.075Z"
   },
   {
    "duration": 281,
    "start_time": "2022-11-25T17:39:18.086Z"
   },
   {
    "duration": 15,
    "start_time": "2022-11-25T17:39:18.368Z"
   },
   {
    "duration": 269,
    "start_time": "2022-11-25T17:39:18.384Z"
   },
   {
    "duration": 396,
    "start_time": "2022-11-25T17:39:18.655Z"
   },
   {
    "duration": 3,
    "start_time": "2022-11-25T17:39:19.054Z"
   },
   {
    "duration": 36,
    "start_time": "2022-11-25T17:39:19.059Z"
   },
   {
    "duration": 71,
    "start_time": "2022-11-25T17:39:19.097Z"
   },
   {
    "duration": 283,
    "start_time": "2022-11-25T17:39:19.170Z"
   },
   {
    "duration": 12,
    "start_time": "2022-11-25T17:39:19.455Z"
   },
   {
    "duration": 177,
    "start_time": "2022-11-25T17:39:19.468Z"
   },
   {
    "duration": 161,
    "start_time": "2022-11-25T17:39:19.646Z"
   },
   {
    "duration": 26,
    "start_time": "2022-11-25T17:39:19.812Z"
   },
   {
    "duration": 43,
    "start_time": "2022-11-25T17:39:19.840Z"
   },
   {
    "duration": 304,
    "start_time": "2022-11-25T17:39:19.885Z"
   },
   {
    "duration": 33,
    "start_time": "2022-11-25T17:39:20.191Z"
   },
   {
    "duration": 229,
    "start_time": "2022-11-25T17:39:20.226Z"
   },
   {
    "duration": 1001,
    "start_time": "2022-11-25T17:39:20.457Z"
   },
   {
    "duration": 611,
    "start_time": "2022-11-25T17:39:21.460Z"
   },
   {
    "duration": 255,
    "start_time": "2022-11-25T17:39:22.073Z"
   },
   {
    "duration": 7,
    "start_time": "2022-11-25T17:39:22.330Z"
   },
   {
    "duration": 30,
    "start_time": "2022-11-25T17:39:22.339Z"
   },
   {
    "duration": 44,
    "start_time": "2022-11-25T17:39:22.370Z"
   },
   {
    "duration": 8,
    "start_time": "2022-11-25T17:39:22.415Z"
   },
   {
    "duration": 34,
    "start_time": "2022-11-25T17:40:11.855Z"
   },
   {
    "duration": 1385,
    "start_time": "2022-11-25T18:39:26.881Z"
   },
   {
    "duration": 3,
    "start_time": "2022-11-25T18:39:28.269Z"
   },
   {
    "duration": 100,
    "start_time": "2022-11-25T18:39:28.274Z"
   },
   {
    "duration": 21,
    "start_time": "2022-11-25T18:39:28.376Z"
   },
   {
    "duration": 57,
    "start_time": "2022-11-25T18:39:28.400Z"
   },
   {
    "duration": 6,
    "start_time": "2022-11-25T18:39:28.459Z"
   },
   {
    "duration": 9,
    "start_time": "2022-11-25T18:39:28.467Z"
   },
   {
    "duration": 15,
    "start_time": "2022-11-25T18:39:28.477Z"
   },
   {
    "duration": 6,
    "start_time": "2022-11-25T18:39:28.494Z"
   },
   {
    "duration": 39,
    "start_time": "2022-11-25T18:39:28.502Z"
   },
   {
    "duration": 17,
    "start_time": "2022-11-25T18:39:28.543Z"
   },
   {
    "duration": 12,
    "start_time": "2022-11-25T18:39:28.561Z"
   },
   {
    "duration": 10,
    "start_time": "2022-11-25T18:39:28.575Z"
   },
   {
    "duration": 22,
    "start_time": "2022-11-25T18:39:28.589Z"
   },
   {
    "duration": 18,
    "start_time": "2022-11-25T18:39:28.623Z"
   },
   {
    "duration": 7,
    "start_time": "2022-11-25T18:39:28.644Z"
   },
   {
    "duration": 13,
    "start_time": "2022-11-25T18:39:28.653Z"
   },
   {
    "duration": 19,
    "start_time": "2022-11-25T18:39:28.667Z"
   },
   {
    "duration": 19,
    "start_time": "2022-11-25T18:39:28.688Z"
   },
   {
    "duration": 21,
    "start_time": "2022-11-25T18:39:28.709Z"
   },
   {
    "duration": 35,
    "start_time": "2022-11-25T18:39:28.733Z"
   },
   {
    "duration": 13,
    "start_time": "2022-11-25T18:39:28.770Z"
   },
   {
    "duration": 9,
    "start_time": "2022-11-25T18:39:28.785Z"
   },
   {
    "duration": 6,
    "start_time": "2022-11-25T18:39:28.796Z"
   },
   {
    "duration": 14,
    "start_time": "2022-11-25T18:39:28.804Z"
   },
   {
    "duration": 24,
    "start_time": "2022-11-25T18:39:28.823Z"
   },
   {
    "duration": 21,
    "start_time": "2022-11-25T18:39:28.849Z"
   },
   {
    "duration": 16,
    "start_time": "2022-11-25T18:39:28.872Z"
   },
   {
    "duration": 349,
    "start_time": "2022-11-25T18:39:28.892Z"
   },
   {
    "duration": 17,
    "start_time": "2022-11-25T18:39:29.244Z"
   },
   {
    "duration": 381,
    "start_time": "2022-11-25T18:39:29.264Z"
   },
   {
    "duration": 536,
    "start_time": "2022-11-25T18:39:29.647Z"
   },
   {
    "duration": 3,
    "start_time": "2022-11-25T18:39:30.190Z"
   },
   {
    "duration": 85,
    "start_time": "2022-11-25T18:39:30.195Z"
   },
   {
    "duration": 105,
    "start_time": "2022-11-25T18:39:30.282Z"
   },
   {
    "duration": 371,
    "start_time": "2022-11-25T18:39:30.390Z"
   },
   {
    "duration": 15,
    "start_time": "2022-11-25T18:39:30.763Z"
   },
   {
    "duration": 259,
    "start_time": "2022-11-25T18:39:30.781Z"
   },
   {
    "duration": 208,
    "start_time": "2022-11-25T18:39:31.046Z"
   },
   {
    "duration": 31,
    "start_time": "2022-11-25T18:39:31.256Z"
   },
   {
    "duration": 41,
    "start_time": "2022-11-25T18:39:31.292Z"
   },
   {
    "duration": 456,
    "start_time": "2022-11-25T18:39:31.342Z"
   },
   {
    "duration": 36,
    "start_time": "2022-11-25T18:39:31.800Z"
   },
   {
    "duration": 340,
    "start_time": "2022-11-25T18:39:31.843Z"
   },
   {
    "duration": 1281,
    "start_time": "2022-11-25T18:39:32.185Z"
   },
   {
    "duration": 536,
    "start_time": "2022-11-25T18:39:33.468Z"
   },
   {
    "duration": 279,
    "start_time": "2022-11-25T18:39:34.006Z"
   },
   {
    "duration": 9,
    "start_time": "2022-11-25T18:39:34.287Z"
   },
   {
    "duration": 28,
    "start_time": "2022-11-25T18:39:34.298Z"
   },
   {
    "duration": 62,
    "start_time": "2022-11-25T18:39:34.335Z"
   },
   {
    "duration": 9,
    "start_time": "2022-11-25T18:39:34.399Z"
   },
   {
    "duration": 83,
    "start_time": "2022-11-25T18:39:34.410Z"
   },
   {
    "duration": 81,
    "start_time": "2022-11-25T19:01:04.787Z"
   },
   {
    "duration": 88,
    "start_time": "2022-11-25T19:02:36.012Z"
   },
   {
    "duration": 1164,
    "start_time": "2022-11-25T19:05:14.017Z"
   },
   {
    "duration": 3,
    "start_time": "2022-11-25T19:05:15.183Z"
   },
   {
    "duration": 68,
    "start_time": "2022-11-25T19:05:15.187Z"
   },
   {
    "duration": 14,
    "start_time": "2022-11-25T19:05:15.257Z"
   },
   {
    "duration": 29,
    "start_time": "2022-11-25T19:05:15.273Z"
   },
   {
    "duration": 4,
    "start_time": "2022-11-25T19:05:15.304Z"
   },
   {
    "duration": 6,
    "start_time": "2022-11-25T19:05:15.310Z"
   },
   {
    "duration": 16,
    "start_time": "2022-11-25T19:05:15.318Z"
   },
   {
    "duration": 7,
    "start_time": "2022-11-25T19:05:15.336Z"
   },
   {
    "duration": 7,
    "start_time": "2022-11-25T19:05:15.346Z"
   },
   {
    "duration": 31,
    "start_time": "2022-11-25T19:05:15.355Z"
   },
   {
    "duration": 7,
    "start_time": "2022-11-25T19:05:15.388Z"
   },
   {
    "duration": 13,
    "start_time": "2022-11-25T19:05:15.397Z"
   },
   {
    "duration": 17,
    "start_time": "2022-11-25T19:05:15.411Z"
   },
   {
    "duration": 8,
    "start_time": "2022-11-25T19:05:15.430Z"
   },
   {
    "duration": 5,
    "start_time": "2022-11-25T19:05:15.440Z"
   },
   {
    "duration": 33,
    "start_time": "2022-11-25T19:05:15.447Z"
   },
   {
    "duration": 12,
    "start_time": "2022-11-25T19:05:15.482Z"
   },
   {
    "duration": 18,
    "start_time": "2022-11-25T19:05:15.496Z"
   },
   {
    "duration": 10,
    "start_time": "2022-11-25T19:05:15.516Z"
   },
   {
    "duration": 13,
    "start_time": "2022-11-25T19:05:15.528Z"
   },
   {
    "duration": 4,
    "start_time": "2022-11-25T19:05:15.542Z"
   },
   {
    "duration": 4,
    "start_time": "2022-11-25T19:05:15.579Z"
   },
   {
    "duration": 10,
    "start_time": "2022-11-25T19:05:15.585Z"
   },
   {
    "duration": 9,
    "start_time": "2022-11-25T19:05:15.597Z"
   },
   {
    "duration": 7,
    "start_time": "2022-11-25T19:05:15.609Z"
   },
   {
    "duration": 15,
    "start_time": "2022-11-25T19:05:15.617Z"
   },
   {
    "duration": 6,
    "start_time": "2022-11-25T19:05:15.635Z"
   },
   {
    "duration": 273,
    "start_time": "2022-11-25T19:05:15.643Z"
   },
   {
    "duration": 11,
    "start_time": "2022-11-25T19:05:15.918Z"
   },
   {
    "duration": 234,
    "start_time": "2022-11-25T19:05:15.930Z"
   },
   {
    "duration": 375,
    "start_time": "2022-11-25T19:05:16.165Z"
   },
   {
    "duration": 2,
    "start_time": "2022-11-25T19:05:16.543Z"
   },
   {
    "duration": 16,
    "start_time": "2022-11-25T19:05:16.547Z"
   },
   {
    "duration": 30,
    "start_time": "2022-11-25T19:05:16.564Z"
   },
   {
    "duration": 209,
    "start_time": "2022-11-25T19:05:16.595Z"
   },
   {
    "duration": 12,
    "start_time": "2022-11-25T19:05:16.805Z"
   },
   {
    "duration": 149,
    "start_time": "2022-11-25T19:05:16.819Z"
   },
   {
    "duration": 140,
    "start_time": "2022-11-25T19:05:16.970Z"
   },
   {
    "duration": 21,
    "start_time": "2022-11-25T19:05:17.112Z"
   },
   {
    "duration": 11,
    "start_time": "2022-11-25T19:05:17.134Z"
   },
   {
    "duration": 292,
    "start_time": "2022-11-25T19:05:17.147Z"
   },
   {
    "duration": 14,
    "start_time": "2022-11-25T19:05:17.441Z"
   },
   {
    "duration": 227,
    "start_time": "2022-11-25T19:05:17.457Z"
   },
   {
    "duration": 917,
    "start_time": "2022-11-25T19:05:17.686Z"
   },
   {
    "duration": 489,
    "start_time": "2022-11-25T19:05:18.605Z"
   },
   {
    "duration": 236,
    "start_time": "2022-11-25T19:05:19.096Z"
   },
   {
    "duration": 8,
    "start_time": "2022-11-25T19:05:19.333Z"
   },
   {
    "duration": 21,
    "start_time": "2022-11-25T19:05:19.343Z"
   },
   {
    "duration": 46,
    "start_time": "2022-11-25T19:05:19.366Z"
   },
   {
    "duration": 18,
    "start_time": "2022-11-25T19:05:19.414Z"
   },
   {
    "duration": 48,
    "start_time": "2022-11-25T19:05:19.434Z"
   },
   {
    "duration": 1339,
    "start_time": "2022-11-26T06:37:41.033Z"
   },
   {
    "duration": 3,
    "start_time": "2022-11-26T06:37:42.375Z"
   },
   {
    "duration": 223,
    "start_time": "2022-11-26T06:37:42.380Z"
   },
   {
    "duration": 15,
    "start_time": "2022-11-26T06:37:42.604Z"
   },
   {
    "duration": 29,
    "start_time": "2022-11-26T06:37:42.621Z"
   },
   {
    "duration": 3,
    "start_time": "2022-11-26T06:37:42.652Z"
   },
   {
    "duration": 6,
    "start_time": "2022-11-26T06:37:42.657Z"
   },
   {
    "duration": 15,
    "start_time": "2022-11-26T06:37:42.664Z"
   },
   {
    "duration": 6,
    "start_time": "2022-11-26T06:37:42.681Z"
   },
   {
    "duration": 7,
    "start_time": "2022-11-26T06:37:42.688Z"
   },
   {
    "duration": 14,
    "start_time": "2022-11-26T06:37:42.696Z"
   },
   {
    "duration": 9,
    "start_time": "2022-11-26T06:37:42.711Z"
   },
   {
    "duration": 31,
    "start_time": "2022-11-26T06:37:42.721Z"
   },
   {
    "duration": 15,
    "start_time": "2022-11-26T06:37:42.756Z"
   },
   {
    "duration": 9,
    "start_time": "2022-11-26T06:37:42.773Z"
   },
   {
    "duration": 7,
    "start_time": "2022-11-26T06:37:42.784Z"
   },
   {
    "duration": 9,
    "start_time": "2022-11-26T06:37:42.792Z"
   },
   {
    "duration": 26,
    "start_time": "2022-11-26T06:37:42.803Z"
   },
   {
    "duration": 22,
    "start_time": "2022-11-26T06:37:42.853Z"
   },
   {
    "duration": 10,
    "start_time": "2022-11-26T06:37:42.877Z"
   },
   {
    "duration": 11,
    "start_time": "2022-11-26T06:37:42.889Z"
   },
   {
    "duration": 5,
    "start_time": "2022-11-26T06:37:42.902Z"
   },
   {
    "duration": 6,
    "start_time": "2022-11-26T06:37:42.908Z"
   },
   {
    "duration": 45,
    "start_time": "2022-11-26T06:37:42.915Z"
   },
   {
    "duration": 18,
    "start_time": "2022-11-26T06:37:42.962Z"
   },
   {
    "duration": 11,
    "start_time": "2022-11-26T06:37:42.981Z"
   },
   {
    "duration": 16,
    "start_time": "2022-11-26T06:37:42.994Z"
   },
   {
    "duration": 11,
    "start_time": "2022-11-26T06:37:43.011Z"
   },
   {
    "duration": 221,
    "start_time": "2022-11-26T06:37:43.023Z"
   },
   {
    "duration": 0,
    "start_time": "2022-11-26T06:37:43.253Z"
   },
   {
    "duration": 0,
    "start_time": "2022-11-26T06:37:43.255Z"
   },
   {
    "duration": 0,
    "start_time": "2022-11-26T06:37:43.256Z"
   },
   {
    "duration": 0,
    "start_time": "2022-11-26T06:37:43.258Z"
   },
   {
    "duration": 0,
    "start_time": "2022-11-26T06:37:43.259Z"
   },
   {
    "duration": 0,
    "start_time": "2022-11-26T06:37:43.260Z"
   },
   {
    "duration": 0,
    "start_time": "2022-11-26T06:37:43.262Z"
   },
   {
    "duration": 0,
    "start_time": "2022-11-26T06:37:43.263Z"
   },
   {
    "duration": 0,
    "start_time": "2022-11-26T06:37:43.265Z"
   },
   {
    "duration": 0,
    "start_time": "2022-11-26T06:37:43.266Z"
   },
   {
    "duration": 0,
    "start_time": "2022-11-26T06:37:43.267Z"
   },
   {
    "duration": 0,
    "start_time": "2022-11-26T06:37:43.269Z"
   },
   {
    "duration": 0,
    "start_time": "2022-11-26T06:37:43.270Z"
   },
   {
    "duration": 0,
    "start_time": "2022-11-26T06:37:43.271Z"
   },
   {
    "duration": 0,
    "start_time": "2022-11-26T06:37:43.273Z"
   },
   {
    "duration": 1,
    "start_time": "2022-11-26T06:37:43.273Z"
   },
   {
    "duration": 0,
    "start_time": "2022-11-26T06:37:43.275Z"
   },
   {
    "duration": 0,
    "start_time": "2022-11-26T06:37:43.276Z"
   },
   {
    "duration": 0,
    "start_time": "2022-11-26T06:37:43.278Z"
   },
   {
    "duration": 0,
    "start_time": "2022-11-26T06:37:43.279Z"
   },
   {
    "duration": 0,
    "start_time": "2022-11-26T06:37:43.280Z"
   },
   {
    "duration": 0,
    "start_time": "2022-11-26T06:37:43.282Z"
   },
   {
    "duration": 0,
    "start_time": "2022-11-26T06:37:43.283Z"
   },
   {
    "duration": 1117,
    "start_time": "2022-11-26T06:42:36.121Z"
   },
   {
    "duration": 2,
    "start_time": "2022-11-26T06:42:37.240Z"
   },
   {
    "duration": 71,
    "start_time": "2022-11-26T06:42:37.243Z"
   },
   {
    "duration": 14,
    "start_time": "2022-11-26T06:42:37.316Z"
   },
   {
    "duration": 25,
    "start_time": "2022-11-26T06:42:37.331Z"
   },
   {
    "duration": 4,
    "start_time": "2022-11-26T06:42:37.358Z"
   },
   {
    "duration": 5,
    "start_time": "2022-11-26T06:42:37.363Z"
   },
   {
    "duration": 14,
    "start_time": "2022-11-26T06:42:37.369Z"
   },
   {
    "duration": 5,
    "start_time": "2022-11-26T06:42:37.384Z"
   },
   {
    "duration": 5,
    "start_time": "2022-11-26T06:42:37.391Z"
   },
   {
    "duration": 13,
    "start_time": "2022-11-26T06:42:37.397Z"
   },
   {
    "duration": 10,
    "start_time": "2022-11-26T06:42:37.411Z"
   },
   {
    "duration": 33,
    "start_time": "2022-11-26T06:42:37.422Z"
   },
   {
    "duration": 15,
    "start_time": "2022-11-26T06:42:37.456Z"
   },
   {
    "duration": 8,
    "start_time": "2022-11-26T06:42:37.472Z"
   },
   {
    "duration": 5,
    "start_time": "2022-11-26T06:42:37.482Z"
   },
   {
    "duration": 8,
    "start_time": "2022-11-26T06:42:37.488Z"
   },
   {
    "duration": 17,
    "start_time": "2022-11-26T06:42:37.497Z"
   },
   {
    "duration": 39,
    "start_time": "2022-11-26T06:42:37.516Z"
   },
   {
    "duration": 8,
    "start_time": "2022-11-26T06:42:37.556Z"
   },
   {
    "duration": 8,
    "start_time": "2022-11-26T06:42:37.566Z"
   },
   {
    "duration": 4,
    "start_time": "2022-11-26T06:42:37.576Z"
   },
   {
    "duration": 6,
    "start_time": "2022-11-26T06:42:37.581Z"
   },
   {
    "duration": 6,
    "start_time": "2022-11-26T06:42:37.588Z"
   },
   {
    "duration": 4,
    "start_time": "2022-11-26T06:42:37.596Z"
   },
   {
    "duration": 7,
    "start_time": "2022-11-26T06:42:37.602Z"
   },
   {
    "duration": 11,
    "start_time": "2022-11-26T06:42:37.610Z"
   },
   {
    "duration": 6,
    "start_time": "2022-11-26T06:42:37.654Z"
   },
   {
    "duration": 249,
    "start_time": "2022-11-26T06:42:37.661Z"
   },
   {
    "duration": 11,
    "start_time": "2022-11-26T06:42:37.911Z"
   },
   {
    "duration": 232,
    "start_time": "2022-11-26T06:42:37.923Z"
   },
   {
    "duration": 315,
    "start_time": "2022-11-26T06:42:38.156Z"
   },
   {
    "duration": 3,
    "start_time": "2022-11-26T06:42:38.472Z"
   },
   {
    "duration": 11,
    "start_time": "2022-11-26T06:42:38.476Z"
   },
   {
    "duration": 28,
    "start_time": "2022-11-26T06:42:38.489Z"
   },
   {
    "duration": 212,
    "start_time": "2022-11-26T06:42:38.518Z"
   },
   {
    "duration": 10,
    "start_time": "2022-11-26T06:42:38.731Z"
   },
   {
    "duration": 137,
    "start_time": "2022-11-26T06:42:38.752Z"
   },
   {
    "duration": 150,
    "start_time": "2022-11-26T06:42:38.891Z"
   },
   {
    "duration": 26,
    "start_time": "2022-11-26T06:42:39.043Z"
   },
   {
    "duration": 11,
    "start_time": "2022-11-26T06:42:39.071Z"
   },
   {
    "duration": 208,
    "start_time": "2022-11-26T06:42:39.084Z"
   },
   {
    "duration": 11,
    "start_time": "2022-11-26T06:42:39.295Z"
   },
   {
    "duration": 284,
    "start_time": "2022-11-26T06:42:39.308Z"
   },
   {
    "duration": 826,
    "start_time": "2022-11-26T06:42:39.594Z"
   },
   {
    "duration": 372,
    "start_time": "2022-11-26T06:42:40.422Z"
   },
   {
    "duration": 194,
    "start_time": "2022-11-26T06:42:40.796Z"
   },
   {
    "duration": 7,
    "start_time": "2022-11-26T06:42:40.992Z"
   },
   {
    "duration": 8,
    "start_time": "2022-11-26T06:42:41.001Z"
   },
   {
    "duration": 48,
    "start_time": "2022-11-26T06:42:41.011Z"
   },
   {
    "duration": 8,
    "start_time": "2022-11-26T06:42:41.061Z"
   },
   {
    "duration": 29,
    "start_time": "2022-11-26T06:42:41.071Z"
   },
   {
    "duration": 193,
    "start_time": "2022-11-26T06:54:10.157Z"
   },
   {
    "duration": 221,
    "start_time": "2022-11-26T06:55:23.711Z"
   },
   {
    "duration": 226,
    "start_time": "2022-11-26T06:55:41.054Z"
   },
   {
    "duration": 223,
    "start_time": "2022-11-26T06:56:33.692Z"
   },
   {
    "duration": 14,
    "start_time": "2022-11-26T07:00:56.773Z"
   },
   {
    "duration": 12,
    "start_time": "2022-11-26T07:01:17.004Z"
   },
   {
    "duration": 210,
    "start_time": "2022-11-26T07:01:35.993Z"
   },
   {
    "duration": 11,
    "start_time": "2022-11-26T07:03:54.050Z"
   },
   {
    "duration": 120,
    "start_time": "2022-11-26T07:04:16.272Z"
   },
   {
    "duration": 69,
    "start_time": "2022-11-26T07:05:33.229Z"
   },
   {
    "duration": 133,
    "start_time": "2022-11-26T07:06:21.739Z"
   },
   {
    "duration": 153,
    "start_time": "2022-11-26T07:07:03.667Z"
   },
   {
    "duration": 160,
    "start_time": "2022-11-26T07:07:34.886Z"
   },
   {
    "duration": 112,
    "start_time": "2022-11-26T07:08:17.759Z"
   },
   {
    "duration": 219,
    "start_time": "2022-11-26T07:09:30.448Z"
   },
   {
    "duration": 83,
    "start_time": "2022-11-26T07:11:31.504Z"
   },
   {
    "duration": 64,
    "start_time": "2022-11-26T07:12:02.970Z"
   },
   {
    "duration": 159,
    "start_time": "2022-11-26T07:12:36.043Z"
   },
   {
    "duration": 168,
    "start_time": "2022-11-26T07:12:50.141Z"
   },
   {
    "duration": 69,
    "start_time": "2022-11-26T07:13:40.859Z"
   },
   {
    "duration": 131,
    "start_time": "2022-11-26T07:14:06.648Z"
   },
   {
    "duration": 135,
    "start_time": "2022-11-26T07:14:16.824Z"
   },
   {
    "duration": 155,
    "start_time": "2022-11-26T07:16:43.475Z"
   },
   {
    "duration": 236,
    "start_time": "2022-11-26T07:16:52.721Z"
   },
   {
    "duration": 1199,
    "start_time": "2022-11-26T07:18:43.574Z"
   },
   {
    "duration": 3,
    "start_time": "2022-11-26T07:18:44.775Z"
   },
   {
    "duration": 84,
    "start_time": "2022-11-26T07:18:44.780Z"
   },
   {
    "duration": 14,
    "start_time": "2022-11-26T07:18:44.866Z"
   },
   {
    "duration": 35,
    "start_time": "2022-11-26T07:18:44.881Z"
   },
   {
    "duration": 9,
    "start_time": "2022-11-26T07:18:44.917Z"
   },
   {
    "duration": 15,
    "start_time": "2022-11-26T07:18:44.927Z"
   },
   {
    "duration": 42,
    "start_time": "2022-11-26T07:18:44.944Z"
   },
   {
    "duration": 37,
    "start_time": "2022-11-26T07:18:44.988Z"
   },
   {
    "duration": 17,
    "start_time": "2022-11-26T07:18:45.028Z"
   },
   {
    "duration": 39,
    "start_time": "2022-11-26T07:18:45.047Z"
   },
   {
    "duration": 15,
    "start_time": "2022-11-26T07:18:45.088Z"
   },
   {
    "duration": 34,
    "start_time": "2022-11-26T07:18:45.104Z"
   },
   {
    "duration": 25,
    "start_time": "2022-11-26T07:18:45.139Z"
   },
   {
    "duration": 27,
    "start_time": "2022-11-26T07:18:45.165Z"
   },
   {
    "duration": 23,
    "start_time": "2022-11-26T07:18:45.193Z"
   },
   {
    "duration": 22,
    "start_time": "2022-11-26T07:18:45.217Z"
   },
   {
    "duration": 41,
    "start_time": "2022-11-26T07:18:45.240Z"
   },
   {
    "duration": 19,
    "start_time": "2022-11-26T07:18:45.283Z"
   },
   {
    "duration": 29,
    "start_time": "2022-11-26T07:18:45.303Z"
   },
   {
    "duration": 38,
    "start_time": "2022-11-26T07:18:45.333Z"
   },
   {
    "duration": 16,
    "start_time": "2022-11-26T07:18:45.373Z"
   },
   {
    "duration": 20,
    "start_time": "2022-11-26T07:18:45.391Z"
   },
   {
    "duration": 20,
    "start_time": "2022-11-26T07:18:45.412Z"
   },
   {
    "duration": 29,
    "start_time": "2022-11-26T07:18:45.433Z"
   },
   {
    "duration": 14,
    "start_time": "2022-11-26T07:18:45.463Z"
   },
   {
    "duration": 29,
    "start_time": "2022-11-26T07:18:45.479Z"
   },
   {
    "duration": 31,
    "start_time": "2022-11-26T07:18:45.511Z"
   },
   {
    "duration": 185,
    "start_time": "2022-11-26T07:18:45.544Z"
   },
   {
    "duration": 22,
    "start_time": "2022-11-26T07:18:45.731Z"
   },
   {
    "duration": 264,
    "start_time": "2022-11-26T07:18:45.755Z"
   },
   {
    "duration": 0,
    "start_time": "2022-11-26T07:18:46.021Z"
   },
   {
    "duration": 0,
    "start_time": "2022-11-26T07:18:46.023Z"
   },
   {
    "duration": 0,
    "start_time": "2022-11-26T07:18:46.024Z"
   },
   {
    "duration": 0,
    "start_time": "2022-11-26T07:18:46.025Z"
   },
   {
    "duration": 0,
    "start_time": "2022-11-26T07:18:46.026Z"
   },
   {
    "duration": 0,
    "start_time": "2022-11-26T07:18:46.027Z"
   },
   {
    "duration": 0,
    "start_time": "2022-11-26T07:18:46.028Z"
   },
   {
    "duration": 0,
    "start_time": "2022-11-26T07:18:46.029Z"
   },
   {
    "duration": 0,
    "start_time": "2022-11-26T07:18:46.030Z"
   },
   {
    "duration": 0,
    "start_time": "2022-11-26T07:18:46.031Z"
   },
   {
    "duration": 0,
    "start_time": "2022-11-26T07:18:46.031Z"
   },
   {
    "duration": 1,
    "start_time": "2022-11-26T07:18:46.032Z"
   },
   {
    "duration": 0,
    "start_time": "2022-11-26T07:18:46.052Z"
   },
   {
    "duration": 0,
    "start_time": "2022-11-26T07:18:46.053Z"
   },
   {
    "duration": 0,
    "start_time": "2022-11-26T07:18:46.054Z"
   },
   {
    "duration": 0,
    "start_time": "2022-11-26T07:18:46.055Z"
   },
   {
    "duration": 0,
    "start_time": "2022-11-26T07:18:46.056Z"
   },
   {
    "duration": 0,
    "start_time": "2022-11-26T07:18:46.057Z"
   },
   {
    "duration": 0,
    "start_time": "2022-11-26T07:18:46.058Z"
   },
   {
    "duration": 0,
    "start_time": "2022-11-26T07:18:46.059Z"
   },
   {
    "duration": 0,
    "start_time": "2022-11-26T07:18:46.060Z"
   },
   {
    "duration": 251,
    "start_time": "2022-11-26T07:20:23.248Z"
   },
   {
    "duration": 133,
    "start_time": "2022-11-26T07:25:48.356Z"
   },
   {
    "duration": 74,
    "start_time": "2022-11-26T07:26:13.361Z"
   },
   {
    "duration": 228,
    "start_time": "2022-11-26T07:26:31.978Z"
   },
   {
    "duration": 27,
    "start_time": "2022-11-26T07:27:44.584Z"
   },
   {
    "duration": 159,
    "start_time": "2022-11-26T07:27:53.697Z"
   },
   {
    "duration": 152,
    "start_time": "2022-11-26T07:28:33.284Z"
   },
   {
    "duration": 153,
    "start_time": "2022-11-26T07:28:39.742Z"
   },
   {
    "duration": 74,
    "start_time": "2022-11-26T07:28:47.413Z"
   },
   {
    "duration": 74,
    "start_time": "2022-11-26T07:28:53.286Z"
   },
   {
    "duration": 74,
    "start_time": "2022-11-26T07:29:05.144Z"
   },
   {
    "duration": 69,
    "start_time": "2022-11-26T07:29:14.576Z"
   },
   {
    "duration": 209,
    "start_time": "2022-11-26T07:29:28.000Z"
   },
   {
    "duration": 69,
    "start_time": "2022-11-26T07:29:58.762Z"
   },
   {
    "duration": 341,
    "start_time": "2022-11-26T07:30:45.970Z"
   },
   {
    "duration": 1217,
    "start_time": "2022-11-26T07:32:43.447Z"
   },
   {
    "duration": 3,
    "start_time": "2022-11-26T07:32:44.667Z"
   },
   {
    "duration": 110,
    "start_time": "2022-11-26T07:32:44.671Z"
   },
   {
    "duration": 16,
    "start_time": "2022-11-26T07:32:44.783Z"
   },
   {
    "duration": 45,
    "start_time": "2022-11-26T07:32:44.801Z"
   },
   {
    "duration": 22,
    "start_time": "2022-11-26T07:32:44.848Z"
   },
   {
    "duration": 59,
    "start_time": "2022-11-26T07:32:44.872Z"
   },
   {
    "duration": 51,
    "start_time": "2022-11-26T07:32:44.933Z"
   },
   {
    "duration": 38,
    "start_time": "2022-11-26T07:32:44.986Z"
   },
   {
    "duration": 34,
    "start_time": "2022-11-26T07:32:45.027Z"
   },
   {
    "duration": 48,
    "start_time": "2022-11-26T07:32:45.063Z"
   },
   {
    "duration": 33,
    "start_time": "2022-11-26T07:32:45.113Z"
   },
   {
    "duration": 34,
    "start_time": "2022-11-26T07:32:45.148Z"
   },
   {
    "duration": 43,
    "start_time": "2022-11-26T07:32:45.183Z"
   },
   {
    "duration": 35,
    "start_time": "2022-11-26T07:32:45.227Z"
   },
   {
    "duration": 47,
    "start_time": "2022-11-26T07:32:45.263Z"
   },
   {
    "duration": 29,
    "start_time": "2022-11-26T07:32:45.312Z"
   },
   {
    "duration": 42,
    "start_time": "2022-11-26T07:32:45.343Z"
   },
   {
    "duration": 38,
    "start_time": "2022-11-26T07:32:45.387Z"
   },
   {
    "duration": 59,
    "start_time": "2022-11-26T07:32:45.427Z"
   },
   {
    "duration": 53,
    "start_time": "2022-11-26T07:32:45.488Z"
   },
   {
    "duration": 42,
    "start_time": "2022-11-26T07:32:45.542Z"
   },
   {
    "duration": 36,
    "start_time": "2022-11-26T07:32:45.585Z"
   },
   {
    "duration": 43,
    "start_time": "2022-11-26T07:32:45.623Z"
   },
   {
    "duration": 53,
    "start_time": "2022-11-26T07:32:45.668Z"
   },
   {
    "duration": 43,
    "start_time": "2022-11-26T07:32:45.723Z"
   },
   {
    "duration": 46,
    "start_time": "2022-11-26T07:32:45.768Z"
   },
   {
    "duration": 38,
    "start_time": "2022-11-26T07:32:45.818Z"
   },
   {
    "duration": 231,
    "start_time": "2022-11-26T07:32:45.858Z"
   },
   {
    "duration": 12,
    "start_time": "2022-11-26T07:32:46.091Z"
   },
   {
    "duration": 334,
    "start_time": "2022-11-26T07:32:46.105Z"
   },
   {
    "duration": 335,
    "start_time": "2022-11-26T07:32:46.441Z"
   },
   {
    "duration": 2,
    "start_time": "2022-11-26T07:32:46.778Z"
   },
   {
    "duration": 43,
    "start_time": "2022-11-26T07:32:46.782Z"
   },
   {
    "duration": 54,
    "start_time": "2022-11-26T07:32:46.827Z"
   },
   {
    "duration": 245,
    "start_time": "2022-11-26T07:32:46.883Z"
   },
   {
    "duration": 11,
    "start_time": "2022-11-26T07:32:47.130Z"
   },
   {
    "duration": 194,
    "start_time": "2022-11-26T07:32:47.142Z"
   },
   {
    "duration": 153,
    "start_time": "2022-11-26T07:32:47.339Z"
   },
   {
    "duration": 23,
    "start_time": "2022-11-26T07:32:47.495Z"
   },
   {
    "duration": 33,
    "start_time": "2022-11-26T07:32:47.520Z"
   },
   {
    "duration": 204,
    "start_time": "2022-11-26T07:32:47.555Z"
   },
   {
    "duration": 12,
    "start_time": "2022-11-26T07:32:47.761Z"
   },
   {
    "duration": 279,
    "start_time": "2022-11-26T07:32:47.775Z"
   },
   {
    "duration": 808,
    "start_time": "2022-11-26T07:32:48.056Z"
   },
   {
    "duration": 395,
    "start_time": "2022-11-26T07:32:48.866Z"
   },
   {
    "duration": 213,
    "start_time": "2022-11-26T07:32:49.263Z"
   },
   {
    "duration": 6,
    "start_time": "2022-11-26T07:32:49.478Z"
   },
   {
    "duration": 10,
    "start_time": "2022-11-26T07:32:49.486Z"
   },
   {
    "duration": 34,
    "start_time": "2022-11-26T07:32:49.497Z"
   },
   {
    "duration": 24,
    "start_time": "2022-11-26T07:32:49.533Z"
   },
   {
    "duration": 28,
    "start_time": "2022-11-26T07:32:49.559Z"
   },
   {
    "duration": 1047,
    "start_time": "2022-11-26T07:36:04.783Z"
   },
   {
    "duration": 3,
    "start_time": "2022-11-26T07:36:05.831Z"
   },
   {
    "duration": 69,
    "start_time": "2022-11-26T07:36:05.835Z"
   },
   {
    "duration": 12,
    "start_time": "2022-11-26T07:36:05.906Z"
   },
   {
    "duration": 25,
    "start_time": "2022-11-26T07:36:05.920Z"
   },
   {
    "duration": 5,
    "start_time": "2022-11-26T07:36:05.947Z"
   },
   {
    "duration": 3,
    "start_time": "2022-11-26T07:36:05.953Z"
   },
   {
    "duration": 12,
    "start_time": "2022-11-26T07:36:05.958Z"
   },
   {
    "duration": 5,
    "start_time": "2022-11-26T07:36:05.972Z"
   },
   {
    "duration": 4,
    "start_time": "2022-11-26T07:36:05.979Z"
   },
   {
    "duration": 10,
    "start_time": "2022-11-26T07:36:05.985Z"
   },
   {
    "duration": 7,
    "start_time": "2022-11-26T07:36:05.997Z"
   },
   {
    "duration": 6,
    "start_time": "2022-11-26T07:36:06.006Z"
   },
   {
    "duration": 41,
    "start_time": "2022-11-26T07:36:06.014Z"
   },
   {
    "duration": 6,
    "start_time": "2022-11-26T07:36:06.057Z"
   },
   {
    "duration": 5,
    "start_time": "2022-11-26T07:36:06.065Z"
   },
   {
    "duration": 6,
    "start_time": "2022-11-26T07:36:06.071Z"
   },
   {
    "duration": 14,
    "start_time": "2022-11-26T07:36:06.079Z"
   },
   {
    "duration": 14,
    "start_time": "2022-11-26T07:36:06.094Z"
   },
   {
    "duration": 7,
    "start_time": "2022-11-26T07:36:06.110Z"
   },
   {
    "duration": 40,
    "start_time": "2022-11-26T07:36:06.118Z"
   },
   {
    "duration": 4,
    "start_time": "2022-11-26T07:36:06.160Z"
   },
   {
    "duration": 5,
    "start_time": "2022-11-26T07:36:06.165Z"
   },
   {
    "duration": 6,
    "start_time": "2022-11-26T07:36:06.172Z"
   },
   {
    "duration": 6,
    "start_time": "2022-11-26T07:36:06.179Z"
   },
   {
    "duration": 8,
    "start_time": "2022-11-26T07:36:06.186Z"
   },
   {
    "duration": 11,
    "start_time": "2022-11-26T07:36:06.196Z"
   },
   {
    "duration": 5,
    "start_time": "2022-11-26T07:36:06.210Z"
   },
   {
    "duration": 188,
    "start_time": "2022-11-26T07:36:06.216Z"
   },
   {
    "duration": 12,
    "start_time": "2022-11-26T07:36:06.405Z"
   },
   {
    "duration": 277,
    "start_time": "2022-11-26T07:36:06.418Z"
   },
   {
    "duration": 293,
    "start_time": "2022-11-26T07:36:06.696Z"
   },
   {
    "duration": 2,
    "start_time": "2022-11-26T07:36:06.991Z"
   },
   {
    "duration": 13,
    "start_time": "2022-11-26T07:36:06.994Z"
   },
   {
    "duration": 37,
    "start_time": "2022-11-26T07:36:07.008Z"
   },
   {
    "duration": 213,
    "start_time": "2022-11-26T07:36:07.047Z"
   },
   {
    "duration": 11,
    "start_time": "2022-11-26T07:36:07.261Z"
   },
   {
    "duration": 143,
    "start_time": "2022-11-26T07:36:07.274Z"
   },
   {
    "duration": 142,
    "start_time": "2022-11-26T07:36:07.418Z"
   },
   {
    "duration": 19,
    "start_time": "2022-11-26T07:36:07.561Z"
   },
   {
    "duration": 11,
    "start_time": "2022-11-26T07:36:07.582Z"
   },
   {
    "duration": 207,
    "start_time": "2022-11-26T07:36:07.594Z"
   },
   {
    "duration": 10,
    "start_time": "2022-11-26T07:36:07.803Z"
   },
   {
    "duration": 269,
    "start_time": "2022-11-26T07:36:07.814Z"
   },
   {
    "duration": 798,
    "start_time": "2022-11-26T07:36:08.084Z"
   },
   {
    "duration": 370,
    "start_time": "2022-11-26T07:36:08.883Z"
   },
   {
    "duration": 177,
    "start_time": "2022-11-26T07:36:09.255Z"
   },
   {
    "duration": 6,
    "start_time": "2022-11-26T07:36:09.434Z"
   },
   {
    "duration": 17,
    "start_time": "2022-11-26T07:36:09.441Z"
   },
   {
    "duration": 29,
    "start_time": "2022-11-26T07:36:09.460Z"
   },
   {
    "duration": 7,
    "start_time": "2022-11-26T07:36:09.491Z"
   },
   {
    "duration": 28,
    "start_time": "2022-11-26T07:36:09.500Z"
   },
   {
    "duration": 283,
    "start_time": "2022-11-26T07:39:24.631Z"
   },
   {
    "duration": 306,
    "start_time": "2022-11-26T07:39:48.704Z"
   },
   {
    "duration": 83,
    "start_time": "2022-11-26T07:46:13.713Z"
   },
   {
    "duration": 75,
    "start_time": "2022-11-26T07:46:40.033Z"
   },
   {
    "duration": 9,
    "start_time": "2022-11-26T07:46:57.524Z"
   },
   {
    "duration": 1103,
    "start_time": "2022-11-26T07:47:10.087Z"
   },
   {
    "duration": 3,
    "start_time": "2022-11-26T07:47:11.192Z"
   },
   {
    "duration": 65,
    "start_time": "2022-11-26T07:47:11.196Z"
   },
   {
    "duration": 15,
    "start_time": "2022-11-26T07:47:11.263Z"
   },
   {
    "duration": 26,
    "start_time": "2022-11-26T07:47:11.279Z"
   },
   {
    "duration": 4,
    "start_time": "2022-11-26T07:47:11.306Z"
   },
   {
    "duration": 4,
    "start_time": "2022-11-26T07:47:11.312Z"
   },
   {
    "duration": 35,
    "start_time": "2022-11-26T07:47:11.318Z"
   },
   {
    "duration": 8,
    "start_time": "2022-11-26T07:47:11.355Z"
   },
   {
    "duration": 7,
    "start_time": "2022-11-26T07:47:11.365Z"
   },
   {
    "duration": 19,
    "start_time": "2022-11-26T07:47:11.373Z"
   },
   {
    "duration": 7,
    "start_time": "2022-11-26T07:47:11.394Z"
   },
   {
    "duration": 9,
    "start_time": "2022-11-26T07:47:11.403Z"
   },
   {
    "duration": 18,
    "start_time": "2022-11-26T07:47:11.414Z"
   },
   {
    "duration": 21,
    "start_time": "2022-11-26T07:47:11.434Z"
   },
   {
    "duration": 5,
    "start_time": "2022-11-26T07:47:11.456Z"
   },
   {
    "duration": 8,
    "start_time": "2022-11-26T07:47:11.463Z"
   },
   {
    "duration": 19,
    "start_time": "2022-11-26T07:47:11.472Z"
   },
   {
    "duration": 14,
    "start_time": "2022-11-26T07:47:11.493Z"
   },
   {
    "duration": 9,
    "start_time": "2022-11-26T07:47:11.509Z"
   },
   {
    "duration": 36,
    "start_time": "2022-11-26T07:47:11.520Z"
   },
   {
    "duration": 4,
    "start_time": "2022-11-26T07:47:11.558Z"
   },
   {
    "duration": 7,
    "start_time": "2022-11-26T07:47:11.564Z"
   },
   {
    "duration": 5,
    "start_time": "2022-11-26T07:47:11.573Z"
   },
   {
    "duration": 6,
    "start_time": "2022-11-26T07:47:11.580Z"
   },
   {
    "duration": 13,
    "start_time": "2022-11-26T07:47:11.587Z"
   },
   {
    "duration": 21,
    "start_time": "2022-11-26T07:47:11.602Z"
   },
   {
    "duration": 6,
    "start_time": "2022-11-26T07:47:11.626Z"
   },
   {
    "duration": 179,
    "start_time": "2022-11-26T07:47:11.634Z"
   },
   {
    "duration": 13,
    "start_time": "2022-11-26T07:47:11.815Z"
   },
   {
    "duration": 254,
    "start_time": "2022-11-26T07:47:11.829Z"
   },
   {
    "duration": 291,
    "start_time": "2022-11-26T07:47:12.084Z"
   },
   {
    "duration": 2,
    "start_time": "2022-11-26T07:47:12.376Z"
   },
   {
    "duration": 22,
    "start_time": "2022-11-26T07:47:12.379Z"
   },
   {
    "duration": 34,
    "start_time": "2022-11-26T07:47:12.403Z"
   },
   {
    "duration": 272,
    "start_time": "2022-11-26T07:47:12.439Z"
   },
   {
    "duration": 9,
    "start_time": "2022-11-26T07:47:12.712Z"
   },
   {
    "duration": 140,
    "start_time": "2022-11-26T07:47:12.723Z"
   },
   {
    "duration": 142,
    "start_time": "2022-11-26T07:47:12.864Z"
   },
   {
    "duration": 20,
    "start_time": "2022-11-26T07:47:13.008Z"
   },
   {
    "duration": 24,
    "start_time": "2022-11-26T07:47:13.029Z"
   },
   {
    "duration": 197,
    "start_time": "2022-11-26T07:47:13.055Z"
   },
   {
    "duration": 10,
    "start_time": "2022-11-26T07:47:13.254Z"
   },
   {
    "duration": 268,
    "start_time": "2022-11-26T07:47:13.266Z"
   },
   {
    "duration": 794,
    "start_time": "2022-11-26T07:47:13.536Z"
   },
   {
    "duration": 372,
    "start_time": "2022-11-26T07:47:14.331Z"
   },
   {
    "duration": 190,
    "start_time": "2022-11-26T07:47:14.705Z"
   },
   {
    "duration": 6,
    "start_time": "2022-11-26T07:47:14.897Z"
   },
   {
    "duration": 8,
    "start_time": "2022-11-26T07:47:14.905Z"
   },
   {
    "duration": 46,
    "start_time": "2022-11-26T07:47:14.914Z"
   },
   {
    "duration": 8,
    "start_time": "2022-11-26T07:47:14.962Z"
   },
   {
    "duration": 29,
    "start_time": "2022-11-26T07:47:14.972Z"
   },
   {
    "duration": 1203,
    "start_time": "2022-11-26T07:51:38.032Z"
   },
   {
    "duration": 3,
    "start_time": "2022-11-26T07:51:39.237Z"
   },
   {
    "duration": 66,
    "start_time": "2022-11-26T07:51:39.241Z"
   },
   {
    "duration": 13,
    "start_time": "2022-11-26T07:51:39.309Z"
   },
   {
    "duration": 26,
    "start_time": "2022-11-26T07:51:39.323Z"
   },
   {
    "duration": 3,
    "start_time": "2022-11-26T07:51:39.350Z"
   },
   {
    "duration": 10,
    "start_time": "2022-11-26T07:51:39.355Z"
   },
   {
    "duration": 20,
    "start_time": "2022-11-26T07:51:39.366Z"
   },
   {
    "duration": 9,
    "start_time": "2022-11-26T07:51:39.388Z"
   },
   {
    "duration": 8,
    "start_time": "2022-11-26T07:51:39.400Z"
   },
   {
    "duration": 13,
    "start_time": "2022-11-26T07:51:39.410Z"
   },
   {
    "duration": 8,
    "start_time": "2022-11-26T07:51:39.425Z"
   },
   {
    "duration": 9,
    "start_time": "2022-11-26T07:51:39.435Z"
   },
   {
    "duration": 19,
    "start_time": "2022-11-26T07:51:39.446Z"
   },
   {
    "duration": 8,
    "start_time": "2022-11-26T07:51:39.467Z"
   },
   {
    "duration": 7,
    "start_time": "2022-11-26T07:51:39.477Z"
   },
   {
    "duration": 9,
    "start_time": "2022-11-26T07:51:39.485Z"
   },
   {
    "duration": 14,
    "start_time": "2022-11-26T07:51:39.496Z"
   },
   {
    "duration": 16,
    "start_time": "2022-11-26T07:51:39.512Z"
   },
   {
    "duration": 30,
    "start_time": "2022-11-26T07:51:39.529Z"
   },
   {
    "duration": 11,
    "start_time": "2022-11-26T07:51:39.561Z"
   },
   {
    "duration": 5,
    "start_time": "2022-11-26T07:51:39.573Z"
   },
   {
    "duration": 5,
    "start_time": "2022-11-26T07:51:39.580Z"
   },
   {
    "duration": 6,
    "start_time": "2022-11-26T07:51:39.586Z"
   },
   {
    "duration": 6,
    "start_time": "2022-11-26T07:51:39.593Z"
   },
   {
    "duration": 8,
    "start_time": "2022-11-26T07:51:39.600Z"
   },
   {
    "duration": 46,
    "start_time": "2022-11-26T07:51:39.609Z"
   },
   {
    "duration": 7,
    "start_time": "2022-11-26T07:51:39.658Z"
   },
   {
    "duration": 169,
    "start_time": "2022-11-26T07:51:39.666Z"
   },
   {
    "duration": 18,
    "start_time": "2022-11-26T07:51:39.837Z"
   },
   {
    "duration": 251,
    "start_time": "2022-11-26T07:51:39.856Z"
   },
   {
    "duration": 291,
    "start_time": "2022-11-26T07:51:40.108Z"
   },
   {
    "duration": 2,
    "start_time": "2022-11-26T07:51:40.401Z"
   },
   {
    "duration": 11,
    "start_time": "2022-11-26T07:51:40.404Z"
   },
   {
    "duration": 42,
    "start_time": "2022-11-26T07:51:40.417Z"
   },
   {
    "duration": 214,
    "start_time": "2022-11-26T07:51:40.461Z"
   },
   {
    "duration": 9,
    "start_time": "2022-11-26T07:51:40.676Z"
   },
   {
    "duration": 142,
    "start_time": "2022-11-26T07:51:40.686Z"
   },
   {
    "duration": 142,
    "start_time": "2022-11-26T07:51:40.830Z"
   },
   {
    "duration": 22,
    "start_time": "2022-11-26T07:51:40.974Z"
   },
   {
    "duration": 11,
    "start_time": "2022-11-26T07:51:40.997Z"
   },
   {
    "duration": 214,
    "start_time": "2022-11-26T07:51:41.010Z"
   },
   {
    "duration": 11,
    "start_time": "2022-11-26T07:51:41.225Z"
   },
   {
    "duration": 269,
    "start_time": "2022-11-26T07:51:41.237Z"
   },
   {
    "duration": 788,
    "start_time": "2022-11-26T07:51:41.508Z"
   },
   {
    "duration": 417,
    "start_time": "2022-11-26T07:51:42.298Z"
   },
   {
    "duration": 186,
    "start_time": "2022-11-26T07:51:42.717Z"
   },
   {
    "duration": 5,
    "start_time": "2022-11-26T07:51:42.905Z"
   },
   {
    "duration": 8,
    "start_time": "2022-11-26T07:51:42.912Z"
   },
   {
    "duration": 41,
    "start_time": "2022-11-26T07:51:42.922Z"
   },
   {
    "duration": 6,
    "start_time": "2022-11-26T07:51:42.965Z"
   },
   {
    "duration": 29,
    "start_time": "2022-11-26T07:51:42.973Z"
   },
   {
    "duration": 1170,
    "start_time": "2022-11-26T07:56:20.935Z"
   },
   {
    "duration": 2,
    "start_time": "2022-11-26T07:56:22.107Z"
   },
   {
    "duration": 63,
    "start_time": "2022-11-26T07:56:22.110Z"
   },
   {
    "duration": 12,
    "start_time": "2022-11-26T07:56:22.175Z"
   },
   {
    "duration": 26,
    "start_time": "2022-11-26T07:56:22.189Z"
   },
   {
    "duration": 3,
    "start_time": "2022-11-26T07:56:22.217Z"
   },
   {
    "duration": 5,
    "start_time": "2022-11-26T07:56:22.222Z"
   },
   {
    "duration": 11,
    "start_time": "2022-11-26T07:56:22.252Z"
   },
   {
    "duration": 11,
    "start_time": "2022-11-26T07:56:22.265Z"
   },
   {
    "duration": 7,
    "start_time": "2022-11-26T07:56:22.279Z"
   },
   {
    "duration": 12,
    "start_time": "2022-11-26T07:56:22.288Z"
   },
   {
    "duration": 18,
    "start_time": "2022-11-26T07:56:22.302Z"
   },
   {
    "duration": 10,
    "start_time": "2022-11-26T07:56:22.321Z"
   },
   {
    "duration": 23,
    "start_time": "2022-11-26T07:56:22.332Z"
   },
   {
    "duration": 10,
    "start_time": "2022-11-26T07:56:22.357Z"
   },
   {
    "duration": 5,
    "start_time": "2022-11-26T07:56:22.369Z"
   },
   {
    "duration": 14,
    "start_time": "2022-11-26T07:56:22.376Z"
   },
   {
    "duration": 17,
    "start_time": "2022-11-26T07:56:22.399Z"
   },
   {
    "duration": 30,
    "start_time": "2022-11-26T07:56:22.418Z"
   },
   {
    "duration": 12,
    "start_time": "2022-11-26T07:56:22.449Z"
   },
   {
    "duration": 15,
    "start_time": "2022-11-26T07:56:22.463Z"
   },
   {
    "duration": 6,
    "start_time": "2022-11-26T07:56:22.480Z"
   },
   {
    "duration": 12,
    "start_time": "2022-11-26T07:56:22.488Z"
   },
   {
    "duration": 8,
    "start_time": "2022-11-26T07:56:22.503Z"
   },
   {
    "duration": 11,
    "start_time": "2022-11-26T07:56:22.513Z"
   },
   {
    "duration": 26,
    "start_time": "2022-11-26T07:56:22.526Z"
   },
   {
    "duration": 13,
    "start_time": "2022-11-26T07:56:22.555Z"
   },
   {
    "duration": 12,
    "start_time": "2022-11-26T07:56:22.572Z"
   },
   {
    "duration": 174,
    "start_time": "2022-11-26T07:56:22.586Z"
   },
   {
    "duration": 10,
    "start_time": "2022-11-26T07:56:22.762Z"
   },
   {
    "duration": 261,
    "start_time": "2022-11-26T07:56:22.774Z"
   },
   {
    "duration": 287,
    "start_time": "2022-11-26T07:56:23.036Z"
   },
   {
    "duration": 2,
    "start_time": "2022-11-26T07:56:23.325Z"
   },
   {
    "duration": 10,
    "start_time": "2022-11-26T07:56:23.329Z"
   },
   {
    "duration": 37,
    "start_time": "2022-11-26T07:56:23.341Z"
   },
   {
    "duration": 212,
    "start_time": "2022-11-26T07:56:23.379Z"
   },
   {
    "duration": 9,
    "start_time": "2022-11-26T07:56:23.593Z"
   },
   {
    "duration": 139,
    "start_time": "2022-11-26T07:56:23.603Z"
   },
   {
    "duration": 134,
    "start_time": "2022-11-26T07:56:23.743Z"
   },
   {
    "duration": 21,
    "start_time": "2022-11-26T07:56:23.878Z"
   },
   {
    "duration": 11,
    "start_time": "2022-11-26T07:56:23.901Z"
   },
   {
    "duration": 213,
    "start_time": "2022-11-26T07:56:23.914Z"
   },
   {
    "duration": 11,
    "start_time": "2022-11-26T07:56:24.128Z"
   },
   {
    "duration": 274,
    "start_time": "2022-11-26T07:56:24.140Z"
   },
   {
    "duration": 821,
    "start_time": "2022-11-26T07:56:24.415Z"
   },
   {
    "duration": 379,
    "start_time": "2022-11-26T07:56:25.238Z"
   },
   {
    "duration": 192,
    "start_time": "2022-11-26T07:56:25.619Z"
   },
   {
    "duration": 6,
    "start_time": "2022-11-26T07:56:25.813Z"
   },
   {
    "duration": 25,
    "start_time": "2022-11-26T07:56:25.820Z"
   },
   {
    "duration": 53,
    "start_time": "2022-11-26T07:56:25.847Z"
   },
   {
    "duration": 7,
    "start_time": "2022-11-26T07:56:25.901Z"
   },
   {
    "duration": 51,
    "start_time": "2022-11-26T07:56:25.910Z"
   },
   {
    "duration": 11,
    "start_time": "2022-11-26T08:01:14.999Z"
   },
   {
    "duration": 1173,
    "start_time": "2022-11-26T08:01:39.483Z"
   },
   {
    "duration": 3,
    "start_time": "2022-11-26T08:01:40.658Z"
   },
   {
    "duration": 98,
    "start_time": "2022-11-26T08:01:40.663Z"
   },
   {
    "duration": 14,
    "start_time": "2022-11-26T08:01:40.763Z"
   },
   {
    "duration": 62,
    "start_time": "2022-11-26T08:01:40.779Z"
   },
   {
    "duration": 6,
    "start_time": "2022-11-26T08:01:40.842Z"
   },
   {
    "duration": 26,
    "start_time": "2022-11-26T08:01:40.849Z"
   },
   {
    "duration": 44,
    "start_time": "2022-11-26T08:01:40.876Z"
   },
   {
    "duration": 35,
    "start_time": "2022-11-26T08:01:40.921Z"
   },
   {
    "duration": 57,
    "start_time": "2022-11-26T08:01:40.959Z"
   },
   {
    "duration": 37,
    "start_time": "2022-11-26T08:01:41.018Z"
   },
   {
    "duration": 40,
    "start_time": "2022-11-26T08:01:41.056Z"
   },
   {
    "duration": 53,
    "start_time": "2022-11-26T08:01:41.098Z"
   },
   {
    "duration": 40,
    "start_time": "2022-11-26T08:01:41.152Z"
   },
   {
    "duration": 29,
    "start_time": "2022-11-26T08:01:41.193Z"
   },
   {
    "duration": 29,
    "start_time": "2022-11-26T08:01:41.224Z"
   },
   {
    "duration": 38,
    "start_time": "2022-11-26T08:01:41.255Z"
   },
   {
    "duration": 53,
    "start_time": "2022-11-26T08:01:41.294Z"
   },
   {
    "duration": 35,
    "start_time": "2022-11-26T08:01:41.349Z"
   },
   {
    "duration": 33,
    "start_time": "2022-11-26T08:01:41.386Z"
   },
   {
    "duration": 20,
    "start_time": "2022-11-26T08:01:41.422Z"
   },
   {
    "duration": 46,
    "start_time": "2022-11-26T08:01:41.443Z"
   },
   {
    "duration": 43,
    "start_time": "2022-11-26T08:01:41.491Z"
   },
   {
    "duration": 15,
    "start_time": "2022-11-26T08:01:41.535Z"
   },
   {
    "duration": 33,
    "start_time": "2022-11-26T08:01:41.551Z"
   },
   {
    "duration": 41,
    "start_time": "2022-11-26T08:01:41.587Z"
   },
   {
    "duration": 36,
    "start_time": "2022-11-26T08:01:41.630Z"
   },
   {
    "duration": 37,
    "start_time": "2022-11-26T08:01:41.670Z"
   },
   {
    "duration": 197,
    "start_time": "2022-11-26T08:01:41.709Z"
   },
   {
    "duration": 11,
    "start_time": "2022-11-26T08:01:41.908Z"
   },
   {
    "duration": 259,
    "start_time": "2022-11-26T08:01:41.920Z"
   },
   {
    "duration": 338,
    "start_time": "2022-11-26T08:01:42.180Z"
   },
   {
    "duration": 3,
    "start_time": "2022-11-26T08:01:42.521Z"
   },
   {
    "duration": 17,
    "start_time": "2022-11-26T08:01:42.526Z"
   },
   {
    "duration": 42,
    "start_time": "2022-11-26T08:01:42.544Z"
   },
   {
    "duration": 246,
    "start_time": "2022-11-26T08:01:42.588Z"
   },
   {
    "duration": 18,
    "start_time": "2022-11-26T08:01:42.835Z"
   },
   {
    "duration": 149,
    "start_time": "2022-11-26T08:01:42.855Z"
   },
   {
    "duration": 136,
    "start_time": "2022-11-26T08:01:43.006Z"
   },
   {
    "duration": 29,
    "start_time": "2022-11-26T08:01:43.144Z"
   },
   {
    "duration": 11,
    "start_time": "2022-11-26T08:01:43.175Z"
   },
   {
    "duration": 218,
    "start_time": "2022-11-26T08:01:43.187Z"
   },
   {
    "duration": 11,
    "start_time": "2022-11-26T08:01:43.406Z"
   },
   {
    "duration": 281,
    "start_time": "2022-11-26T08:01:43.419Z"
   },
   {
    "duration": 984,
    "start_time": "2022-11-26T08:01:43.702Z"
   },
   {
    "duration": 440,
    "start_time": "2022-11-26T08:01:44.688Z"
   },
   {
    "duration": 214,
    "start_time": "2022-11-26T08:01:45.130Z"
   },
   {
    "duration": 7,
    "start_time": "2022-11-26T08:01:45.352Z"
   },
   {
    "duration": 8,
    "start_time": "2022-11-26T08:01:45.360Z"
   },
   {
    "duration": 35,
    "start_time": "2022-11-26T08:01:45.369Z"
   },
   {
    "duration": 8,
    "start_time": "2022-11-26T08:01:45.406Z"
   },
   {
    "duration": 57,
    "start_time": "2022-11-26T08:01:45.415Z"
   },
   {
    "duration": 1185,
    "start_time": "2022-11-26T08:08:47.989Z"
   },
   {
    "duration": 3,
    "start_time": "2022-11-26T08:08:49.176Z"
   },
   {
    "duration": 75,
    "start_time": "2022-11-26T08:08:49.181Z"
   },
   {
    "duration": 14,
    "start_time": "2022-11-26T08:08:49.257Z"
   },
   {
    "duration": 28,
    "start_time": "2022-11-26T08:08:49.272Z"
   },
   {
    "duration": 4,
    "start_time": "2022-11-26T08:08:49.302Z"
   },
   {
    "duration": 8,
    "start_time": "2022-11-26T08:08:49.308Z"
   },
   {
    "duration": 39,
    "start_time": "2022-11-26T08:08:49.318Z"
   },
   {
    "duration": 7,
    "start_time": "2022-11-26T08:08:49.359Z"
   },
   {
    "duration": 7,
    "start_time": "2022-11-26T08:08:49.369Z"
   },
   {
    "duration": 12,
    "start_time": "2022-11-26T08:08:49.378Z"
   },
   {
    "duration": 6,
    "start_time": "2022-11-26T08:08:49.392Z"
   },
   {
    "duration": 7,
    "start_time": "2022-11-26T08:08:49.400Z"
   },
   {
    "duration": 45,
    "start_time": "2022-11-26T08:08:49.408Z"
   },
   {
    "duration": 7,
    "start_time": "2022-11-26T08:08:49.455Z"
   },
   {
    "duration": 7,
    "start_time": "2022-11-26T08:08:49.463Z"
   },
   {
    "duration": 7,
    "start_time": "2022-11-26T08:08:49.472Z"
   },
   {
    "duration": 16,
    "start_time": "2022-11-26T08:08:49.481Z"
   },
   {
    "duration": 16,
    "start_time": "2022-11-26T08:08:49.499Z"
   },
   {
    "duration": 37,
    "start_time": "2022-11-26T08:08:49.517Z"
   },
   {
    "duration": 11,
    "start_time": "2022-11-26T08:08:49.555Z"
   },
   {
    "duration": 5,
    "start_time": "2022-11-26T08:08:49.567Z"
   },
   {
    "duration": 6,
    "start_time": "2022-11-26T08:08:49.573Z"
   },
   {
    "duration": 7,
    "start_time": "2022-11-26T08:08:49.580Z"
   },
   {
    "duration": 6,
    "start_time": "2022-11-26T08:08:49.588Z"
   },
   {
    "duration": 8,
    "start_time": "2022-11-26T08:08:49.596Z"
   },
   {
    "duration": 11,
    "start_time": "2022-11-26T08:08:49.606Z"
   },
   {
    "duration": 7,
    "start_time": "2022-11-26T08:08:49.654Z"
   },
   {
    "duration": 177,
    "start_time": "2022-11-26T08:08:49.662Z"
   },
   {
    "duration": 19,
    "start_time": "2022-11-26T08:08:49.840Z"
   },
   {
    "duration": 287,
    "start_time": "2022-11-26T08:08:49.860Z"
   },
   {
    "duration": 319,
    "start_time": "2022-11-26T08:08:50.149Z"
   },
   {
    "duration": 2,
    "start_time": "2022-11-26T08:08:50.470Z"
   },
   {
    "duration": 48,
    "start_time": "2022-11-26T08:08:50.474Z"
   },
   {
    "duration": 26,
    "start_time": "2022-11-26T08:08:50.524Z"
   },
   {
    "duration": 226,
    "start_time": "2022-11-26T08:08:50.552Z"
   },
   {
    "duration": 8,
    "start_time": "2022-11-26T08:08:50.780Z"
   },
   {
    "duration": 183,
    "start_time": "2022-11-26T08:08:50.790Z"
   },
   {
    "duration": 153,
    "start_time": "2022-11-26T08:08:50.975Z"
   },
   {
    "duration": 33,
    "start_time": "2022-11-26T08:08:51.130Z"
   },
   {
    "duration": 39,
    "start_time": "2022-11-26T08:08:51.164Z"
   },
   {
    "duration": 0,
    "start_time": "2022-11-26T08:08:51.204Z"
   },
   {
    "duration": 0,
    "start_time": "2022-11-26T08:08:51.206Z"
   },
   {
    "duration": 0,
    "start_time": "2022-11-26T08:08:51.207Z"
   },
   {
    "duration": 0,
    "start_time": "2022-11-26T08:08:51.208Z"
   },
   {
    "duration": 0,
    "start_time": "2022-11-26T08:08:51.209Z"
   },
   {
    "duration": 0,
    "start_time": "2022-11-26T08:08:51.210Z"
   },
   {
    "duration": 0,
    "start_time": "2022-11-26T08:08:51.211Z"
   },
   {
    "duration": 0,
    "start_time": "2022-11-26T08:08:51.212Z"
   },
   {
    "duration": 0,
    "start_time": "2022-11-26T08:08:51.213Z"
   },
   {
    "duration": 0,
    "start_time": "2022-11-26T08:08:51.214Z"
   },
   {
    "duration": 0,
    "start_time": "2022-11-26T08:08:51.215Z"
   },
   {
    "duration": 1150,
    "start_time": "2022-11-26T08:09:32.988Z"
   },
   {
    "duration": 3,
    "start_time": "2022-11-26T08:09:34.140Z"
   },
   {
    "duration": 79,
    "start_time": "2022-11-26T08:09:34.144Z"
   },
   {
    "duration": 15,
    "start_time": "2022-11-26T08:09:34.225Z"
   },
   {
    "duration": 29,
    "start_time": "2022-11-26T08:09:34.242Z"
   },
   {
    "duration": 5,
    "start_time": "2022-11-26T08:09:34.273Z"
   },
   {
    "duration": 20,
    "start_time": "2022-11-26T08:09:34.279Z"
   },
   {
    "duration": 38,
    "start_time": "2022-11-26T08:09:34.301Z"
   },
   {
    "duration": 19,
    "start_time": "2022-11-26T08:09:34.340Z"
   },
   {
    "duration": 22,
    "start_time": "2022-11-26T08:09:34.361Z"
   },
   {
    "duration": 23,
    "start_time": "2022-11-26T08:09:34.385Z"
   },
   {
    "duration": 25,
    "start_time": "2022-11-26T08:09:34.409Z"
   },
   {
    "duration": 17,
    "start_time": "2022-11-26T08:09:34.436Z"
   },
   {
    "duration": 30,
    "start_time": "2022-11-26T08:09:34.455Z"
   },
   {
    "duration": 15,
    "start_time": "2022-11-26T08:09:34.487Z"
   },
   {
    "duration": 21,
    "start_time": "2022-11-26T08:09:34.504Z"
   },
   {
    "duration": 12,
    "start_time": "2022-11-26T08:09:34.526Z"
   },
   {
    "duration": 25,
    "start_time": "2022-11-26T08:09:34.539Z"
   },
   {
    "duration": 36,
    "start_time": "2022-11-26T08:09:34.566Z"
   },
   {
    "duration": 10,
    "start_time": "2022-11-26T08:09:34.604Z"
   },
   {
    "duration": 23,
    "start_time": "2022-11-26T08:09:34.615Z"
   },
   {
    "duration": 24,
    "start_time": "2022-11-26T08:09:34.639Z"
   },
   {
    "duration": 10,
    "start_time": "2022-11-26T08:09:34.665Z"
   },
   {
    "duration": 13,
    "start_time": "2022-11-26T08:09:34.676Z"
   },
   {
    "duration": 17,
    "start_time": "2022-11-26T08:09:34.690Z"
   },
   {
    "duration": 13,
    "start_time": "2022-11-26T08:09:34.709Z"
   },
   {
    "duration": 25,
    "start_time": "2022-11-26T08:09:34.724Z"
   },
   {
    "duration": 14,
    "start_time": "2022-11-26T08:09:34.753Z"
   },
   {
    "duration": 183,
    "start_time": "2022-11-26T08:09:34.769Z"
   },
   {
    "duration": 13,
    "start_time": "2022-11-26T08:09:34.954Z"
   },
   {
    "duration": 262,
    "start_time": "2022-11-26T08:09:34.969Z"
   },
   {
    "duration": 308,
    "start_time": "2022-11-26T08:09:35.232Z"
   },
   {
    "duration": 10,
    "start_time": "2022-11-26T08:09:35.542Z"
   },
   {
    "duration": 28,
    "start_time": "2022-11-26T08:09:35.554Z"
   },
   {
    "duration": 52,
    "start_time": "2022-11-26T08:09:35.584Z"
   },
   {
    "duration": 212,
    "start_time": "2022-11-26T08:09:35.638Z"
   },
   {
    "duration": 9,
    "start_time": "2022-11-26T08:09:35.853Z"
   },
   {
    "duration": 143,
    "start_time": "2022-11-26T08:09:35.864Z"
   },
   {
    "duration": 131,
    "start_time": "2022-11-26T08:09:36.009Z"
   },
   {
    "duration": 19,
    "start_time": "2022-11-26T08:09:36.152Z"
   },
   {
    "duration": 13,
    "start_time": "2022-11-26T08:09:36.173Z"
   },
   {
    "duration": 205,
    "start_time": "2022-11-26T08:09:36.188Z"
   },
   {
    "duration": 11,
    "start_time": "2022-11-26T08:09:36.394Z"
   },
   {
    "duration": 267,
    "start_time": "2022-11-26T08:09:36.406Z"
   },
   {
    "duration": 801,
    "start_time": "2022-11-26T08:09:36.675Z"
   },
   {
    "duration": 361,
    "start_time": "2022-11-26T08:09:37.478Z"
   },
   {
    "duration": 190,
    "start_time": "2022-11-26T08:09:37.840Z"
   },
   {
    "duration": 6,
    "start_time": "2022-11-26T08:09:38.032Z"
   },
   {
    "duration": 41,
    "start_time": "2022-11-26T08:09:38.039Z"
   },
   {
    "duration": 72,
    "start_time": "2022-11-26T08:09:38.082Z"
   },
   {
    "duration": 17,
    "start_time": "2022-11-26T08:09:38.156Z"
   },
   {
    "duration": 61,
    "start_time": "2022-11-26T08:09:38.175Z"
   },
   {
    "duration": 1138,
    "start_time": "2022-11-26T08:11:22.296Z"
   },
   {
    "duration": 2,
    "start_time": "2022-11-26T08:11:23.436Z"
   },
   {
    "duration": 69,
    "start_time": "2022-11-26T08:11:23.440Z"
   },
   {
    "duration": 13,
    "start_time": "2022-11-26T08:11:23.512Z"
   },
   {
    "duration": 30,
    "start_time": "2022-11-26T08:11:23.526Z"
   },
   {
    "duration": 4,
    "start_time": "2022-11-26T08:11:23.558Z"
   },
   {
    "duration": 14,
    "start_time": "2022-11-26T08:11:23.564Z"
   },
   {
    "duration": 16,
    "start_time": "2022-11-26T08:11:23.579Z"
   },
   {
    "duration": 25,
    "start_time": "2022-11-26T08:11:23.596Z"
   },
   {
    "duration": 24,
    "start_time": "2022-11-26T08:11:23.623Z"
   },
   {
    "duration": 25,
    "start_time": "2022-11-26T08:11:23.649Z"
   },
   {
    "duration": 20,
    "start_time": "2022-11-26T08:11:23.676Z"
   },
   {
    "duration": 17,
    "start_time": "2022-11-26T08:11:23.698Z"
   },
   {
    "duration": 29,
    "start_time": "2022-11-26T08:11:23.717Z"
   },
   {
    "duration": 23,
    "start_time": "2022-11-26T08:11:23.748Z"
   },
   {
    "duration": 12,
    "start_time": "2022-11-26T08:11:23.773Z"
   },
   {
    "duration": 9,
    "start_time": "2022-11-26T08:11:23.787Z"
   },
   {
    "duration": 17,
    "start_time": "2022-11-26T08:11:23.797Z"
   },
   {
    "duration": 15,
    "start_time": "2022-11-26T08:11:23.815Z"
   },
   {
    "duration": 9,
    "start_time": "2022-11-26T08:11:23.832Z"
   },
   {
    "duration": 20,
    "start_time": "2022-11-26T08:11:23.843Z"
   },
   {
    "duration": 10,
    "start_time": "2022-11-26T08:11:23.865Z"
   },
   {
    "duration": 10,
    "start_time": "2022-11-26T08:11:23.877Z"
   },
   {
    "duration": 17,
    "start_time": "2022-11-26T08:11:23.888Z"
   },
   {
    "duration": 20,
    "start_time": "2022-11-26T08:11:23.907Z"
   },
   {
    "duration": 21,
    "start_time": "2022-11-26T08:11:23.928Z"
   },
   {
    "duration": 30,
    "start_time": "2022-11-26T08:11:23.951Z"
   },
   {
    "duration": 17,
    "start_time": "2022-11-26T08:11:23.984Z"
   },
   {
    "duration": 206,
    "start_time": "2022-11-26T08:11:24.003Z"
   },
   {
    "duration": 14,
    "start_time": "2022-11-26T08:11:24.211Z"
   },
   {
    "duration": 293,
    "start_time": "2022-11-26T08:11:24.226Z"
   },
   {
    "duration": 332,
    "start_time": "2022-11-26T08:11:24.520Z"
   },
   {
    "duration": 2,
    "start_time": "2022-11-26T08:11:24.854Z"
   },
   {
    "duration": 22,
    "start_time": "2022-11-26T08:11:24.859Z"
   },
   {
    "duration": 34,
    "start_time": "2022-11-26T08:11:24.883Z"
   },
   {
    "duration": 235,
    "start_time": "2022-11-26T08:11:24.919Z"
   },
   {
    "duration": 9,
    "start_time": "2022-11-26T08:11:25.156Z"
   },
   {
    "duration": 152,
    "start_time": "2022-11-26T08:11:25.167Z"
   },
   {
    "duration": 137,
    "start_time": "2022-11-26T08:11:25.320Z"
   },
   {
    "duration": 23,
    "start_time": "2022-11-26T08:11:25.458Z"
   },
   {
    "duration": 14,
    "start_time": "2022-11-26T08:11:25.482Z"
   },
   {
    "duration": 219,
    "start_time": "2022-11-26T08:11:25.498Z"
   },
   {
    "duration": 14,
    "start_time": "2022-11-26T08:11:25.719Z"
   },
   {
    "duration": 264,
    "start_time": "2022-11-26T08:11:25.735Z"
   },
   {
    "duration": 805,
    "start_time": "2022-11-26T08:11:26.000Z"
   },
   {
    "duration": 392,
    "start_time": "2022-11-26T08:11:26.806Z"
   },
   {
    "duration": 198,
    "start_time": "2022-11-26T08:11:27.200Z"
   },
   {
    "duration": 6,
    "start_time": "2022-11-26T08:11:27.399Z"
   },
   {
    "duration": 15,
    "start_time": "2022-11-26T08:11:27.407Z"
   },
   {
    "duration": 45,
    "start_time": "2022-11-26T08:11:27.423Z"
   },
   {
    "duration": 21,
    "start_time": "2022-11-26T08:11:27.470Z"
   },
   {
    "duration": 35,
    "start_time": "2022-11-26T08:11:27.493Z"
   },
   {
    "duration": 1237,
    "start_time": "2022-11-26T08:11:49.333Z"
   },
   {
    "duration": 3,
    "start_time": "2022-11-26T08:11:50.572Z"
   },
   {
    "duration": 68,
    "start_time": "2022-11-26T08:11:50.577Z"
   },
   {
    "duration": 15,
    "start_time": "2022-11-26T08:11:50.647Z"
   },
   {
    "duration": 27,
    "start_time": "2022-11-26T08:11:50.664Z"
   },
   {
    "duration": 4,
    "start_time": "2022-11-26T08:11:50.693Z"
   },
   {
    "duration": 7,
    "start_time": "2022-11-26T08:11:50.699Z"
   },
   {
    "duration": 45,
    "start_time": "2022-11-26T08:11:50.708Z"
   },
   {
    "duration": 4,
    "start_time": "2022-11-26T08:11:50.755Z"
   },
   {
    "duration": 11,
    "start_time": "2022-11-26T08:11:50.761Z"
   },
   {
    "duration": 14,
    "start_time": "2022-11-26T08:11:50.774Z"
   },
   {
    "duration": 13,
    "start_time": "2022-11-26T08:11:50.789Z"
   },
   {
    "duration": 13,
    "start_time": "2022-11-26T08:11:50.803Z"
   },
   {
    "duration": 39,
    "start_time": "2022-11-26T08:11:50.818Z"
   },
   {
    "duration": 7,
    "start_time": "2022-11-26T08:11:50.859Z"
   },
   {
    "duration": 5,
    "start_time": "2022-11-26T08:11:50.868Z"
   },
   {
    "duration": 7,
    "start_time": "2022-11-26T08:11:50.875Z"
   },
   {
    "duration": 15,
    "start_time": "2022-11-26T08:11:50.883Z"
   },
   {
    "duration": 55,
    "start_time": "2022-11-26T08:11:50.899Z"
   },
   {
    "duration": 9,
    "start_time": "2022-11-26T08:11:50.956Z"
   },
   {
    "duration": 14,
    "start_time": "2022-11-26T08:11:50.967Z"
   },
   {
    "duration": 4,
    "start_time": "2022-11-26T08:11:50.983Z"
   },
   {
    "duration": 8,
    "start_time": "2022-11-26T08:11:50.989Z"
   },
   {
    "duration": 6,
    "start_time": "2022-11-26T08:11:50.998Z"
   },
   {
    "duration": 7,
    "start_time": "2022-11-26T08:11:51.006Z"
   },
   {
    "duration": 39,
    "start_time": "2022-11-26T08:11:51.015Z"
   },
   {
    "duration": 15,
    "start_time": "2022-11-26T08:11:51.056Z"
   },
   {
    "duration": 7,
    "start_time": "2022-11-26T08:11:51.074Z"
   },
   {
    "duration": 205,
    "start_time": "2022-11-26T08:11:51.082Z"
   },
   {
    "duration": 12,
    "start_time": "2022-11-26T08:11:51.289Z"
   },
   {
    "duration": 304,
    "start_time": "2022-11-26T08:11:51.303Z"
   },
   {
    "duration": 326,
    "start_time": "2022-11-26T08:11:51.608Z"
   },
   {
    "duration": 3,
    "start_time": "2022-11-26T08:11:51.936Z"
   },
   {
    "duration": 17,
    "start_time": "2022-11-26T08:11:51.940Z"
   },
   {
    "duration": 30,
    "start_time": "2022-11-26T08:11:51.959Z"
   },
   {
    "duration": 236,
    "start_time": "2022-11-26T08:11:51.990Z"
   },
   {
    "duration": 9,
    "start_time": "2022-11-26T08:11:52.227Z"
   },
   {
    "duration": 149,
    "start_time": "2022-11-26T08:11:52.237Z"
   },
   {
    "duration": 177,
    "start_time": "2022-11-26T08:11:52.389Z"
   },
   {
    "duration": 33,
    "start_time": "2022-11-26T08:11:52.568Z"
   },
   {
    "duration": 18,
    "start_time": "2022-11-26T08:11:52.603Z"
   },
   {
    "duration": 211,
    "start_time": "2022-11-26T08:11:52.623Z"
   },
   {
    "duration": 23,
    "start_time": "2022-11-26T08:11:52.836Z"
   },
   {
    "duration": 274,
    "start_time": "2022-11-26T08:11:52.861Z"
   },
   {
    "duration": 846,
    "start_time": "2022-11-26T08:11:53.137Z"
   },
   {
    "duration": 404,
    "start_time": "2022-11-26T08:11:53.984Z"
   },
   {
    "duration": 205,
    "start_time": "2022-11-26T08:11:54.389Z"
   },
   {
    "duration": 6,
    "start_time": "2022-11-26T08:11:54.595Z"
   },
   {
    "duration": 10,
    "start_time": "2022-11-26T08:11:54.603Z"
   },
   {
    "duration": 51,
    "start_time": "2022-11-26T08:11:54.614Z"
   },
   {
    "duration": 8,
    "start_time": "2022-11-26T08:11:54.667Z"
   },
   {
    "duration": 32,
    "start_time": "2022-11-26T08:11:54.677Z"
   },
   {
    "duration": 1145,
    "start_time": "2022-11-26T08:21:24.487Z"
   },
   {
    "duration": 3,
    "start_time": "2022-11-26T08:21:25.634Z"
   },
   {
    "duration": 66,
    "start_time": "2022-11-26T08:21:25.639Z"
   },
   {
    "duration": 14,
    "start_time": "2022-11-26T08:21:25.708Z"
   },
   {
    "duration": 26,
    "start_time": "2022-11-26T08:21:25.724Z"
   },
   {
    "duration": 4,
    "start_time": "2022-11-26T08:21:25.752Z"
   },
   {
    "duration": 6,
    "start_time": "2022-11-26T08:21:25.758Z"
   },
   {
    "duration": 13,
    "start_time": "2022-11-26T08:21:25.765Z"
   },
   {
    "duration": 7,
    "start_time": "2022-11-26T08:21:25.779Z"
   },
   {
    "duration": 6,
    "start_time": "2022-11-26T08:21:25.788Z"
   },
   {
    "duration": 12,
    "start_time": "2022-11-26T08:21:25.795Z"
   },
   {
    "duration": 7,
    "start_time": "2022-11-26T08:21:25.809Z"
   },
   {
    "duration": 9,
    "start_time": "2022-11-26T08:21:25.817Z"
   },
   {
    "duration": 15,
    "start_time": "2022-11-26T08:21:25.851Z"
   },
   {
    "duration": 6,
    "start_time": "2022-11-26T08:21:25.868Z"
   },
   {
    "duration": 7,
    "start_time": "2022-11-26T08:21:25.876Z"
   },
   {
    "duration": 7,
    "start_time": "2022-11-26T08:21:25.885Z"
   },
   {
    "duration": 14,
    "start_time": "2022-11-26T08:21:25.893Z"
   },
   {
    "duration": 15,
    "start_time": "2022-11-26T08:21:25.908Z"
   },
   {
    "duration": 35,
    "start_time": "2022-11-26T08:21:25.924Z"
   },
   {
    "duration": 10,
    "start_time": "2022-11-26T08:21:25.960Z"
   },
   {
    "duration": 6,
    "start_time": "2022-11-26T08:21:25.972Z"
   },
   {
    "duration": 7,
    "start_time": "2022-11-26T08:21:25.979Z"
   },
   {
    "duration": 6,
    "start_time": "2022-11-26T08:21:25.987Z"
   },
   {
    "duration": 5,
    "start_time": "2022-11-26T08:21:25.995Z"
   },
   {
    "duration": 7,
    "start_time": "2022-11-26T08:21:26.002Z"
   },
   {
    "duration": 41,
    "start_time": "2022-11-26T08:21:26.011Z"
   },
   {
    "duration": 5,
    "start_time": "2022-11-26T08:21:26.057Z"
   },
   {
    "duration": 167,
    "start_time": "2022-11-26T08:21:26.064Z"
   },
   {
    "duration": 19,
    "start_time": "2022-11-26T08:21:26.233Z"
   },
   {
    "duration": 285,
    "start_time": "2022-11-26T08:21:26.254Z"
   },
   {
    "duration": 297,
    "start_time": "2022-11-26T08:21:26.540Z"
   },
   {
    "duration": 2,
    "start_time": "2022-11-26T08:21:26.839Z"
   },
   {
    "duration": 8,
    "start_time": "2022-11-26T08:21:26.853Z"
   },
   {
    "duration": 27,
    "start_time": "2022-11-26T08:21:26.863Z"
   },
   {
    "duration": 242,
    "start_time": "2022-11-26T08:21:26.892Z"
   },
   {
    "duration": 17,
    "start_time": "2022-11-26T08:21:27.136Z"
   },
   {
    "duration": 142,
    "start_time": "2022-11-26T08:21:27.155Z"
   },
   {
    "duration": 134,
    "start_time": "2022-11-26T08:21:27.299Z"
   },
   {
    "duration": 28,
    "start_time": "2022-11-26T08:21:27.434Z"
   },
   {
    "duration": 14,
    "start_time": "2022-11-26T08:21:27.464Z"
   },
   {
    "duration": 204,
    "start_time": "2022-11-26T08:21:27.480Z"
   },
   {
    "duration": 14,
    "start_time": "2022-11-26T08:21:27.686Z"
   },
   {
    "duration": 258,
    "start_time": "2022-11-26T08:21:27.702Z"
   },
   {
    "duration": 801,
    "start_time": "2022-11-26T08:21:27.962Z"
   },
   {
    "duration": 427,
    "start_time": "2022-11-26T08:21:28.764Z"
   },
   {
    "duration": 226,
    "start_time": "2022-11-26T08:21:29.193Z"
   },
   {
    "duration": 6,
    "start_time": "2022-11-26T08:21:29.421Z"
   },
   {
    "duration": 13,
    "start_time": "2022-11-26T08:21:29.429Z"
   },
   {
    "duration": 33,
    "start_time": "2022-11-26T08:21:29.451Z"
   },
   {
    "duration": 8,
    "start_time": "2022-11-26T08:21:29.486Z"
   },
   {
    "duration": 57,
    "start_time": "2022-11-26T08:21:29.495Z"
   },
   {
    "duration": 1186,
    "start_time": "2022-11-26T08:24:19.655Z"
   },
   {
    "duration": 3,
    "start_time": "2022-11-26T08:24:20.842Z"
   },
   {
    "duration": 68,
    "start_time": "2022-11-26T08:24:20.852Z"
   },
   {
    "duration": 16,
    "start_time": "2022-11-26T08:24:20.922Z"
   },
   {
    "duration": 27,
    "start_time": "2022-11-26T08:24:20.940Z"
   },
   {
    "duration": 4,
    "start_time": "2022-11-26T08:24:20.969Z"
   },
   {
    "duration": 15,
    "start_time": "2022-11-26T08:24:20.975Z"
   },
   {
    "duration": 13,
    "start_time": "2022-11-26T08:24:20.992Z"
   },
   {
    "duration": 5,
    "start_time": "2022-11-26T08:24:21.007Z"
   },
   {
    "duration": 4,
    "start_time": "2022-11-26T08:24:21.015Z"
   },
   {
    "duration": 32,
    "start_time": "2022-11-26T08:24:21.021Z"
   },
   {
    "duration": 8,
    "start_time": "2022-11-26T08:24:21.055Z"
   },
   {
    "duration": 7,
    "start_time": "2022-11-26T08:24:21.065Z"
   },
   {
    "duration": 14,
    "start_time": "2022-11-26T08:24:21.074Z"
   },
   {
    "duration": 8,
    "start_time": "2022-11-26T08:24:21.090Z"
   },
   {
    "duration": 5,
    "start_time": "2022-11-26T08:24:21.099Z"
   },
   {
    "duration": 7,
    "start_time": "2022-11-26T08:24:21.106Z"
   },
   {
    "duration": 46,
    "start_time": "2022-11-26T08:24:21.114Z"
   },
   {
    "duration": 16,
    "start_time": "2022-11-26T08:24:21.162Z"
   },
   {
    "duration": 8,
    "start_time": "2022-11-26T08:24:21.180Z"
   },
   {
    "duration": 10,
    "start_time": "2022-11-26T08:24:21.190Z"
   },
   {
    "duration": 6,
    "start_time": "2022-11-26T08:24:21.202Z"
   },
   {
    "duration": 10,
    "start_time": "2022-11-26T08:24:21.210Z"
   },
   {
    "duration": 32,
    "start_time": "2022-11-26T08:24:21.221Z"
   },
   {
    "duration": 4,
    "start_time": "2022-11-26T08:24:21.255Z"
   },
   {
    "duration": 9,
    "start_time": "2022-11-26T08:24:21.261Z"
   },
   {
    "duration": 14,
    "start_time": "2022-11-26T08:24:21.271Z"
   },
   {
    "duration": 8,
    "start_time": "2022-11-26T08:24:21.288Z"
   },
   {
    "duration": 179,
    "start_time": "2022-11-26T08:24:21.297Z"
   },
   {
    "duration": 12,
    "start_time": "2022-11-26T08:24:21.478Z"
   },
   {
    "duration": 276,
    "start_time": "2022-11-26T08:24:21.491Z"
   },
   {
    "duration": 308,
    "start_time": "2022-11-26T08:24:21.770Z"
   },
   {
    "duration": 3,
    "start_time": "2022-11-26T08:24:22.080Z"
   },
   {
    "duration": 12,
    "start_time": "2022-11-26T08:24:22.085Z"
   },
   {
    "duration": 28,
    "start_time": "2022-11-26T08:24:22.099Z"
   },
   {
    "duration": 232,
    "start_time": "2022-11-26T08:24:22.129Z"
   },
   {
    "duration": 9,
    "start_time": "2022-11-26T08:24:22.363Z"
   },
   {
    "duration": 183,
    "start_time": "2022-11-26T08:24:22.373Z"
   },
   {
    "duration": 186,
    "start_time": "2022-11-26T08:24:22.558Z"
   },
   {
    "duration": 25,
    "start_time": "2022-11-26T08:24:22.746Z"
   },
   {
    "duration": 14,
    "start_time": "2022-11-26T08:24:22.772Z"
   },
   {
    "duration": 208,
    "start_time": "2022-11-26T08:24:22.788Z"
   },
   {
    "duration": 14,
    "start_time": "2022-11-26T08:24:22.997Z"
   },
   {
    "duration": 261,
    "start_time": "2022-11-26T08:24:23.013Z"
   },
   {
    "duration": 842,
    "start_time": "2022-11-26T08:24:23.275Z"
   },
   {
    "duration": 394,
    "start_time": "2022-11-26T08:24:24.119Z"
   },
   {
    "duration": 249,
    "start_time": "2022-11-26T08:24:24.515Z"
   },
   {
    "duration": 7,
    "start_time": "2022-11-26T08:24:24.766Z"
   },
   {
    "duration": 22,
    "start_time": "2022-11-26T08:24:24.775Z"
   },
   {
    "duration": 42,
    "start_time": "2022-11-26T08:24:24.799Z"
   },
   {
    "duration": 16,
    "start_time": "2022-11-26T08:24:24.843Z"
   },
   {
    "duration": 35,
    "start_time": "2022-11-26T08:24:24.861Z"
   },
   {
    "duration": 1153,
    "start_time": "2022-11-26T08:36:20.744Z"
   },
   {
    "duration": 3,
    "start_time": "2022-11-26T08:36:21.899Z"
   },
   {
    "duration": 110,
    "start_time": "2022-11-26T08:36:21.904Z"
   },
   {
    "duration": 15,
    "start_time": "2022-11-26T08:36:22.015Z"
   },
   {
    "duration": 42,
    "start_time": "2022-11-26T08:36:22.033Z"
   },
   {
    "duration": 30,
    "start_time": "2022-11-26T08:36:22.077Z"
   },
   {
    "duration": 26,
    "start_time": "2022-11-26T08:36:22.108Z"
   },
   {
    "duration": 49,
    "start_time": "2022-11-26T08:36:22.136Z"
   },
   {
    "duration": 28,
    "start_time": "2022-11-26T08:36:22.186Z"
   },
   {
    "duration": 65,
    "start_time": "2022-11-26T08:36:22.217Z"
   },
   {
    "duration": 45,
    "start_time": "2022-11-26T08:36:22.283Z"
   },
   {
    "duration": 33,
    "start_time": "2022-11-26T08:36:22.330Z"
   },
   {
    "duration": 55,
    "start_time": "2022-11-26T08:36:22.365Z"
   },
   {
    "duration": 46,
    "start_time": "2022-11-26T08:36:22.424Z"
   },
   {
    "duration": 40,
    "start_time": "2022-11-26T08:36:22.472Z"
   },
   {
    "duration": 42,
    "start_time": "2022-11-26T08:36:22.515Z"
   },
   {
    "duration": 45,
    "start_time": "2022-11-26T08:36:22.559Z"
   },
   {
    "duration": 78,
    "start_time": "2022-11-26T08:36:22.606Z"
   },
   {
    "duration": 56,
    "start_time": "2022-11-26T08:36:22.686Z"
   },
   {
    "duration": 33,
    "start_time": "2022-11-26T08:36:22.744Z"
   },
   {
    "duration": 12,
    "start_time": "2022-11-26T08:36:22.779Z"
   },
   {
    "duration": 4,
    "start_time": "2022-11-26T08:36:22.792Z"
   },
   {
    "duration": 5,
    "start_time": "2022-11-26T08:36:22.798Z"
   },
   {
    "duration": 6,
    "start_time": "2022-11-26T08:36:22.805Z"
   },
   {
    "duration": 6,
    "start_time": "2022-11-26T08:36:22.813Z"
   },
   {
    "duration": 8,
    "start_time": "2022-11-26T08:36:22.820Z"
   },
   {
    "duration": 25,
    "start_time": "2022-11-26T08:36:22.829Z"
   },
   {
    "duration": 12,
    "start_time": "2022-11-26T08:36:22.856Z"
   },
   {
    "duration": 199,
    "start_time": "2022-11-26T08:36:22.870Z"
   },
   {
    "duration": 11,
    "start_time": "2022-11-26T08:36:23.071Z"
   },
   {
    "duration": 264,
    "start_time": "2022-11-26T08:36:23.083Z"
   },
   {
    "duration": 314,
    "start_time": "2022-11-26T08:36:23.348Z"
   },
   {
    "duration": 2,
    "start_time": "2022-11-26T08:36:23.663Z"
   },
   {
    "duration": 10,
    "start_time": "2022-11-26T08:36:23.667Z"
   },
   {
    "duration": 27,
    "start_time": "2022-11-26T08:36:23.679Z"
   },
   {
    "duration": 298,
    "start_time": "2022-11-26T08:36:23.708Z"
   },
   {
    "duration": 9,
    "start_time": "2022-11-26T08:36:24.007Z"
   },
   {
    "duration": 159,
    "start_time": "2022-11-26T08:36:24.018Z"
   },
   {
    "duration": 156,
    "start_time": "2022-11-26T08:36:24.179Z"
   },
   {
    "duration": 28,
    "start_time": "2022-11-26T08:36:24.337Z"
   },
   {
    "duration": 14,
    "start_time": "2022-11-26T08:36:24.368Z"
   },
   {
    "duration": 217,
    "start_time": "2022-11-26T08:36:24.384Z"
   },
   {
    "duration": 23,
    "start_time": "2022-11-26T08:36:24.603Z"
   },
   {
    "duration": 280,
    "start_time": "2022-11-26T08:36:24.628Z"
   },
   {
    "duration": 835,
    "start_time": "2022-11-26T08:36:24.910Z"
   },
   {
    "duration": 389,
    "start_time": "2022-11-26T08:36:25.752Z"
   },
   {
    "duration": 211,
    "start_time": "2022-11-26T08:36:26.143Z"
   },
   {
    "duration": 6,
    "start_time": "2022-11-26T08:36:26.356Z"
   },
   {
    "duration": 8,
    "start_time": "2022-11-26T08:36:26.364Z"
   },
   {
    "duration": 29,
    "start_time": "2022-11-26T08:36:26.374Z"
   },
   {
    "duration": 7,
    "start_time": "2022-11-26T08:36:26.405Z"
   },
   {
    "duration": 57,
    "start_time": "2022-11-26T08:36:26.413Z"
   },
   {
    "duration": 72,
    "start_time": "2022-11-26T08:55:06.744Z"
   },
   {
    "duration": 1118,
    "start_time": "2022-11-26T08:59:12.865Z"
   },
   {
    "duration": 3,
    "start_time": "2022-11-26T08:59:13.985Z"
   },
   {
    "duration": 65,
    "start_time": "2022-11-26T08:59:13.989Z"
   },
   {
    "duration": 14,
    "start_time": "2022-11-26T08:59:14.056Z"
   },
   {
    "duration": 27,
    "start_time": "2022-11-26T08:59:14.072Z"
   },
   {
    "duration": 5,
    "start_time": "2022-11-26T08:59:14.100Z"
   },
   {
    "duration": 8,
    "start_time": "2022-11-26T08:59:14.106Z"
   },
   {
    "duration": 39,
    "start_time": "2022-11-26T08:59:14.115Z"
   },
   {
    "duration": 7,
    "start_time": "2022-11-26T08:59:14.156Z"
   },
   {
    "duration": 9,
    "start_time": "2022-11-26T08:59:14.165Z"
   },
   {
    "duration": 13,
    "start_time": "2022-11-26T08:59:14.175Z"
   },
   {
    "duration": 11,
    "start_time": "2022-11-26T08:59:14.190Z"
   },
   {
    "duration": 10,
    "start_time": "2022-11-26T08:59:14.203Z"
   },
   {
    "duration": 17,
    "start_time": "2022-11-26T08:59:14.215Z"
   },
   {
    "duration": 7,
    "start_time": "2022-11-26T08:59:14.252Z"
   },
   {
    "duration": 5,
    "start_time": "2022-11-26T08:59:14.260Z"
   },
   {
    "duration": 12,
    "start_time": "2022-11-26T08:59:14.266Z"
   },
   {
    "duration": 15,
    "start_time": "2022-11-26T08:59:14.280Z"
   },
   {
    "duration": 17,
    "start_time": "2022-11-26T08:59:14.297Z"
   },
   {
    "duration": 42,
    "start_time": "2022-11-26T08:59:14.315Z"
   },
   {
    "duration": 10,
    "start_time": "2022-11-26T08:59:14.358Z"
   },
   {
    "duration": 4,
    "start_time": "2022-11-26T08:59:14.370Z"
   },
   {
    "duration": 6,
    "start_time": "2022-11-26T08:59:14.375Z"
   },
   {
    "duration": 8,
    "start_time": "2022-11-26T08:59:14.382Z"
   },
   {
    "duration": 7,
    "start_time": "2022-11-26T08:59:14.391Z"
   },
   {
    "duration": 12,
    "start_time": "2022-11-26T08:59:14.399Z"
   },
   {
    "duration": 43,
    "start_time": "2022-11-26T08:59:14.412Z"
   },
   {
    "duration": 6,
    "start_time": "2022-11-26T08:59:14.458Z"
   },
   {
    "duration": 194,
    "start_time": "2022-11-26T08:59:14.465Z"
   },
   {
    "duration": 11,
    "start_time": "2022-11-26T08:59:14.661Z"
   },
   {
    "duration": 281,
    "start_time": "2022-11-26T08:59:14.674Z"
   },
   {
    "duration": 315,
    "start_time": "2022-11-26T08:59:14.957Z"
   },
   {
    "duration": 2,
    "start_time": "2022-11-26T08:59:15.274Z"
   },
   {
    "duration": 16,
    "start_time": "2022-11-26T08:59:15.278Z"
   },
   {
    "duration": 27,
    "start_time": "2022-11-26T08:59:15.296Z"
   },
   {
    "duration": 241,
    "start_time": "2022-11-26T08:59:15.325Z"
   },
   {
    "duration": 8,
    "start_time": "2022-11-26T08:59:15.568Z"
   },
   {
    "duration": 151,
    "start_time": "2022-11-26T08:59:15.578Z"
   },
   {
    "duration": 146,
    "start_time": "2022-11-26T08:59:15.731Z"
   },
   {
    "duration": 22,
    "start_time": "2022-11-26T08:59:15.879Z"
   },
   {
    "duration": 15,
    "start_time": "2022-11-26T08:59:15.903Z"
   },
   {
    "duration": 209,
    "start_time": "2022-11-26T08:59:15.920Z"
   },
   {
    "duration": 22,
    "start_time": "2022-11-26T08:59:16.131Z"
   },
   {
    "duration": 258,
    "start_time": "2022-11-26T08:59:16.155Z"
   },
   {
    "duration": 790,
    "start_time": "2022-11-26T08:59:16.414Z"
   },
   {
    "duration": 388,
    "start_time": "2022-11-26T08:59:17.206Z"
   },
   {
    "duration": 202,
    "start_time": "2022-11-26T08:59:17.596Z"
   },
   {
    "duration": 6,
    "start_time": "2022-11-26T08:59:17.799Z"
   },
   {
    "duration": 7,
    "start_time": "2022-11-26T08:59:17.807Z"
   },
   {
    "duration": 43,
    "start_time": "2022-11-26T08:59:17.816Z"
   },
   {
    "duration": 6,
    "start_time": "2022-11-26T08:59:17.861Z"
   },
   {
    "duration": 64,
    "start_time": "2022-11-26T08:59:17.869Z"
   },
   {
    "duration": 1339,
    "start_time": "2022-11-26T12:33:54.351Z"
   },
   {
    "duration": 3,
    "start_time": "2022-11-26T12:33:55.692Z"
   },
   {
    "duration": 199,
    "start_time": "2022-11-26T12:33:55.696Z"
   },
   {
    "duration": 17,
    "start_time": "2022-11-26T12:33:55.898Z"
   },
   {
    "duration": 29,
    "start_time": "2022-11-26T12:33:55.917Z"
   },
   {
    "duration": 4,
    "start_time": "2022-11-26T12:33:55.948Z"
   },
   {
    "duration": 6,
    "start_time": "2022-11-26T12:33:55.953Z"
   },
   {
    "duration": 14,
    "start_time": "2022-11-26T12:33:55.961Z"
   },
   {
    "duration": 5,
    "start_time": "2022-11-26T12:33:55.977Z"
   },
   {
    "duration": 5,
    "start_time": "2022-11-26T12:33:55.984Z"
   },
   {
    "duration": 36,
    "start_time": "2022-11-26T12:33:55.990Z"
   },
   {
    "duration": 6,
    "start_time": "2022-11-26T12:33:56.028Z"
   },
   {
    "duration": 8,
    "start_time": "2022-11-26T12:33:56.036Z"
   },
   {
    "duration": 17,
    "start_time": "2022-11-26T12:33:56.045Z"
   },
   {
    "duration": 8,
    "start_time": "2022-11-26T12:33:56.064Z"
   },
   {
    "duration": 5,
    "start_time": "2022-11-26T12:33:56.073Z"
   },
   {
    "duration": 8,
    "start_time": "2022-11-26T12:33:56.080Z"
   },
   {
    "duration": 48,
    "start_time": "2022-11-26T12:33:56.089Z"
   },
   {
    "duration": 16,
    "start_time": "2022-11-26T12:33:56.139Z"
   },
   {
    "duration": 9,
    "start_time": "2022-11-26T12:33:56.156Z"
   },
   {
    "duration": 12,
    "start_time": "2022-11-26T12:33:56.166Z"
   },
   {
    "duration": 4,
    "start_time": "2022-11-26T12:33:56.179Z"
   },
   {
    "duration": 40,
    "start_time": "2022-11-26T12:33:56.185Z"
   },
   {
    "duration": 7,
    "start_time": "2022-11-26T12:33:56.227Z"
   },
   {
    "duration": 7,
    "start_time": "2022-11-26T12:33:56.236Z"
   },
   {
    "duration": 11,
    "start_time": "2022-11-26T12:33:56.244Z"
   },
   {
    "duration": 13,
    "start_time": "2022-11-26T12:33:56.257Z"
   },
   {
    "duration": 6,
    "start_time": "2022-11-26T12:33:56.273Z"
   },
   {
    "duration": 200,
    "start_time": "2022-11-26T12:33:56.281Z"
   },
   {
    "duration": 12,
    "start_time": "2022-11-26T12:33:56.484Z"
   },
   {
    "duration": 298,
    "start_time": "2022-11-26T12:33:56.498Z"
   },
   {
    "duration": 331,
    "start_time": "2022-11-26T12:33:56.798Z"
   },
   {
    "duration": 9,
    "start_time": "2022-11-26T12:33:57.131Z"
   },
   {
    "duration": 29,
    "start_time": "2022-11-26T12:33:57.141Z"
   },
   {
    "duration": 255,
    "start_time": "2022-11-26T12:33:57.172Z"
   },
   {
    "duration": 8,
    "start_time": "2022-11-26T12:33:57.429Z"
   },
   {
    "duration": 157,
    "start_time": "2022-11-26T12:33:57.439Z"
   },
   {
    "duration": 155,
    "start_time": "2022-11-26T12:33:57.598Z"
   },
   {
    "duration": 22,
    "start_time": "2022-11-26T12:33:57.755Z"
   },
   {
    "duration": 14,
    "start_time": "2022-11-26T12:33:57.779Z"
   },
   {
    "duration": 224,
    "start_time": "2022-11-26T12:33:57.795Z"
   },
   {
    "duration": 15,
    "start_time": "2022-11-26T12:33:58.021Z"
   },
   {
    "duration": 291,
    "start_time": "2022-11-26T12:33:58.038Z"
   },
   {
    "duration": 894,
    "start_time": "2022-11-26T12:33:58.330Z"
   },
   {
    "duration": 424,
    "start_time": "2022-11-26T12:33:59.227Z"
   },
   {
    "duration": 230,
    "start_time": "2022-11-26T12:33:59.653Z"
   },
   {
    "duration": 7,
    "start_time": "2022-11-26T12:33:59.884Z"
   },
   {
    "duration": 10,
    "start_time": "2022-11-26T12:33:59.892Z"
   },
   {
    "duration": 45,
    "start_time": "2022-11-26T12:33:59.903Z"
   },
   {
    "duration": 7,
    "start_time": "2022-11-26T12:33:59.950Z"
   },
   {
    "duration": 34,
    "start_time": "2022-11-26T12:33:59.959Z"
   }
  ],
  "kernelspec": {
   "display_name": "Python 3 (ipykernel)",
   "language": "python",
   "name": "python3"
  },
  "language_info": {
   "codemirror_mode": {
    "name": "ipython",
    "version": 3
   },
   "file_extension": ".py",
   "mimetype": "text/x-python",
   "name": "python",
   "nbconvert_exporter": "python",
   "pygments_lexer": "ipython3",
   "version": "3.9.13"
  },
  "toc": {
   "base_numbering": 1,
   "nav_menu": {},
   "number_sections": true,
   "sideBar": true,
   "skip_h1_title": true,
   "title_cell": "Table of Contents",
   "title_sidebar": "Contents",
   "toc_cell": true,
   "toc_position": {
    "height": "calc(100% - 180px)",
    "left": "10px",
    "top": "150px",
    "width": "165px"
   },
   "toc_section_display": true,
   "toc_window_display": false
  }
 },
 "nbformat": 4,
 "nbformat_minor": 2
}
